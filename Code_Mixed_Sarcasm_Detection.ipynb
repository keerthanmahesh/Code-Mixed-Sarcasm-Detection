{
  "nbformat": 4,
  "nbformat_minor": 0,
  "metadata": {
    "colab": {
      "name": "Code Mixed Sarcasm Detection",
      "provenance": [],
      "collapsed_sections": [],
      "include_colab_link": true
    },
    "kernelspec": {
      "name": "python3",
      "display_name": "Python 3"
    }
  },
  "cells": [
    {
      "cell_type": "markdown",
      "metadata": {
        "id": "view-in-github",
        "colab_type": "text"
      },
      "source": [
        "<a href=\"https://colab.research.google.com/github/keerthanmahesh/Code-Mixed-Sarcasm-Detection/blob/master/Code_Mixed_Sarcasm_Detection.ipynb\" target=\"_parent\"><img src=\"https://colab.research.google.com/assets/colab-badge.svg\" alt=\"Open In Colab\"/></a>"
      ]
    },
    {
      "cell_type": "code",
      "metadata": {
        "id": "Li9xxdMTxe7L",
        "colab_type": "code",
        "colab": {}
      },
      "source": [
        "from google.colab import drive\n",
        "import pandas as pd\n",
        "import numpy as np\n",
        "from numpy import array\n",
        "from numpy import asarray\n",
        "from numpy import zeros\n",
        "import nltk\n",
        "from nltk.corpus import stopwords \n",
        "import re\n",
        "import string\n",
        "from itertools import groupby\n",
        "from collections import Counter\n",
        "import matplotlib.pyplot as plt\n",
        "from scipy.sparse import hstack\n",
        "from sklearn.metrics import classification_report, confusion_matrix, accuracy_score, precision_score\n",
        "from sklearn.metrics import recall_score, f1_score\n",
        "from sklearn.model_selection import train_test_split\n",
        "from sklearn.utils import shuffle\n",
        "from fuzzywuzzy import process"
      ],
      "execution_count": null,
      "outputs": []
    },
    {
      "cell_type": "code",
      "metadata": {
        "id": "bBtwF4xa_GjF",
        "colab_type": "code",
        "colab": {
          "base_uri": "https://localhost:8080/",
          "height": 85
        },
        "outputId": "55be26e5-3479-49e0-9ae6-25872cce8645"
      },
      "source": [
        "pip install fuzzywuzzy"
      ],
      "execution_count": null,
      "outputs": [
        {
          "output_type": "stream",
          "text": [
            "Collecting fuzzywuzzy\n",
            "  Downloading https://files.pythonhosted.org/packages/43/ff/74f23998ad2f93b945c0309f825be92e04e0348e062026998b5eefef4c33/fuzzywuzzy-0.18.0-py2.py3-none-any.whl\n",
            "Installing collected packages: fuzzywuzzy\n",
            "Successfully installed fuzzywuzzy-0.18.0\n"
          ],
          "name": "stdout"
        }
      ]
    },
    {
      "cell_type": "code",
      "metadata": {
        "id": "SBG5tlZg5x6Q",
        "colab_type": "code",
        "colab": {
          "base_uri": "https://localhost:8080/",
          "height": 122
        },
        "outputId": "10d7c1d8-3876-46fb-9b7f-d0b15689e8c4"
      },
      "source": [
        "drive.mount('/content/drive')"
      ],
      "execution_count": null,
      "outputs": [
        {
          "output_type": "stream",
          "text": [
            "Go to this URL in a browser: https://accounts.google.com/o/oauth2/auth?client_id=947318989803-6bn6qk8qdgf4n4g3pfee6491hc0brc4i.apps.googleusercontent.com&redirect_uri=urn%3aietf%3awg%3aoauth%3a2.0%3aoob&response_type=code&scope=email%20https%3a%2f%2fwww.googleapis.com%2fauth%2fdocs.test%20https%3a%2f%2fwww.googleapis.com%2fauth%2fdrive%20https%3a%2f%2fwww.googleapis.com%2fauth%2fdrive.photos.readonly%20https%3a%2f%2fwww.googleapis.com%2fauth%2fpeopleapi.readonly\n",
            "\n",
            "Enter your authorization code:\n",
            "··········\n",
            "Mounted at /content/drive\n"
          ],
          "name": "stdout"
        }
      ]
    },
    {
      "cell_type": "code",
      "metadata": {
        "id": "FxM81Ff-50SR",
        "colab_type": "code",
        "colab": {}
      },
      "source": [
        "# sarcasm data\n",
        "with open('/content/drive/My Drive/Data Files/code-mixed analysis data/Sarcasm_tweets.txt') as f:\n",
        "   lines = [line.rstrip() for line in f]\n",
        "\n",
        "new_lines = []\n",
        "for line in lines:\n",
        "    if line == '':\n",
        "        continue\n",
        "    new_lines.append(line)\n",
        "\n",
        "tweet_ids = []\n",
        "tweets = []\n",
        "\n",
        "for i in range(len(new_lines)):\n",
        "    if i%2 == 0:\n",
        "        tweet_ids.append(new_lines[i])\n",
        "    else:\n",
        "        tweets.append(new_lines[i])\n",
        "\n",
        "\n",
        "# annotations\n",
        "with open('/content/drive/My Drive/Data Files/code-mixed analysis data/Sarcasm_tweet_truth.txt') as f1:\n",
        "   lines1 = [line.rstrip() for line in f1]\n",
        "\n",
        "labels = []\n",
        "\n",
        "for i in range(len(lines1)):\n",
        "    if i%2 != 0:\n",
        "        labels.append(lines1[i])\n",
        "\n",
        "\n",
        "# tweets with language\n",
        "f2 = open('/content/drive/My Drive/Data Files/code-mixed analysis data/Sarcasm_tweets_with_language.txt', 'r')\n",
        "tokens_list = []\n",
        "tokens = []\n",
        "languages_list = []\n",
        "languages = []\n",
        "for line in f2:\n",
        "    line = line.strip()\n",
        "    line = line.split(' ')\n",
        "    line = [token.strip() for token in line if token != '' and  token != ' ' and token != '\\n']\n",
        "    if len(line) == 0:\n",
        "        tokens_list.append(tokens)\n",
        "        languages_list.append(languages)\n",
        "        tokens = []\n",
        "        languages = []\n",
        "    elif len(line) == 1:\n",
        "        continue\n",
        "    else:\n",
        "        tokens.append(line[0])\n",
        "        languages.append(line[1])\n",
        "\n",
        "tokens_list.append(tokens)\n",
        "languages_list.append(languages)"
      ],
      "execution_count": null,
      "outputs": []
    },
    {
      "cell_type": "code",
      "metadata": {
        "id": "GvcVW3uz-1TL",
        "colab_type": "code",
        "colab": {
          "base_uri": "https://localhost:8080/",
          "height": 419
        },
        "outputId": "049d0bb4-d8a9-487a-f554-4ddef020198b"
      },
      "source": [
        "df = pd.DataFrame(data=tweet_ids, columns=['Tweet ID'])\n",
        "df['Tweet'] = tweets\n",
        "df['Label'] = labels\n",
        "df['Tokens'] = tokens_list\n",
        "df['Languages'] = languages_list\n",
        "df"
      ],
      "execution_count": null,
      "outputs": [
        {
          "output_type": "execute_result",
          "data": {
            "text/html": [
              "<div>\n",
              "<style scoped>\n",
              "    .dataframe tbody tr th:only-of-type {\n",
              "        vertical-align: middle;\n",
              "    }\n",
              "\n",
              "    .dataframe tbody tr th {\n",
              "        vertical-align: top;\n",
              "    }\n",
              "\n",
              "    .dataframe thead th {\n",
              "        text-align: right;\n",
              "    }\n",
              "</style>\n",
              "<table border=\"1\" class=\"dataframe\">\n",
              "  <thead>\n",
              "    <tr style=\"text-align: right;\">\n",
              "      <th></th>\n",
              "      <th>Tweet ID</th>\n",
              "      <th>Tweet</th>\n",
              "      <th>Label</th>\n",
              "      <th>Tokens</th>\n",
              "      <th>Languages</th>\n",
              "    </tr>\n",
              "  </thead>\n",
              "  <tbody>\n",
              "    <tr>\n",
              "      <th>0</th>\n",
              "      <td>866871160725794816</td>\n",
              "      <td>Triple Talaq par Burbak Kuchh nahi bolega</td>\n",
              "      <td>NO</td>\n",
              "      <td>[Triple, Talaq, par, Burbak, Kuchh, nahi, bolega]</td>\n",
              "      <td>[en, hi, hi, hi, hi, hi, hi]</td>\n",
              "    </tr>\n",
              "    <tr>\n",
              "      <th>1</th>\n",
              "      <td>880356789358743553</td>\n",
              "      <td>Batao ye uss site pr se akki sir ke verdict ni...</td>\n",
              "      <td>YES</td>\n",
              "      <td>[Batao, ye, uss, site, pr, se, akki, sir, ke, ...</td>\n",
              "      <td>[hi, hi, hi, en, hi, hi, hi, en, hi, en, hi, h...</td>\n",
              "    </tr>\n",
              "    <tr>\n",
              "      <th>2</th>\n",
              "      <td>877751493889105920</td>\n",
              "      <td>Hindu baheno par julam bardas nahi hoga @Tripl...</td>\n",
              "      <td>NO</td>\n",
              "      <td>[Hindu, baheno, par, julam, bardas, nahi, hoga...</td>\n",
              "      <td>[hi, hi, hi, hi, hi, hi, hi, rest, hi, hi, hi,...</td>\n",
              "    </tr>\n",
              "    <tr>\n",
              "      <th>3</th>\n",
              "      <td>901806457871466496</td>\n",
              "      <td>Naa bhai.. aisa nhi hai.. mere handle karne se...</td>\n",
              "      <td>NO</td>\n",
              "      <td>[Naa, bhai, .., aisa, nhi, hai, .., mere, hand...</td>\n",
              "      <td>[hi, hi, rest, hi, hi, hi, rest, hi, en, hi, h...</td>\n",
              "    </tr>\n",
              "    <tr>\n",
              "      <th>4</th>\n",
              "      <td>866264330748219392</td>\n",
              "      <td>#RememberingRajiv aaj agar musalman auraten tr...</td>\n",
              "      <td>NO</td>\n",
              "      <td>[#RememberingRajiv, aaj, agar, musalman, aurat...</td>\n",
              "      <td>[rest, hi, hi, hi, hi, en, hi, hi, hi, hi, hi,...</td>\n",
              "    </tr>\n",
              "    <tr>\n",
              "      <th>...</th>\n",
              "      <td>...</td>\n",
              "      <td>...</td>\n",
              "      <td>...</td>\n",
              "      <td>...</td>\n",
              "      <td>...</td>\n",
              "    </tr>\n",
              "    <tr>\n",
              "      <th>5245</th>\n",
              "      <td>256002351670898688</td>\n",
              "      <td>Khiladi anari, aur shaamat equipment ki aye! B...</td>\n",
              "      <td>NO</td>\n",
              "      <td>[Khiladi, anari, ,, aur, shaamat, equipment, k...</td>\n",
              "      <td>[hi, hi, rest, hi, hi, en, hi, hi, rest, hi, e...</td>\n",
              "    </tr>\n",
              "    <tr>\n",
              "      <th>5246</th>\n",
              "      <td>256306978811441152</td>\n",
              "      <td>#irony RT @techno_charan: pallu k neche chhupa...</td>\n",
              "      <td>NO</td>\n",
              "      <td>[#irony, RT, @techno_charan:, pallu, k, neche,...</td>\n",
              "      <td>[rest, hi, rest, hi, hi, hi, hi, hi, hi, hi, h...</td>\n",
              "    </tr>\n",
              "    <tr>\n",
              "      <th>5247</th>\n",
              "      <td>256416888568045569</td>\n",
              "      <td>Jab Thak Hai Jaan. #Irony</td>\n",
              "      <td>NO</td>\n",
              "      <td>[Jab, Thak, Hai, Jaan, ., #Irony]</td>\n",
              "      <td>[hi, hi, hi, hi, rest, rest]</td>\n",
              "    </tr>\n",
              "    <tr>\n",
              "      <th>5248</th>\n",
              "      <td>257194830449487872</td>\n",
              "      <td>@beeba_puttar Acha! Aur koi nae mila tha #sarc...</td>\n",
              "      <td>NO</td>\n",
              "      <td>[@beeba_puttar, Acha, !, Aur, koi, nae, mila, ...</td>\n",
              "      <td>[rest, hi, rest, hi, hi, en, hi, hi, rest, hi,...</td>\n",
              "    </tr>\n",
              "    <tr>\n",
              "      <th>5249</th>\n",
              "      <td>257448839827578880</td>\n",
              "      <td>@Nirmalogy sacchi mucchi mein? Yah ye bhi #Sar...</td>\n",
              "      <td>NO</td>\n",
              "      <td>[@Nirmalogy, sacchi, mucchi, mein, ?, Yah, ye,...</td>\n",
              "      <td>[rest, hi, hi, hi, rest, hi, hi, hi, rest, hi,...</td>\n",
              "    </tr>\n",
              "  </tbody>\n",
              "</table>\n",
              "<p>5250 rows × 5 columns</p>\n",
              "</div>"
            ],
            "text/plain": [
              "                Tweet ID  ...                                          Languages\n",
              "0     866871160725794816  ...                       [en, hi, hi, hi, hi, hi, hi]\n",
              "1     880356789358743553  ...  [hi, hi, hi, en, hi, hi, hi, en, hi, en, hi, h...\n",
              "2     877751493889105920  ...  [hi, hi, hi, hi, hi, hi, hi, rest, hi, hi, hi,...\n",
              "3     901806457871466496  ...  [hi, hi, rest, hi, hi, hi, rest, hi, en, hi, h...\n",
              "4     866264330748219392  ...  [rest, hi, hi, hi, hi, en, hi, hi, hi, hi, hi,...\n",
              "...                  ...  ...                                                ...\n",
              "5245  256002351670898688  ...  [hi, hi, rest, hi, hi, en, hi, hi, rest, hi, e...\n",
              "5246  256306978811441152  ...  [rest, hi, rest, hi, hi, hi, hi, hi, hi, hi, h...\n",
              "5247  256416888568045569  ...                       [hi, hi, hi, hi, rest, rest]\n",
              "5248  257194830449487872  ...  [rest, hi, rest, hi, hi, en, hi, hi, rest, hi,...\n",
              "5249  257448839827578880  ...  [rest, hi, hi, hi, rest, hi, hi, hi, rest, hi,...\n",
              "\n",
              "[5250 rows x 5 columns]"
            ]
          },
          "metadata": {
            "tags": []
          },
          "execution_count": 50
        }
      ]
    },
    {
      "cell_type": "code",
      "metadata": {
        "id": "Tx-ozGpH_eys",
        "colab_type": "code",
        "colab": {
          "base_uri": "https://localhost:8080/",
          "height": 419
        },
        "outputId": "4abb632b-3afd-4e47-e510-52b055548556"
      },
      "source": [
        "np.random.seed(10)\n",
        "df_y = df[df.Label ==\"YES\"]\n",
        "df_n = df[df.Label == \"NO\"]\n",
        "drop_indices = np.random.choice(df_n.index, 4000, replace=False)\n",
        "df_subset_n = df_n.drop(drop_indices)\n",
        "frames  = [df_y , df_subset_n] \n",
        "df = pd.concat(frames, ignore_index = True)\n",
        "df"
      ],
      "execution_count": null,
      "outputs": [
        {
          "output_type": "execute_result",
          "data": {
            "text/html": [
              "<div>\n",
              "<style scoped>\n",
              "    .dataframe tbody tr th:only-of-type {\n",
              "        vertical-align: middle;\n",
              "    }\n",
              "\n",
              "    .dataframe tbody tr th {\n",
              "        vertical-align: top;\n",
              "    }\n",
              "\n",
              "    .dataframe thead th {\n",
              "        text-align: right;\n",
              "    }\n",
              "</style>\n",
              "<table border=\"1\" class=\"dataframe\">\n",
              "  <thead>\n",
              "    <tr style=\"text-align: right;\">\n",
              "      <th></th>\n",
              "      <th>Tweet ID</th>\n",
              "      <th>Tweet</th>\n",
              "      <th>Label</th>\n",
              "      <th>Tokens</th>\n",
              "      <th>Languages</th>\n",
              "    </tr>\n",
              "  </thead>\n",
              "  <tbody>\n",
              "    <tr>\n",
              "      <th>0</th>\n",
              "      <td>880356789358743553</td>\n",
              "      <td>Batao ye uss site pr se akki sir ke verdict ni...</td>\n",
              "      <td>YES</td>\n",
              "      <td>[Batao, ye, uss, site, pr, se, akki, sir, ke, ...</td>\n",
              "      <td>[hi, hi, hi, en, hi, hi, hi, en, hi, en, hi, h...</td>\n",
              "    </tr>\n",
              "    <tr>\n",
              "      <th>1</th>\n",
              "      <td>831880812161282049</td>\n",
              "      <td>Abusing tweet ke liye Account suspend karte ho...</td>\n",
              "      <td>YES</td>\n",
              "      <td>[Abusing, tweet, ke, liye, Account, suspend, k...</td>\n",
              "      <td>[hi, en, hi, hi, en, en, hi, hi, rest, hi, hi,...</td>\n",
              "    </tr>\n",
              "    <tr>\n",
              "      <th>2</th>\n",
              "      <td>566179778508902400</td>\n",
              "      <td>kaafiron' ko 'masjid' mein 'namaz' perhtay hua...</td>\n",
              "      <td>YES</td>\n",
              "      <td>[kaafiron, ', ko, ', masjid, ', mein, ', namaz...</td>\n",
              "      <td>[hi, rest, hi, rest, hi, rest, hi, rest, hi, r...</td>\n",
              "    </tr>\n",
              "    <tr>\n",
              "      <th>3</th>\n",
              "      <td>563032661380571137</td>\n",
              "      <td>@jalanjalans  Bhai AAP apne sab Kharche ka His...</td>\n",
              "      <td>YES</td>\n",
              "      <td>[@jalanjalans, Bhai, AAP, apne, sab, Kharche, ...</td>\n",
              "      <td>[rest, hi, hi, hi, hi, hi, hi, hi, hi, hi, res...</td>\n",
              "    </tr>\n",
              "    <tr>\n",
              "      <th>4</th>\n",
              "      <td>566901052859904000</td>\n",
              "      <td>Aaj dhoni ko god, magic man bolnewale kabhi us...</td>\n",
              "      <td>YES</td>\n",
              "      <td>[Aaj, dhoni, ko, god, ,, magic, man, bolnewale...</td>\n",
              "      <td>[hi, hi, hi, en, rest, en, hi, hi, hi, hi, hi,...</td>\n",
              "    </tr>\n",
              "    <tr>\n",
              "      <th>...</th>\n",
              "      <td>...</td>\n",
              "      <td>...</td>\n",
              "      <td>...</td>\n",
              "      <td>...</td>\n",
              "      <td>...</td>\n",
              "    </tr>\n",
              "    <tr>\n",
              "      <th>1245</th>\n",
              "      <td>251212835047211008</td>\n",
              "      <td>I sing this in #sarcasm: Mujhe tum se pyar nah...</td>\n",
              "      <td>NO</td>\n",
              "      <td>[I, sing, this, in, #sarcasm:, Mujhe, tum, se,...</td>\n",
              "      <td>[hi, en, en, hi, rest, hi, hi, hi, hi, hi, hi,...</td>\n",
              "    </tr>\n",
              "    <tr>\n",
              "      <th>1246</th>\n",
              "      <td>252336311313240064</td>\n",
              "      <td>4 dinn ki chutti and month bhar ka homework. #...</td>\n",
              "      <td>NO</td>\n",
              "      <td>[4, dinn, ki, chutti, and, month, bhar, ka, ho...</td>\n",
              "      <td>[rest, hi, hi, hi, en, en, hi, hi, en, rest, r...</td>\n",
              "    </tr>\n",
              "    <tr>\n",
              "      <th>1247</th>\n",
              "      <td>253847827204149248</td>\n",
              "      <td>Dekho, tum gambhir majaak kar rahe ho #Irony</td>\n",
              "      <td>NO</td>\n",
              "      <td>[Dekho, ,, tum, gambhir, majaak, kar, rahe, ho...</td>\n",
              "      <td>[hi, rest, hi, hi, hi, hi, hi, hi, rest]</td>\n",
              "    </tr>\n",
              "    <tr>\n",
              "      <th>1248</th>\n",
              "      <td>255551874432901120</td>\n",
              "      <td>Na afsos hai tujhe sahab na koi sharmindagi ha...</td>\n",
              "      <td>NO</td>\n",
              "      <td>[Na, afsos, hai, tujhe, sahab, na, koi, sharmi...</td>\n",
              "      <td>[hi, hi, hi, hi, hi, hi, hi, hi, hi, rest, hi,...</td>\n",
              "    </tr>\n",
              "    <tr>\n",
              "      <th>1249</th>\n",
              "      <td>256002351670898688</td>\n",
              "      <td>Khiladi anari, aur shaamat equipment ki aye! B...</td>\n",
              "      <td>NO</td>\n",
              "      <td>[Khiladi, anari, ,, aur, shaamat, equipment, k...</td>\n",
              "      <td>[hi, hi, rest, hi, hi, en, hi, hi, rest, hi, e...</td>\n",
              "    </tr>\n",
              "  </tbody>\n",
              "</table>\n",
              "<p>1250 rows × 5 columns</p>\n",
              "</div>"
            ],
            "text/plain": [
              "                Tweet ID  ...                                          Languages\n",
              "0     880356789358743553  ...  [hi, hi, hi, en, hi, hi, hi, en, hi, en, hi, h...\n",
              "1     831880812161282049  ...  [hi, en, hi, hi, en, en, hi, hi, rest, hi, hi,...\n",
              "2     566179778508902400  ...  [hi, rest, hi, rest, hi, rest, hi, rest, hi, r...\n",
              "3     563032661380571137  ...  [rest, hi, hi, hi, hi, hi, hi, hi, hi, hi, res...\n",
              "4     566901052859904000  ...  [hi, hi, hi, en, rest, en, hi, hi, hi, hi, hi,...\n",
              "...                  ...  ...                                                ...\n",
              "1245  251212835047211008  ...  [hi, en, en, hi, rest, hi, hi, hi, hi, hi, hi,...\n",
              "1246  252336311313240064  ...  [rest, hi, hi, hi, en, en, hi, hi, en, rest, r...\n",
              "1247  253847827204149248  ...           [hi, rest, hi, hi, hi, hi, hi, hi, rest]\n",
              "1248  255551874432901120  ...  [hi, hi, hi, hi, hi, hi, hi, hi, hi, rest, hi,...\n",
              "1249  256002351670898688  ...  [hi, hi, rest, hi, hi, en, hi, hi, rest, hi, e...\n",
              "\n",
              "[1250 rows x 5 columns]"
            ]
          },
          "metadata": {
            "tags": []
          },
          "execution_count": 52
        }
      ]
    },
    {
      "cell_type": "code",
      "metadata": {
        "id": "6lUx1lXtnBOh",
        "colab_type": "code",
        "colab": {}
      },
      "source": [
        "# preprocessing\n",
        "\n",
        "# emoticon analysis\n",
        "all_emoticons = [\n",
        "                  {\n",
        "                      \"icons\": [\":-)\", \":)\", \":-]\", \":]\", \":-3\", \":3\", \":->\", \":>\", \"8-)\", \"8)\", \":-}\", \":}\", \":o)\", \":c)\", \":^)\", \"=]\", \"=)\"],\n",
        "                      \"keywords\": [\"happy\", \"smile\", \"face\"]\n",
        "                  },\n",
        "                  {\n",
        "                      \"icons\": [\":-D\", \":D\", \"8-D\", \"8D\", \"x-D\", \"xD\", \"X-D\", \"XD\", \"=D\", \"=3\", \"B^D\"],\n",
        "                      \"keywords\": [\"laugh\", \"grin\", \"wide-eyed\", \"surprise\", \"face\"]\n",
        "                  },\n",
        "                  {\n",
        "                      \"icons\": [\":-))\"],\n",
        "                      \"keywords\": [\"very\", \"happy\", \"double\", \"chin\"]\n",
        "                  },\n",
        "                  {\n",
        "                      \"icons\": [\":-(\", \":(\", \":-c\", \":c\", \":-<\", \":<\", \":-[\", \":[\", \":-||\", \">:[\", \":{\", \":@\", \">:(\", \";(\"],\n",
        "                      \"keywords\": [\"frown\", \"sad\", \"angry\", \"pout\"]\n",
        "                  },\n",
        "                  {\n",
        "                      \"icons\": [\":'-(\", \":'(\", \":,(\", ':\"(', \":((\", \":\\'(\", \":\\*\"],\n",
        "                      \"keywords\": [\"tears\", \"cry\", \"sad\"]\n",
        "                  },\n",
        "                  {\n",
        "                      \"icons\": [\":'-)\", \":')\"],\n",
        "                      \"keywords\": [\"tears\", \"happy\"]\n",
        "                  },\n",
        "                  {\n",
        "                      \"icons\": [\"D-':\", \"D:<\", \"D:\", \"D;\", \"D=\", \"DX\"],\n",
        "                      \"keywords\": [\"horror\", \"disgust\", \"sad\", \"dismay\"]\n",
        "                  },\n",
        "                  {\n",
        "                      \"icons\": [\":-*\", \":*\", \":x\"],\n",
        "                      \"keywords\": [\"kiss\"]\n",
        "                  },\n",
        "                  {\n",
        "                      \"icons\": [\":-O\", \":O\", \":-o\", \":o\", \":-0\", \"8-0\", \">:0\"],\n",
        "                      \"keywords\": [\"surprise\", \"shock\"]\n",
        "                  },\n",
        "                  {\n",
        "                      \"icons\": [\";-)\", \";)\", \"*-)\", \"*)\", \";-]\", \";]\", \";-D\", \";D\"],\n",
        "                      \"keywords\": [\"wink\", \"smile\"]\n",
        "                  },\n",
        "                  {\n",
        "                      \"icons\": [\":-P\", \":P\", \"X-P\", \"XP\", \"x-p\", \"xp\", \":-p\", \":p\", \"=p\", \">:P\"],\n",
        "                      \"keywords\": [\"tongue\", \"stick\", \"out\", \"cheeky\", \"playful\"]\n",
        "                  },\n",
        "                  {\n",
        "                      \"icons\": [\":-|\", \":|\"],\n",
        "                      \"keywords\": [\"straight\", \"face\", \"expressionless\"]\n",
        "                  },\n",
        "                  {\n",
        "                      \"icons\":[\":-/\", \":/\", \">:/\", \":\\'\", \">:\\'\", \"=/\", \"=\\'\"],\n",
        "                      \"keywords\": [\"skeptical\", \"annoy\", \"uneasy\"]\n",
        "                  },\n",
        "                  {\n",
        "                      \"icons\": [\"(:\", \"(-:\"],\n",
        "                      \"keywords\": [\"sarcasm\", \"irony\"]\n",
        "                  },\n",
        "                  {\n",
        "                      \"icons\": [\"<3\"],\n",
        "                      \"keywords\": [\"love\", \"heart\"] \n",
        "                  },\n",
        "                  {\n",
        "                      \"icons\": [\"</3\"],\n",
        "                      \"keywords\": [\"broken\", \"heart\"]\n",
        "                  }\n",
        "]\n",
        "\n",
        "def get_emoticons(tokens):\n",
        "    emoticons = []\n",
        "\n",
        "    for token in tokens:\n",
        "        for i in range(len(all_emoticons)):\n",
        "            if token in all_emoticons[i]['icons']:\n",
        "                emoticons.append(token) \n",
        "\n",
        "    return emoticons\n",
        "\n",
        "def get_keywords(emoticons):\n",
        "    emoticons = list(set(emoticons))\n",
        "    keywords = []\n",
        "\n",
        "    for emoticon in emoticons:\n",
        "        for i in range(len(all_emoticons)):\n",
        "            if emoticon in all_emoticons[i]['icons']:\n",
        "                keywords.append(all_emoticons[i]['keywords'])\n",
        "    \n",
        "    return keywords\n",
        "\n",
        "df['Emoticons'] = df['Tokens'].apply(lambda x: get_emoticons(x))\n",
        "df['Keywords'] = df['Emoticons'].apply(lambda x: get_keywords(x))"
      ],
      "execution_count": null,
      "outputs": []
    },
    {
      "cell_type": "code",
      "metadata": {
        "id": "PbWKFYUzgxqZ",
        "colab_type": "code",
        "colab": {
          "base_uri": "https://localhost:8080/",
          "height": 187
        },
        "outputId": "0e31561c-01af-4a07-b833-22f492222426"
      },
      "source": [
        "pip install wordninja"
      ],
      "execution_count": null,
      "outputs": [
        {
          "output_type": "stream",
          "text": [
            "Collecting wordninja\n",
            "\u001b[?25l  Downloading https://files.pythonhosted.org/packages/30/15/abe4af50f4be92b60c25e43c1c64d08453b51e46c32981d80b3aebec0260/wordninja-2.0.0.tar.gz (541kB)\n",
            "\r\u001b[K     |▋                               | 10kB 16.9MB/s eta 0:00:01\r\u001b[K     |█▏                              | 20kB 2.0MB/s eta 0:00:01\r\u001b[K     |█▉                              | 30kB 2.3MB/s eta 0:00:01\r\u001b[K     |██▍                             | 40kB 2.6MB/s eta 0:00:01\r\u001b[K     |███                             | 51kB 2.4MB/s eta 0:00:01\r\u001b[K     |███▋                            | 61kB 2.8MB/s eta 0:00:01\r\u001b[K     |████▎                           | 71kB 3.0MB/s eta 0:00:01\r\u001b[K     |████▉                           | 81kB 3.1MB/s eta 0:00:01\r\u001b[K     |█████▌                          | 92kB 3.1MB/s eta 0:00:01\r\u001b[K     |██████                          | 102kB 3.3MB/s eta 0:00:01\r\u001b[K     |██████▋                         | 112kB 3.3MB/s eta 0:00:01\r\u001b[K     |███████▎                        | 122kB 3.3MB/s eta 0:00:01\r\u001b[K     |███████▉                        | 133kB 3.3MB/s eta 0:00:01\r\u001b[K     |████████▌                       | 143kB 3.3MB/s eta 0:00:01\r\u001b[K     |█████████                       | 153kB 3.3MB/s eta 0:00:01\r\u001b[K     |█████████▊                      | 163kB 3.3MB/s eta 0:00:01\r\u001b[K     |██████████▎                     | 174kB 3.3MB/s eta 0:00:01\r\u001b[K     |███████████                     | 184kB 3.3MB/s eta 0:00:01\r\u001b[K     |███████████▌                    | 194kB 3.3MB/s eta 0:00:01\r\u001b[K     |████████████                    | 204kB 3.3MB/s eta 0:00:01\r\u001b[K     |████████████▊                   | 215kB 3.3MB/s eta 0:00:01\r\u001b[K     |█████████████▎                  | 225kB 3.3MB/s eta 0:00:01\r\u001b[K     |██████████████                  | 235kB 3.3MB/s eta 0:00:01\r\u001b[K     |██████████████▌                 | 245kB 3.3MB/s eta 0:00:01\r\u001b[K     |███████████████▏                | 256kB 3.3MB/s eta 0:00:01\r\u001b[K     |███████████████▊                | 266kB 3.3MB/s eta 0:00:01\r\u001b[K     |████████████████▍               | 276kB 3.3MB/s eta 0:00:01\r\u001b[K     |█████████████████               | 286kB 3.3MB/s eta 0:00:01\r\u001b[K     |█████████████████▌              | 296kB 3.3MB/s eta 0:00:01\r\u001b[K     |██████████████████▏             | 307kB 3.3MB/s eta 0:00:01\r\u001b[K     |██████████████████▊             | 317kB 3.3MB/s eta 0:00:01\r\u001b[K     |███████████████████▍            | 327kB 3.3MB/s eta 0:00:01\r\u001b[K     |████████████████████            | 337kB 3.3MB/s eta 0:00:01\r\u001b[K     |████████████████████▋           | 348kB 3.3MB/s eta 0:00:01\r\u001b[K     |█████████████████████▏          | 358kB 3.3MB/s eta 0:00:01\r\u001b[K     |█████████████████████▉          | 368kB 3.3MB/s eta 0:00:01\r\u001b[K     |██████████████████████▍         | 378kB 3.3MB/s eta 0:00:01\r\u001b[K     |███████████████████████         | 389kB 3.3MB/s eta 0:00:01\r\u001b[K     |███████████████████████▋        | 399kB 3.3MB/s eta 0:00:01\r\u001b[K     |████████████████████████▏       | 409kB 3.3MB/s eta 0:00:01\r\u001b[K     |████████████████████████▉       | 419kB 3.3MB/s eta 0:00:01\r\u001b[K     |█████████████████████████▍      | 430kB 3.3MB/s eta 0:00:01\r\u001b[K     |██████████████████████████      | 440kB 3.3MB/s eta 0:00:01\r\u001b[K     |██████████████████████████▋     | 450kB 3.3MB/s eta 0:00:01\r\u001b[K     |███████████████████████████▎    | 460kB 3.3MB/s eta 0:00:01\r\u001b[K     |███████████████████████████▉    | 471kB 3.3MB/s eta 0:00:01\r\u001b[K     |████████████████████████████▍   | 481kB 3.3MB/s eta 0:00:01\r\u001b[K     |█████████████████████████████   | 491kB 3.3MB/s eta 0:00:01\r\u001b[K     |█████████████████████████████▋  | 501kB 3.3MB/s eta 0:00:01\r\u001b[K     |██████████████████████████████▎ | 512kB 3.3MB/s eta 0:00:01\r\u001b[K     |██████████████████████████████▉ | 522kB 3.3MB/s eta 0:00:01\r\u001b[K     |███████████████████████████████▌| 532kB 3.3MB/s eta 0:00:01\r\u001b[K     |████████████████████████████████| 542kB 3.3MB/s \n",
            "\u001b[?25hBuilding wheels for collected packages: wordninja\n",
            "  Building wheel for wordninja (setup.py) ... \u001b[?25l\u001b[?25hdone\n",
            "  Created wheel for wordninja: filename=wordninja-2.0.0-cp36-none-any.whl size=541552 sha256=e9a3bdd1bf5a646c23085f21d6486664a00ad5e839bad2bc3d58948d83b283c0\n",
            "  Stored in directory: /root/.cache/pip/wheels/22/46/06/9b6d10ed02c85e93c3bb33ac50e2d368b2586248f192a2e22a\n",
            "Successfully built wordninja\n",
            "Installing collected packages: wordninja\n",
            "Successfully installed wordninja-2.0.0\n"
          ],
          "name": "stdout"
        }
      ]
    },
    {
      "cell_type": "code",
      "metadata": {
        "id": "Xxek5mFeNEal",
        "colab_type": "code",
        "colab": {}
      },
      "source": [
        "# hashtag analysis\n",
        "\n",
        "# complete words list\n",
        "words_list = []\n",
        "\n",
        "with open('/content/drive/My Drive/Data Files/code-mixed analysis data/words.txt') as f3:\n",
        "    for line in f3:\n",
        "        line = line.strip()\n",
        "        words_list.append(line)\n",
        "        \n",
        "# this ensures we ony deal with full words rather than each individual letter. Normalize the words basically\n",
        "def words(text): \n",
        "    return re.findall('[a-z]+', text.lower())  \n",
        "\n",
        "# calculate the probability of a word based on occurrences in the dictionary\n",
        "def word_prob(word): \n",
        "    return dictionary[word] / total\n",
        "\n",
        "# this gets us a hash where the keys are words and the values are the number of ocurrances in the dictionary\n",
        "dictionary = Counter(words(open('/content/drive/My Drive/Data Files/code-mixed analysis data/words_alpha.txt').read()))\n",
        "# dictionary = dict((w, len(list(ws))) \n",
        "#     for w, ws in groupby(sorted(words(open('/content/drive/My Drive/Data Files/sarcasm detection data/big.txt').read()))))\n",
        "\n",
        "# assign the length of the longest word in the dictionary\n",
        "max_word_length = max(map(len, dictionary))\n",
        "\n",
        "# assign the total number of words in the dictionary. It's a float because we're going to divide by it later on\n",
        "total = float(sum(dictionary.values()))"
      ],
      "execution_count": null,
      "outputs": []
    },
    {
      "cell_type": "code",
      "metadata": {
        "id": "SZJsob7H00Mv",
        "colab_type": "code",
        "colab": {}
      },
      "source": [
        "import wordninja\n",
        "\n",
        "# case 1, when each word in a hashtag starts by an uppercase letter\n",
        "def hashtag_analysis1(hashtag):\n",
        "    hashtag = re.findall('^[a-z]+|[A-Z][^A-Z]*', hashtag)\n",
        "    hashtag = [tag.lower() for tag in hashtag]\n",
        "    hashtag = \" \".join(hashtag)\n",
        "    return hashtag\n",
        "\n",
        "# case 2, when the words are separated by special characters\n",
        "def hashtag_analysis2(hashtag):\n",
        "    hashtag = re.split(r\"[^a-zA-Z0-9\\s]\", hashtag)\n",
        "    hashtag = [tag.lower() for tag in hashtag]\n",
        "    hashtag = \" \".join(hashtag)\n",
        "    return hashtag\n",
        "\n",
        "# case 3, when each word starts by a lowercase letter, separate the hashtag in the fewest \n",
        "# possible number of words, from left to right using the english words corpus (eng_words)\n",
        "# hashtag will be a compound word such as 'wickedweather'\n",
        "def hashtag_analysis3(hashtag):\n",
        "    if hashtag == 'irony' or hashtag == 'sarcasm':\n",
        "        return hashtag\n",
        "\n",
        "    probs, lasts = [1.0], [0]\n",
        "\n",
        "    # iterate over the letters in the compound\n",
        "    # eg. [w, ickedweather], [wi, ckedweather], and so on\n",
        "    probs, lasts = [1.0], [0]\n",
        "    for i in range(1, len(hashtag) + 1):\n",
        "        prob_k, k = max((probs[j] * word_prob(hashtag[j:i]), j)\n",
        "                        for j in range(max(0, i - max_word_length), i))\n",
        "        probs.append(prob_k)\n",
        "        lasts.append(k)\n",
        "    words = []\n",
        "    i = len(hashtag)\n",
        "    while 0 < i:\n",
        "        words.append(hashtag[lasts[i]:i])\n",
        "        i = lasts[i]\n",
        "    words.reverse()\n",
        "    words = \" \".join(words)\n",
        "    return words\n",
        "\n",
        "# case 3 analysis, but using wordninja\n",
        "def hashtag_analysis3_wordninja(hashtag):\n",
        "    hashtag = wordninja.split(hashtag)\n",
        "    hashtag = \" \".join(hashtag)\n",
        "    return hashtag\n",
        "\n",
        "# get hashtags from tokens\n",
        "def get_hashtags(tokens):\n",
        "    hashtags = []\n",
        "    for token in tokens:\n",
        "        if token[0] == '#':\n",
        "            hashtags.append(token)\n",
        "    return hashtags\n",
        "\n",
        "# hashtag analysis\n",
        "def hashtag_analysis(hashtags_list):\n",
        "    final_tags = []\n",
        "    for hashtags in hashtags_list:\n",
        "        tags = []\n",
        "        for hashtag in hashtags:\n",
        "            hashtag = hashtag[1:]\n",
        "            if '_' in hashtag or '-' in hashtag:\n",
        "                tags.append(hashtag_analysis2(hashtag))\n",
        "            elif hashtag.islower() == False:\n",
        "                tags.append(hashtag_analysis1(hashtag))\n",
        "            else:\n",
        "                tags.append(hashtag_analysis3_wordninja(hashtag))\n",
        "        \n",
        "        final_tags.append(tags)\n",
        "\n",
        "    return final_tags\n",
        "\n",
        "hashtags_list = df['Tokens'].apply(lambda x: get_hashtags(x))\n",
        "df['Hashtags'] = hashtag_analysis(hashtags_list)"
      ],
      "execution_count": null,
      "outputs": []
    },
    {
      "cell_type": "code",
      "metadata": {
        "id": "SHVaQMkBAMsC",
        "colab_type": "code",
        "colab": {}
      },
      "source": [
        "# get mentions\n",
        "def get_mentions(tokens):\n",
        "    mentions = []\n",
        "    for token in tokens:\n",
        "        if token[0] == '@':\n",
        "            mentions.append(token)\n",
        "    \n",
        "    return mentions\n",
        "\n",
        "# get urls\n",
        "def get_urls(tweet):\n",
        "    url_regex = [r'http[s]?://(?:[a-z]|[0-9]|[$-_@.&amp;+]|[!*\\(\\),]|(?:%[0-9a-f][0-9a-f]))+']\n",
        "    url_re = re.compile(r'('+'|'.join(url_regex)+')', re.VERBOSE | re.IGNORECASE)\n",
        "    urls = url_re.findall(tweet)\n",
        "    return urls\n",
        "\n",
        "mentions_list = df['Tokens'].apply(lambda x: get_mentions(x))\n",
        "urls_list = df['Tweet'].apply(lambda x: get_urls(x))"
      ],
      "execution_count": null,
      "outputs": []
    },
    {
      "cell_type": "code",
      "metadata": {
        "id": "ukMd0Lg_inzP",
        "colab_type": "code",
        "colab": {
          "base_uri": "https://localhost:8080/",
          "height": 68
        },
        "outputId": "0f8be490-af30-4392-c74f-3f76da838580"
      },
      "source": [
        "nltk.download('stopwords')"
      ],
      "execution_count": null,
      "outputs": [
        {
          "output_type": "stream",
          "text": [
            "[nltk_data] Downloading package stopwords to /root/nltk_data...\n",
            "[nltk_data]   Unzipping corpora/stopwords.zip.\n"
          ],
          "name": "stdout"
        },
        {
          "output_type": "execute_result",
          "data": {
            "text/plain": [
              "True"
            ]
          },
          "metadata": {
            "tags": []
          },
          "execution_count": 31
        }
      ]
    },
    {
      "cell_type": "code",
      "metadata": {
        "id": "rTc9ddHwr55d",
        "colab_type": "code",
        "colab": {}
      },
      "source": [
        "# preprocess tweet, remove hashtags, emoticons, mentions, urls, punctuations, stopwords\n",
        "stop_words = set(stopwords.words('english')) \n",
        "\n",
        "def preprocess_tweet(tokens):\n",
        "    preprocessed_tokens = []\n",
        "\n",
        "    for i in range(len(tokens)):\n",
        "        if tokens[i][0] == '#':\n",
        "            continue\n",
        "        elif tokens[i][0] == '@':\n",
        "            continue\n",
        "        elif 'pic.twitter.com' in tokens[i] or 'http' in tokens[i]:\n",
        "            continue\n",
        "        elif tokens[i] in df['Emoticons'][i]:\n",
        "            continue\n",
        "        elif tokens[i][0] in string.punctuation:\n",
        "            continue\n",
        "        elif tokens[i] in stop_words:\n",
        "            continue\n",
        "        elif tokens[i] == 'RT':\n",
        "            continue\n",
        "        \n",
        "        preprocessed_tokens.append(tokens[i].lower())\n",
        "    \n",
        "    return preprocessed_tokens\n",
        "\n",
        "# add hashtags except irony, sarcasm\n",
        "def add_decomposed_hashtags(tweets, hashtags_list):\n",
        "    for i in range(len(hashtags_list)):\n",
        "        for hashtag in hashtags_list[i]:\n",
        "            if hashtag == 'irony' or hashtag == 'sarcasm':\n",
        "                continue\n",
        "            tweets[i] = tweets[i] + \" \" + hashtag\n",
        "            tweets[i] = tweets[i].strip()\n",
        "    \n",
        "    return tweets\n",
        "\n",
        "df['Preprocessed Tokens'] = df['Tokens'].apply(lambda x: preprocess_tweet(x))\n",
        "df['Preprocessed Tweets'] = [\" \".join(tokens) for tokens in df['Preprocessed Tokens']]\n",
        "df['Preprocessed Tweets'] = add_decomposed_hashtags(df['Preprocessed Tweets'], df['Hashtags'])\n",
        "df['Preprocessed Tokens'] = [tweet.split(\" \") for tweet in df['Preprocessed Tweets']]"
      ],
      "execution_count": null,
      "outputs": []
    },
    {
      "cell_type": "code",
      "metadata": {
        "id": "o4ao1MTwvqhz",
        "colab_type": "code",
        "colab": {}
      },
      "source": [
        "# encoding, 0 for 'NO' and 1 for 'YES'\n",
        "def class_parse():\n",
        "    class_types = []\n",
        "    for i in range(df.shape[0]):\n",
        "        if df['Label'][i] == \"NO\":\n",
        "            class_types.append(0)\n",
        "        else:\n",
        "            class_types.append(1)\n",
        "\n",
        "    return class_types\n",
        "\n",
        "df['Class Type'] = class_parse()"
      ],
      "execution_count": null,
      "outputs": []
    },
    {
      "cell_type": "code",
      "metadata": {
        "id": "yp24IH5ywPdH",
        "colab_type": "code",
        "colab": {
          "base_uri": "https://localhost:8080/",
          "height": 861
        },
        "outputId": "bcaaf907-d731-4b74-e434-d6528b0f1f2a"
      },
      "source": [
        "df"
      ],
      "execution_count": null,
      "outputs": [
        {
          "output_type": "execute_result",
          "data": {
            "text/html": [
              "<div>\n",
              "<style scoped>\n",
              "    .dataframe tbody tr th:only-of-type {\n",
              "        vertical-align: middle;\n",
              "    }\n",
              "\n",
              "    .dataframe tbody tr th {\n",
              "        vertical-align: top;\n",
              "    }\n",
              "\n",
              "    .dataframe thead th {\n",
              "        text-align: right;\n",
              "    }\n",
              "</style>\n",
              "<table border=\"1\" class=\"dataframe\">\n",
              "  <thead>\n",
              "    <tr style=\"text-align: right;\">\n",
              "      <th></th>\n",
              "      <th>Tweet ID</th>\n",
              "      <th>Tweet</th>\n",
              "      <th>Label</th>\n",
              "      <th>Tokens</th>\n",
              "      <th>Languages</th>\n",
              "      <th>Emoticons</th>\n",
              "      <th>Keywords</th>\n",
              "      <th>Hashtags</th>\n",
              "      <th>Preprocessed Tokens</th>\n",
              "      <th>Preprocessed Tweets</th>\n",
              "      <th>Class Type</th>\n",
              "    </tr>\n",
              "  </thead>\n",
              "  <tbody>\n",
              "    <tr>\n",
              "      <th>0</th>\n",
              "      <td>880356789358743553</td>\n",
              "      <td>Batao ye uss site pr se akki sir ke verdict ni...</td>\n",
              "      <td>YES</td>\n",
              "      <td>[Batao, ye, uss, site, pr, se, akki, sir, ke, ...</td>\n",
              "      <td>[hi, hi, hi, en, hi, hi, hi, en, hi, en, hi, h...</td>\n",
              "      <td>[]</td>\n",
              "      <td>[]</td>\n",
              "      <td>[]</td>\n",
              "      <td>[batao, ye, uss, site, pr, se, akki, sir, ke, ...</td>\n",
              "      <td>batao ye uss site pr se akki sir ke verdict ni...</td>\n",
              "      <td>1</td>\n",
              "    </tr>\n",
              "    <tr>\n",
              "      <th>1</th>\n",
              "      <td>831880812161282049</td>\n",
              "      <td>Abusing tweet ke liye Account suspend karte ho...</td>\n",
              "      <td>YES</td>\n",
              "      <td>[Abusing, tweet, ke, liye, Account, suspend, k...</td>\n",
              "      <td>[hi, en, hi, hi, en, en, hi, hi, rest, hi, hi,...</td>\n",
              "      <td>[]</td>\n",
              "      <td>[]</td>\n",
              "      <td>[irony]</td>\n",
              "      <td>[abusing, tweet, ke, liye, account, suspend, k...</td>\n",
              "      <td>abusing tweet ke liye account suspend karte ho...</td>\n",
              "      <td>1</td>\n",
              "    </tr>\n",
              "    <tr>\n",
              "      <th>2</th>\n",
              "      <td>566179778508902400</td>\n",
              "      <td>kaafiron' ko 'masjid' mein 'namaz' perhtay hua...</td>\n",
              "      <td>YES</td>\n",
              "      <td>[kaafiron, ', ko, ', masjid, ', mein, ', namaz...</td>\n",
              "      <td>[hi, rest, hi, rest, hi, rest, hi, rest, hi, r...</td>\n",
              "      <td>[]</td>\n",
              "      <td>[]</td>\n",
              "      <td>[irony]</td>\n",
              "      <td>[kaafiron, ko, masjid, mein, namaz, perhtay, h...</td>\n",
              "      <td>kaafiron ko masjid mein namaz perhtay huaay ma...</td>\n",
              "      <td>1</td>\n",
              "    </tr>\n",
              "    <tr>\n",
              "      <th>3</th>\n",
              "      <td>563032661380571137</td>\n",
              "      <td>@jalanjalans  Bhai AAP apne sab Kharche ka His...</td>\n",
              "      <td>YES</td>\n",
              "      <td>[@jalanjalans, Bhai, AAP, apne, sab, Kharche, ...</td>\n",
              "      <td>[rest, hi, hi, hi, hi, hi, hi, hi, hi, hi, res...</td>\n",
              "      <td>[]</td>\n",
              "      <td>[]</td>\n",
              "      <td>[]</td>\n",
              "      <td>[bhai, aap, apne, sab, kharche, ka, hisaab, de...</td>\n",
              "      <td>bhai aap apne sab kharche ka hisaab deti hai s...</td>\n",
              "      <td>1</td>\n",
              "    </tr>\n",
              "    <tr>\n",
              "      <th>4</th>\n",
              "      <td>566901052859904000</td>\n",
              "      <td>Aaj dhoni ko god, magic man bolnewale kabhi us...</td>\n",
              "      <td>YES</td>\n",
              "      <td>[Aaj, dhoni, ko, god, ,, magic, man, bolnewale...</td>\n",
              "      <td>[hi, hi, hi, en, rest, en, hi, hi, hi, hi, hi,...</td>\n",
              "      <td>[]</td>\n",
              "      <td>[]</td>\n",
              "      <td>[irony]</td>\n",
              "      <td>[aaj, dhoni, ko, god, magic, man, bolnewale, k...</td>\n",
              "      <td>aaj dhoni ko god magic man bolnewale kabhi usi...</td>\n",
              "      <td>1</td>\n",
              "    </tr>\n",
              "    <tr>\n",
              "      <th>...</th>\n",
              "      <td>...</td>\n",
              "      <td>...</td>\n",
              "      <td>...</td>\n",
              "      <td>...</td>\n",
              "      <td>...</td>\n",
              "      <td>...</td>\n",
              "      <td>...</td>\n",
              "      <td>...</td>\n",
              "      <td>...</td>\n",
              "      <td>...</td>\n",
              "      <td>...</td>\n",
              "    </tr>\n",
              "    <tr>\n",
              "      <th>1245</th>\n",
              "      <td>251212835047211008</td>\n",
              "      <td>I sing this in #sarcasm: Mujhe tum se pyar nah...</td>\n",
              "      <td>NO</td>\n",
              "      <td>[I, sing, this, in, #sarcasm:, Mujhe, tum, se,...</td>\n",
              "      <td>[hi, en, en, hi, rest, hi, hi, hi, hi, hi, hi,...</td>\n",
              "      <td>[:-(]</td>\n",
              "      <td>[[frown, sad, angry, pout]]</td>\n",
              "      <td>[sarcasm]</td>\n",
              "      <td>[i, sing, mujhe, tum, se, pyar, nahi, hai, ja,...</td>\n",
              "      <td>i sing mujhe tum se pyar nahi hai ja rey jaaa ...</td>\n",
              "      <td>0</td>\n",
              "    </tr>\n",
              "    <tr>\n",
              "      <th>1246</th>\n",
              "      <td>252336311313240064</td>\n",
              "      <td>4 dinn ki chutti and month bhar ka homework. #...</td>\n",
              "      <td>NO</td>\n",
              "      <td>[4, dinn, ki, chutti, and, month, bhar, ka, ho...</td>\n",
              "      <td>[rest, hi, hi, hi, en, en, hi, hi, en, rest, r...</td>\n",
              "      <td>[]</td>\n",
              "      <td>[]</td>\n",
              "      <td>[irony]</td>\n",
              "      <td>[4, dinn, ki, chutti, month, bhar, ka, homework]</td>\n",
              "      <td>4 dinn ki chutti month bhar ka homework</td>\n",
              "      <td>0</td>\n",
              "    </tr>\n",
              "    <tr>\n",
              "      <th>1247</th>\n",
              "      <td>253847827204149248</td>\n",
              "      <td>Dekho, tum gambhir majaak kar rahe ho #Irony</td>\n",
              "      <td>NO</td>\n",
              "      <td>[Dekho, ,, tum, gambhir, majaak, kar, rahe, ho...</td>\n",
              "      <td>[hi, rest, hi, hi, hi, hi, hi, hi, rest]</td>\n",
              "      <td>[]</td>\n",
              "      <td>[]</td>\n",
              "      <td>[irony]</td>\n",
              "      <td>[dekho, tum, gambhir, majaak, kar, rahe, ho]</td>\n",
              "      <td>dekho tum gambhir majaak kar rahe ho</td>\n",
              "      <td>0</td>\n",
              "    </tr>\n",
              "    <tr>\n",
              "      <th>1248</th>\n",
              "      <td>255551874432901120</td>\n",
              "      <td>Na afsos hai tujhe sahab na koi sharmindagi ha...</td>\n",
              "      <td>NO</td>\n",
              "      <td>[Na, afsos, hai, tujhe, sahab, na, koi, sharmi...</td>\n",
              "      <td>[hi, hi, hi, hi, hi, hi, hi, hi, hi, rest, hi,...</td>\n",
              "      <td>[]</td>\n",
              "      <td>[]</td>\n",
              "      <td>[sarcasm]</td>\n",
              "      <td>[na, afsos, hai, tujhe, sahab, na, koi, sharmi...</td>\n",
              "      <td>na afsos hai tujhe sahab na koi sharmindagi ha...</td>\n",
              "      <td>0</td>\n",
              "    </tr>\n",
              "    <tr>\n",
              "      <th>1249</th>\n",
              "      <td>256002351670898688</td>\n",
              "      <td>Khiladi anari, aur shaamat equipment ki aye! B...</td>\n",
              "      <td>NO</td>\n",
              "      <td>[Khiladi, anari, ,, aur, shaamat, equipment, k...</td>\n",
              "      <td>[hi, hi, rest, hi, hi, en, hi, hi, rest, hi, e...</td>\n",
              "      <td>[]</td>\n",
              "      <td>[]</td>\n",
              "      <td>[irony]</td>\n",
              "      <td>[khiladi, anari, aur, shaamat, equipment, ki, ...</td>\n",
              "      <td>khiladi anari aur shaamat equipment ki aye bec...</td>\n",
              "      <td>0</td>\n",
              "    </tr>\n",
              "  </tbody>\n",
              "</table>\n",
              "<p>1250 rows × 11 columns</p>\n",
              "</div>"
            ],
            "text/plain": [
              "                Tweet ID  ... Class Type\n",
              "0     880356789358743553  ...          1\n",
              "1     831880812161282049  ...          1\n",
              "2     566179778508902400  ...          1\n",
              "3     563032661380571137  ...          1\n",
              "4     566901052859904000  ...          1\n",
              "...                  ...  ...        ...\n",
              "1245  251212835047211008  ...          0\n",
              "1246  252336311313240064  ...          0\n",
              "1247  253847827204149248  ...          0\n",
              "1248  255551874432901120  ...          0\n",
              "1249  256002351670898688  ...          0\n",
              "\n",
              "[1250 rows x 11 columns]"
            ]
          },
          "metadata": {
            "tags": []
          },
          "execution_count": 59
        }
      ]
    },
    {
      "cell_type": "code",
      "metadata": {
        "id": "E1iObLQXucQi",
        "colab_type": "code",
        "colab": {
          "base_uri": "https://localhost:8080/",
          "height": 68
        },
        "outputId": "91405e3a-aed1-4003-c123-ae40eb4be553"
      },
      "source": [
        "tweet_class = df['Label'].tolist()\n",
        "print(len(tweet_class))\n",
        "print(tweet_class.count('NO'))\n",
        "print(tweet_class.count('YES'))"
      ],
      "execution_count": null,
      "outputs": [
        {
          "output_type": "stream",
          "text": [
            "1250\n",
            "746\n",
            "504\n"
          ],
          "name": "stdout"
        }
      ]
    },
    {
      "cell_type": "code",
      "metadata": {
        "id": "mkJKbgwMjAjL",
        "colab_type": "code",
        "colab": {
          "base_uri": "https://localhost:8080/",
          "height": 281
        },
        "outputId": "a02ab365-5bfb-4650-ac54-5cf88c62a5ae"
      },
      "source": [
        "# bar representation\n",
        "objects = ('Non Sarcastic', 'Sarcastic')\n",
        "y_pos = np.arange(len(objects))\n",
        "performance = [tweet_class.count('NO'), tweet_class.count('YES')]\n",
        "\n",
        "plt.bar(y_pos, performance, align='center', alpha=0.5)\n",
        "plt.xticks(y_pos, objects)\n",
        "plt.ylabel('Count')\n",
        "plt.title('Classes')\n",
        "\n",
        "plt.show()"
      ],
      "execution_count": null,
      "outputs": [
        {
          "output_type": "display_data",
          "data": {
            "image/png": "[encoded data removed]",
            "text/plain": [
              "<Figure size 432x288 with 1 Axes>"
            ]
          },
          "metadata": {
            "tags": [],
            "needs_background": "light"
          }
        }
      ]
    },
    {
      "cell_type": "code",
      "metadata": {
        "id": "oi83cOtkxXNM",
        "colab_type": "code",
        "colab": {}
      },
      "source": [
        "# feature vector\n",
        "# 1. char n-grams (1-3)\n",
        "# 2. word n-grams (1-2)\n",
        "# 3. punctuations (count of each punctuation mark)\n",
        "# 4. laugh words (\"lmao\", \"lol\", \"haha\", \"rofl\", \"lel\", \"hehehe\", \"lolol\")\n",
        "# 5. intensifiers (number of intensifiers in a tweet)\n",
        "# 6. negation words (number of negation words in a tweet)\n",
        "# 7. (i) number of characters present in the tweet (ii) number of words in the tweet \n",
        "# (iii) average word length in the tweet\n",
        "# 8. hashtags -> (split text added to preprocessed token list)\n",
        "# 9. emoticons (2 ways): (i) replace emoticons with respective keywords. (ii) build emoticon feature vector"
      ],
      "execution_count": null,
      "outputs": []
    },
    {
      "cell_type": "code",
      "metadata": {
        "id": "U_KFjqwDXC_i",
        "colab_type": "code",
        "colab": {
          "base_uri": "https://localhost:8080/",
          "height": 34
        },
        "outputId": "3f60933b-8327-449c-cb79-c0e551f18210"
      },
      "source": [
        "# emoticon feature vector. presence or absence of various emoticons in the tweet\n",
        "\n",
        "all_emoticons1 = \\\n",
        "\t[\t':-)', ':)', '(:', '(-:',\\\n",
        "\t\t':-D', ':D', 'X-D', 'XD', 'xD',\\\n",
        "\t\t'<3', ':\\*',\\\n",
        "\t\t';-)', ';)', ';-D', ';D', '(;', '(-;',\\\n",
        "\t\t':-(', ':(',\\\n",
        "\t\t':,(', ':\\'(', ':\"(', ':((',\\\n",
        "\t\t':-P', ':P', ':p', ':-p',\\\n",
        "\t]\n",
        "\n",
        "def add_emoticon_features():\n",
        "    emoticon_feature_vector = []\n",
        "    for i in range(len(all_emoticons1)):\n",
        "        temp_vector = []\n",
        "        for emoticons in df['Emoticons']:\n",
        "            if all_emoticons1[i] in emoticons:\n",
        "                temp_vector.append(1)\n",
        "            else:\n",
        "                temp_vector.append(0)\n",
        "\n",
        "        emoticon_feature_vector.append(temp_vector)\n",
        "    \n",
        "    return emoticon_feature_vector\n",
        "\n",
        "emoticon_feature_vector = add_emoticon_features()\n",
        "emoticon_feature_vector = np.array(np.transpose(emoticon_feature_vector))\n",
        "emoticon_feature_vector.shape"
      ],
      "execution_count": null,
      "outputs": [
        {
          "output_type": "execute_result",
          "data": {
            "text/plain": [
              "(1250, 27)"
            ]
          },
          "metadata": {
            "tags": []
          },
          "execution_count": 62
        }
      ]
    },
    {
      "cell_type": "code",
      "metadata": {
        "id": "5VYPJm7cOSUn",
        "colab_type": "code",
        "colab": {
          "base_uri": "https://localhost:8080/",
          "height": 88
        },
        "outputId": "2ea0cb05-0238-48b1-8fe8-04152ee6d5ab"
      },
      "source": [
        "from sklearn.feature_extraction.text import TfidfVectorizer\n",
        "\n",
        "all_tokens = df['Preprocessed Tokens']\n",
        "all_tweets = df['Preprocessed Tweets']\n",
        "\n",
        "# char n grams \n",
        "char_vectorizer = TfidfVectorizer(\n",
        "    sublinear_tf=True,\n",
        "    strip_accents='unicode',\n",
        "    analyzer='char',\n",
        "    stop_words='english',\n",
        "    ngram_range=(1,3),\n",
        "    max_features=500)\n",
        "char_vectorizer.fit(all_tweets)\n",
        "char_features = char_vectorizer.transform(all_tweets)\n",
        "\n",
        "# word n grams \n",
        "word_vectorizer = TfidfVectorizer(\n",
        "    sublinear_tf=True,\n",
        "    strip_accents='unicode',\n",
        "    analyzer='word',\n",
        "    token_pattern=r'\\w{1,}',\n",
        "    stop_words='english',\n",
        "    ngram_range=(1, 3),\n",
        "    max_features=500)\n",
        "word_vectorizer.fit(all_tweets)\n",
        "word_features = word_vectorizer.transform(all_tweets)\n",
        "\n",
        "char_features = char_features.todense()\n",
        "word_features = word_features.todense()\n",
        "\n",
        "print(char_features.shape, word_features.shape)"
      ],
      "execution_count": null,
      "outputs": [
        {
          "output_type": "stream",
          "text": [
            "/usr/local/lib/python3.6/dist-packages/sklearn/feature_extraction/text.py:520: UserWarning: The parameter 'stop_words' will not be used since 'analyzer' != 'word'\n",
            "  warnings.warn(\"The parameter 'stop_words' will not be used\"\n"
          ],
          "name": "stderr"
        },
        {
          "output_type": "stream",
          "text": [
            "(1250, 500) (1250, 500)\n"
          ],
          "name": "stdout"
        }
      ]
    },
    {
      "cell_type": "code",
      "metadata": {
        "id": "JRE5kNDNAOAE",
        "colab_type": "code",
        "colab": {}
      },
      "source": [
        "n_for_char = 3\n",
        "n_for_word = 2\n",
        "\n",
        "# get character n-grams (n=1-3) for a tweet\n",
        "def get_char_n_grams(tweet):\n",
        "    char_n_grams = []\n",
        "    for i in range(1, n_for_char + 1):\n",
        "        char_i_grams = [tweet[j:j+i] for j in range(len(tweet) - (i-1))]\n",
        "        char_n_grams.extend(char_i_grams)\n",
        "    return char_n_grams\n",
        "\n",
        "# get word n-grams (n=1-2) for a tweet\n",
        "def get_word_n_grams(tokens):\n",
        "    word_n_grams = []\n",
        "    for i in range(1, n_for_word + 1):\n",
        "        word_i_grams = [\" \".join(tokens[j:j+i]) for j in range(len(tokens) - (i-1))]\n",
        "        word_n_grams.extend(word_i_grams)\n",
        "    return word_n_grams"
      ],
      "execution_count": null,
      "outputs": []
    },
    {
      "cell_type": "code",
      "metadata": {
        "id": "q28Sgal72Iht",
        "colab_type": "code",
        "colab": {
          "base_uri": "https://localhost:8080/",
          "height": 51
        },
        "outputId": "60400b0f-d88f-4952-8933-c4354d710d6f"
      },
      "source": [
        "# all character n-grams for values of n ranging from 1 to 3. consider only those n-grams which occur at least 10\n",
        "# times in the dataset\n",
        "char_n_grams_index = {}\n",
        "word_n_grams_index = {}\n",
        "\n",
        "def get_all_char_n_grams(all_tweets):\n",
        "    char_n_grams = []\n",
        "    n_grams_count = {}\n",
        "    for tweet in all_tweets:\n",
        "        char_i_grams = get_char_n_grams(tweet)\n",
        "        for i_gram in char_i_grams:\n",
        "            if i_gram in n_grams_count:\n",
        "                n_grams_count[i_gram] += 1\n",
        "            else:\n",
        "                n_grams_count[i_gram] = 1\n",
        "    \n",
        "    for i_gram, count in n_grams_count.items():\n",
        "        if count >= 10:\n",
        "            char_n_grams.append(i_gram)\n",
        "    \n",
        "    return char_n_grams\n",
        "\n",
        "# all word n-grams for values of n ranging from 1 to 2. consider only those n-grams which occur at least 10\n",
        "# times in the dataset\n",
        "def get_all_word_n_grams(all_tokens):\n",
        "    word_n_grams = []\n",
        "    n_grams_count = {}\n",
        "    for tokens in all_tokens:\n",
        "        word_i_grams = get_word_n_grams(tokens)\n",
        "        for i_gram in word_i_grams:\n",
        "            if i_gram in n_grams_count:\n",
        "                n_grams_count[i_gram] += 1\n",
        "            else:\n",
        "                n_grams_count[i_gram] = 1\n",
        "\n",
        "        for i_gram, count in n_grams_count.items():\n",
        "            if count >= 10:\n",
        "                word_n_grams.append(i_gram)\n",
        "\n",
        "    return word_n_grams\n",
        "\n",
        "all_char_n_grams = list(set(get_all_char_n_grams(all_tweets)))\n",
        "all_word_n_grams = list(set(get_all_word_n_grams(all_tokens)))\n",
        "print(len(all_char_n_grams))\n",
        "print(len(all_word_n_grams))"
      ],
      "execution_count": null,
      "outputs": [
        {
          "output_type": "stream",
          "text": [
            "2124\n",
            "354\n"
          ],
          "name": "stdout"
        }
      ]
    },
    {
      "cell_type": "code",
      "metadata": {
        "id": "54da6as1kD19",
        "colab_type": "code",
        "colab": {
          "base_uri": "https://localhost:8080/",
          "height": 34
        },
        "outputId": "67a564fa-cd92-4910-ba93-b49b407612d7"
      },
      "source": [
        "# char n gram feature vector\n",
        "def add_char_n_gram_features():\n",
        "    char_feature_vector = []\n",
        "    for char_i_gram in all_char_n_grams:\n",
        "        temp_vector = []\n",
        "        for tweet in all_tweets:\n",
        "            char_n_grams = get_char_n_grams(tweet)\n",
        "            if char_i_gram in char_n_grams:\n",
        "                temp_vector.append(1)\n",
        "            else:\n",
        "                temp_vector.append(0)\n",
        "\n",
        "        char_feature_vector.append(temp_vector)\n",
        "    \n",
        "    return char_feature_vector\n",
        "\n",
        "char_feature_vector = add_char_n_gram_features()\n",
        "char_feature_vector = np.array(np.transpose(char_feature_vector))\n",
        "print(char_feature_vector.shape)"
      ],
      "execution_count": null,
      "outputs": [
        {
          "output_type": "stream",
          "text": [
            "(1250, 2124)\n"
          ],
          "name": "stdout"
        }
      ]
    },
    {
      "cell_type": "code",
      "metadata": {
        "id": "1ZQgscDVnbkj",
        "colab_type": "code",
        "colab": {
          "base_uri": "https://localhost:8080/",
          "height": 34
        },
        "outputId": "38cf3577-4d94-46ef-d6f4-b60d4bb72054"
      },
      "source": [
        "# word n gram feature vector\n",
        "def add_word_n_gram_features():\n",
        "    word_feature_vector = []\n",
        "    for word_i_gram in all_word_n_grams:\n",
        "        temp_vector = []\n",
        "        for tokens in all_tokens:\n",
        "            word_n_grams = get_word_n_grams(tokens)\n",
        "            if word_i_gram in word_n_grams:\n",
        "                temp_vector.append(1)\n",
        "            else:\n",
        "                temp_vector.append(0)\n",
        "        \n",
        "        word_feature_vector.append(temp_vector)\n",
        "      \n",
        "    return word_feature_vector\n",
        "\n",
        "word_feature_vector = add_word_n_gram_features()\n",
        "word_feature_vector = np.array(np.transpose(word_feature_vector))\n",
        "print(word_feature_vector.shape)"
      ],
      "execution_count": null,
      "outputs": [
        {
          "output_type": "stream",
          "text": [
            "(1250, 354)\n"
          ],
          "name": "stdout"
        }
      ]
    },
    {
      "cell_type": "code",
      "metadata": {
        "id": "HsiXUIDkxJtd",
        "colab_type": "code",
        "colab": {
          "base_uri": "https://localhost:8080/",
          "height": 34
        },
        "outputId": "d84d88d4-02e4-446f-e424-6989cd2ed628"
      },
      "source": [
        "feat_df = pd.DataFrame(data=np.concatenate((char_feature_vector, word_feature_vector), axis=1))\n",
        "feat_df.shape"
      ],
      "execution_count": null,
      "outputs": [
        {
          "output_type": "execute_result",
          "data": {
            "text/plain": [
              "(1250, 2478)"
            ]
          },
          "metadata": {
            "tags": []
          },
          "execution_count": 68
        }
      ]
    },
    {
      "cell_type": "code",
      "metadata": {
        "id": "-tHHCi3fxdeH",
        "colab_type": "code",
        "colab": {}
      },
      "source": [
        "feat_df.to_csv('/content/drive/My Drive/Data Files/code-mixed analysis data/features.csv', sep=',')"
      ],
      "execution_count": null,
      "outputs": []
    },
    {
      "cell_type": "code",
      "metadata": {
        "id": "_kZm-ucFf6wx",
        "colab_type": "code",
        "colab": {
          "base_uri": "https://localhost:8080/",
          "height": 34
        },
        "outputId": "ea8d0f42-dc1a-4ff6-f853-fa3a88c434e2"
      },
      "source": [
        "feat_df = pd.read_csv('/content/drive/My Drive/Data Files/code-mixed analysis data/features.csv')\n",
        "feat_df.shape"
      ],
      "execution_count": null,
      "outputs": [
        {
          "output_type": "execute_result",
          "data": {
            "text/plain": [
              "(1250, 2479)"
            ]
          },
          "metadata": {
            "tags": []
          },
          "execution_count": 70
        }
      ]
    },
    {
      "cell_type": "code",
      "metadata": {
        "id": "2k88ckPeEyEu",
        "colab_type": "code",
        "colab": {}
      },
      "source": [
        "# count occurences of \"lol\", \"lmao\", \"hahaha\", \"hehehe\"\n",
        "laugh_words = [\"lol\", \"lolol\", \"lololol\", \"loll\", \"lolll\", \"lollll\", \"looll\", \"loolll\",\n",
        "               \"lmao\", \"lmaoo\", \"lmaooo\", \"lmaoooo\", \"haha\", \"hahah\", \"hahaha\", \n",
        "               \"hahahah\", \"hahahaha\", \"bahaha\", \"bahahah\", \"bahahaha\", \"bwahahaha\", \n",
        "               \"hehe\", \"heheh\", \"hehehe\", \"heheheh\", \"hehehehe\"]\n",
        "\n",
        "def get_laugh_words_count(tokens):\n",
        "    count = 0\n",
        "    for token in tokens:\n",
        "        if token in laugh_words:\n",
        "            count = count + 1\n",
        "    \n",
        "    return count\n",
        "\n",
        "laugh_words_count = df['Preprocessed Tokens'].apply(lambda x: get_laugh_words_count(x))"
      ],
      "execution_count": null,
      "outputs": []
    },
    {
      "cell_type": "code",
      "metadata": {
        "id": "GyYCOkmhIIg8",
        "colab_type": "code",
        "colab": {}
      },
      "source": [
        "# count occurrences of intensifiers\n",
        "intensifiers = [\"amazingly\", \"astoundingly\", \"awful\", \"bare\", \"bloddy\", \"crazy\", \"dead\", \n",
        "                \"colossally\", \"especially\", \"excptionally\", \"excessively\", \"extremely\", \"extraodinarily\",\n",
        "                \"fantastically\", \"frightfully\", \"fucking\", \"fully\", \"hella\", \"incredibly\", \"insanely\",\n",
        "                \"literally\", \"mad\", \"mightly\", \"most\", \"outrageously\", \"phenomenally\", \"precious\", \"quite\", \n",
        "                \"radically\", \"rather\", \"real\", \"really\", \"remarkably\", \"ridicously\", \"right\", \"sick\", \"so\",\n",
        "                \"somewhat\", \"strikingly\", \"super\", \"supremely\", \"surpassingly\", \"terribly\", \"terrifically\",\n",
        "                \"too\", \"totally\", \"veritable\", \"very\", \"wicked\"]\n",
        "\n",
        "# partial matching to be done\n",
        "# wordnet synonyms\n",
        "\n",
        "def get_intensifiers_count(tokens):\n",
        "    count = 0\n",
        "    for token in tokens:\n",
        "        if token in intensifiers:\n",
        "            count = count + 1\n",
        "    return count\n",
        "\n",
        "# def get_intensifiers_count(tokens):\n",
        "#     count = 0\n",
        "#     for token in tokens:\n",
        "#       highest = process.extractOne(token, intensifiers)\n",
        "#         if highest[1] > 90:\n",
        "#             count = count + 1\n",
        "#     return count   \n",
        "\n",
        "intensifiers_count = df['Preprocessed Tokens'].apply(lambda x: get_intensifiers_count(x))"
      ],
      "execution_count": null,
      "outputs": []
    },
    {
      "cell_type": "code",
      "metadata": {
        "id": "qMseItkQmBYJ",
        "colab_type": "code",
        "colab": {}
      },
      "source": [
        "# count occurrences of negations\n",
        "negations = [\"never\", \"no\", \"nothing\", \"nowhere\", \"noone\", \"none\", \"not\", \"havent\",\"have not\", \"hasnt\",\"has not\",\n",
        "             \"hadnt\",\"had not\", \"cant\",\"cannot\",\"couldnt\", \"could not\",\"shant\",\"shall not\", \"shouldnt\",\"should not\", \n",
        "             \"wont\",\"will not\",\"wouldnt\",\"would not\", \"dont\",\"do not\",\"doesnt\",\"does not\", \"didnt\",\"did not\", \"isnt\",\"is not\", \n",
        "             \"arent\",\"are not\", \"aint\", \"am not\", \"may not\", \"might not\", \"wasnt\",\"was not\",\"werent\", \"were not\"]\n",
        "\n",
        "#contracted forms\n",
        "def get_negations_count(tokens):\n",
        "    count = 0\n",
        "    for token in tokens:\n",
        "        if token in negations:\n",
        "            count = count + 1\n",
        "    \n",
        "    return count\n",
        "\n",
        "negations_count = df['Preprocessed Tokens'].apply(lambda x: get_negations_count(x))"
      ],
      "execution_count": null,
      "outputs": []
    },
    {
      "cell_type": "code",
      "metadata": {
        "id": "q42VyFxR2q5O",
        "colab_type": "code",
        "colab": {}
      },
      "source": [
        "# number of characters present in the tweet\n",
        "def get_char_count(tokens):\n",
        "    tweet = \" \".join(tokens)\n",
        "    return len(tweet)\n",
        "\n",
        "# number of words in a tweet\n",
        "def get_word_count(tokens):\n",
        "    return len(tokens)\n",
        "\n",
        "# punctuation count\n",
        "def get_punct_count(tokens):\n",
        "    tweet = \"\"\n",
        "    for i in range(len(tokens)):\n",
        "        if tokens[i][0] == '#' or tokens[i][0] == '@' or 'pic.twitter.com' in tokens[i] or tokens[i] in df['Emoticons'][i]:\n",
        "            continue\n",
        "        tweet = tweet + \" \" + tokens[i]\n",
        "        \n",
        "    tweet = tweet.strip()\n",
        "    return len(\"\".join(_ for _ in tweet if _ in string.punctuation))\n",
        "\n",
        "\n",
        "char_count = df['Preprocessed Tokens'].apply(lambda x: get_char_count(x))\n",
        "word_count = df['Preprocessed Tokens'].apply(lambda x: get_word_count(x))\n",
        "word_density = char_count/word_count\n",
        "punct_count = df['Tokens'].apply(lambda x: get_punct_count(x))"
      ],
      "execution_count": null,
      "outputs": []
    },
    {
      "cell_type": "code",
      "metadata": {
        "id": "0jzlvreCBJz9",
        "colab_type": "code",
        "colab": {}
      },
      "source": [
        "features1 = np.concatenate((char_feature_vector, word_feature_vector), axis=1)\n",
        "features2 = np.vstack((laugh_words_count, intensifiers_count, negations_count, char_count, word_count, \n",
        "             word_density, punct_count))"
      ],
      "execution_count": null,
      "outputs": []
    },
    {
      "cell_type": "code",
      "metadata": {
        "id": "jWOdNfbFhVCh",
        "colab_type": "code",
        "colab": {}
      },
      "source": [
        "# feature selection\n",
        "from sklearn.feature_selection import SelectKBest, chi2, SelectFromModel, f_classif\n",
        "\n",
        "def feature_selection(features, y):\n",
        "    model = SelectKBest(score_func=chi2, k=500)\n",
        "    fit = model.fit(features, y)\n",
        "    new_features = fit.transform(features)\n",
        "    return features.tolist()\n",
        "\n",
        "new_features = feature_selection(features, df['Tweet Class'])"
      ],
      "execution_count": null,
      "outputs": []
    },
    {
      "cell_type": "markdown",
      "metadata": {
        "id": "nAXtoZNdd_cA",
        "colab_type": "text"
      },
      "source": [
        "\n",
        "\n",
        "> **ML** **MODELS**\n",
        "\n"
      ]
    },
    {
      "cell_type": "code",
      "metadata": {
        "id": "QVQLOp6YWTrS",
        "colab_type": "code",
        "colab": {}
      },
      "source": [
        "X = features1\n",
        "y = df['Class Type']\n",
        "X_train, X_test, y_train, y_test = train_test_split(X, y, test_size=0.15,random_state=1)"
      ],
      "execution_count": null,
      "outputs": []
    },
    {
      "cell_type": "code",
      "metadata": {
        "id": "ve6q0cI0a6VA",
        "colab_type": "code",
        "colab": {
          "base_uri": "https://localhost:8080/",
          "height": 51
        },
        "outputId": "891ac246-c609-45e9-9632-fb72406f1cc3"
      },
      "source": [
        "# svc\n",
        "from sklearn.svm import SVC\n",
        "\n",
        "svm = SVC(kernel='linear', probability=True)\n",
        "svm.fit(X_train, y_train)\n",
        "y_pred = svm.predict(X_test)\n",
        "svm_probs = svm.predict_proba(X_test)[:, 1]\n",
        "print(accuracy_score(y_test,y_pred))\n",
        "print(len(y_pred))"
      ],
      "execution_count": null,
      "outputs": [
        {
          "output_type": "stream",
          "text": [
            "0.9361702127659575\n",
            "188\n"
          ],
          "name": "stdout"
        }
      ]
    },
    {
      "cell_type": "code",
      "metadata": {
        "id": "glfO1wkZa_mh",
        "colab_type": "code",
        "colab": {
          "base_uri": "https://localhost:8080/",
          "height": 204
        },
        "outputId": "5f36de31-0f19-4b72-f981-7cda57175948"
      },
      "source": [
        "print(confusion_matrix(y_test,y_pred))\n",
        "print(classification_report(y_test,y_pred, digits=4))"
      ],
      "execution_count": null,
      "outputs": [
        {
          "output_type": "stream",
          "text": [
            "[[102   6]\n",
            " [  6  74]]\n",
            "              precision    recall  f1-score   support\n",
            "\n",
            "           0     0.9444    0.9444    0.9444       108\n",
            "           1     0.9250    0.9250    0.9250        80\n",
            "\n",
            "    accuracy                         0.9362       188\n",
            "   macro avg     0.9347    0.9347    0.9347       188\n",
            "weighted avg     0.9362    0.9362    0.9362       188\n",
            "\n"
          ],
          "name": "stdout"
        }
      ]
    },
    {
      "cell_type": "code",
      "metadata": {
        "id": "w4d43sJWbC6y",
        "colab_type": "code",
        "colab": {
          "base_uri": "https://localhost:8080/",
          "height": 34
        },
        "outputId": "7759a551-31dc-42de-ab09-d7f063544aff"
      },
      "source": [
        "# naive bayes\n",
        "from sklearn.naive_bayes import GaussianNB\n",
        "\n",
        "gnb = GaussianNB()\n",
        "gnb.fit(X_train, y_train)\n",
        "y_pred = gnb.predict(X_test)\n",
        "gnb_probs = gnb.predict_proba(X_test)[:, 1]\n",
        "print(accuracy_score(y_test,y_pred))"
      ],
      "execution_count": null,
      "outputs": [
        {
          "output_type": "stream",
          "text": [
            "0.8617021276595744\n"
          ],
          "name": "stdout"
        }
      ]
    },
    {
      "cell_type": "code",
      "metadata": {
        "id": "x5Bgw7j1bG6O",
        "colab_type": "code",
        "colab": {
          "base_uri": "https://localhost:8080/",
          "height": 204
        },
        "outputId": "426dde01-0cbd-4006-8748-186d48ebcdd5"
      },
      "source": [
        "print(confusion_matrix(y_test,y_pred))\n",
        "print(classification_report(y_test,y_pred, digits=4))"
      ],
      "execution_count": null,
      "outputs": [
        {
          "output_type": "stream",
          "text": [
            "[[101   7]\n",
            " [ 19  61]]\n",
            "              precision    recall  f1-score   support\n",
            "\n",
            "           0     0.8417    0.9352    0.8860       108\n",
            "           1     0.8971    0.7625    0.8243        80\n",
            "\n",
            "    accuracy                         0.8617       188\n",
            "   macro avg     0.8694    0.8488    0.8551       188\n",
            "weighted avg     0.8652    0.8617    0.8597       188\n",
            "\n"
          ],
          "name": "stdout"
        }
      ]
    },
    {
      "cell_type": "code",
      "metadata": {
        "id": "-GfXmOO0bLg_",
        "colab_type": "code",
        "colab": {
          "base_uri": "https://localhost:8080/",
          "height": 34
        },
        "outputId": "4af03944-7207-42d9-d23a-59f6eaf66f53"
      },
      "source": [
        "# random forest\n",
        "from sklearn.ensemble import RandomForestClassifier\n",
        "\n",
        "rf = RandomForestClassifier(n_estimators=100, bootstrap = True, max_features = 'sqrt')\n",
        "rf.fit(X_train, y_train)\n",
        "y_pred = rf.predict(X_test)\n",
        "# Probabilities for each class\n",
        "rf_probs = rf.predict_proba(X_test)[:, 1]\n",
        "print(accuracy_score(y_test,y_pred))"
      ],
      "execution_count": null,
      "outputs": [
        {
          "output_type": "stream",
          "text": [
            "0.9680851063829787\n"
          ],
          "name": "stdout"
        }
      ]
    },
    {
      "cell_type": "code",
      "metadata": {
        "id": "d-3UtTn5bMRo",
        "colab_type": "code",
        "colab": {
          "base_uri": "https://localhost:8080/",
          "height": 204
        },
        "outputId": "ea644b81-c634-4899-f23c-3c442e72afff"
      },
      "source": [
        "print(confusion_matrix(y_test,y_pred))\n",
        "print(classification_report(y_test,y_pred))"
      ],
      "execution_count": null,
      "outputs": [
        {
          "output_type": "stream",
          "text": [
            "[[103   5]\n",
            " [  1  79]]\n",
            "              precision    recall  f1-score   support\n",
            "\n",
            "           0       0.99      0.95      0.97       108\n",
            "           1       0.94      0.99      0.96        80\n",
            "\n",
            "    accuracy                           0.97       188\n",
            "   macro avg       0.97      0.97      0.97       188\n",
            "weighted avg       0.97      0.97      0.97       188\n",
            "\n"
          ],
          "name": "stdout"
        }
      ]
    },
    {
      "cell_type": "code",
      "metadata": {
        "id": "GHPk6a_FbPAG",
        "colab_type": "code",
        "colab": {
          "base_uri": "https://localhost:8080/",
          "height": 34
        },
        "outputId": "b9fad789-de1c-419d-b5de-f305d64929b2"
      },
      "source": [
        "# knn\n",
        "from sklearn.neighbors import KNeighborsClassifier\n",
        "\n",
        "knn = KNeighborsClassifier()\n",
        "knn.fit(X_train, y_train)\n",
        "y_pred = knn.predict(X_test)\n",
        "print(accuracy_score(y_test,y_pred))"
      ],
      "execution_count": null,
      "outputs": [
        {
          "output_type": "stream",
          "text": [
            "0.925531914893617\n"
          ],
          "name": "stdout"
        }
      ]
    },
    {
      "cell_type": "code",
      "metadata": {
        "id": "dnPHjpsVbUEw",
        "colab_type": "code",
        "colab": {
          "base_uri": "https://localhost:8080/",
          "height": 204
        },
        "outputId": "0ee43b34-52a6-46c3-ae65-71deed63fce2"
      },
      "source": [
        "print(confusion_matrix(y_test,y_pred))\n",
        "print(classification_report(y_test,y_pred))"
      ],
      "execution_count": null,
      "outputs": [
        {
          "output_type": "stream",
          "text": [
            "[[103   5]\n",
            " [  9  71]]\n",
            "              precision    recall  f1-score   support\n",
            "\n",
            "           0       0.92      0.95      0.94       108\n",
            "           1       0.93      0.89      0.91        80\n",
            "\n",
            "    accuracy                           0.93       188\n",
            "   macro avg       0.93      0.92      0.92       188\n",
            "weighted avg       0.93      0.93      0.93       188\n",
            "\n"
          ],
          "name": "stdout"
        }
      ]
    },
    {
      "cell_type": "code",
      "metadata": {
        "id": "mgFS70EVbXqm",
        "colab_type": "code",
        "colab": {
          "base_uri": "https://localhost:8080/",
          "height": 34
        },
        "outputId": "44032176-31cd-4739-b8df-d99703e54c0f"
      },
      "source": [
        "# multinomial NB\n",
        "from sklearn.naive_bayes import MultinomialNB\n",
        "\n",
        "mnb = MultinomialNB()\n",
        "mnb.fit(X_train, y_train)\n",
        "y_pred = mnb.predict(X_test)\n",
        "mnb_probs = mnb.predict_proba(X_test)[:, 1]\n",
        "print(accuracy_score(y_test,y_pred))"
      ],
      "execution_count": null,
      "outputs": [
        {
          "output_type": "stream",
          "text": [
            "0.9574468085106383\n"
          ],
          "name": "stdout"
        }
      ]
    },
    {
      "cell_type": "code",
      "metadata": {
        "id": "DXN0FROxbYR5",
        "colab_type": "code",
        "colab": {
          "base_uri": "https://localhost:8080/",
          "height": 204
        },
        "outputId": "28249729-0237-42ff-f1ba-452580ae24b5"
      },
      "source": [
        "print(confusion_matrix(y_test,y_pred))\n",
        "print(classification_report(y_test,y_pred))"
      ],
      "execution_count": null,
      "outputs": [
        {
          "output_type": "stream",
          "text": [
            "[[103   5]\n",
            " [  3  77]]\n",
            "              precision    recall  f1-score   support\n",
            "\n",
            "           0       0.97      0.95      0.96       108\n",
            "           1       0.94      0.96      0.95        80\n",
            "\n",
            "    accuracy                           0.96       188\n",
            "   macro avg       0.96      0.96      0.96       188\n",
            "weighted avg       0.96      0.96      0.96       188\n",
            "\n"
          ],
          "name": "stdout"
        }
      ]
    },
    {
      "cell_type": "code",
      "metadata": {
        "id": "Bw96qKIKbfRK",
        "colab_type": "code",
        "colab": {
          "base_uri": "https://localhost:8080/",
          "height": 34
        },
        "outputId": "55e1574b-7e42-4603-887b-5600e9b47584"
      },
      "source": [
        "# logistic regression\n",
        "from sklearn.linear_model import LogisticRegression\n",
        "\n",
        "logreg = LogisticRegression()\n",
        "logreg.fit(X_train, y_train)\n",
        "y_pred = logreg.predict(X_test)\n",
        "logreg_probs = logreg.predict_proba(X_test)[:, 1]\n",
        "print(accuracy_score(y_test,y_pred))"
      ],
      "execution_count": null,
      "outputs": [
        {
          "output_type": "stream",
          "text": [
            "0.9574468085106383\n"
          ],
          "name": "stdout"
        }
      ]
    },
    {
      "cell_type": "code",
      "metadata": {
        "id": "0a--uPcQbhZJ",
        "colab_type": "code",
        "colab": {
          "base_uri": "https://localhost:8080/",
          "height": 204
        },
        "outputId": "ce80c081-c6bf-4d8d-9077-703aa253839d"
      },
      "source": [
        "print(confusion_matrix(y_test,y_pred))\n",
        "print(classification_report(y_test,y_pred, digits=4))"
      ],
      "execution_count": null,
      "outputs": [
        {
          "output_type": "stream",
          "text": [
            "[[103   5]\n",
            " [  3  77]]\n",
            "              precision    recall  f1-score   support\n",
            "\n",
            "           0     0.9717    0.9537    0.9626       108\n",
            "           1     0.9390    0.9625    0.9506        80\n",
            "\n",
            "    accuracy                         0.9574       188\n",
            "   macro avg     0.9554    0.9581    0.9566       188\n",
            "weighted avg     0.9578    0.9574    0.9575       188\n",
            "\n"
          ],
          "name": "stdout"
        }
      ]
    },
    {
      "cell_type": "code",
      "metadata": {
        "id": "6oqDRK_2iqL7",
        "colab_type": "code",
        "colab": {
          "base_uri": "https://localhost:8080/",
          "height": 34
        },
        "outputId": "81dba328-a954-40ac-e918-a425c71a524e"
      },
      "source": [
        "# xgboost\n",
        "from xgboost import XGBClassifier\n",
        "\n",
        "xg = XGBClassifier()\n",
        "xg.fit(X_train, y_train)\n",
        "y_pred = xg.predict(X_test)\n",
        "xg_probs = xg.predict_proba(X_test)[:, 1]\n",
        "print(accuracy_score(y_test,y_pred))"
      ],
      "execution_count": null,
      "outputs": [
        {
          "output_type": "stream",
          "text": [
            "0.9574468085106383\n"
          ],
          "name": "stdout"
        }
      ]
    },
    {
      "cell_type": "code",
      "metadata": {
        "id": "aakayuAodb1N",
        "colab_type": "code",
        "colab": {
          "base_uri": "https://localhost:8080/",
          "height": 204
        },
        "outputId": "32a0bb1d-c167-4c9b-ad27-9a5dd4b1de38"
      },
      "source": [
        "print(confusion_matrix(y_test,y_pred))\n",
        "print(classification_report(y_test,y_pred, digits=4))"
      ],
      "execution_count": null,
      "outputs": [
        {
          "output_type": "stream",
          "text": [
            "[[103   5]\n",
            " [  3  77]]\n",
            "              precision    recall  f1-score   support\n",
            "\n",
            "           0     0.9717    0.9537    0.9626       108\n",
            "           1     0.9390    0.9625    0.9506        80\n",
            "\n",
            "    accuracy                         0.9574       188\n",
            "   macro avg     0.9554    0.9581    0.9566       188\n",
            "weighted avg     0.9578    0.9574    0.9575       188\n",
            "\n"
          ],
          "name": "stdout"
        }
      ]
    },
    {
      "cell_type": "code",
      "metadata": {
        "id": "CNGqRhhMdcik",
        "colab_type": "code",
        "colab": {
          "base_uri": "https://localhost:8080/",
          "height": 34
        },
        "outputId": "39409e31-f357-4266-fb2a-2d7fcb911aab"
      },
      "source": [
        "# adaboost\n",
        "from sklearn.ensemble import AdaBoostClassifier\n",
        "from sklearn.tree import DecisionTreeClassifier\n",
        "\n",
        "ada = AdaBoostClassifier(\n",
        "    DecisionTreeClassifier(max_depth=1),\n",
        "    n_estimators=200\n",
        ")\n",
        "ada.fit(X_train, y_train)\n",
        "y_pred = ada.predict(X_test)\n",
        "ada_probs = ada.predict_proba(X_test)[:, 1]\n",
        "print(accuracy_score(y_test,y_pred))"
      ],
      "execution_count": null,
      "outputs": [
        {
          "output_type": "stream",
          "text": [
            "0.9468085106382979\n"
          ],
          "name": "stdout"
        }
      ]
    },
    {
      "cell_type": "code",
      "metadata": {
        "id": "Xo8stwFgd-L5",
        "colab_type": "code",
        "colab": {
          "base_uri": "https://localhost:8080/",
          "height": 204
        },
        "outputId": "073d0c0f-f4f2-45a0-80e2-77d8febbca76"
      },
      "source": [
        "print(confusion_matrix(y_test,y_pred))\n",
        "print(classification_report(y_test,y_pred, digits=4))"
      ],
      "execution_count": null,
      "outputs": [
        {
          "output_type": "stream",
          "text": [
            "[[102   6]\n",
            " [  4  76]]\n",
            "              precision    recall  f1-score   support\n",
            "\n",
            "           0     0.9623    0.9444    0.9533       108\n",
            "           1     0.9268    0.9500    0.9383        80\n",
            "\n",
            "    accuracy                         0.9468       188\n",
            "   macro avg     0.9445    0.9472    0.9458       188\n",
            "weighted avg     0.9472    0.9468    0.9469       188\n",
            "\n"
          ],
          "name": "stdout"
        }
      ]
    },
    {
      "cell_type": "markdown",
      "metadata": {
        "id": "gIghfVEeeYtI",
        "colab_type": "text"
      },
      "source": [
        "\n",
        "\n",
        "> **DL MODELS**\n",
        "\n"
      ]
    },
    {
      "cell_type": "code",
      "metadata": {
        "id": "BNY1ntv_g_ml",
        "colab_type": "code",
        "colab": {}
      },
      "source": [
        "from tensorflow.python.keras.preprocessing.text import one_hot\n",
        "from tensorflow.python.keras.preprocessing.sequence import pad_sequences\n",
        "from tensorflow.python.keras.models import Sequential\n",
        "from tensorflow.python.keras.layers.core import Activation, Dropout, Dense\n",
        "from tensorflow.python.keras.layers import Flatten, GlobalMaxPooling1D, Bidirectional\n",
        "from tensorflow.python.keras.layers.recurrent import LSTM\n",
        "from tensorflow.python.keras.layers.embeddings import Embedding\n",
        "from tensorflow.python.keras.preprocessing.text import Tokenizer\n",
        "from tensorflow.python.keras.callbacks import EarlyStopping\n",
        "\n",
        "from tensorflow.python.keras.layers import Input, CuDNNLSTM, CuDNNGRU, Conv1D\n",
        "from tensorflow.python.keras.layers import GlobalMaxPool1D, GlobalAveragePooling1D\n",
        "from tensorflow.python.keras.layers import Input, Conv2D, MaxPool2D, concatenate\n",
        "from tensorflow.python.keras.layers import Reshape, Concatenate, SpatialDropout1D\n",
        "from tensorflow.python.keras.optimizers import Adam\n",
        "from tensorflow.python.keras.models import Model\n",
        "from tensorflow.python.keras.layers import Layer, InputSpec\n",
        "from tensorflow.python.keras import initializers, regularizers, constraints, optimizers, layers\n",
        "\n",
        "from tensorflow.python.keras.layers import *\n",
        "from tensorflow.python.keras.models import *\n",
        "from tensorflow.python.keras.initializers import *\n",
        "from tensorflow.python.keras.optimizers import *\n",
        "import tensorflow.python.keras.backend as K\n",
        "from tensorflow.python.keras.callbacks import *\n",
        "import tensorflow as tf\n",
        "\n",
        "from data_helpers import BPE"
      ],
      "execution_count": null,
      "outputs": []
    },
    {
      "cell_type": "code",
      "metadata": {
        "id": "7fwguo8sLhEm",
        "colab_type": "code",
        "colab": {
          "base_uri": "https://localhost:8080/",
          "height": 187
        },
        "outputId": "56fbfe5b-9c3a-49ed-a70e-613a94e6b9f5"
      },
      "source": [
        "pip install git+git://github.com/qevo/py_data_helper.git"
      ],
      "execution_count": null,
      "outputs": [
        {
          "output_type": "stream",
          "text": [
            "Collecting git+git://github.com/qevo/py_data_helper.git\n",
            "  Cloning git://github.com/qevo/py_data_helper.git to /tmp/pip-req-build-aljph9i6\n",
            "  Running command git clone -q git://github.com/qevo/py_data_helper.git /tmp/pip-req-build-aljph9i6\n",
            "Building wheels for collected packages: data-helper\n",
            "  Building wheel for data-helper (setup.py) ... \u001b[?25l\u001b[?25hdone\n",
            "  Created wheel for data-helper: filename=data_helper-0.2.3-cp36-none-any.whl size=6682 sha256=20644c6a90f210ff23b4b8990e3bddea0c1562243d819f27ff94b18718aa7645\n",
            "  Stored in directory: /tmp/pip-ephem-wheel-cache-qu26iw9h/wheels/ac/95/cc/b588c9a7148810267975c68ab54c447dddfdd2ba26b3a1ed01\n",
            "Successfully built data-helper\n",
            "Installing collected packages: data-helper\n",
            "Successfully installed data-helper-0.2.3\n"
          ],
          "name": "stdout"
        }
      ]
    },
    {
      "cell_type": "code",
      "metadata": {
        "id": "Iqzuru6BzDji",
        "colab_type": "code",
        "colab": {}
      },
      "source": [
        "X = df['Preprocessed Tweets']\n",
        "y = df['Class Type']\n",
        "X_train, X_test, y_train, y_test = train_test_split(X, y, test_size=0.15,random_state=1)"
      ],
      "execution_count": null,
      "outputs": []
    },
    {
      "cell_type": "markdown",
      "metadata": {
        "id": "m94i3hqMcYzg",
        "colab_type": "text"
      },
      "source": [
        "Word Embeddings"
      ]
    },
    {
      "cell_type": "code",
      "metadata": {
        "id": "Kt1eKufye1OO",
        "colab_type": "code",
        "colab": {
          "base_uri": "https://localhost:8080/",
          "height": 71
        },
        "outputId": "c9beaff0-4855-40a0-9c3f-6569589a2bc4"
      },
      "source": [
        "# tokenizing using Keras Tokenizer\n",
        "num_words = 30000\n",
        "tokenizer = Tokenizer(num_words=num_words, lower=True, split=' ')\n",
        "tokenizer.fit_on_texts(X_train)\n",
        "\n",
        "X_train = tokenizer.texts_to_sequences(X_train)\n",
        "X_test = tokenizer.texts_to_sequences(X_test)\n",
        "\n",
        "word_index = tokenizer.word_index\n",
        "print('Found %s unique tokens.' % len(word_index))\n",
        "print(word_index)"
      ],
      "execution_count": null,
      "outputs": [
        {
          "output_type": "stream",
          "text": [
            "Found 13430 unique tokens.\n",
            "{'hai': 1, 'ki': 2, 'ko': 3, 'politics': 4, 'ke': 5, 'talaq': 6, 'bhi': 7, 'se': 8, 'triple': 9, 'cricket': 10, 'ka': 11, 'aur': 12, 'ho': 13, 'nahi': 14, 'k': 15, 'ye': 16, 'hi': 17, 'bollywood': 18, 'kar': 19, 'hain': 20, 'aap': 21, 'kya': 22, 'liye': 23, 'kuch': 24, 'h': 25, 'par': 26, 'koi': 27, 'jo': 28, 'na': 29, 'ek': 30, 'bhai': 31, 'ab': 32, 'log': 33, 'ne': 34, 'rahe': 35, 'mein': 36, 'pe': 37, 'aaj': 38, 'desh': 39, 'baat': 40, 'raha': 41, 'nhi': 42, 'ji': 43, 'sab': 44, 'tha': 45, 'main': 46, 'toh': 47, 'wo': 48, 'sir': 49, 'i': 50, 'gaya': 51, 'hota': 52, 'jab': 53, 'kiya': 54, 'apni': 55, 'tum': 56, 'karte': 57, 'a': 58, 'b': 59, 'mai': 60, 'rahi': 61, 'abhi': 62, 'kabhi': 63, 'apne': 64, 'karne': 65, 'chahiye': 66, 'pakistan': 67, 'india': 68, 's': 69, 'modi': 70, 'sirf': 71, 'tu': 72, 'muslim': 73, 'jaise': 74, 'hoga': 75, 'kisi': 76, 'diya': 77, 'tak': 78, 'hum': 79, 'n': 80, 'ya': 81, 'aa': 82, 'karo': 83, 'kaam': 84, 'de': 85, 'agar': 86, 'din': 87, 'ban': 88, 'yeh': 89, 'naam': 90, 'wale': 91, 'kr': 92, 'hua': 93, 'gaye': 94, 'har': 95, 'ram': 96, 'halala': 97, 'woh': 98, 'khan': 99, 'logo': 100, 'nai': 101, 'news': 102, 'karna': 103, 'sahi': 104, 'vote': 105, 'hoti': 106, 'bahut': 107, 'p': 108, 'team': 109, 'thi': 110, 'kam': 111, 'ghar': 112, 'hindu': 113, 'pata': 114, 'ha': 115, 'kyu': 116, 'dekh': 117, 'mujhe': 118, 'baad': 119, 'phir': 120, 'khel': 121, 'v': 122, 'ja': 123, 'le': 124, 'khud': 125, '2': 126, 'l': 127, 'bas': 128, 'khatam': 129, 'to': 130, 'sakta': 131, 'fir': 132, 'kaha': 133, 'bjp': 134, 'm': 135, 'sath': 136, 'karta': 137, 'bharat': 138, 'gayi': 139, 'band': 140, 'match': 141, 'hote': 142, 'lagta': 143, 'per': 144, 'hu': 145, 'r': 146, 'mat': 147, 'nahin': 148, 'aise': 149, 'kal': 150, 'jaye': 151, 'u': 152, 'pehle': 153, 'aisa': 154, 'bol': 155, 'me': 156, 'rhe': 157, 'dete': 158, 'hone': 159, 'maa': 160, 'dil': 161, 'yaar': 162, 'e': 163, 'pr': 164, 'lo': 165, 'party': 166, 'ni': 167, 'saath': 168, 'janta': 169, 'lekin': 170, 'jyada': 171, 'congress': 172, 'kare': 173, 'baap': 174, 'q': 175, 'tarah': 176, '1': 177, 'saal': 178, 'kaise': 179, 'hogi': 180, 'jata': 181, 'acha': 182, 'bana': 183, 'rahim': 184, 'bank': 185, 'kuchh': 186, 'c': 187, 'sakte': 188, 'jai': 189, 'jis': 190, 'gya': 191, 'mere': 192, '3': 193, 'waqt': 194, 'baba': 195, 'is': 196, 'apna': 197, 'kab': 198, 'aage': 199, 'chal': 200, 'rha': 201, 'dhoni': 202, 'logon': 203, 'tab': 204, 'mar': 205, 'itna': 206, 'jagah': 207, 'us': 208, 'pak': 209, 'islam': 210, 'baar': 211, 'wala': 212, 'o': 213, 'liya': 214, 'tujhe': 215, 'khush': 216, 'the': 217, 'soch': 218, 'yogi': 219, 'jaan': 220, 'hue': 221, 'wali': 222, 't': 223, 'aata': 224, 'mil': 225, 'world': 226, 'film': 227, 'samajh': 228, 'tere': 229, 'd': 230, 'j': 231, 'indian': 232, 'bad': 233, 'love': 234, 'hui': 235, 'waise': 236, 'teri': 237, 'kumar': 238, 'yaha': 239, 'hona': 240, 'ap': 241, 'aurat': 242, 'mera': 243, 'movie': 244, 'day': 245, 'yahi': 246, 'tumhara': 247, 'wajah': 248, '5': 249, '4': 250, 'meri': 251, 'laga': 252, 'dekho': 253, 'jao': 254, 'dena': 255, 'kaun': 256, 'bihar': 257, 'support': 258, 'dharm': 259, 'duniya': 260, 'hindi': 261, 'g': 262, 'lag': 263, 'yahan': 264, 'gai': 265, 'one': 266, 'galat': 267, 'iss': 268, 'maut': 269, 'aisi': 270, 'walo': 271, 'aaye': 272, 'vo': 273, 'sarkar': 274, 'jayega': 275, 'jati': 276, 'abe': 277, 'itni': 278, 'karke': 279, 'time': 280, 'bhagwan': 281, 'kyun': 282, 'singh': 283, 'use': 284, 'hamare': 285, 'sabhi': 286, 'pakistani': 287, 'w': 288, 'deta': 289, 'yaad': 290, 'bat': 291, 'tumhe': 292, 'nawaz': 293, 'jate': 294, 'sach': 295, 'gandi': 296, 'rhi': 297, 'sahab': 298, 'jaisa': 299, 'ga': 300, 'media': 301, 'gye': 302, 'star': 303, 'chor': 304, 'upar': 305, 'aapne': 306, 'x': 307, 'uske': 308, 'kahi': 309, 'wahi': 310, 'neta': 311, 'mei': 312, 'chutiye': 313, 'gandhi': 314, 'kay': 315, 'women': 316, 'maar': 317, 'hoon': 318, 'dene': 319, 'khushi': 320, 'naa': 321, 'mudda': 322, 'bada': 323, 'pasand': 324, 'baare': 325, 'aati': 326, 'isliye': 327, 'kitne': 328, 'chutiya': 329, 'kapoor': 330, 'jeet': 331, 'wah': 332, 'of': 333, 'matlab': 334, 'fan': 335, 'virat': 336, 'sc': 337, 'aj': 338, 'life': 339, 'dekha': 340, 'case': 341, 'in': 342, 'lage': 343, 'kha': 344, 'say': 345, 'bolo': 346, 'army': 347, 'ghatiya': 348, 'sabse': 349, 'tera': 350, 'un': 351, 'salman': 352, 'bolte': 353, 'bade': 354, 'maine': 355, 'bahar': 356, 'tweet': 357, 'law': 358, 'keh': 359, 'lena': 360, 'dekhte': 361, 'lahore': 362, 'la': 363, 'shuru': 364, 'door': 365, 'rahul': 366, 'like': 367, 'uska': 368, 'shayad': 369, 'cheez': 370, 'badal': 371, 'khilaf': 372, 'mulk': 373, 'unke': 374, 'gyi': 375, 'di': 376, 'najam': 377, 'accha': 378, 'achha': 379, 'bi': 380, 'kyon': 381, '6': 382, 'khatm': 383, 'kanoon': 384, 'problem': 385, 'tumhare': 386, 'zyada': 387, 'kis': 388, 'madam': 389, 'mandir': 390, 'unhe': 391, 'khelne': 392, 'bilkul': 393, 'chalta': 394, 'bar': 395, 'chhod': 396, 'paise': 397, 'zindagi': 398, 'aik': 399, 'court': 400, 'karachi': 401, 'rakha': 402, 'achi': 403, 'shadi': 404, 'haan': 405, 'kitna': 406, 'inko': 407, 'bare': 408, 'unko': 409, 'raees': 410, 'rahega': 411, 'karni': 412, 'allah': 413, 'denge': 414, 'jaate': 415, 'usko': 416, 'tripletalaq': 417, 'rape': 418, 'aapko': 419, 'saare': 420, 'baaki': 421, 'mila': 422, 'dekhne': 423, 'pm': 424, 'karega': 425, 'haq': 426, 'pur': 427, 'inki': 428, 'sare': 429, 'badi': 430, 'kon': 431, 'jaa': 432, 'or': 433, 'kharab': 434, 'umar': 435, 'badh': 436, 'bhaiya': 437, 'aapki': 438, 'kyo': 439, '10': 440, 'afridi': 441, 'best': 442, 'aaya': 443, 'tumhari': 444, 'biwi': 445, 'hay': 446, 'muslims': 447, 'thoda': 448, 'dhyan': 449, 'tabhi': 450, 'dekhna': 451, 'lanka': 452, 'pura': 453, 'politicians': 454, 'thik': 455, 'batao': 456, 'are': 457, 'isse': 458, 'pyar': 459, '20': 460, 'bache': 461, 'lol': 462, 'haar': 463, 'jana': 464, 'nay': 465, 'baki': 466, 'bata': 467, 'alag': 468, 'mata': 469, 'faisla': 470, 'hamari': 471, 'kehte': 472, 'honge': 473, 'akmal': 474, 'bola': 475, 'kia': 476, 'aane': 477, 'bina': 478, 'y': 479, 'captain': 480, 'sar': 481, 'virodh': 482, 'unki': 483, 'nazar': 484, 'kahan': 485, 'shah': 486, 'rakh': 487, 'shame': 488, 'wohi': 489, 'up': 490, 'banane': 491, 'jihad': 492, 'insaan': 493, 'karti': 494, 'khelna': 495, 'jaldi': 496, 'sl': 497, 'dirty': 498, 'sharjeel': 499, 'pagal': 500, 'dv': 501, 'bachcho': 502, 'man': 503, 'gali': 504, 'akhilesh': 505, 'taraf': 506, 'modiji': 507, 'chala': 508, 'bura': 509, 'sharam': 510, 'debate': 511, 'kahin': 512, 'chod': 513, 'he': 514, 'tho': 515, 'insan': 516, 'hein': 517, 'sri': 518, 'dard': 519, 'pahle': 520, 'aam': 521, 'please': 522, 'waale': 523, 'raho': 524, 'khela': 525, 'sub': 526, 'saale': 527, 'ladki': 528, 'rahay': 529, 'sakti': 530, 'ker': 531, 'diye': 532, 'uski': 533, 'triplet': 534, 'raj': 535, 'delhi': 536, 'imran': 537, 'lete': 538, 'ahmed': 539, 'koshish': 540, 'gorakhpur': 541, 'usse': 542, 'bus': 543, 'sharm': 544, 'dusre': 545, 'help': 546, 'magar': 547, 'game': 548, 'kashmir': 549, 'dono': 550, 'sal': 551, 'odi': 552, 'aayi': 553, 'musalman': 554, '30': 555, 'hey': 556, 'hy': 557, 'kiye': 558, 'chaiye': 559, 'mare': 560, 'sharif': 561, 'bhe': 562, 'samaj': 563, 'hame': 564, 'start': 565, 'ham': 566, 'fans': 567, 'marne': 568, 'verdict': 569, 'ache': 570, 'sb': 571, 'dukh': 572, 'aana': 573, 'indvs': 574, 'agr': 575, 'chale': 576, 'puri': 577, 'kro': 578, 'ik': 579, 'family': 580, 'barbad': 581, 'bijapur': 582, 'bulls': 583, 'pta': 584, 'ge': 585, 'hun': 586, 'roti': 587, 'jisko': 588, 'jarurat': 589, 'jee': 590, 'no': 591, 'ise': 592, 'tune': 593, 'unka': 594, 'movies': 595, 'karan': 596, 'kapil': 597, 'shaadi': 598, 'jaisi': 599, 'bhakt': 600, 'kv': 601, 'jail': 602, 'see': 603, 'bole': 604, 'lene': 605, 'khelte': 606, 'nehi': 607, 'bolne': 608, 'beta': 609, 'dikhta': 610, 'yar': 611, 'kohli': 612, 'haal': 613, 'rohit': 614, 'srk': 615, 'chahte': 616, 'gay': 617, 'deti': 618, 'iski': 619, 'hind': 620, 'chahe': 621, 'milega': 622, 'sabko': 623, 'wahan': 624, 'dost': 625, 'jayegi': 626, 'banaya': 627, 'tou': 628, 'poora': 629, 'mumbai': 630, 'china': 631, 'free': 632, 'bc': 633, 'join': 634, 'mile': 635, 'isi': 636, '0': 637, 'lalu': 638, 'krte': 639, 'roshan': 640, 'cinema': 641, 'app': 642, 'azadi': 643, 'suna': 644, 'samjh': 645, 'paisa': 646, 'harami': 647, 'kyunki': 648, 'international': 649, 'teen': 650, 'bandh': 651, 'warna': 652, 'musalmano': 653, 'khuda': 654, 'han': 655, 'vikas': 656, 'public': 657, 'socho': 658, 'behen': 659, 'instant': 660, 'bhar': 661, 'eleven': 662, 'khelta': 663, 'beef': 664, 'haryana': 665, 'isme': 666, 'mauka': 667, 'bacha': 668, 'mahila': 669, 'theek': 670, 'hamesha': 671, 'right': 672, 'line': 673, 'dikh': 674, 'kijiye': 675, 'izzat': 676, 'nikal': 677, 'hrithik': 678, 'samay': 679, 'pad': 680, 'jaati': 681, 'iska': 682, 'rukh': 683, 'king': 684, 'raksha': 685, 'banate': 686, 'name': 687, 'dekhta': 688, 'tv': 689, 'padi': 690, 'paye': 691, 'number': 692, 'channel': 693, 'khelo': 694, 'chakkar': 695, 'dijiye': 696, '9': 697, 'sari': 698, 'awam': 699, 'wicket': 700, 'behan': 701, 'nd': 702, 'isko': 703, 'aya': 704, 'chinta': 705, 'kejriwal': 706, 'bs': 707, 'viru': 708, 'rok': 709, 'dega': 710, 'focus': 711, 'anti': 712, 'bhari': 713, 'aajkal': 714, 'karwa': 715, 'likha': 716, 'president': 717, 'panti': 718, 'inke': 719, 'pyaar': 720, 'paida': 721, 'mana': 722, 'issue': 723, 'bolta': 724, 'dharam': 725, 'sy': 726, 'rajniti': 727, 'pani': 728, 'setthi': 729, 'jahan': 730, 'dalit': 731, 'sachin': 732, 'twitter': 733, 'song': 734, 'jaane': 735, 'sale': 736, 'stadium': 737, 'but': 738, 'govt': 739, 'halat': 740, 'gareeb': 741, 'aapke': 742, '7': 743, '15': 744, 'mahilao': 745, 'sharma': 746, 'lakh': 747, 'wapis': 748, 'jitna': 749, 'dar': 750, 'kee': 751, 'beti': 752, 'yadav': 753, 'krna': 754, 'yehi': 755, 'chup': 756, 'vande': 757, 'shahid': 758, 'jaata': 759, 'bhutto': 760, 'sun': 761, 'raat': 762, 'payega': 763, 'uss': 764, 'kai': 765, 'khilaaf': 766, 'train': 767, 'muh': 768, 'be': 769, 'jane': 770, 'lie': 771, 'astha': 772, 'waha': 773, 'ind': 774, 'bachho': 775, 'aankh': 776, 'gau': 777, 'topic': 778, 'bachche': 779, 'mushkil': 780, 'mulle': 781, 'pappu': 782, 'mard': 783, 'jan': 784, 'batting': 785, 'krne': 786, 'board': 787, 'naya': 788, 'nikah': 789, 'pas': 790, 'aulad': 791, 'need': 792, 'tumko': 793, 'gi': 794, 'phle': 795, 'dikha': 796, 'karen': 797, 'mataram': 798, 'phone': 799, 'ky': 800, 'li': 801, 'khana': 802, 'plz': 803, 'code': 804, 'hm': 805, 'matter': 806, 'award': 807, 'khattar': 808, 'bahot': 809, 'chinese': 810, 'ramrahim': 811, 'dhamki': 812, 'jese': 813, 'video': 814, 'happy': 815, 'bhut': 816, 'satta': 817, 'terrorist': 818, 'new': 819, 'karenge': 820, 'appeasement': 821, 'aate': 822, 'padta': 823, 'you': 824, 'dr': 825, 'daal': 826, 'haha': 827, 'oh': 828, 'baccho': 829, 'drama': 830, 'change': 831, 'bachao': 832, 'paas': 833, 'pass': 834, 'thodi': 835, 'bech': 836, 'chalo': 837, 'kutta': 838, 'films': 839, 'chuka': 840, 'humare': 841, 'admi': 842, 'bhool': 843, 'behtar': 844, 'hero': 845, 'milti': 846, 'dimag': 847, '100': 848, 'shri': 849, 'kahte': 850, 'sala': 851, 'jada': 852, 'andar': 853, 'haath': 854, 'ata': 855, 'aye': 856, 'corruption': 857, 'ta': 858, 'zara': 859, 'maza': 860, 'saaf': 861, 'nafrat': 862, '70': 863, 'itne': 864, 'jin': 865, 'civil': 866, 'mann': 867, 'banao': 868, 'urdu': 869, 'ati': 870, 'khilari': 871, 'polygamy': 872, 'hate': 873, 'ak': 874, 'pure': 875, 'kah': 876, 'hoo': 877, 'may': 878, 'bacche': 879, 'qaum': 880, 'iske': 881, 'reh': 882, 'chalte': 883, 'sad': 884, 'power': 885, 'rehta': 886, 'abey': 887, 'nam': 888, 'bowler': 889, 'actor': 890, 'on': 891, 'hospital': 892, 'inka': 893, 'lekar': 894, 'men': 895, 'hindustan': 896, 'aamir': 897, 'apko': 898, 'karoge': 899, 'phr': 900, 'hn': 901, 'arjun': 902, 'kyuki': 903, 'sarfaraz': 904, 'bete': 905, '11': 906, 'it': 907, 'zinda': 908, 'inhe': 909, 'roz': 910, 'sa': 911, 'lv': 912, 'usme': 913, 'petrol': 914, 'himmat': 915, 'bane': 916, 'saab': 917, 'gae': 918, 'leader': 919, 'pareshan': 920, 'kariye': 921, 'bibi': 922, 'bhaii': 923, 'mamta': 924, 'walon': 925, 'leta': 926, '50': 927, '17': 928, 'jayenge': 929, 'kami': 930, 'bachane': 931, 'akshay': 932, 'dubai': 933, 'choti': 934, 'kewal': 935, 'prem': 936, 'arey': 937, 'aman': 938, 'aadmi': 939, 'jaha': 940, 'chalega': 941, '8': 942, '2019': 943, 'toilet': 944, 'chalti': 945, 'kara': 946, 'apke': 947, 'years': 948, 'independence': 949, 'jisne': 950, 'religion': 951, 'buhat': 952, 'kasam': 953, 'vahi': 954, 'bahan': 955, 'maulana': 956, 'asli': 957, 'cm': 958, 'fast': 959, 'etc': 960, 'achhe': 961, 'birthday': 962, 'honi': 963, 'peeche': 964, 'acchi': 965, 'leke': 966, 'cow': 967, 'over': 968, 'punjab': 969, 'sports': 970, 'chalu': 971, 'dur': 972, 'flop': 973, 'badhai': 974, 'jaana': 975, 'bahal': 976, 'muje': 977, 'hit': 978, 'bacho': 979, 'milta': 980, 'dia': 981, 'crore': 982, 'run': 983, 'real': 984, 'god': 985, 'waah': 986, 'roman': 987, 'rule': 988, 'player': 989, 'haram': 990, 'political': 991, 'rapist': 992, 'future': 993, 'chahta': 994, 'azam': 995, 'malik': 996, 'sohail': 997, 'kash': 998, 'ganesh': 999, 'mulla': 1000, 'sikhaya': 1001, 'aayegi': 1002, 'cup': 1003, 'papa': 1004, 'insaf': 1005, 'suru': 1006, 'rakho': 1007, 'chori': 1008, 'sati': 1009, 'hawa': 1010, 'nh': 1011, 'achcha': 1012, 'galti': 1013, '72': 1014, 'jise': 1015, 'banda': 1016, 'thaa': 1017, 'huye': 1018, 'lagi': 1019, 'aazadi': 1020, 'sethi': 1021, 'babar': 1022, 'samne': 1023, 'shukriya': 1024, 'maan': 1025, 'sake': 1026, 'halalala': 1027, 'zindabad': 1028, 'bhot': 1029, 'tuje': 1030, 'what': 1031, 'krta': 1032, 'baithe': 1033, 'rawalpindi': 1034, 'khail': 1035, 'do': 1036, 'jitni': 1037, 'mudde': 1038, 'saala': 1039, 'akki': 1040, 'es': 1041, 'poori': 1042, 'sawal': 1043, 'usi': 1044, 'uniform': 1045, 'marte': 1046, 'milte': 1047, 'utha': 1048, 'salute': 1049, 'hee': 1050, 'sudhar': 1051, 'samman': 1052, 'nahe': 1053, 'pade': 1054, 'gir': 1055, 'aao': 1056, 'shanti': 1057, 'kamino': 1058, 'alawa': 1059, 'national': 1060, 'dusri': 1061, 'good': 1062, 'players': 1063, 'today': 1064, 'kaho': 1065, 'ummid': 1066, 'yah': 1067, 'sabiq': 1068, 'chuke': 1069, 'padhai': 1070, 'thay': 1071, 'hope': 1072, 'hamara': 1073, 'pate': 1074, 'hindustani': 1075, 'socha': 1076, 'series': 1077, 'bach': 1078, 'pehlay': 1079, 'australia': 1080, 'kursi': 1081, 'yaa': 1082, 'bachpan': 1083, 'kisne': 1084, 'haa': 1085, 'vaha': 1086, '25': 1087, 'saza': 1088, 'kangana': 1089, 'kaafi': 1090, 'hissa': 1091, 'karein': 1092, 'bara': 1093, 'pradesh': 1094, 'lagu': 1095, 'bro': 1096, 'mante': 1097, 'janam': 1098, 'bachhe': 1099, 'sabit': 1100, 'supreme': 1101, 'abb': 1102, 'lenge': 1103, 'banana': 1104, 'jisse': 1105, 'jarur': 1106, 'jaaye': 1107, 'go': 1108, 'huwa': 1109, 'shaiqeen': 1110, 'masjid': 1111, 'karlo': 1112, 'home': 1113, 'kamzor': 1114, 'so': 1115, 'samjha': 1116, 'rehna': 1117, 'level': 1118, 'sapne': 1119, 'khushamdeed': 1120, 'kahtay': 1121, 'maizbani': 1122, 'baytab': 1123, 'dg': 1124, 'chote': 1125, 'rakhte': 1126, 'dusro': 1127, 'politician': 1128, 'madarchod': 1129, 'madad': 1130, 'fark': 1131, 'hen': 1132, 'hogaye': 1133, 'bolna': 1134, 'zaroorat': 1135, 'chuki': 1136, 'isis': 1137, 'election': 1138, 'padhe': 1139, 'rahte': 1140, 'lady': 1141, 'sibbal': 1142, 'gujarat': 1143, 'inning': 1144, 'khatre': 1145, 'actress': 1146, 'cong': 1147, 'bardasht': 1148, 'maja': 1149, 'aapka': 1150, 'arre': 1151, 'amla': 1152, 'lijiye': 1153, 'bumrah': 1154, 'jiski': 1155, 'jara': 1156, 'insaniyat': 1157, 'zardari': 1158, 'acche': 1159, 'ungli': 1160, 'chu': 1161, 'beech': 1162, 'baatein': 1163, 'english': 1164, 'vale': 1165, 'hahaha': 1166, 'kitni': 1167, 'vs': 1168, 'bhej': 1169, 'kheli': 1170, 'goli': 1171, 'janwar': 1172, 'mr': 1173, 'sirji': 1174, 'bhul': 1175, 'dala': 1176, 'follow': 1177, 'hoge': 1178, 'inse': 1179, 'ku': 1180, 'ch': 1181, 'rahenge': 1182, 'show': 1183, 'banned': 1184, 'miya': 1185, 'bhabhi': 1186, 'interest': 1187, 'school': 1188, 'kahe': 1189, 'final': 1190, 'darr': 1191, 'hat': 1192, 'nitish': 1193, 'ov': 1194, 'coach': 1195, 'uth': 1196, 'jari': 1197, 'africa': 1198, 'for': 1199, 'innings': 1200, 'burkha': 1201, 'janab': 1202, 'part': 1203, 'agree': 1204, 'gambhir': 1205, 'hume': 1206, 'amitabh': 1207, 'lane': 1208, 'pls': 1209, 'bomb': 1210, 'ganda': 1211, 'badla': 1212, 'resign': 1213, 'fail': 1214, 'kabi': 1215, 'gadhe': 1216, 'krenge': 1217, 'te': 1218, 'fatwa': 1219, 'pay': 1220, 'bohat': 1221, 'eid': 1222, 'perera': 1223, 'amit': 1224, 'kese': 1225, 'mahine': 1226, 'khali': 1227, 'aurto': 1228, 'ane': 1229, 'accept': 1230, 'gov': 1231, 'kafi': 1232, 'bohot': 1233, 'ispr': 1234, 'miandaad': 1235, 'sarfraz': 1236, 'banne': 1237, 'tan': 1238, 'age': 1239, 'bhala': 1240, 'si': 1241, 'aastha': 1242, 'jaat': 1243, 'and': 1244, 'raja': 1245, 'sara': 1246, 'call': 1247, 'bharta': 1248, 'taki': 1249, 'saja': 1250, 'pati': 1251, 'irony': 1252, 'dulhaniya': 1253, 'milne': 1254, 'kehta': 1255, 'huyi': 1256, 'divorce': 1257, 'open': 1258, 'mujh': 1259, 'share': 1260, 'hashim': 1261, 'ana': 1262, 'key': 1263, 'loot': 1264, 'mubarak': 1265, 'kutte': 1266, 'sakshi': 1267, 'bachchan': 1268, 'filmo': 1269, 'joh': 1270, '60': 1271, 'test': 1272, 'aunty': 1273, 'bhee': 1274, 'yes': 1275, 'rai': 1276, 'privacy': 1277, 'mey': 1278, 'sanjay': 1279, 'talak': 1280, '1st': 1281, 'gaali': 1282, 'kahani': 1283, 'bhejo': 1284, 'sikh': 1285, 'bandhan': 1286, 'franchies': 1287, 'career': 1288, 'lad': 1289, 'kise': 1290, 'sayad': 1291, 'muddo': 1292, 'hath': 1293, 'jaruri': 1294, 'people': 1295, 'mam': 1296, 'ishq': 1297, 'tag': 1298, 'rakhi': 1299, 'dear': 1300, 'humara': 1301, 'khabar': 1302, 'banaye': 1303, 'tumse': 1304, 'side': 1305, 'aayega': 1306, 'ar': 1307, 'summary': 1308, '21': 1309, 'buri': 1310, 'kehna': 1311, 'ney': 1312, 'ranking': 1313, 'vaise': 1314, 'veer': 1315, 'khoon': 1316, 'behno': 1317, 'inn': 1318, 'matches': 1319, 'barbaad': 1320, '33': 1321, 'bhag': 1322, 'aniyin': 1323, 'jayasuriya': 1324, 'mara': 1325, 'ask': 1326, 'sarkaar': 1327, 'balls': 1328, 'mantri': 1329, 'jisme': 1330, 'banega': 1331, 'unse': 1332, 'karnay': 1333, 'besharam': 1334, 'bataya': 1335, 'dua': 1336, 'deke': 1337, 'abi': 1338, '16': 1339, 'mahilaon': 1340, 'kaa': 1341, 'gaana': 1342, 'legal': 1343, 'khula': 1344, 'kashmiri': 1345, 'shaandaar': 1346, 'achhi': 1347, 'chutiyo': 1348, 'badnaam': 1349, 'now': 1350, 'playing': 1351, 'minister': 1352, 'ayega': 1353, 'nation': 1354, 'reservation': 1355, '90': 1356, 'gussa': 1357, 'decision': 1358, 'bachon': 1359, 'behtreen': 1360, 'bani': 1361, 'baccha': 1362, 'comes': 1363, 'fursat': 1364, 'dushman': 1365, 'kae': 1366, 'rajneeti': 1367, 'halal': 1368, 'betha': 1369, 'hatya': 1370, 'dhawan': 1371, 'ckt': 1372, 'ajmal': 1373, 'shareef': 1374, 'mp': 1375, 'insaaf': 1376, 'isiliye': 1377, 'bano': 1378, 'live': 1379, 'ayodhya': 1380, 'aai': 1381, 'job': 1382, 'uttar': 1383, 'hojaye': 1384, 'quran': 1385, 'called': 1386, 'ladne': 1387, 'ro': 1388, 'lagti': 1389, 'personal': 1390, 'sazish': 1391, 'pandey': 1392, 'awaam': 1393, 'ladai': 1394, 'gand': 1395, 'dum': 1396, 'guru': 1397, 'humari': 1398, 'mamla': 1399, 'masla': 1400, 'jaake': 1401, 'credit': 1402, 'social': 1403, 'ul': 1404, 'namak': 1405, 'baqi': 1406, 'sher': 1407, 'rumman': 1408, 'talent': 1409, 'wapas': 1410, 'this': 1411, 'raaz': 1412, 'dera': 1413, 'south': 1414, 'aukat': 1415, 'faltu': 1416, 'inhone': 1417, 'hon': 1418, 'nae': 1419, 'lia': 1420, 'poetry': 1421, 'kyonki': 1422, 'jaayega': 1423, 'tiwari': 1424, 'gy': 1425, 'compare': 1426, 'bhakti': 1427, 'karegi': 1428, 'tk': 1429, 'yad': 1430, 'jitne': 1431, 'wait': 1432, 'barish': 1433, 'balki': 1434, 'jaao': 1435, 'rasta': 1436, 'alka': 1437, 'sakht': 1438, 'shikar': 1439, 'tweets': 1440, 'dukhi': 1441, 'takleef': 1442, 'bht': 1443, 'ispe': 1444, 'dikkat': 1445, 'raaj': 1446, 'sant': 1447, 'garib': 1448, 'bakwas': 1449, 'zameen': 1450, 'py': 1451, 'wi': 1452, 'chai': 1453, 'bante': 1454, 'paani': 1455, 'rani': 1456, 'azeem': 1457, 'gyaan': 1458, 'padega': 1459, 'khul': 1460, 'sikhna': 1461, 'sey': 1462, 'music': 1463, 'dikhte': 1464, 'masoom': 1465, 'mahi': 1466, 'apka': 1467, 'kaisi': 1468, 'ulta': 1469, 'sabka': 1470, 'kartay': 1471, 'dada': 1472, 'jayada': 1473, 'great': 1474, 'way': 1475, 'bt': 1476, 'hr': 1477, 'vi': 1478, 'back': 1479, 'rakhe': 1480, 'umeed': 1481, 'varna': 1482, 'girls': 1483, 'nijam': 1484, 'gst': 1485, 'poor': 1486, 'bhartiya': 1487, 'community': 1488, 'baaz': 1489, 'hadd': 1490, 'khele': 1491, 'filme': 1492, 'junobi': 1493, 'dosray': 1494, 'teesray': 1495, 'chattay': 1496, 'chutiyapa': 1497, 'vishwas': 1498, 'bahu': 1499, 'babu': 1500, 'hatao': 1501, 'zaroori': 1502, 'chakar': 1503, 'seat': 1504, 'khiladi': 1505, 'owaisi': 1506, 'last': 1507, 'kajol': 1508, '18': 1509, 'well': 1510, 'tumare': 1511, 'chodo': 1512, 'yuvraj': 1513, 'vivah': 1514, 'ghr': 1515, 'kala': 1516, 'apki': 1517, 'asal': 1518, 'bachha': 1519, 'stars': 1520, 'khair': 1521, 'suar': 1522, 'qanoon': 1523, 'jinki': 1524, 'bhara': 1525, 'bik': 1526, 'qk': 1527, 'trend': 1528, 'sahib': 1529, 'sharab': 1530, 'respect': 1531, 'takreeb': 1532, 'gunde': 1533, '2017': 1534, 'baith': 1535, 'gulzar': 1536, 'sufyan': 1537, 'event': 1538, 'lagte': 1539, 'retire': 1540, 'azaadi': 1541, 'lana': 1542, 'pti': 1543, 'laya': 1544, 'commentary': 1545, 'bta': 1546, 'mobile': 1547, 'ball': 1548, 'auraton': 1549, 'yuva': 1550, 'non': 1551, 'jb': 1552, 'ranaut': 1553, 'corrupt': 1554, 'deshdrohi': 1555, 'km': 1556, 'kre': 1557, 'joke': 1558, 'true': 1559, 'hal': 1560, 'jihadi': 1561, 'idhar': 1562, 'paji': 1563, 'laash': 1564, 'accident': 1565, 'esi': 1566, 'likh': 1567, 'ee': 1568, 'gadha': 1569, 'thode': 1570, 'deewana': 1571, 'maaf': 1572, 'boli': 1573, 'turant': 1574, 'aag': 1575, 'truth': 1576, 'jante': 1577, 'indians': 1578, 'sochte': 1579, 'rahegi': 1580, 'ali': 1581, 'clear': 1582, 'wife': 1583, 'garam': 1584, 'even': 1585, 'thee': 1586, 'saamne': 1587, 'zaroor': 1588, 'kareena': 1589, 'thy': 1590, 'rights': 1591, 'kabaddi': 1592, 'nautanki': 1593, 'ghanta': 1594, 'tareef': 1595, 'ullu': 1596, 'actors': 1597, 'performance': 1598, 'maro': 1599, 'dunya': 1600, 'shoaib': 1601, 'puch': 1602, 'pahuch': 1603, 'chacha': 1604, 'wajon': 1605, 'bate': 1606, 'bhakto': 1607, 'dialogue': 1608, 'chali': 1609, 'choice': 1610, 'jake': 1611, 'illegal': 1612, 'ladies': 1613, 'jay': 1614, 'subah': 1615, 'saat': 1616, 'murkh': 1617, 'ti': 1618, 'flood': 1619, 'waly': 1620, 'jal': 1621, 'utna': 1622, 'tm': 1623, 'chhor': 1624, 'safai': 1625, 'bhale': 1626, 'pic': 1627, 'veeru': 1628, 'jinda': 1629, 'tumne': 1630, 'du': 1631, 'kamal': 1632, 'state': 1633, 'paaji': 1634, 'ladke': 1635, 'sikhe': 1636, 'thank': 1637, 'model': 1638, 'burqa': 1639, 'paya': 1640, 'aadha': 1641, 'photo': 1642, 'kaash': 1643, 'yagnik': 1644, 'netao': 1645, 'not': 1646, 'london': 1647, 'awaaz': 1648, 'kch': 1649, 'dowry': 1650, 'bari': 1651, 'dekhe': 1652, 'jahil': 1653, 'seekh': 1654, 'parivaar': 1655, '80': 1656, 'usne': 1657, 'maal': 1658, 'pratha': 1659, 'top': 1660, 'den': 1661, 'hinduo': 1662, 'gaand': 1663, 'khade': 1664, 'says': 1665, 'pal': 1666, 'hazar': 1667, 'baja': 1668, 'koe': 1669, 'pita': 1670, 'islamic': 1671, 'khans': 1672, 'dekhiye': 1673, 'baje': 1674, 'bula': 1675, 'samarthan': 1676, 'a120': 1677, 'mu': 1678, 'thakur': 1679, 'likhe': 1680, 'mukherjee': 1681, 'rains': 1682, 'hara': 1683, 'very': 1684, 'akal': 1685, 'vivad': 1686, 'ghusa': 1687, 'dusra': 1688, 'gayab': 1689, 'wapsi': 1690, 'votebank': 1691, 'mullo': 1692, 'zimmedar': 1693, 'niche': 1694, 'humko': 1695, 'aarakshan': 1696, 'roj': 1697, 'pandya': 1698, 'thali': 1699, 'raina': 1700, 'choro': 1701, 'hokar': 1702, 'rakhna': 1703, 'kisiko': 1704, 'kbhi': 1705, 'jashn': 1706, 'holi': 1707, 'jit': 1708, 'zarurat': 1709, 'filmy': 1710, 'khtm': 1711, 'bullet': 1712, 'role': 1713, 'chunav': 1714, 'jinke': 1715, 'nikaah': 1716, 'marriage': 1717, 'banu': 1718, 'end': 1719, 'word': 1720, 'want': 1721, 'khusi': 1722, 'purani': 1723, 'big': 1724, 'amir': 1725, 'dekhenge': 1726, 'bheed': 1727, 'qeyadat': 1728, 'izaz': 1729, 'villiers': 1730, 'hot': 1731, 'acting': 1732, 'jiske': 1733, 'kari': 1734, 'get': 1735, 'hoi': 1736, 'mano': 1737, 'shadab': 1738, 'piche': 1739, 'ajeeb': 1740, 'hojata': 1741, 'an': 1742, 'hash': 1743, 'wasim': 1744, 'purane': 1745, '29': 1746, 'fayada': 1747, 'bahubali': 1748, 'ansari': 1749, 'pahunch': 1750, 'educated': 1751, 'saman': 1752, 'icc': 1753, 'entertainment': 1754, 'rahy': 1755, 'bhosdike': 1756, 'celebrities': 1757, 'hei': 1758, 'jala': 1759, 'utar': 1760, 'jawab': 1761, 'railway': 1762, 'samjhte': 1763, 'bayan': 1764, 'blb': 1765, 'therivu': 1766, 'kulu': 1767, 'karu': 1768, 'lala': 1769, 'kaar': 1770, 'jayaz': 1771, 'kangna': 1772, 'jain': 1773, 'total': 1774, 'gala': 1775, 'bajaye': 1776, 'deni': 1777, 'kyaa': 1778, 'apana': 1779, 'win': 1780, 'smart': 1781, 'sarcasm': 1782, 'its': 1783, 'mishra': 1784, 'fake': 1785, 'baal': 1786, 'padegi': 1787, 'save': 1788, 'jeene': 1789, 'nau': 1790, 'padho': 1791, 'dikhao': 1792, 'mn': 1793, 'gandagi': 1794, 'aadat': 1795, 'sena': 1796, 'bachana': 1797, 'bachhon': 1798, 'hongi': 1799, 'roop': 1800, 'poore': 1801, 'order': 1802, 'khatna': 1803, 'old': 1804, 'opinion': 1805, 'humne': 1806, 'industry': 1807, 'kaat': 1808, 'week': 1809, 'beghairat': 1810, 'yeah': 1811, 'shree': 1812, 'mazak': 1813, 'tasveer': 1814, 'bachcha': 1815, 'manish': 1816, 'saram': 1817, 'laye': 1818, 'terrorism': 1819, 'khas': 1820, 'post': 1821, 'smjh': 1822, 'logic': 1823, 'rahne': 1824, 'hardik': 1825, 'liay': 1826, 'kyoki': 1827, 'bnaya': 1828, 'yr': 1829, 'shariyat': 1830, 'hisab': 1831, 'picture': 1832, 'aaplog': 1833, 'billi': 1834, 'vah': 1835, 'aani': 1836, 'security': 1837, 'thanks': 1838, 'tamasha': 1839, 'burai': 1840, 'saheb': 1841, 'bhadwe': 1842, 'ra': 1843, 'heera': 1844, 'mae': 1845, 'huwi': 1846, 'unhone': 1847, 'jald': 1848, 'dein': 1849, 'chand': 1850, 'sibal': 1851, 't20': 1852, 'whatsapp': 1853, 'scam': 1854, 'ghatna': 1855, 'koyi': 1856, 'waseem': 1857, '370': 1858, 'rahain': 1859, 'all': 1860, 'jiska': 1861, 'ma': 1862, 'maare': 1863, 'dikhaya': 1864, 'hazaro': 1865, 'bahana': 1866, 'jod': 1867, 'bap': 1868, 'ajj': 1869, 'je': 1870, 'dekar': 1871, 'kvs': 1872, 'kabool': 1873, 'hair': 1874, 'baarish': 1875, 'skta': 1876, 'der': 1877, 'mehnat': 1878, 'jeeta': 1879, 'opposition': 1880, 'lye': 1881, 'peace': 1882, 'ben': 1883, 'aae': 1884, 'vijay': 1885, 'sharia': 1886, 'khate': 1887, 'udhar': 1888, 'kadam': 1889, 'ijjat': 1890, 'bangladesh': 1891, 'sv': 1892, 'f': 1893, 'channels': 1894, 'siasat': 1895, 'bewakoof': 1896, 'min': 1897, 'hogaya': 1898, 'karane': 1899, 'mahan': 1900, 'jaroorat': 1901, 'field': 1902, 'chance': 1903, 'aus': 1904, 'siyasat': 1905, 'jinhe': 1906, 'shot': 1907, 'rahta': 1908, 'karay': 1909, 'with': 1910, 'rang': 1911, 'rohingya': 1912, 'dahej': 1913, '3rd': 1914, 'bharosa': 1915, 'bhart': 1916, 'dam': 1917, 'left': 1918, 'first': 1919, 'machli': 1920, 'shraddha': 1921, 'bijli': 1922, 'farak': 1923, 'sharminda': 1924, 'girl': 1925, 'thisara': 1926, 'bahi': 1927, 'least': 1928, 'lagata': 1929, 'virodhi': 1930, 'sunne': 1931, 'history': 1932, 'shikhar': 1933, 'bolega': 1934, 'ipl': 1935, 'born': 1936, 'ayegi': 1937, 'namaz': 1938, 'wow': 1939, 'take': 1940, 'queen': 1941, 'bengal': 1942, 'blast': 1943, 'issues': 1944, 'pehli': 1945, 'krti': 1946, 'saari': 1947, 'taliban': 1948, 'waqar': 1949, 'nhe': 1950, 'deshbhakt': 1951, 'arakshan': 1952, 'inhain': 1953, 'younis': 1954, 'phele': 1955, 'lagaya': 1956, 'maloom': 1957, 'paar': 1958, 'caste': 1959, 'kum': 1960, 'entry': 1961, 'mili': 1962, 'baitha': 1963, 'uspe': 1964, 'chutti': 1965, 'shuro': 1966, 'layen': 1967, 'hindus': 1968, 'babri': 1969, 'batana': 1970, 'sacche': 1971, 'banti': 1972, 'road': 1973, 'far': 1974, 'nagar': 1975, 'value': 1976, 'ruk': 1977, 'baate': 1978, 'bhaijaan': 1979, 'skte': 1980, 'ravi': 1981, 'wa': 1982, 'bhagwaan': 1983, 'society': 1984, 'talaaq': 1985, 'shameful': 1986, 'sochta': 1987, 'aacha': 1988, 'kahen': 1989, 'super': 1990, 'haala': 1991, 'laala': 1992, 'kho': 1993, 'maharaj': 1994, 'shi': 1995, 'bande': 1996, 'kasoor': 1997, 'chalane': 1998, 'hisaab': 1999, 'think': 2000, 'uper': 2001, 'waala': 2002, 'dalal': 2003, 'don': 2004, 'sabha': 2005, 'barabar': 2006, 'chij': 2007, 'sabar': 2008, 'com': 2009, 'aukaat': 2010, 'nasal': 2011, 'mane': 2012, 'rote': 2013, '19': 2014, 'uspar': 2015, 'esa': 2016, 'pakka': 2017, 'keep': 2018, 'ludo': 2019, 'jasparit': 2020, 'chot': 2021, 'krke': 2022, 'bekar': 2023, 'lagate': 2024, 'gajab': 2025, 'rehte': 2026, 'kaisa': 2027, 'zameer': 2028, 'apny': 2029, 'shaheed': 2030, 'dogle': 2031, 'dutt': 2032, 'akaas': 2033, 'unwaani': 2034, 'mashkon': 2035, 'qatai': 2036, 'city': 2037, 'question': 2038, 'larki': 2039, 'ur': 2040, 'leti': 2041, 'nostalgia': 2042, 'jago': 2043, 'hoke': 2044, 'khule': 2045, 'speech': 2046, 'awaz': 2047, 'anna': 2048, 'padh': 2049, 'rahen': 2050, 'jio': 2051, 'jhuth': 2052, 'rah': 2053, 'bhagao': 2054, 'trah': 2055, 'let': 2056, 'air': 2057, 'meray': 2058, 'leye': 2059, 'sanskrit': 2060, 'sonia': 2061, 'mujhey': 2062, 'monday': 2063, 'prabhu': 2064, 'sukh': 2065, 'shehzad': 2066, 'bharti': 2067, 'long': 2068, 'riots': 2069, 'killed': 2070, 'ghoom': 2071, 'ah': 2072, 'chaturthi': 2073, 'kismat': 2074, 'khelen': 2075, 'shukar': 2076, 'yese': 2077, 'inhi': 2078, 'admin': 2079, 'manta': 2080, 'hamid': 2081, 'sehwag': 2082, 'smriti': 2083, 'bhaiyo': 2084, 'naare': 2085, 'shram': 2086, 'bataiye': 2087, 'rahiye': 2088, 'jawano': 2089, 'wish': 2090, 'pan': 2091, 'dekhkar': 2092, 'gareebi': 2093, 'cast': 2094, 'fazool': 2095, 'chahiy': 2096, 'milegi': 2097, 'rahane': 2098, '28': 2099, 'bv': 2100, 'ammi': 2101, 'email': 2102, 'thalaivar': 2103, 'sanath': 2104, 'nei': 2105, 'sanam': 2106, 'praveen': 2107, 'jv': 2108, 'vyakti': 2109, 'defend': 2110, 'mazeed': 2111, 'gurmeet': 2112, 'khol': 2113, 'chhoti': 2114, 'ticket': 2115, 'moka': 2116, 'low': 2117, 'paki': 2118, 'gutter': 2119, 'bhed': 2120, 'kaya': 2121, 'juda': 2122, 'kadar': 2123, 'trp': 2124, 'kaunsa': 2125, 'chin': 2126, 'dobara': 2127, 'jae': 2128, 'ground': 2129, 'culture': 2130, 'chaddi': 2131, 'ameen': 2132, 'original': 2133, 'nakli': 2134, 'mausam': 2135, 'jinko': 2136, 'suwar': 2137, 'baaton': 2138, 'gyan': 2139, 'nasha': 2140, 'population': 2141, 'aake': 2142, 'superstar': 2143, 'host': 2144, 'lulli': 2145, 'sulag': 2146, 'classic': 2147, 'xd': 2148, 'sai': 2149, 'august': 2150, 'bechare': 2151, 'bahas': 2152, 'republic': 2153, 'words': 2154, 'degree': 2155, 'stop': 2156, 'ager': 2157, '12': 2158, 'legend': 2159, 'naheen': 2160, 'hotay': 2161, 'gupta': 2162, 'must': 2163, 'said': 2164, 'situation': 2165, 'boring': 2166, 'enjoy': 2167, 'khuch': 2168, 'naukari': 2169, 'vrs': 2170, 'dae': 2171, 'pa': 2172, 'image': 2173, 'khelnay': 2174, 'aurte': 2175, 'khub': 2176, 'abdul': 2177, 'choor': 2178, 'jani': 2179, 'rakhne': 2180, 'violence': 2181, 'lakin': 2182, 'development': 2183, 'kisan': 2184, 'dance': 2185, 'ijazat': 2186, 'naukri': 2187, 'rona': 2188, 'thora': 2189, 'samjhaye': 2190, 'milke': 2191, 'shamil': 2192, 'fayda': 2193, 'kartey': 2194, 'year': 2195, 'throwback': 2196, 'tarif': 2197, 'quality': 2198, 'lay': 2199, 'qurbani': 2200, 'aadhi': 2201, 'dhyaan': 2202, 'mene': 2203, 'sekna': 2204, 'mujy': 2205, 'chutiyon': 2206, 'maat': 2207, 'uljha': 2208, 'lok': 2209, 'dharmik': 2210, 'muslimo': 2211, 'hinduon': 2212, 'tragedy': 2213, 'easy': 2214, 'tod': 2215, 'dikhane': 2216, 'unn': 2217, 'shahar': 2218, 'yudh': 2219, 'jaanti': 2220, 'parivar': 2221, 'baaten': 2222, 'nuqsan': 2223, 'adalat': 2224, 'doosra': 2225, 'walay': 2226, 'dhak': 2227, 'marti': 2228, 'aab': 2229, 'bhashan': 2230, 'banaoge': 2231, 'mood': 2232, 'launch': 2233, 'topi': 2234, 'rakhta': 2235, 'ladkiyo': 2236, 'mahesh': 2237, 'bhatt': 2238, 'mahatma': 2239, 'jashoda': 2240, 'farzi': 2241, 'jhanda': 2242, 'sobha': 2243, 'pakad': 2244, 'sambhal': 2245, 'rishi': 2246, 'samjhi': 2247, 'bitha': 2248, 'reality': 2249, 'layenge': 2250, 'swachh': 2251, 'khi': 2252, 'kardiya': 2253, 'story': 2254, 'rss': 2255, 'sone': 2256, 'inshallah': 2257, 'nehru': 2258, 'bhaut': 2259, 'card': 2260, 'try': 2261, 'gate': 2262, 'dekhi': 2263, 'karnewala': 2264, 'didi': 2265, 're': 2266, 'cricekt': 2267, 'dere': 2268, 'jaoge': 2269, 'marzi': 2270, 'aug': 2271, 'balle': 2272, 'boliye': 2273, 'banna': 2274, 'bheekh': 2275, 'pet': 2276, 'guzaar': 2277, 'met': 2278, '47': 2279, 'safar': 2280, 'guzar': 2281, 'achchha': 2282, 'education': 2283, 'dalali': 2284, 'salon': 2285, 'rashtra': 2286, 'mahabharat': 2287, 'banta': 2288, 'paiso': 2289, 'kharid': 2290, 'shant': 2291, 'harane': 2292, 'bhad': 2293, 'peet': 2294, 'chalana': 2295, 'late': 2296, 'leni': 2297, 'freedom': 2298, 'self': 2299, 'teem': 2300, 'mukti': 2301, 'tet': 2302, 'farq': 2303, 'dhang': 2304, 'cool': 2305, 'garmi': 2306, 'sadak': 2307, 'congratulations': 2308, 'irfan': 2309, 'darshan': 2310, 'cha': 2311, 'naraaz': 2312, 'parties': 2313, 'protest': 2314, 'haye': 2315, 'bye': 2316, 'sikha': 2317, 'thaher': 2318, 'chalne': 2319, 'lago': 2320, 'melody': 2321, '14': 2322, 'manoj': 2323, 'ladh': 2324, 'ehsaas': 2325, 'shakti': 2326, 'kalyug': 2327, 'zimbabwe': 2328, 'voh': 2329, 'isne': 2330, 'tanqeed': 2331, '36': 2332, 'kamran': 2333, 'khilai': 2334, 'burnol': 2335, 'amma': 2336, 'pada': 2337, 'mujhse': 2338, 'woman': 2339, 'khamosh': 2340, 'police': 2341, 'crime': 2342, 'face': 2343, 'chanakya': 2344, 'mout': 2345, 'jodi': 2346, 'we': 2347, 'damad': 2348, 'sako': 2349, 'behas': 2350, 'daram': 2351, 'mujhko': 2352, 'mohabbat': 2353, 'country': 2354, 'laal': 2355, 'bohut': 2356, 'karate': 2357, 'uthaya': 2358, 'kahaa': 2359, 'aakhir': 2360, 'chalegi': 2361, 'minority': 2362, 'uk': 2363, 'sunday': 2364, 'hoty': 2365, 'rokne': 2366, 'cricketer': 2367, 'janti': 2368, 'thori': 2369, 'samjhta': 2370, 'toot': 2371, 'means': 2372, 'sabak': 2373, 'because': 2374, 'ghalti': 2375, 'west': 2376, 'kafee': 2377, 'zz': 2378, 'mayor': 2379, 'sarcastic': 2380, 'prabhas': 2381, 'zee': 2382, 'patra': 2383, 'ratna': 2384, 'child': 2385, 'ada': 2386, 'hae': 2387, 'leaders': 2388, 'tahir': 2389, 'rhega': 2390, 'feel': 2391, 'rahna': 2392, 'vikrant': 2393, 'dukan': 2394, 'manmohan': 2395, 'aapni': 2396, 'josh': 2397, 'maari': 2398, 'pehla': 2399, 'bharati': 2400, 'karny': 2401, 'opner': 2402, 'maqsad': 2403, 'barrh': 2404, 'waali': 2405, 'aajtak': 2406, 'sochna': 2407, 'jawan': 2408, 'chunaav': 2409, 'huve': 2410, 'asi': 2411, 'bihari': 2412, 'jehad': 2413, 'kiyu': 2414, 'chaat': 2415, 'huwe': 2416, 'paksh': 2417, 'aapse': 2418, 'baadme': 2419, 'milenge': 2420, 'bachchon': 2421, 'based': 2422, 'aalmi': 2423, 'dare': 2424, 'mom': 2425, 'huay': 2426, 'bolenge': 2427, 'ustaad': 2428, 'england': 2429, 'rail': 2430, 'kutto': 2431, 'moment': 2432, 'helo': 2433, 'budhi': 2434, 'jhooth': 2435, 'urmila': 2436, 'vajah': 2437, 'sunni': 2438, 'puchta': 2439, 'bhojpuri': 2440, 'apse': 2441, 'tabdeeli': 2442, 'sponcer': 2443, 'tayyar': 2444, 'tharki': 2445, 'tey': 2446, 'reply': 2447, 'jokes': 2448, 'apane': 2449, 'seva': 2450, 'qayadat': 2451, 'micromax': 2452, 'salam': 2453, 'gham': 2454, 'dy': 2455, 'kriti': 2456, 'sanon': 2457, 'songs': 2458, 'dhoop': 2459, 'aqib': 2460, 'maidan': 2461, 'contest': 2462, 'andolan': 2463, 'uncle': 2464, 'she': 2465, 'kisko': 2466, 'pari': 2467, 'vichar': 2468, 'hollywood': 2469, 'garibo': 2470, 'khelti': 2471, 'dimaag': 2472, 'rishta': 2473, 'tatti': 2474, 'journalist': 2475, 'memes': 2476, 'jali': 2477, 'palesi': 2478, 'just': 2479, 'dali': 2480, '40': 2481, 'khata': 2482, 'saeed': 2483, 'badnam': 2484, 'marr': 2485, 'ghum': 2486, 'bhasan': 2487, 'knowledge': 2488, 'keliye': 2489, 'dunia': 2490, 'chamka': 2491, 'karty': 2492, 'jannat': 2493, 'wrong': 2494, 'kiske': 2495, 'september': 2496, 'baadh': 2497, 'doosron': 2498, 'shaanti': 2499, 'bakra': 2500, 'hallala': 2501, 'sidha': 2502, 'quotes': 2503, 'returns': 2504, 'samsya': 2505, 'baray': 2506, 'drohi': 2507, 'dh': 2508, 'lakho': 2509, 'roye': 2510, 'made': 2511, 'bai': 2512, 'nayi': 2513, 'kisse': 2514, 'gayee': 2515, 'justice': 2516, 'rajya': 2517, 'metro': 2518, 'chak': 2519, 'jaya': 2520, 'chota': 2521, 'hafiz': 2522, 'jaroori': 2523, 'layak': 2524, 'hotel': 2525, 'sentencing': 2526, 'padha': 2527, 'dukhad': 2528, 'ranveer': 2529, 'mumkin': 2530, 'dilip': 2531, 'saira': 2532, 'baheno': 2533, 'hitler': 2534, 'mang': 2535, 'aaho': 2536, 'dhum': 2537, 'bhejte': 2538, 'nu': 2539, 'huee': 2540, 'ri': 2541, 'uday': 2542, 'izhaar': 2543, 'aagay': 2544, 'bhaag': 2545, 'aussie': 2546, 'jaanta': 2547, 'aisay': 2548, 'neend': 2549, 'guarantee': 2550, 'tujhko': 2551, 'piya': 2552, 'block': 2553, 'play': 2554, 'imad': 2555, 'kc': 2556, 'fantasy': 2557, 'besharmi': 2558, 'phool': 2559, 'friend': 2560, 'rahey': 2561, 'hoor': 2562, 'victims': 2563, 'vali': 2564, 'pichle': 2565, 'form': 2566, '99': 2567, 'gaane': 2568, 'mayawati': 2569, 'ht': 2570, '46': 2571, 'vinay': 2572, 'shreyas': 2573, 'charcha': 2574, 'gande': 2575, 'padhna': 2576, 'waja': 2577, 'zulm': 2578, 'nanga': 2579, 'certificate': 2580, 'moti': 2581, 'oxygen': 2582, 'che': 2583, 'khao': 2584, 'apno': 2585, 'deshon': 2586, 'allha': 2587, 'ani': 2588, 'kanun': 2589, 'uthta': 2590, 'zaleel': 2591, 'dhongi': 2592, 'sangh': 2593, 'jagha': 2594, 'nahee': 2595, 'anushka': 2596, 'kush': 2597, 'karengi': 2598, 'hati': 2599, 'anay': 2600, 'kehne': 2601, 'rehi': 2602, 'misbah': 2603, 'puhnchaya': 2604, 'ish': 2605, 'bazi': 2606, 'jadhav': 2607, 'discuss': 2608, '102': 2609, 'reddy': 2610, 'deshpande': 2611, 'sakuja': 2612, 'abba': 2613, 'resigned': 2614, 'thodar': 2615, 'athan': 2616, 'raajinaamaa': 2617, 'bechara': 2618, 'padhne': 2619, 'khatoon': 2620, 'raga': 2621, 'pl': 2622, 'nidhish': 2623, 'avi': 2624, 'pooja': 2625, 'apman': 2626, 'shit': 2627, 'know': 2628, 'tejashwi': 2629, 'kriye': 2630, 'balochistan': 2631, 'wafaqi': 2632, 'wazir': 2633, 'amoor': 2634, 'chhakka': 2635, 'jalane': 2636, 'thak': 2637, 'gaaliyan': 2638, 'ehsaan': 2639, 'rehne': 2640, 'issey': 2641, 'unme': 2642, '123': 2643, '55': 2644, 'prateek': 2645, 'puja': 2646, 'muda': 2647, 'yea': 2648, 'valo': 2649, 'sadhvi': 2650, 'bna': 2651, 'samapt': 2652, 'a2': 2653, 'chashma': 2654, 'paayi': 2655, 'wahin': 2656, 'bnd': 2657, 'katue': 2658, 'option': 2659, 'sada': 2660, 'insider': 2661, 'id': 2662, 'dhokha': 2663, 'najar': 2664, 'badiya': 2665, 'loge': 2666, 'itani': 2667, 'samjho': 2668, 'aksar': 2669, 'kaum': 2670, 'dusare': 2671, 'dash': 2672, 'safalta': 2673, 'problems': 2674, 'kripya': 2675, 'vala': 2676, 'common': 2677, 'gire': 2678, 'koyla': 2679, 'vaisa': 2680, 'aray': 2681, 'lakhon': 2682, 'bagair': 2683, 'udaas': 2684, 'shair': 2685, 'sbse': 2686, 'krega': 2687, 'laat': 2688, 'attention': 2689, 'bhikari': 2690, 'jaiye': 2691, 'bachan': 2692, 'bolti': 2693, 'atay': 2694, 'sonam': 2695, 'yateem': 2696, 'il': 2697, 'paul': 2698, 'dosi': 2699, 'handle': 2700, 'batne': 2701, 'gair': 2702, 'negative': 2703, 'likhne': 2704, 'jadoo': 2705, 'samajte': 2706, 'leave': 2707, 'empowerment': 2708, 'selective': 2709, 'bheja': 2710, 'nyay': 2711, 'full': 2712, 'jivan': 2713, 'biopic': 2714, 'srilanka': 2715, 'meeting': 2716, 'paagal': 2717, 'oppo': 2718, 'pado': 2719, 'nashe': 2720, 'ghalat': 2721, 'vipaksh': 2722, 'mullas': 2723, 'bahali': 2724, 'responsibility': 2725, 'beth': 2726, 'jaty': 2727, 'loha': 2728, 'why': 2729, 'bichara': 2730, 'az': 2731, 'ghazab': 2732, '23': 2733, 'jumle': 2734, 'sindh': 2735, 'wapasi': 2736, 'gaay': 2737, 'sidhi': 2738, 'dvs': 2739, 'brave': 2740, 'hadiya': 2741, 'fund': 2742, '35a': 2743, 'puchte': 2744, 'huvi': 2745, 'sikhane': 2746, 'sawaal': 2747, 'kidhar': 2748, 'sadiq': 2749, 'unbelievable': 2750, 'musalmaan': 2751, 'connection': 2752, 'shart': 2753, 'apradhi': 2754, 'normal': 2755, 'uchhal': 2756, 'ladkiyon': 2757, 'shabd': 2758, 'masle': 2759, 'adityanath': 2760, 'things': 2761, 'chiz': 2762, 'tejas': 2763, 'ninda': 2764, 'jhanki': 2765, 'dhund': 2766, 'anil': 2767, 'boys': 2768, 'kutch': 2769, 'jayse': 2770, 'mukh': 2771, 'ukhad': 2772, 'kejruddin': 2773, 'panama': 2774, 'jinhone': 2775, 'tukde': 2776, 'jaroor': 2777, 'cheezein': 2778, 'aish': 2779, 'nikle': 2780, 'kutton': 2781, 'nidhi': 2782, 'anand': 2783, 'shukla': 2784, 'kartha': 2785, 'virasat': 2786, 'jhute': 2787, 'action': 2788, 'pehen': 2789, 'kahta': 2790, '90s': 2791, 'kareeb': 2792, 'votes': 2793, 'jalta': 2794, 'jalne': 2795, 'khete': 2796, 'quote': 2797, 'democracy': 2798, 'tau': 2799, 'check': 2800, 'issliye': 2801, 'darte': 2802, 'dharna': 2803, 'mullah': 2804, 'imp': 2805, 'tay': 2806, 'batein': 2807, 'loksabha': 2808, 'gobar': 2809, 'qoum': 2810, 'jaega': 2811, 'chutia': 2812, 'altaf': 2813, 'nv': 2814, 'ranbir': 2815, 'busy': 2816, 'teams': 2817, 'achaa': 2818, 'batane': 2819, 'lines': 2820, 'display': 2821, 'baloch': 2822, 'madarchodo': 2823, 'ske': 2824, 'saf': 2825, '2013': 2826, 'mitro': 2827, 'jita': 2828, 'pit': 2829, 'shameless': 2830, 'dakhal': 2831, 'ppl': 2832, 'basic': 2833, 'permanent': 2834, 'bhikhari': 2835, 'ambulance': 2836, 'milna': 2837, 'gujrat': 2838, 'rip': 2839, 'karao': 2840, 'pcb': 2841, 'samvidhan': 2842, 'ae': 2843, 'site': 2844, 'nikaal': 2845, 'ajay': 2846, 'turn': 2847, 'work': 2848, 'khaan': 2849, 'aaoge': 2850, 'hala': 2851, 'amal': 2852, 'kat': 2853, 'someone': 2854, 'chaman': 2855, 'bhav': 2856, 'ration': 2857, 'kela': 2858, 'tomar': 2859, 'anchor': 2860, 'chun': 2861, '4th': 2862, 'hogayi': 2863, 'loss': 2864, 'deen': 2865, 'araha': 2866, 'sadakchhap': 2867, 'katrina': 2868, 'kaif': 2869, 'same': 2870, 'thought': 2871, 'aawaz': 2872, 'send': 2873, 'aas': 2874, 'tamil': 2875, 'hoshiyar': 2876, 'jeetne': 2877, 'luck': 2878, 'pare': 2879, 'united': 2880, '22': 2881, 'haad': 2882, 'manu': 2883, 'bhakts': 2884, 'chamkani': 2885, 'target': 2886, 'lasho': 2887, 'aulaad': 2888, 'zaheer': 2889, 'rajper': 2890, 'jat': 2891, 'rajasthan': 2892, '35': 2893, 'barfi': 2894, 'special': 2895, 'judge': 2896, 'behaal': 2897, 'kadhi': 2898, 'sejal': 2899, 'bhookh': 2900, 'soldiers': 2901, 'rain': 2902, 'siriwardana': 2903, 'chameera': 2904, '192': 2905, 'idea': 2906, 'ran': 2907, 'akhtar': 2908, 'apnay': 2909, 'uae': 2910, 'foreign': 2911, 'phly': 2912, 'faida': 2913, 'important': 2914, 'dushmani': 2915, 'intolerance': 2916, 'bikta': 2917, 'advertising': 2918, 'dikhana': 2919, 'asa': 2920, 'sadhu': 2921, 'young': 2922, 'baz': 2923, 'judiciary': 2924, 'step': 2925, 'rajiv': 2926, 'yrs': 2927, 'limit': 2928, 'unk': 2929, 'pahele': 2930, 'burka': 2931, 'salary': 2932, 'bharpoor': 2933, 'tujh': 2934, 'bhaga': 2935, 'ghanshyam': 2936, 'saccha': 2937, 'payegi': 2938, 'kardo': 2939, 'zindgi': 2940, 'at': 2941, 'hamse': 2942, 'nuksan': 2943, 'chhota': 2944, 'lucknow': 2945, 'shahrukh': 2946, 'base': 2947, 'guzarish': 2948, 'control': 2949, 'shukra': 2950, 'thanda': 2951, 'qki': 2952, 'gandgi': 2953, 'des': 2954, 'setting': 2955, 'rate': 2956, 'dhandha': 2957, 'mission': 2958, 'tanwar': 2959, 'chahy': 2960, 'red': 2961, 'karthe': 2962, 'chahti': 2963, 'doklam': 2964, 'staff': 2965, 'rakhega': 2966, 'haryanvi': 2967, 'raajneeti': 2968, 'yun': 2969, 'muhammad': 2970, 'supporter': 2971, 'huva': 2972, 'ake': 2973, 'nali': 2974, 'beheno': 2975, 'narendra': 2976, 'hila': 2977, 'thappad': 2978, 'disaster': 2979, 'gaandu': 2980, 'gandu': 2981, 'pey': 2982, 'night': 2983, 'soche': 2984, 'sp': 2985, 'abhinav': 2986, '38': 2987, 'list': 2988, 'lagati': 2989, 'koun': 2990, 'uthane': 2991, 'sukun': 2992, 'bal': 2993, 'mt': 2994, 'zamane': 2995, 'hasan': 2996, 'bhagwa': 2997, 'hafeez': 2998, 'srf': 2999, 'grow': 3000, 'always': 3001, 'khyal': 3002, 'bachay': 3003, 'thodarchiyaana': 3004, 'tholvi': 3005, 'kuritthu': 3006, 'palveru': 3007, 'tharappilum': 3008, 'vimarsanam': 3009, 'thalamayilaana': 3010, 'qom': 3011, 'trump': 3012, 'pichay': 3013, 'jankari': 3014, 'saw': 3015, 'bhula': 3016, 'chat': 3017, 'joshi': 3018, 'mazza': 3019, 'dhoondo': 3020, 'lagao': 3021, 'mentality': 3022, 'jashodaben': 3023, 'chi': 3024, 'aahe': 3025, 'dawood': 3026, 'bhasha': 3027, 'aurton': 3028, 'mulayam': 3029, 'kisano': 3030, 'bali': 3031, 'rehti': 3032, 'ashraf': 3033, 'mehsoos': 3034, 'himat': 3035, 'inme': 3036, 'pucho': 3037, 'oye': 3038, 'taaki': 3039, 'communal': 3040, 'waalo': 3041, 'laana': 3042, 'fawad': 3043, 'company': 3044, 'reliance': 3045, 'chaly': 3046, 'patthar': 3047, 'dho': 3048, 'samjo': 3049, 'soraksa': 3050, 'rakhy': 3051, 'chauhan': 3052, 'kaali': 3053, 'seekha': 3054, 'wha': 3055, 'pae': 3056, 'shakal': 3057, 'chhupa': 3058, 'dunga': 3059, 'jiye': 3060, 'loose': 3061, 'dilane': 3062, 'zaruri': 3063, 'ny': 3064, 'karwai': 3065, 'usay': 3066, 'comparison': 3067, 'cr': 3068, 'mamata': 3069, 'smell': 3070, 'rahat': 3071, 'wasiyo': 3072, 'irada': 3073, 'haii': 3074, 'blame': 3075, 'walle': 3076, 'nayak': 3077, 'wese': 3078, 'kan': 3079, 'aapas': 3080, 'chatna': 3081, 'veena': 3082, 'black': 3083, 'kanjar': 3084, 'zamana': 3085, 'muddon': 3086, 'jisey': 3087, 'pariwar': 3088, 'gv': 3089, 'paribortan': 3090, 'magic': 3091, 'they': 3092, 'never': 3093, 'chhupane': 3094, 'chhattisgarh': 3095, 'active': 3096, 'likhta': 3097, 'score': 3098, 'rashid': 3099, 'mona': 3100, 'shaikh': 3101, 'harkat': 3102, 'z': 3103, 'banerjee': 3104, 'prasad': 3105, 'many': 3106, 'kabul': 3107, 'sary': 3108, '2011': 3109, 'behn': 3110, 'cheej': 3111, 'niyam': 3112, 'ndtv': 3113, 'biceps': 3114, 'kaaran': 3115, 'sakhta': 3116, 'barre': 3117, 'naamon': 3118, 'durust': 3119, 'jeson': 3120, 'holder': 3121, 'mehr': 3122, 'patel': 3123, 'chaahiye': 3124, 'bolkar': 3125, 'mujhay': 3126, 'milay': 3127, 'degi': 3128, 'padti': 3129, 'salo': 3130, 'house': 3131, 'badho': 3132, 'bhaad': 3133, 'hogya': 3134, 'asif': 3135, 'bold': 3136, 'samna': 3137, 'beto': 3138, 'mahilaye': 3139, 'razzaq': 3140, 'already': 3141, 'solve': 3142, 'lagega': 3143, 'padhta': 3144, 'sahara': 3145, 'safety': 3146, 'khatarnak': 3147, 'janm': 3148, 'gulam': 3149, 'seedhe': 3150, 'qubool': 3151, 'samjhane': 3152, 'qabool': 3153, 'os': 3154, 'advice': 3155, 'sachche': 3156, 'also': 3157, 'border': 3158, 'horahe': 3159, 'ns': 3160, 'indies': 3161, 'deshbhakti': 3162, 'khada': 3163, 'baukhlaye': 3164, 'two': 3165, 'waley': 3166, 'set': 3167, 'paoge': 3168, 'azad': 3169, 'nikalne': 3170, 'jawaab': 3171, 'university': 3172, 'masala': 3173, 'ispar': 3174, 'maazi': 3175, 'ramzan': 3176, 'nusrat': 3177, 'pop': 3178, 'daikhain': 3179, 'daan': 3180, 'surakchhit': 3181, 'garv': 3182, 'chara': 3183, 'aamad': 3184, 'tour': 3185, 'safal': 3186, 'mangte': 3187, 'arahi': 3188, 'istemal': 3189, 'rozgar': 3190, 'hogye': 3191, 'abad': 3192, 'safe': 3193, 'etne': 3194, 'kitab': 3195, 'jag': 3196, 'hamre': 3197, 'baadshah': 3198, 'multiple': 3199, 'sae': 3200, 'dosti': 3201, 'tiger': 3202, 'samjhao': 3203, 'tara': 3204, 'istifa': 3205, 'cancer': 3206, 'patni': 3207, 'kijiy': 3208, 'oor': 3209, 'rs': 3210, 'fb': 3211, 'suni': 3212, 'kosis': 3213, 'karaya': 3214, 'jeeti': 3215, 'saalo': 3216, 'agle': 3217, 'kiyon': 3218, 'teesri': 3219, 'gazab': 3220, 'demand': 3221, 'gain': 3222, 'dikshanshu': 3223, 'kiska': 3224, 'majak': 3225, 'yog': 3226, 'bahen': 3227, 'done': 3228, 'bak': 3229, 'mla': 3230, 'jp': 3231, 'aizaz': 3232, 'jaante': 3233, 'badshah': 3234, 'caption': 3235, 'achanak': 3236, 'jakar': 3237, 'pidit': 3238, 'chaatu': 3239, 'chayiye': 3240, 'cilovb': 3241, 'brahman': 3242, 'dyan': 3243, 'gautam': 3244, 'dal': 3245, 'baten': 3246, 'kamyabi': 3247, 'rapists': 3248, 'arijit': 3249, 'toote': 3250, 'nikalta': 3251, 'abbu': 3252, 'mien': 3253, 'kernay': 3254, 'reporter': 3255, 'pakistaniyo': 3256, 'shreya': 3257, 'ghoshal': 3258, 'pratap': 3259, 'judgement': 3260, 'fraud': 3261, 'dogla': 3262, 'yojna': 3263, '2nd': 3264, 'khelega': 3265, 'daily': 3266, 'maid': 3267, 'bhuvi': 3268, 'jinnah': 3269, 'bethe': 3270, 'bhikh': 3271, 'prashn': 3272, 'bhagvan': 3273, 'ishrat': 3274, 'aakar': 3275, 'kali': 3276, 'from': 3277, 'another': 3278, 'radio': 3279, 'aadhar': 3280, 'loog': 3281, 'en': 3282, 'tarika': 3283, 'itnay': 3284, 'bangalore': 3285, 'numbers': 3286, 'todne': 3287, 'ucc': 3288, 'ad': 3289, 'gum': 3290, 'chupa': 3291, 'tl': 3292, 'jalte': 3293, 'sadko': 3294, 'durga': 3295, 'gaurakshak': 3296, 'hasil': 3297, 'yo': 3298, 'angrez': 3299, 'harr': 3300, 'unfortunately': 3301, 'cars': 3302, 'war': 3303, 'profile': 3304, 'sarm': 3305, 'google': 3306, 'sultan': 3307, 'laalu': 3308, 'legi': 3309, 'divide': 3310, '1992': 3311, 'taisi': 3312, 'oppose': 3313, 'jhanse': 3314, 'promise': 3315, 'tb': 3316, 'shok': 3317, 'matt': 3318, 'lain': 3319, '200': 3320, 'yaaro': 3321, 'yaani': 3322, 'rahoge': 3323, 'dhoni300': 3324, 'huh': 3325, 'ghat': 3326, 'dee': 3327, 'prostitute': 3328, 'nothing': 3329, 'sakoon': 3330, 'via': 3331, 'bakchodi': 3332, 'hashtag': 3333, 'singham': 3334, 'barometer': 3335, 'kodi': 3336, 'jaegi': 3337, 'paate': 3338, 'thaan': 3339, 'danga': 3340, 'sabji': 3341, 'bechne': 3342, 'taiyar': 3343, 'palti': 3344, 'laanat': 3345, 'banai': 3346, 'dange': 3347, 'wednesday': 3348, 'wisdom': 3349, 'humanity': 3350, 'mazboot': 3351, 'rajesh': 3352, 'satya': 3353, 'rare': 3354, 'khatra': 3355, 'sanghi': 3356, 'sanjeev': 3357, 'karege': 3358, 'bhajpa': 3359, 'hawaa': 3360, 'bill': 3361, 'alia': 3362, 'light': 3363, 'amp': 3364, 'dedo': 3365, 'khuwaish': 3366, 'mem': 3367, 'congrats': 3368, 'chahal': 3369, 'kuldeep': 3370, 'tension': 3371, 'yahaan': 3372, 'gandhiji': 3373, 'doob': 3374, '300': 3375, 'bure': 3376, 'janwaro': 3377, 'nepal': 3378, 'kb': 3379, 'shut': 3380, 'bawana': 3381, 'rastra': 3382, 'yani': 3383, 'neelam': 3384, 'murda': 3385, 'nojawanon': 3386, 'khilane': 3387, 'larke': 3388, 'inzamam': 3389, 'vhi': 3390, 'husband': 3391, 'jaenge': 3392, 'lanat': 3393, 'kabristan': 3394, '1bhi': 3395, 'hao': 3396, 'divya': 3397, 'jyaada': 3398, 'rescue': 3399, 'sona': 3400, 'debates': 3401, 'chadha': 3402, 'atyachar': 3403, 'sacchi': 3404, 'jaab': 3405, 'pel': 3406, 'stand': 3407, 'waisa': 3408, 'matram': 3409, 'kholi': 3410, 'likhi': 3411, 'intrest': 3412, 'sapna': 3413, 'profit': 3414, 'akela': 3415, 'lai': 3416, 'mika': 3417, 'jaayenge': 3418, 'rey': 3419, 'khwahish': 3420, 'reet': 3421, 'failure': 3422, 'manohar': 3423, 'secularism': 3424, 'baju': 3425, 'gully': 3426, 'batate': 3427, 'dp': 3428, 'buddhe': 3429, 'motivation': 3430, 'declare': 3431, 'khaate': 3432, 'chuha': 3433, 'zaman': 3434, 'sahmed': 3435, 'fashraf': 3436, 'hali': 3437, 'dream11': 3438, 'k11': 3439, 'got': 3440, 'khelney': 3441, 'cust': 3442, 'yha': 3443, 'months': 3444, 'dall': 3445, 'hazir': 3446, 'service': 3447, 'actresses': 3448, 'jaari': 3449, 'kiu': 3450, 'muqabila': 3451, 'aankhe': 3452, 'prediction': 3453, 'bss': 3454, 'belt': 3455, 'thk': 3456, '154': 3457, 'mayank': 3458, 'agarwal': 3459, '68': 3460, 'vyshak': 3461, 'gopal': 3462, 'look': 3463, 'indo': 3464, 'bhencho': 3465, 'khane': 3466, 'wande': 3467, 'asia': 3468, 'parantu': 3469, 'bhaarti': 3470, 'virender': 3471, 'honay': 3472, 'fateh': 3473, 'suport': 3474, 'actually': 3475, 'haters': 3476, 'subha': 3477, 'update': 3478, 'bulata': 3479, 'krni': 3480, 'jine': 3481, 'taiyari': 3482, 'sudhrenge': 3483, 'pohanch': 3484, 'nainsafi': 3485, 'noon': 3486, 'abbasi': 3487, 'mardo': 3488, 'promotion': 3489, 'jarori': 3490, 'damn': 3491, 'iron': 3492, 'krde': 3493, 'nara': 3494, 'elaaj': 3495, 'dhakosalay': 3496, 'pressure': 3497, 'seyasi': 3498, '1000': 3499, 'asha': 3500, 'aaram': 3501, 'a66a': 3502, 'kulbhushan': 3503, 'manjesh': 3504, 'pavan': 3505, 'ritesh': 3506, 'bhatkal': 3507, 'ethiroli': 3508, 'utpada': 3509, 'uruppinarkal': 3510, 'anari': 3511, 'equipment': 3512, 'academy': 3513, 'data': 3514, 'equality': 3515, 'ok': 3516, 'dubey': 3517, 'badalne': 3518, 'nikalenge': 3519, 'prayer': 3520, 'akhand': 3521, 'kad': 3522, 'huaa': 3523, 'marana': 3524, 'asliyat': 3525, 'stedium': 3526, 'jahen': 3527, 'parilmani': 3528, 'tournament': 3529, 'kosh': 3530, 'badsoorat': 3531, 'bey': 3532, 'sahmat': 3533, 'bed': 3534, 'nikin': 3535, 'jose': 3536, 'shivam': 3537, 'bhavesh': 3538, 'gulecha': 3539, 'keeda': 3540, 'sadi': 3541, 'filmein': 3542, 'mahilayen': 3543, 'bhaw': 3544, 'ashtha': 3545, 'pane': 3546, 'khelni': 3547, 'midia': 3548, 'dege': 3549, 'a1': 3550, 'a3': 3551, 'magzine': 3552, 'pida': 3553, 'bhaiyye': 3554, 'states': 3555, 'zimedari': 3556, 'practice': 3557, 'joo': 3558, 'usey': 3559, 'yhi': 3560, 'village': 3561, 'inshaallah': 3562, 'bhaal': 3563, 'pehley': 3564, 'pahen': 3565, 'sympathy': 3566, 'badlo': 3567, 'rahogey': 3568, 'zaban': 3569, 'ydi': 3570, 'rahulji': 3571, 'rahene': 3572, '2003': 3573, 'guna': 3574, 'nek': 3575, 'mie': 3576, 'argument': 3577, 'kaark': 3578, 'lagwa': 3579, 'hooro': 3580, 'doobti': 3581, 'padte': 3582, 'sunaai': 3583, 'dikhaayi': 3584, 'regular': 3585, 'missile': 3586, 'uffff': 3587, 'lahori': 3588, 'bhavishya': 3589, 'every': 3590, 'thing': 3591, 'punchkula': 3592, 'defence': 3593, 'haraam': 3594, 'tez': 3595, 'hong': 3596, 'brother': 3597, 'majbut': 3598, 'hoa': 3599, 'nakal': 3600, 'lagaye': 3601, 'gareebon': 3602, 'bahano': 3603, 'prati': 3604, 'badmasho': 3605, 'napunsak': 3606, 'bha': 3607, 'rohtak': 3608, 'bhol': 3609, 'chaha': 3610, 'kanhaiya': 3611, 'kapur': 3612, 'gone': 3613, 'qoumi': 3614, 'karwaya': 3615, 'wise': 3616, 'golden': 3617, 'chahay': 3618, 'naqlee': 3619, '2016': 3620, 'bhogi': 3621, 'pakvs': 3622, 'paane': 3623, 'av': 3624, 'nitesh': 3625, 'chehra': 3626, 'janata': 3627, 'mou': 3628, 'mani': 3629, 'halaala': 3630, 'khullam': 3631, 'khulla': 3632, 'chilla': 3633, 'press': 3634, 'when': 3635, 'shahenshah': 3636, 'son': 3637, 'sony': 3638, 'chakke': 3639, 'chauke': 3640, 'seedha': 3641, 'btao': 3642, 'ghareeb': 3643, 'chidiya': 3644, 'kameeno': 3645, 'utre': 3646, 'kesi': 3647, 'chaaron': 3648, 'chore': 3649, 'tarakki': 3650, 'mardana': 3651, 'kamzori': 3652, 'supporting': 3653, 'batsman': 3654, 'para': 3655, 'manaa': 3656, 'bath': 3657, 'spectators': 3658, 'aplog': 3659, 'ukharda': 3660, 'sumjh': 3661, 'kahti': 3662, 'razdan': 3663, 'aasan': 3664, 'ansar': 3665, 'chain': 3666, 'sahee': 3667, 'bahiskar': 3668, 'tshirt': 3669, 'lahoriyon': 3670, 'trophy': 3671, 'upp': 3672, 'sochate': 3673, 'dhan': 3674, 'mitron': 3675, 'parh': 3676, 'moulavis': 3677, 'daag': 3678, 'dhul': 3679, 'bheer': 3680, 'members': 3681, 'ca': 3682, 'marke': 3683, 'neech': 3684, 'antaratma': 3685, 'high': 3686, 'manage': 3687, 'diwali': 3688, 'rishtedaar': 3689, 'katta': 3690, 'katega': 3691, 'dogs': 3692, 'bhen': 3693, 'nahen': 3694, 'panapne': 3695, 'milo': 3696, 'arti': 3697, 'dhamaka': 3698, 'laut': 3699, 'math': 3700, 'haseen': 3701, 'congressi': 3702, 'chiye': 3703, 'gold': 3704, 'varun': 3705, 'andaz': 3706, 'sazaa': 3707, 'poti': 3708, 'aggressive': 3709, 'government': 3710, 'buniyadi': 3711, 'samane': 3712, 'confused': 3713, 'jiv': 3714, 'rotiya': 3715, 'sek': 3716, 'khani': 3717, 'bann': 3718, 'tana': 3719, 'laude': 3720, 'kishan': 3721, 'sheikh': 3722, 'behano': 3723, 'dekte': 3724, 'chaal': 3725, 'sewa': 3726, 'makkhi': 3727, 'propaganda': 3728, 'smaj': 3729, 'ladd': 3730, 'earthquake': 3731, 'samajhti': 3732, 'ramayan': 3733, 'maanta': 3734, 'maha': 3735, 'proper': 3736, 'bahaal': 3737, 'rkhne': 3738, 'too': 3739, 'hated': 3740, 'detay': 3741, 'pelne': 3742, 'satte': 3743, 'cine': 3744, 'valladolid': 3745, 'spain': 3746, 'cio': 3747, 'desi': 3748, 'hottie': 3749, 'gatar': 3750, 'mita': 3751, 'ptards': 3752, 'bechari': 3753, 'bhumi': 3754, 'pednekar': 3755, 'shubh': 3756, 'mangal': 3757, 'khayal': 3758, 'ziyada': 3759, 'begaane': 3760, 'abdullah': 3761, 'vohi': 3762, 'kureeti': 3763, 'manhoos': 3764, 'raz': 3765, 'kra': 3766, '1947': 3767, 'abtak': 3768, 'hatyara': 3769, 'hasa': 3770, 'mast': 3771, 'nikhil': 3772, 'iddat': 3773, 'kadi': 3774, 'itihas': 3775, 'sec': 3776, 'tirange': 3777, 'harsh': 3778, 'hii': 3779, 'bharatiya': 3780, 'choli': 3781, 'peechhe': 3782, 'wahid': 3783, 'hahahaha': 3784, 'ghadi': 3785, 'bhir': 3786, 'heroin': 3787, 'kavi': 3788, 'abbe': 3789, 'comments': 3790, 'madhe': 3791, 'expert': 3792, 'vaar': 3793, 'jooth': 3794, 'seekhe': 3795, 'faraz': 3796, 'vapsi': 3797, 'aaise': 3798, 'betiyo': 3799, 'omar': 3800, 'khus': 3801, 'aachhe': 3802, 'dikhawa': 3803, 'reforms': 3804, 'samajhna': 3805, 'person': 3806, 'dhaam': 3807, 'pee': 3808, 'bistar': 3809, 'feminism': 3810, 'inspirational': 3811, 'liberty': 3812, 'bisi': 3813, 'charche': 3814, 'who': 3815, 'hint': 3816, 'thursday': 3817, '1975': 3818, 'hatane': 3819, 'khaney': 3820, 'ilawa': 3821, 'auqat': 3822, 'ura': 3823, 'fahrana': 3824, 'report': 3825, 'record': 3826, 'radhe': 3827, 'uruppinarhal': 3828, 'failana': 3829, 'lr': 3830, 'kachche': 3831, 'dosh': 3832, 'granth': 3833, 'slow': 3834, 'sent': 3835, 'bunn': 3836, 'mal': 3837, 'kabbadi': 3838, 'karva': 3839, 'mc': 3840, 'jeetay': 3841, 'related': 3842, 'masti': 3843, 'thodri': 3844, 'junoon': 3845, 'tumlog': 3846, 'dikhaoge': 3847, 'rakkha': 3848, 'kand': 3849, 'dikhai': 3850, 'deewani': 3851, 'kama': 3852, 'producers': 3853, 'harne': 3854, 'pro': 3855, 'patna': 3856, 'ronaq': 3857, 'remember': 3858, 'kabil': 3859, 'achchi': 3860, 'doodh': 3861, 'pran': 3862, 'tumhre': 3863, 'mental': 3864, 'millat': 3865, 'kamyab': 3866, 'bataye': 3867, 'sanyas': 3868, 'karwane': 3869, 'qanon': 3870, 'naqab': 3871, 'bikne': 3872, 'tarhan': 3873, 'laaye': 3874, 'anchors': 3875, 'ajao': 3876, 'ikhlaq': 3877, 'baa': 3878, 'alld': 3879, 'aaptards': 3880, 'arvind': 3881, 'sign': 3882, 'aqal': 3883, 'theke': 3884, 'aagar': 3885, 'release': 3886, 'pathhar': 3887, 'peetal': 3888, 'baaliyon': 3889, 'biyaah': 3890, 'stage': 3891, 'bajay': 3892, 'vandematram': 3893, 'kalpana': 3894, 'kheloge': 3895, 'mazhab': 3896, 'chae': 3897, 'dead': 3898, 'aagy': 3899, 'mooh': 3900, 'aajadi': 3901, 'network': 3902, 'badhao': 3903, 'sasti': 3904, 'chamcho': 3905, 'medal': 3906, 'paan': 3907, 'paish': 3908, 'anchoring': 3909, 'vaisae': 3910, 'fikar': 3911, 'rhte': 3912, 'carpet': 3913, 'factory': 3914, 'course': 3915, 'yogiji': 3916, '63': 3917, 'baj': 3918, 'uthata': 3919, 'filhal': 3920, 'tabah': 3921, 'rakhdiya': 3922, 'hamaray': 3923, 'phoolon': 3924, 'mehak': 3925, 'usweqt': 3926, 'kafeel': 3927, 'kshati': 3928, 'morning': 3929, 'flashback': 3930, 'shaid': 3931, 'dikhaye': 3932, 'lagegi': 3933, 'sarahah': 3934, 'v4': 3935, 'khudai': 3936, 'dalo': 3937, 'zahilo': 3938, 'sikho': 3939, 'kaaranamaaha': 3940, 'jyadaa': 3941, 'system': 3942, 'dekhti': 3943, 'chairman': 3944, 'hisa': 3945, 'farz': 3946, 'jimmedari': 3947, 'tt': 3948, 'shakt': 3949, 'unemployment': 3950, 'yuvi': 3951, 'keval': 3952, 'tej': 3953, 'commentry': 3954, 'aajaadi': 3955, 'hogai': 3956, 'b10': 3957, 'shyd': 3958, 'height': 3959, 'banenge': 3960, 'prakar': 3961, 'aham': 3962, 'concentrate': 3963, 'naaa': 3964, 'aurato': 3965, 'galati': 3966, 'economy': 3967, 'marna': 3968, 'lgta': 3969, 'criticize': 3970, 'vyapam': 3971, 'our': 3972, 'bahaali': 3973, 'kharch': 3974, 'rajkumar': 3975, 'haat': 3976, 'maangne': 3977, 'gauri': 3978, 'lankesh': 3979, 'while': 3980, 'twist': 3981, 'punjabi': 3982, 'harry': 3983, 'talaak': 3984, 'gyaa': 3985, 'due': 3986, 'jija': 3987, 'blog': 3988, 'ever': 3989, 'seen': 3990, 'kamaye': 3991, 'kamaya': 3992, 'seriously': 3993, 'kaamyaabi': 3994, 'tamam': 3995, 'jaen': 3996, 'ummide': 3997, 'kroge': 3998, 'mallya': 3999, 'dhavan': 4000, 'khaati': 4001, 'uskay': 4002, 'picnic': 4003, 'saboot': 4004, 'madarsa': 4005, 'takke': 4006, 'governance': 4007, 'amalan': 4008, 'baladasti': 4009, 'hakmiyat': 4010, 'qayim': 4011, 'bhid': 4012, 'pai': 4013, 'wagra': 4014, 'vemula': 4015, 'nadeem': 4016, 'orr': 4017, 'barf': 4018, 'hypocrite': 4019, 'disturb': 4020, 'bayaan': 4021, 'ravish': 4022, 'krwa': 4023, 'mery': 4024, 'hidden': 4025, 'molvi': 4026, 'ganna': 4027, 'ghumte': 4028, 'achche': 4029, 'gana': 4030, 'rich': 4031, 'pahucha': 4032, 'lynching': 4033, 'maths': 4034, 'parr': 4035, 'prachar': 4036, 'joker': 4037, '2002': 4038, 'sunaya': 4039, 'dekhke': 4040, 'rjd': 4041, 'jamane': 4042, 'kick': 4043, 'pirito': 4044, 'kooch': 4045, 'sukoon': 4046, 'bhakton': 4047, 'shock': 4048, 'khrab': 4049, 'ay': 4050, 'dila': 4051, 'pirit': 4052, 'bakaiti': 4053, 'aankho': 4054, 'hall': 4055, 'kasab': 4056, 'khila': 4057, 'condemn': 4058, 'aapiye': 4059, 'chutiyape': 4060, 'mutne': 4061, 'aapna': 4062, 'izhar': 4063, 'cover': 4064, 'soon': 4065, 'guess': 4066, 'oyeein': 4067, 'baksh': 4068, 'internet': 4069, 'kati': 4070, 'indoor': 4071, 'manega': 4072, 'hurriyat': 4073, 'utsav': 4074, 'karnama': 4075, 'haraya': 4076, 'javan': 4077, 'poll': 4078, 'evm': 4079, 'aayege': 4080, 'maaraa': 4081, 'agaya': 4082, 'aatma': 4083, 'tyohaar': 4084, 'shikhaya': 4085, 'aalawa': 4086, 'faith': 4087, 'adhikar': 4088, 'wahe': 4089, 'rakshak': 4090, 'aurate': 4091, 'nind': 4092, 'stance': 4093, 'mns': 4094, 'mulki': 4095, 'mafaad': 4096, 'lambi': 4097, 'naari': 4098, 'bolney': 4099, 'pahan': 4100, 'episode': 4101, 'aakhri': 4102, 'karde': 4103, 'aakash': 4104, 'shubhkamnaye': 4105, 'mean': 4106, 'chhodkar': 4107, 'pahli': 4108, 'sheesh': 4109, 'feeling': 4110, 'esko': 4111, 'kesa': 4112, 'dars': 4113, 'ziada': 4114, 'dhayan': 4115, 'roza': 4116, 'haj': 4117, 'zakat': 4118, 'baghair': 4119, 'hifazat': 4120, 'samaz': 4121, 'arz': 4122, 'central': 4123, 'kuran': 4124, 'luta': 4125, 'arun': 4126, '41': 4127, 'pv': 4128, '57': 4129, '43': 4130, 'padhao': 4131, 'mithali': 4132, 'dilli': 4133, 'mukt': 4134, 'mille': 4135, 'my': 4136, 'much': 4137, 'speak': 4138, 'piles': 4139, 'kaala': 4140, 'mahaz': 4141, 'faf': 4142, 'plessis': 4143, 'simran': 4144, 'nana': 4145, 'ladna': 4146, 'icha': 4147, 'hinsa': 4148, 'naadaan': 4149, 'balatkar': 4150, 'sharafat': 4151, 'drop': 4152, 'tiranga': 4153, 'sochi': 4154, 'dehshat': 4155, 'sweet': 4156, 'rajinaama': 4157, 'badle': 4158, 'bologe': 4159, 'khairiyat': 4160, 'mustafa': 4161, 'moqa': 4162, 'jhandu': 4163, 'anirudha': 4164, '59': 4165, 'charitra': 4166, 'taubah': 4167, 'bolete': 4168, 'ameer': 4169, 'spin': 4170, 'rho': 4171, 'asar': 4172, 'yet': 4173, 'marathi': 4174, 'subject': 4175, 'hadsa': 4176, 'dwara': 4177, 'arabi': 4178, 'fest': 4179, 'honey': 4180, 'if': 4181, 'misaal': 4182, 'achay': 4183, 'looo': 4184, 'poatti': 4185, 'past': 4186, 'majboori': 4187, 'bhosdi': 4188, 'temple': 4189, 'indra': 4190, 'skti': 4191, 'hogaa': 4192, 'jarsi': 4193, 'kabhie': 4194, 'raavan': 4195, 'mohan': 4196, 'tadka': 4197, 'rozgaar': 4198, 'albata': 4199, 'jadojehad': 4200, 'rahoonga': 4201, 'kiyoun': 4202, 'alam': 4203, 'karage': 4204, 'pehly': 4205, 'boss': 4206, 'yadi': 4207, 'diyan': 4208, 'kahain': 4209, 'aamar': 4210, 'aami': 4211, 'aar': 4212, 'islamabad': 4213, 'cause': 4214, 'bhand': 4215, 'policy': 4216, 'taiyaar': 4217, 'bazaar': 4218, 'er': 4219, 'dedicated': 4220, 'akram': 4221, 'disha': 4222, 'fauji': 4223, 'ayub': 4224, 'aah': 4225, 'gunaah': 4226, 'jeena': 4227, 'add': 4228, 'scene': 4229, 'hwa': 4230, 'chle': 4231, '11hour': 4232, 'rakay': 4233, 'presstitute': 4234, 'partiyon': 4235, 'jha': 4236, 'awasthi': 4237, 'sharad': 4238, 'parast': 4239, 'dand': 4240, 'suno': 4241, 'siti': 4242, 'aarzoo': 4243, 'aimplb': 4244, 'nark': 4245, 'apani': 4246, 'asur': 4247, 'similarity': 4248, 'property': 4249, 'rozi': 4250, 'kyuon': 4251, 'jaisy': 4252, 'competition': 4253, 'lata': 4254, 'raste': 4255, 'roshni': 4256, 'girna': 4257, 'parta': 4258, 'tustikaran': 4259, 'fat': 4260, 'israel': 4261, 'jnu': 4262, 'kamaal': 4263, 'mamle': 4264, 'register': 4265, 'publicity': 4266, 'ayi': 4267, 'dhabba': 4268, 'tyar': 4269, 'honest': 4270, 'deewane': 4271, 'car': 4272, 'baski': 4273, 'laagu': 4274, 'swimming': 4275, 'pool': 4276, 'healthy': 4277, 'chura': 4278, 'soo': 4279, 'logical': 4280, 'medical': 4281, 'prapt': 4282, 'dabaya': 4283, 'kir': 4284, '2020': 4285, 'haarne': 4286, 'point': 4287, 'eik': 4288, 'abhee': 4289, 'khilen': 4290, 'bazee': 4291, 'katrena': 4292, 'chalay': 4293, 'chalate': 4294, 'bhalai': 4295, 'rakhkar': 4296, 'milkar': 4297, 'uljhe': 4298, 'hello': 4299, 'quota': 4300, 'bewaqoof': 4301, 'ghante': 4302, 'khatma': 4303, 'condition': 4304, 'ashamed': 4305, 'bolnewale': 4306, 'womens': 4307, 'trust': 4308, 'dilao': 4309, 'shauq': 4310, 'kahich': 4311, 'bhulo': 4312, 'dikhata': 4313, 'parde': 4314, 'samjhe': 4315, 'ginti': 4316, 'hav': 4317, 'bachu': 4318, 'celebrate': 4319, 'maara': 4320, 'taal': 4321, 'singing': 4322, 'paaoge': 4323, 'barbaadi': 4324, 'talented': 4325, 'abuse': 4326, 'agent': 4327, 'bhaiyaa': 4328, 'beemari': 4329, 'upa': 4330, 'bhushan': 4331, 'kerne': 4332, 'maafi': 4333, 'bans': 4334, 'roots': 4335, 'intazaar': 4336, 'lapet': 4337, 'badhti': 4338, 'psl': 4339, 'ghany': 4340, 'suhany': 4341, 'chaon': 4342, 'chirhakty': 4343, 'bor': 4344, 'chatnar': 4345, 'ashjar': 4346, 'haaye': 4347, 'bacchi': 4348, 'teeno': 4349, 'samajhte': 4350, 'jamhoriyat': 4351, 'faisle': 4352, 'nationalist': 4353, 'insano': 4354, 'jaanch': 4355, 'elections': 4356, 'article': 4357, 'sakate': 4358, '12th': 4359, 'crease': 4360, 'pahunchaate': 4361, 'glad': 4362, 'naukar': 4363, 'javed': 4364, 'muhsin': 4365, 'maun': 4366, 'jar': 4367, 'viswas': 4368, 'difference': 4369, 'subhash': 4370, 'ghai': 4371, 'sets': 4372, 'moke': 4373, '54': 4374, 'karata': 4375, 'kareina': 4376, 'wahiyat': 4377, 'ghuma': 4378, 'chheen': 4379, 'lee': 4380, 'dimple': 4381, 'naraz': 4382, 'inaam': 4383, 'saved': 4384, 'subsidy': 4385, 'behal': 4386, 'shan': 4387, 'raise': 4388, 'paid': 4389, 'dubara': 4390, 'imandari': 4391, 'solution': 4392, 'julm': 4393, 'destroy': 4394, 'sharifs': 4395, 'position': 4396, 'anpad': 4397, 'ganwar': 4398, 'zor': 4399, 'karana': 4400, 'chahate': 4401, 'lallu': 4402, 'baht': 4403, 'ladkiya': 4404, 'ivs': 4405, 'iv': 4406, 'bolke': 4407, 'jhagde': 4408, 'rastriya': 4409, 'sau': 4410, 'tareeqon': 4411, 'dramay': 4412, 'champion': 4413, 'tulna': 4414, 'chate': 4415, 'dya': 4416, 'incident': 4417, 'hamesa': 4418, 'baney': 4419, 'bcci': 4420, 'sunanda': 4421, 'rawayya': 4422, 'gee': 4423, 'karwahi': 4424, 'taarif': 4425, 'peeth': 4426, 'lord': 4427, 'chaturthi2017': 4428, 'ramchandra': 4429, 'siya': 4430, 'duryodhano': 4431, 'maaro': 4432, 'bhim': 4433, 'organization': 4434, 'waqas': 4435, 'exposed': 4436, 'em': 4437, 'ledhu': 4438, 'asalu': 4439, 'hag': 4440, 'darubandi': 4441, 'yunhi': 4442, 'killings': 4443, 'gaddhe': 4444, 'dinesh': 4445, 'faraq': 4446, 'hojayega': 4447, 'unhi': 4448, 'dancer': 4449, 'fikr': 4450, 'tel': 4451, 'harayana': 4452, 'stalking': 4453, 'hazaaron': 4454, 'chaah': 4455, 'mainn': 4456, 'phaltu': 4457, 'peete': 4458, 'poster': 4459, 'bhijwaya': 4460, 'hiii': 4461, 'gaon': 4462, 'premi': 4463, 'zyaada': 4464, 'dikhe': 4465, 'ghume': 4466, 'nishana': 4467, 'pora': 4468, 'sikhana': 4469, 'katputli': 4470, 'hataye': 4471, 'sutta': 4472, 'parade': 4473, 'hogy': 4474, 'anjam': 4475, 'lagane': 4476, 'khota': 4477, 'tika': 4478, 'maarna': 4479, 'dahaad': 4480, 'bheta': 4481, 'mut': 4482, 'sagi': 4483, 'ummeed': 4484, 'deshse': 4485, 'abhibhi': 4486, 'atyachari': 4487, 'manane': 4488, 'health': 4489, 'sindhu': 4490, 'bhulte': 4491, 'mi': 4492, 'relation': 4493, 'lal': 4494, 'jarrori': 4495, 'moujood': 4496, 'macha': 4497, 'phd': 4498, 'separatist': 4499, 'rupay': 4500, 'lado': 4501, 'shiv': 4502, 'north': 4503, 'aagaye': 4504, 'shoot': 4505, 'hijab': 4506, 'jii': 4507, 'bannu': 4508, 'mian': 4509, 'wafa': 4510, 'local': 4511, 'ilzam': 4512, 'tbhi': 4513, 'gaanay': 4514, 'kshatriya': 4515, 'khadi': 4516, 'abd': 4517, 'villier': 4518, 'kanya': 4519, 'aese': 4520, 'padne': 4521, 'rat': 4522, 'itihaas': 4523, 'nange': 4524, 'chodh': 4525, 'harbhajan': 4526, 'pesa': 4527, 'successful': 4528, 'hia': 4529, 'angrezo': 4530, 'baradari': 4531, 'yakjhati': 4532, 'rameez': 4533, 'afsos': 4534, 'kabiliyat': 4535, 'esliye': 4536, 'karar': 4537, 'saayad': 4538, 'accidents': 4539, 'note': 4540, 'chhap': 4541, 'janay': 4542, 'lein': 4543, 'sirjee': 4544, 'funding': 4545, 'bot': 4546, 'put': 4547, 'badlaw': 4548, 'jasoda': 4549, 'parosiyon': 4550, 'shobha': 4551, 'tuesday': 4552, 'kung': 4553, 'fu': 4554, 'dilwayenge': 4555, 'bhaji': 4556, '03': 4557, 'yee': 4558, 'saktey': 4559, 'hungama': 4560, 'whi': 4561, 'doge': 4562, 'out': 4563, 'ey': 4564, 'chahye': 4565, 'bahadur': 4566, 'kahna': 4567, 'hari': 4568, 'gas': 4569, 'kamm': 4570, 'simit': 4571, 'hotaa': 4572, 'bakchodiya': 4573, 'hashmi': 4574, 'stardom': 4575, 'charan': 4576, 'murgi': 4577, 'pait': 4578, 'leela': 4579, 'halaat': 4580, 'bakro': 4581, 'study': 4582, 'jayengi': 4583, 'soyi': 4584, 'dikhtee': 4585, 'rk': 4586, 'paribhasha': 4587, 'samjaho': 4588, 'single': 4589, 'enko': 4590, 'char': 4591, 'barten': 4592, 'standard': 4593, 'badhane': 4594, 'chutiapa': 4595, 'coll': 4596, 'chee': 4597, 'marni': 4598, 'birth': 4599, 'yu': 4600, 'genuine': 4601, 'dilata': 4602, 'sudharne': 4603, 'knock': 4604, 'rangeela': 4605, 'jabardast': 4606, 'chahunga': 4607, 'lagatar': 4608, 'abh': 4609, 'babaji': 4610, 'gunah': 4611, 'jhuti': 4612, 'failate': 4613, 'parveen': 4614, 'sainikon': 4615, 'friendship': 4616, 'shastri': 4617, 'bandar': 4618, 'gulati': 4619, 'jaaney': 4620, 'kaamyab': 4621, 'kaka': 4622, 'bewkuf': 4623, 'khudd': 4624, 'metter': 4625, 'kodak': 4626, 'chata': 4627, 'parha': 4628, 'tyagi': 4629, 'vishwanathan': 4630, '24': 4631, 'koushik': 4632, 'bul': 4633, 'mohammad': 4634, 'laasho': 4635, 'chupane': 4636, 'troll': 4637, 'andha': 4638, 'rekha': 4639, 'such': 4640, 'sochne': 4641, 'progress': 4642, 'mother': 4643, 'proof': 4644, 'behtareen': 4645, 'dekhnay': 4646, 'balatkari': 4647, 'mary': 4648, 'tennis': 4649, 'dev': 4650, 'banaa': 4651, 'pol': 4652, 'rag': 4653, 'aaega': 4654, 'th': 4655, 'jazba': 4656, 'khreedte': 4657, 'legya': 4658, 'tahum': 4659, 'kaand': 4660, 'aib': 4661, 'chode': 4662, 'khaa': 4663, 'tendulkar': 4664, 'kiski': 4665, 'samil': 4666, 'bhejna': 4667, 'atka': 4668, 'negi': 4669, 'zahoor': 4670, 'faroqui': 4671, 'parents': 4672, 'hatt': 4673, 'vadodara': 4674, 'tuj': 4675, 'shak': 4676, 'villain': 4677, 'pandito': 4678, 'poocho': 4679, 'rage': 4680, 'anwar': 4681, 'cont': 4682, 'hajam': 4683, 'electricity': 4684, 'mashwara': 4685, 'bhopal': 4686, 'rockstar': 4687, 'khasam': 4688, 'meinn': 4689, 'jihaad': 4690, 'read': 4691, 'quraan': 4692, 'promote': 4693, 'siyasi': 4694, 'sabki': 4695, 'galli': 4696, 'deya': 4697, 'vikash': 4698, 'ahmad': 4699, 'hijde': 4700, 'dusara': 4701, 'tasweer': 4702, 'khilona': 4703, 'takkar': 4704, 'int': 4705, '420': 4706, 'chlna': 4707, 'gareebo': 4708, 'bhoke': 4709, 'lamba': 4710, 'atankwadi': 4711, 'chah': 4712, 'raaste': 4713, 'qabza': 4714, 'muqabla': 4715, 'kejariwal': 4716, 'khaya': 4717, 'kun': 4718, 'shrey': 4719, 'chennai': 4720, 'bhansali': 4721, 'lao': 4722, 'morality': 4723, 'moral': 4724, 'nayapalika': 4725, 'chamak': 4726, 'asan': 4727, 'fens': 4728, 'khatir': 4729, 'arshad': 4730, 'warsi': 4731, 'hamla': 4732, 'studio': 4733, 'mohammed': 4734, 'vishesh': 4735, 'dhara': 4736, 'waat': 4737, 'lollywood': 4738, 'retweet': 4739, 'riot': 4740, 'sallu': 4741, 'bhaari': 4742, 'grt': 4743, 'ari': 4744, 'miyan': 4745, 'ekdam': 4746, 'phateechar': 4747, 'saaray': 4748, 'hooron': 4749, 'ilzaam': 4750, '5th': 4751, 'farig': 4752, 'acharya': 4753, 'jhuthe': 4754, 'pucha': 4755, 'plan': 4756, '229': 4757, 'wahab': 4758, 'sachi': 4759, 'jhooti': 4760, 'jashan': 4761, 'giri': 4762, 'kartoote': 4763, 'sunaina': 4764, 'wave': 4765, 'boh': 4766, 'peshab': 4767, 'porkistani': 4768, 'batata': 4769, 'ullooraatchi': 4770, 'manra': 4771, 'therthal': 4772, 'thiruttha': 4773, 'sattatthil': 4774, 'sapaanaayahar': 4775, 'kaichchaatthu': 4776, 'dharya': 4777, 'akhir': 4778, 'ajab': 4779, 'bachi': 4780, 'wade': 4781, 'nibate': 4782, 'shor': 4783, 'ended': 4784, 'mazahiya': 4785, 'vyang': 4786, 'masheen': 4787, 'banayen': 4788, 'tumhein': 4789, 'saathi': 4790, 'barri': 4791, 'rahman': 4792, 'kamai': 4793, 'bajah': 4794, 'chalna': 4795, 'keemat': 4796, 'antar': 4797, 'gane': 4798, 'convert': 4799, 'unchi': 4800, 'sandeep': 4801, 'randi': 4802, 'dad': 4803, 'gond': 4804, 'islye': 4805, 'hrr': 4806, 'lgte': 4807, 'next': 4808, 'tohhh': 4809, 'apun': 4810, 'shaq': 4811, 'rpt': 4812, 'safi': 4813, 'faaltu': 4814, 'dainai': 4815, 'bimari': 4816, 'kalank': 4817, 'container': 4818, 'laane': 4819, 'tarha': 4820, 'patwari': 4821, 'kutty': 4822, 'bachav': 4823, 'bhae': 4824, 'shabash': 4825, 'azan': 4826, 'petition': 4827, 'diwane': 4828, 'principal': 4829, 'taare': 4830, '56': 4831, 'nikalo': 4832, 'dub': 4833, 'shikshamitra': 4834, 'tution': 4835, 'aade': 4836, '07': 4837, 'peechay': 4838, 'hotey': 4839, 'bhoot': 4840, 'chappal': 4841, 'msg': 4842, 'batayi': 4843, 'aaenge': 4844, 'lagataar': 4845, 'betiyon': 4846, 'vaad': 4847, 'noor': 4848, '50000': 4849, 'najeeb': 4850, 'zalmi': 4851, 'casteism': 4852, 'ghulaam': 4853, 'haramkhor': 4854, 'peso': 4855, 'ba': 4856, 'kbi': 4857, 'keere': 4858, 'ladko': 4859, 'ussi': 4860, 'muze': 4861, 'bareme': 4862, 'aishwarya': 4863, 'teh': 4864, 'fantasies': 4865, 'puche': 4866, 'suraj': 4867, 'bhadve': 4868, 'jamat': 4869, 'rasheed': 4870, 'killing': 4871, 'chuky': 4872, 'dilaye': 4873, 'review': 4874, 'fayeda': 4875, 'tarike': 4876, 'sochen': 4877, 'sanchita': 4878, 'congres': 4879, 'banayi': 4880, 'bla': 4881, 'nikalte': 4882, 'leadaro': 4883, 'krishna': 4884, 'l2017': 4885, 'ach': 4886, 'jiyo': 4887, 'bachegi': 4888, 'badhkar': 4889, 'rishto': 4890, 'rajdeep': 4891, 'abay': 4892, 'konsa': 4893, 'honga': 4894, 'manch': 4895, 'shru': 4896, 'tickets': 4897, 'baji': 4898, 'dhanya': 4899, 'russia': 4900, 'pashto': 4901, 'lolz': 4902, 'mashallah': 4903, 'ed': 4904, 'gew': 4905, 'liberal': 4906, 'celebration': 4907, 'celebrity': 4908, 'artist': 4909, 'tayaar': 4910, 'dharmo': 4911, 'ignore': 4912, 'konsi': 4913, 'khoob': 4914, 'pakistanis': 4915, 'death': 4916, 'association': 4917, 'bhrastachar': 4918, 'choose': 4919, 'decent': 4920, 'daikha': 4921, 'utpidan': 4922, 'abolish': 4923, 'bahane': 4924, 'account': 4925, 'language': 4926, 'hangama': 4927, 'types': 4928, 'chotay': 4929, 'janey': 4930, 'geeta': 4931, 'mahabharata': 4932, 'chowk': 4933, 'understand': 4934, 'gurinchi': 4935, 'sambit': 4936, 'pese': 4937, 'tabsara': 4938, 'sunny': 4939, 'bhains': 4940, 'inaka': 4941, 'tapori': 4942, 'pir': 4943, 'awww': 4944, 'deez': 4945, 'atif': 4946, 'aslam': 4947, 'talking': 4948, 'jiss': 4949, 'sunwai': 4950, 'loo': 4951, 'zani': 4952, 'jangal': 4953, 'eh': 4954, 'vyapari': 4955, 'siva': 4956, 'hindustaan': 4957, 'deepika': 4958, 'marriages': 4959, 'khaane': 4960, 'mecca': 4961, 'tanz': 4962, 'rupey': 4963, 'deto': 4964, 'kissan': 4965, 'rp': 4966, 'suresh': 4967, 'aree': 4968, 'sleep': 4969, 'lagenge': 4970, 'pig': 4971, 'traffic': 4972, 'kahavat': 4973, 'kahawat': 4974, 'tell': 4975, 'involved': 4976, 'santo': 4977, 'afzal': 4978, 'gein': 4979, 'hands': 4980, 'ghorakhpur': 4981, 'pichhe': 4982, 'dishkyaao': 4983, 'bakree': 4984, 'khet': 4985, 'express': 4986, 'satire': 4987, 'paaun': 4988, 'payal': 4989, 'batt': 4990, 'pyara': 4991, 'dhol': 4992, 'navratri': 4993, 'handsome': 4994, 'visits': 4995, 'pandal': 4996, 'ras': 4997, 'kavita': 4998, 'wahn': 4999, 'seekhay': 5000, 'huu': 5001, 'select': 5002, 'madarso': 5003, 'bh': 5004, 'laate': 5005, 'joote': 5006, 'heroes': 5007, 'qatl': 5008, 'calculator': 5009, 'pandit': 5010, 'chaiya': 5011, 'tajziya': 5012, 'rakhiye': 5013, 'cylinder': 5014, 'price': 5015, 'jalti': 5016, 'samjhana': 5017, '1974': 5018, 'involve': 5019, 'sahe': 5020, 'howa': 5021, 'sis': 5022, 'harte': 5023, 'pul': 5024, 'mukhya': 5025, 'kripa': 5026, 'gaurakshaks': 5027, 'krege': 5028, 'baari': 5029, 'chauthi': 5030, 'hanging': 5031, 'siddhartha': 5032, 'haramkhoro': 5033, 'andhe': 5034, 'babao': 5035, 'taqat': 5036, 'khangress': 5037, 'bhishab': 5038, 'ghor': 5039, 'rocks': 5040, 'shikaar': 5041, 'andaza': 5042, 'akbar': 5043, 'siwa': 5044, 'buniyaad': 5045, 'maulvi': 5046, 'lug': 5047, 'jadeja': 5048, 'bhaav': 5049, 'mulko': 5050, 'nirbhaya': 5051, 'pant': 5052, 'dhoondh': 5053, 'rep': 5054, 'murder': 5055, 'assalam': 5056, 'cheeze': 5057, 'comment': 5058, 'barey': 5059, 'andhera': 5060, 'memories': 5061, 'bacchon': 5062, 'sochenge': 5063, 'kone': 5064, 'launda': 5065, 'bass': 5066, 'khalte': 5067, 'nasib': 5068, 'malhotra': 5069, 'capton': 5070, 'hamrah': 5071, 'maweshi': 5072, 'mandi': 5073, 'puhanch': 5074, 'written': 5075, 'zabardasti': 5076, 'ghus': 5077, 'aware': 5078, 'uplabdhi': 5079, 'jimma': 5080, 'button': 5081, 'adha': 5082, 'zahil': 5083, 'batayenge': 5084, 'bikau': 5085, 'rept': 5086, 'gow': 5087, 'koie': 5088, 'ullitta': 5089, 'raajinaama': 5090, 'pidita': 5091, 'random': 5092, 'khor': 5093, 'bivi': 5094, 'adhikaar': 5095, 'machaya': 5096, 'badminton': 5097, 'viral': 5098, 'ghotala': 5099, 'arrest': 5100, 'gira': 5101, 'tah': 5102, 'katam': 5103, 'deer': 5104, 'samasya': 5105, 'bich': 5106, 'ser': 5107, 'mukabla': 5108, 'kijiyega': 5109, 'nahiiii': 5110, 'meetha': 5111, 'parda': 5112, 'hitter': 5113, 'roka': 5114, 'dheela': 5115, 'lutne': 5116, 'payege': 5117, 'kahaan': 5118, 'dhire': 5119, 'sikchhit': 5120, 'bhawnao': 5121, 'awareness': 5122, 'jaisay': 5123, 'darate': 5124, 'picha': 5125, 'book': 5126, 'room': 5127, 'deewaron': 5128, 'sufism': 5129, 'jaativad': 5130, 'pehchaan': 5131, 'himesh': 5132, 'horaha': 5133, 'faad': 5134, 'bah': 5135, 'bhonkne': 5136, 'mathula': 5137, 'bachaya': 5138, 'pahchaan': 5139, 'filthy': 5140, 'kale': 5141, 'throw': 5142, 'khatron': 5143, 'jhoot': 5144, 'munna': 5145, 'vida': 5146, 'hasti': 5147, 'mitati': 5148, 'diwas': 5149, 'bin': 5150, 'payenge': 5151, 'maang': 5152, 'sansar': 5153, 'rana': 5154, 'anhoni': 5155, 'bhang': 5156, 'purana': 5157, 'ms': 5158, 'secular': 5159, 'vishay': 5160, 'tyala': 5161, 'after': 5162, 'nabi': 5163, 'kaur': 5164, 'keu': 5165, 'karney': 5166, 'fenkne': 5167, 'darhi': 5168, 'gaa': 5169, 'sabke': 5170, 'io': 5171, 'mulkon': 5172, 'won': 5173, 'ankho': 5174, 'doosro': 5175, 'title': 5176, 'something': 5177, 'changed': 5178, 'harshvardhan': 5179, 'musharraf': 5180, 'towards': 5181, 'nate': 5182, 'aay': 5183, 'jaspit': 5184, 'bhumra': 5185, 'kameena': 5186, 'pakar': 5187, 'diyo': 5188, 'dikhati': 5189, 'rehman': 5190, 'chiti': 5191, 'kaheen': 5192, 'surname': 5193, 'jaankar': 5194, 'retirement': 5195, 'eng': 5196, 'bulaya': 5197, 'st': 5198, 'lallan': 5199, 'dheere': 5200, 'dont': 5201, 'baraste': 5202, 'sikhaoge': 5203, 'naseeb': 5204, 'friends': 5205, 'mjhe': 5206, 'taraqi': 5207, 'script': 5208, 'dhoom': 5209, 'visited': 5210, 'dd': 5211, 'according': 5212, 'mitane': 5213, 'doglapan': 5214, 'cheezon': 5215, 'katuwe': 5216, 'ramdev': 5217, 'ese': 5218, 'trailer': 5219, '1962': 5220, 'gadu': 5221, 'waste': 5222, 'path': 5223, 'devendra': 5224, 'kos': 5225, 'aafat': 5226, 'medaan': 5227, 'muza': 5228, 'muj': 5229, 'shariya': 5230, 'dhong': 5231, 'gol': 5232, 'tarh': 5233, 'deals': 5234, 'bazar': 5235, 'awards': 5236, 'maah': 5237, 'gaayab': 5238, 'itta': 5239, 'jaada': 5240, 'hv': 5241, 'attract': 5242, 'bowling': 5243, 'general': 5244, 'idary': 5245, 'dikhti': 5246, 'needs': 5247, 'hur': 5248, 'fela': 5249, 'waje': 5250, 'sat': 5251, 'aadi': 5252, 'mot': 5253, 'kero': 5254, 'chhori': 5255, '71': 5256, 'traf': 5257, 'ahishta': 5258, 'gaytards': 5259, 'moo': 5260, 'america': 5261, '2007': 5262, 'cahiye': 5263, 'manate': 5264, 'jeb': 5265, 'result': 5266, 'bahno': 5267, 'secure': 5268, 'evergreen': 5269, 'chhodo': 5270, 'harana': 5271, 'yahe': 5272, 'beh': 5273, 'tank': 5274, 'ammo': 5275, 'style': 5276, 'ankhon': 5277, 'nirdosh': 5278, '42': 5279, 'waqiyaat': 5280, 'blah': 5281, 'karka': 5282, 'hatana': 5283, 'kushal': 5284, 'dayaa': 5285, 'sahuliyat': 5286, 'adat': 5287, 'velaq': 5288, 'velak': 5289, 'aayo': 5290, 'ashleel': 5291, 'tankhwa': 5292, 'chahtey': 5293, 'darling': 5294, 'machhar': 5295, 'wajha': 5296, 'phursat': 5297, 'shaan': 5298, 'jano': 5299, 'shaheb': 5300, 'gujju': 5301, 'gore': 5302, 'bhrashtachar': 5303, 'gan': 5304, 'khiladiyo': 5305, 'aiims': 5306, 'maulavi': 5307, 'recommend': 5308, 'sansad': 5309, 'ghabrata': 5310, 'chalnewali': 5311, 'anshan': 5312, 'lagayega': 5313, 'ghatya': 5314, 'bulle': 5315, 'chaupat': 5316, 'kiyaa': 5317, 'paaye': 5318, 'kejrival': 5319, 'babua': 5320, 'ess': 5321, 'ashish': 5322, 'nehra': 5323, 'ambani': 5324, 'baithna': 5325, 'chamkane': 5326, 'jama': 5327, 'karli': 5328, 'dhau': 5329, 'fa': 5330, 'jhagda': 5331, 'gharma': 5332, 'sehri': 5333, 'sonay': 5334, 'area': 5335, 'thrones': 5336, 'mayweather': 5337, 'prabhudeva': 5338, 'deva': 5339, 'sagarika': 5340, 'layiye': 5341, 'banwaiye': 5342, 'district': 5343, 'bag': 5344, 'aha': 5345, 'bolchhi': 5346, 'gals': 5347, 'milgai': 5348, 'likhai': 5349, 'farooq': 5350, 'chupi': 5351, 'berehmi': 5352, 'atyachaar': 5353, 'nangapan': 5354, 'paon': 5355, 'jatey': 5356, 'airtel': 5357, 'come': 5358, 'ghotalebaaj': 5359, 'ekathe': 5360, 'kyki': 5361, 'kathm': 5362, 'enka': 5363, 'hawale': 5364, 'fr': 5365, 'badalta': 5366, 'business': 5367, 'dhiru': 5368, 'ru': 5369, 'bashirhat': 5370, 'bachaa': 5371, 'your': 5372, 'welcome': 5373, 'bhayya': 5374, 'suvidha': 5375, 'ush': 5376, 'rma': 5377, 'borders': 5378, 'rahye': 5379, 'rukne': 5380, 'mahangi': 5381, 'rupaye': 5382, 'badhwane': 5383, 'bandhwate': 5384, 'btana': 5385, 'jitane': 5386, 'bahutdete': 5387, 'angrezi': 5388, '25kmpl': 5389, 'chhamta': 5390, 'yaisa': 5391, 'sarir': 5392, 'sif': 5393, 'awal': 5394, 'daar': 5395, 'wesa': 5396, 'natalie': 5397, 'molavion': 5398, 'bakvas': 5399, 'payenga': 5400, 'originality': 5401, 'recycle': 5402, 'viewership': 5403, 'ashes': 5404, 'imfact': 5405, 'wc': 5406, 'boards': 5407, '330': 5408, 'chitt': 5409, 'patt': 5410, 'gamvir': 5411, 'durgati': 5412, 'bakcho': 5413, 'ghisi': 5414, 'piti': 5415, 'ghasit': 5416, 'ismain': 5417, 'baly': 5418, 'talokaat': 5419, 'saka': 5420, 'fattuon': 5421, 'tarek': 5422, 'swachhta': 5423, 'elegy': 5424, 'kaab': 5425, 'khujkiwal': 5426, 'masoomo': 5427, 'gaav': 5428, 'baburaav': 5429, 'naav': 5430, 'samje': 5431, 'bhanja': 5432, 'jk': 5433, 'lk': 5434, 'wirodhi': 5435, 'lagaate': 5436, 'wagaira': 5437, 'fix': 5438, 'milibhagat': 5439, 'jina': 5440, 'raas': 5441, 'ghatnayein': 5442, 'hardin': 5443, 'sex': 5444, 'chaand': 5445, 'vyvastha': 5446, 'reporting': 5447, 'nirichhan': 5448, 'videocon': 5449, 'd2h': 5450, 'lajwaab': 5451, 'ayesha': 5452, 'gulu': 5453, 'haneef': 5454, 'drug': 5455, 'andr': 5456, 'asshole': 5457, 'saas': 5458, 'rago': 5459, 'dava': 5460, 'gilli': 5461, 'danda': 5462, 'galiyon': 5463, 'ladhai': 5464, 'topiwaloki': 5465, 'badhali': 5466, 'badimaanki': 5467, 'mazlum': 5468, 'darindegiki': 5469, 'tatte': 5470, 'minakshi': 5471, 'llb': 5472, 'aayengi': 5473, 'kisika': 5474, 'hanan': 5475, 'aarkshan': 5476, 'gatib': 5477, 'genral': 5478, 'vardan': 5479, 'waiqi': 5480, 'insaniyt': 5481, 'ehtesab': 5482, 'hathiyar': 5483, 'giya': 5484, 'hareef': 5485, 'istamal': 5486, 'followers': 5487, 'agly': 5488, 'maich': 5489, 'hemari': 5490, 'geyi': 5491, 'nuqsaan': 5492, 'burey': 5493, 'tabtak': 5494, 'lagne': 5495, 'ajinkya': 5496, 'khamoosh': 5497, 'ulte': 5498, 'chuthiye': 5499, 'assurance': 5500, 'ghanto': 5501, 'window': 5502, 'thoalvigalin': 5503, 'shaamat': 5504, 'torha': 5505, 'kochi': 5506, 'aval': 5507, 'banay': 5508, 'jub': 5509, 'mazloomeyat': 5510, 'darama': 5511, 'khalee': 5512, 'guwa': 5513, 'rupee': 5514, 'bagher': 5515, 'bekaar': 5516, 'pheeki': 5517, 'karengein': 5518, 'majaak': 5519, 'aaur': 5520, 'pvt': 5521, '153': 5522, 'fansi': 5523, 'kardete': 5524, 'rapiest': 5525, 'karwaana': 5526, 'prachaar': 5527, 'tmhari': 5528, 'tmhe': 5529, 'aaegi': 5530, 'achhae': 5531, 'burae': 5532, 'zyan': 5533, 'namaaz': 5534, 'gurbani': 5535, 'ilaha': 5536, 'illillah': 5537, 'prokabbadi': 5538, 'ghairat': 5539, 'emaani': 5540, 'jagay': 5541, 'holes': 5542, 'jute': 5543, 'bhigo': 5544, 'kaata': 5545, 'lulu': 5546, 'darana': 5547, 'furogh': 5548, 'chauka': 5549, 'attha': 5550, 'faansi': 5551, 'dhikaar': 5552, 'anura': 5553, 'gb': 5554, 'had': 5555, 'oriya': 5556, 'shaher': 5557, 'sahayata': 5558, 'gaw': 5559, 'rakkhako': 5560, 'gundai': 5561, 'license': 5562, 'kahun': 5563, 'rishvat': 5564, 'khori': 5565, 'guzara': 5566, 'tareeka': 5567, 'seekhiye': 5568, 'vasundhra': 5569, 'jato': 5570, 'lose': 5571, 'bachoon': 5572, 'naak': 5573, 'kariyoo': 5574, 'ganza': 5575, 'mairay': 5576, 'tweeting': 5577, 'gayai': 5578, 'pliz': 5579, 'khichdi': 5580, 'dharms': 5581, 'badtameej': 5582, 'thar': 5583, 'banata': 5584, 'partha': 5585, 'rodiwadi': 5586, 'badha': 5587, 'andhi': 5588, 'avashyak': 5589, 'amrapali': 5590, 'buyers': 5591, 'status': 5592, 'faide': 5593, 'mrwa': 5594, 'weshya': 5595, 'swatantrata': 5596, 'kark': 5597, 'importance': 5598, 'shivpal': 5599, 'baatne': 5600, 'sudhaaro': 5601, 'masum': 5602, 'katlustani': 5603, 'chinua': 5604, 'iphone': 5605, 'chakker': 5606, 'fully': 5607, 'poocha': 5608, 'ghazwa': 5609, 'auratein': 5610, 'saarey': 5611, 'apradhiyon': 5612, 'small': 5613, 'niklo': 5614, 'sajen': 5615, 'hongae': 5616, 'saleem': 5617, 'bataien': 5618, 'pakhtun': 5619, 'baiti': 5620, 'khailti': 5621, 'doosri': 5622, 'lliye': 5623, 'rastey': 5624, 'skate': 5625, 'padey': 5626, 'sorry': 5627, 'paak': 5628, 'shasan': 5629, 'lmbi': 5630, 'gaddaron': 5631, 'murdabad': 5632, 'poina': 5633, 'kathha': 5634, 'choona': 5635, 'mahina': 5636, 'raheta': 5637, 'shauhar': 5638, 'wasoolna': 5639, 'baghwan': 5640, 'jeisa': 5641, 'ucchal': 5642, 'waaat': 5643, 'poochha': 5644, 'fielding': 5645, 'satisfied': 5646, 'apply': 5647, 'niiii': 5648, 'bhaliii': 5649, 'jaga': 5650, 'trains': 5651, 'patari': 5652, 'sudharna': 5653, 'opening': 5654, 'shrab': 5655, 'shakl': 5656, 'fek': 5657, 'manzilon': 5658, 'lut': 5659, 'dilon': 5660, 'kaarwan': 5661, 'kashtiyan': 5662, 'saahil': 5663, '365': 5664, 'muhar': 5665, 'humarr': 5666, 'flat': 5667, 'pahlaj': 5668, 'nihalani': 5669, 'sacked': 5670, 'consistent': 5671, 'korean': 5672, 'agay': 5673, 'nithish': 5674, 'fair': 5675, 'sans': 5676, 'bakri': 5677, 'pelna': 5678, 'biryani': 5679, 'abhinna': 5680, 'ang': 5681, 'une': 5682, 'bulaaya': 5683, 'yuwa': 5684, 'massumo': 5685, 'taa': 5686, 'valon': 5687, 'peti': 5688, 'kaskar': 5689, 'ishwar': 5690, 'younger': 5691, 'saakh': 5692, 'buraiyaan': 5693, 'chhip': 5694, 'ant': 5695, 'zyaadatar': 5696, 'almost': 5697, 'settled': 5698, 'rim': 5699, 'jhim': 5700, 'saavan': 5701, 'bheege': 5702, 'aagan': 5703, 'bhram': 5704, 'censorship': 5705, 's7': 5706, 'duur': 5707, 'nakaratmak': 5708, 'vicharo': 5709, 'baksa': 5710, 'mahidaya': 5711, 'nikaliye': 5712, 'suprecourt': 5713, 'aitihasik': 5714, 'sunakar': 5715, 'kayam': 5716, 'fashadiya': 5717, 'babako': 5718, 'sarif': 5719, 'tajurbe': 5720, 'jarrorath': 5721, 'marenge': 5722, 'rokenge': 5723, 'hizde': 5724, 'ghariyali': 5725, 'aasu': 5726, 'chanels': 5727, 'parinam': 5728, 'sabbarwal': 5729, 'chudwaa': 5730, 'tjhe': 5731, 'bhii': 5732, 'matherchod': 5733, 'ganje': 5734, 'popular': 5735, 'utsuk': 5736, 'pichwade': 5737, 'peeta': 5738, 'shuruwat': 5739, 'daroga': 5740, 'lekha': 5741, 'jokha': 5742, 'awan': 5743, 'degre': 5744, 'haam': 5745, 'rusva': 5746, 'dengu': 5747, 'yey': 5748, '09': 5749, 'tuze': 5750, 'unwanted': 5751, 'useless': 5752, 'firta': 5753, 'niteshji': 5754, 'besaram': 5755, 'khuwab': 5756, 'tehreek': 5757, '1994': 5758, 'ziaulhaq': 5759, 'moive': 5760, 'living': 5761, 'shirf': 5762, 'samajhten': 5763, 'adme': 5764, 'imam': 5765, 'manne': 5766, 'iccha': 5767, 'kayse': 5768, '4shadi': 5769, 'sooar': 5770, '40bachche': 5771, 'bewafa': 5772, 'bri': 5773, '1709': 5774, 'shayra': 5775, 'likhgi': 5776, 'azeeb': 5777, 'khilone': 5778, 'jazbaton': 5779, 'sham': 5780, 'charity': 5781, 'conf': 5782, 'rence': 5783, 'dkshroff': 5784, 'gharwalone': 5785, 'rekh': 5786, 'rishtey': 5787, 'father': 5788, 'goal': 5789, 'con': 5790, 'parrott': 5791, 'thahrata': 5792, 'mitra': 5793, 'kehke': 5794, 'anath': 5795, 'batati': 5796, 'shubham': 5797, 'hojao': 5798, 'bahaney': 5799, 'lengey': 5800, 'jyadatar': 5801, 'tuzh': 5802, 'presidents': 5803, 'statement': 5804, 'hindumuslim': 5805, 'netas': 5806, 'milme': 5807, 'nazariya': 5808, 'beton': 5809, 'spaceship': 5810, 'dekhene': 5811, 'poucho': 5812, 'harso': 5813, 'bhaot': 5814, 'hamarye': 5815, 'establishment': 5816, 'mujhy': 5817, 'iraq': 5818, 'bharke': 5819, 'stephen': 5820, 'kesha': 5821, 'nowplaying': 5822, 'diware': 5823, 'aid': 5824, 'mahashay': 5825, 'amnesia': 5826, 'research': 5827, 'vibag': 5828, 'spast': 5829, 'irctc': 5830, 'bhugto': 5831, 'jeeo': 5832, 'chakra': 5833, 'baadshaah': 5834, 'kyunkiyeh': 5835, 'auryahan': 5836, 'hartarahki': 5837, 'chhoot': 5838, 'doosredeshme': 5839, 'nahimilti': 5840, 'logonkepyarepakistanmebhi': 5841, 'banaanewaale': 5842, 'jayogi': 5843, 'jiti': 5844, 'athe': 5845, 'ayenghe': 5846, 'income': 5847, 'badgehi': 5848, 'pakistain': 5849, 'shriram': 5850, 'jwan': 5851, 'lives': 5852, 'dies': 5853, 'bavisyu': 5854, 'bagvan': 5855, 'salamat': 5856, 'rake': 5857, 'chadarmod': 5858, 'masjido': 5859, 'fatwe': 5860, 'nikalwa': 5861, 'dhaya': 5862, 'ghattiya': 5863, 'logonn': 5864, 'aqel': 5865, 'chahiyay': 5866, 'werna': 5867, 'choordiyann': 5868, 'pehun': 5869, 'lainn': 5870, 'womans': 5871, 'haaq': 5872, 'bravehadiaya': 5873, 'lolabe': 5874, 'product': 5875, 'maulanao': 5876, '1500': 5877, 'halaka': 5878, 'vivek': 5879, 'leg': 5880, 'spinner': 5881, 'qadir': 5882, 'khisyani': 5883, 'khambha': 5884, 'noche': 5885, 'prime': 5886, 'chowkidar': 5887, 'chini': 5888, 'pehan': 5889, 'vigyapan': 5890, 'shreef': 5891, 'dako': 5892, 'peechein': 5893, 'divorced': 5894, 'nowhat': 5895, 'hoker': 5896, 'ekadhikar': 5897, 'bhiol': 5898, 'cheeje': 5899, 'perils': 5900, 'pezulm': 5901, 'khdeda': 5902, 'berozgaari': 5903, 'budhawe': 5904, 'lota': 5905, 'hadso': 5906, 'hateli': 5907, 'qazzafi': 5908, 'muth': 5909, 'sperm': 5910, 'chomu': 5911, 'fasi': 5912, 'adharm': 5913, 'acchai': 5914, 'naitikta': 5915, 'anaitikta': 5916, 'kamjor': 5917, 'aatankvadiyo': 5918, 'yaj': 5919, 'kebas': 5920, 'dept': 5921, 'chotey': 5922, 'karey': 5923, 'haya': 5924, 'dupata': 5925, 'orha': 5926, 'maryam': 5927, 'aisha': 5928, 'gulalai': 5929, 'ayan': 5930, 'lohe': 5931, 'heere': 5932, 'copied': 5933, 'rum': 5934, 'sarc': 5935, 'asm': 5936, 'billo': 5937, 'bilwal': 5938, 'dharial': 5939, 'yum': 5940, 'humlog': 5941, 'sikhaate': 5942, 'children': 5943, 'pap': 5944, 'tumahre': 5945, 'haiwan': 5946, 'akeli': 5947, 'kl': 5948, 'palo': 5949, 'vapas': 5950, 'paanch': 5951, 'agustus': 5952, '1991': 5953, 'kurbaani': 5954, 'pariwaar': 5955, '50k': 5956, 'quantity': 5957, 'ulti': 5958, 'pregnant': 5959, 'naye': 5960, 'ruka': 5961, 'deceased': 5962, 'dosiyo': 5963, 'lipa': 5964, 'leny': 5965, 'khayberpakhtoon': 5966, 'khof': 5967, 'chakaar': 5968, 'floods': 5969, 'atty': 5970, 'rehtay': 5971, 'darbhanga': 5972, 'sportsman': 5973, 'paristhitiy': 5974, 'vishwash': 5975, 'khareed': 5976, 'insb': 5977, 'baukha': 5978, 'khidki': 5979, 'tukade': 5980, 'rehate': 5981, 'mamale': 5982, 'lada': 5983, 'karawaya': 5984, 'gend': 5985, 'balley': 5986, 'karvaana': 5987, 'karwaiye': 5988, 'karneko': 5989, 'madile': 5990, 'fames': 5991, 'filhaal': 5992, 'training': 5993, 'chanda': 5994, 'ikkatha': 5995, 'vigrah': 5996, 'group': 5997, 'zakhm': 5998, 'ghaav': 5999, 'upadhi': 6000, 'bulati': 6001, 'pariwarvad': 6002, 'grasit': 6003, 'eske': 6004, 'vipachh': 6005, 'mashvrey': 6006, 'akrem': 6007, 'khde': 6008, 'bouncer': 6009, 'seam': 6010, 'hanso': 6011, 'sharmila': 6012, 'farooqi': 6013, 'lagtee': 6014, 'jogging': 6015, 'jaaya': 6016, 'wajan': 6017, 'ikatha': 6018, 'ladkiyaan': 6019, 'ladkon': 6020, 'gaaliyaan': 6021, 'trendy': 6022, 'rahin': 6023, 'janmabhumi': 6024, 'hanin': 6025, 'lele': 6026, 'gentleman': 6027, 'loadshedding': 6028, 'taaqi': 6029, 'pooche': 6030, 'maange': 6031, 'sanmaan': 6032, 'ollat': 6033, 'pdh': 6034, 'doctor': 6035, 'nni': 6036, 'wapsee': 6037, 'kijeye': 6038, 'anirodh': 6039, 'rajneta': 6040, 'gaurakhsha': 6041, 'rehene': 6042, 'doo': 6043, 'literature': 6044, 'mullaon': 6045, 'pde': 6046, 'lounda': 6047, 'archana': 6048, 'vijaya': 6049, 'sadbuddhi': 6050, 'married': 6051, 'saavdhan': 6052, 'jhand': 6053, 'sushmaji': 6054, 'hajoom': 6055, 'punishment': 6056, 'chhahiye': 6057, 'sja': 6058, 'doon': 6059, 'dm': 6060, 'cooperation': 6061, 'vive': 6062, 'dan': 6063, 'abto': 6064, 'kran': 6065, 'khovay': 6066, 'hovay': 6067, 'rajputana': 6068, 'samasyao': 6069, 'dhundh': 6070, 'layi': 6071, 'samasyae': 6072, 'dilaiye': 6073, '3sal': 6074, 'hora': 6075, 'shr': 6076, 'pateechar': 6077, 'ghosit': 6078, 'agge': 6079, 'taking': 6080, 'choonawala': 6081, 'doodhta': 6082, 'ph': 6083, 'positivity': 6084, 'bhigi': 6085, 'saand': 6086, 'vahan': 6087, 'contribution': 6088, 'charam': 6089, 'jale': 6090, 'buje': 6091, 'badhsha': 6092, 'samim': 6093, 'patriotism': 6094, 'sakafati': 6095, 'taareekhi': 6096, 'maag': 6097, 'naalo': 6098, 'budhayo': 6099, 'janhn': 6100, 'naalay': 6101, 'san': 6102, 'thaahi': 6103, 'wai': 6104, 'hhahaha': 6105, 'vish': 6106, 'houta': 6107, 'energy': 6108, 'bachegii': 6109, 'netaji': 6110, 'crass': 6111, 'jore': 6112, 'dwaar': 6113, 'presidential': 6114, 'elections2017': 6115, 'advani': 6116, 'cheeteh': 6117, 'bajirao': 6118, 'talwar': 6119, 'sandeh': 6120, 'desakti': 6121, 'cheer': 6122, 'aesi': 6123, 'tantr': 6124, 'intejaam': 6125, 'bandobast': 6126, 'ayse': 6127, 'mutallaka': 6128, 'khasha': 6129, 'akdam': 6130, 'mamshahab': 6131, 'sisters': 6132, 'dikhae': 6133, 'mukht': 6134, 'walou': 6135, 'logou': 6136, 'deraviolence': 6137, 'dalle': 6138, 'pronounce': 6139, 'jaaegi': 6140, 'haqeeqi': 6141, 'peda': 6142, 'bohran': 6143, 'faeda': 6144, 'zimedar': 6145, 'seekhi': 6146, 'btaye': 6147, 'kerti': 6148, 'aadesh': 6149, 'tahe': 6150, 'istekbaal': 6151, 'yarana': 6152, 'samjti': 6153, 'bharatki': 6154, 'bhaand': 6155, 'safed': 6156, 'ujaale': 6157, 'aintee': 6158, 'uthanay': 6159, 'kheltay': 6160, 'taraash': 6161, 'kharidein': 6162, 'chiffon': 6163, 'saree': 6164, 'daaman': 6165, 'sambandh': 6166, 'rapat': 6167, 'nirale': 6168, 'supne': 6169, 'gale': 6170, 'vidva': 6171, 'ronaken': 6172, 'gaddafi': 6173, 'ment': 6174, 'wafadar': 6175, 'tali': 6176, 'thoko': 6177, 'apatti': 6178, 'youva': 6179, 'naara': 6180, 'chana': 6181, 'khilaye': 6182, 'jayanti': 6183, 'dhoti': 6184, 'bewkoof': 6185, 'andher': 6186, 'begum': 6187, 'banner': 6188, 'ratan': 6189, 'sharda': 6190, 'zeenat': 6191, 'shaukat': 6192, 'nasir': 6193, 'pathan': 6194, 'narsimhan': 6195, 'tanvi': 6196, 'madat': 6197, 'suite': 6198, 'pasie': 6199, 'dikhne': 6200, 'aandhi': 6201, 'toofan': 6202, 'jagta': 6203, 'superman': 6204, 'saara': 6205, 'boldene': 6206, 'bahoton': 6207, 'fadanvis': 6208, 'sitaaro': 6209, 'khatter': 6210, 'ghatyaa': 6211, 'juree': 6212, 'detaie': 6213, 'sambhav': 6214, 'sahoyg': 6215, 'fokti': 6216, 'ruko': 6217, 'sharukhan': 6218, 'bakcho8i': 6219, 'raan8': 6220, 'lmao': 6221, 'docomo': 6222, 'destruction': 6223, 'holy': 6224, 'differences': 6225, 'names': 6226, 'orphan': 6227, 'nijad': 6228, 'dilayegi': 6229, 'neevu': 6230, 'yaavaaga': 6231, 'barodu': 6232, 'antha': 6233, 'aagthaa': 6234, 'untu': 6235, 'rangaswamige': 6236, 'koyee': 6237, 'manushya': 6238, 'swarth': 6239, 'upyog': 6240, 'pehlukhan': 6241, 'naqvi': 6242, 'cuter': 6243, 'kid': 6244, 'aankhon': 6245, 'aansu': 6246, 'santoshi': 6247, 'meenakshi': 6248, 'darzi': 6249, 'mill': 6250, 'kherat': 6251, 'wja': 6252, 'awwww': 6253, 'jhaeelo': 6254, 'humane': 6255, 'dayara': 6256, 'vadapau': 6257, 'kin': 6258, 'utpathang': 6259, 'latay': 6260, 'shahbano': 6261, 'divorces': 6262, 'buddhijeevi': 6263, 'edhar': 6264, 'thoalvihalin': 6265, 'sanskar': 6266, 'jaison': 6267, 'jyatatar': 6268, 'failaaya': 6269, 'saaamne': 6270, 'milate': 6271, 'candidate': 6272, 'margae': 6273, 'literally': 6274, 'shuroo': 6275, '7bje': 6276, 'shaeqeen': 6277, 'betab': 6278, '2sra': 6279, 'tohfa': 6280, 'hmne': 6281, 'dhanda': 6282, 'hadith': 6283, 'khalnayak': 6284, 'krij': 6285, 'keli': 6286, 'mech': 6287, 'hons': 6288, 'deri': 6289, 'mude': 6290, 'prithviraj': 6291, 'shammi': 6292, 'shashi': 6293, 'randhir': 6294, 'karishma': 6295, 'inlogo': 6296, 'ayyaashi': 6297, 'ooooo': 6298, 'these': 6299, 'weakening': 6300, 'fabric': 6301, 'chora': 6302, 'newz': 6303, 'collingwoo': 6304, 'wajib': 6305, 'thapar': 6306, 'karky': 6307, 'kehty': 6308, 'soye': 6309, 'graphy': 6310, 'goti': 6311, '100rs': 6312, 'hd': 6313, 'chhup': 6314, 'bindaas': 6315, 'sirr': 6316, 'basbaki': 6317, 'fuski': 6318, 'uthya': 6319, 'bhatkaya': 6320, 'dey': 6321, 'aajaye': 6322, 'jawaani': 6323, 'lawyer': 6324, 'krk': 6325, 'hindubhai': 6326, 'ramrahi': 6327, 'ghao': 6328, 'lagarahi': 6329, 'kaas': 6330, 'kalbe': 6331, 'sudhrege': 6332, 'stoning': 6333, 'kaudi': 6334, 'hin': 6335, 'pirates': 6336, 'antankiyo': 6337, 'karvayenge': 6338, 'netagiri': 6339, 'taweel': 6340, 'intezar': 6341, 'darmiyan': 6342, 'amad': 6343, 'pizza': 6344, 'guraantee': 6345, 'idiots': 6346, 'dialogs': 6347, 'ghamnd': 6348, 'mukdma': 6349, 'faisala': 6350, 'trha': 6351, 'pants': 6352, 'failata': 6353, 'mehrom': 6354, 'sweep': 6355, 'mama': 6356, 'ilaaz': 6357, 'puchogi': 6358, 'inteshar': 6359, 'opp': 6360, 'phasaya': 6361, 'jodke': 6362, 'chutye': 6363, 'dhika': 6364, 'aaeen': 6365, 'isalam': 6366, 'toothpick': 6367, 'danton': 6368, 'phans': 6369, 'idaraa': 6370, 'reaction': 6371, 'transfer': 6372, 'jindagi': 6373, 'bharsth': 6374, 'sooooooo': 6375, 'saamnay': 6376, 'faash': 6377, 'kindlyadjust': 6378, 'naram': 6379, 'zuban': 6380, 'suba': 6381, '2000': 6382, 'firse': 6383, 'saniya': 6384, 'mailk': 6385, 'autkat': 6386, 'yy': 6387, 'pb': 6388, 'aksmiq': 6389, 'ghatana': 6390, 'afghan': 6391, 'dehshatgard': 6392, 'legends': 6393, 'pedal': 6394, 'marta': 6395, 'sekne': 6396, 'gurus': 6397, 'intzaar': 6398, 'chelo': 6399, 'tyaar': 6400, 'guruo': 6401, 'pahuchne': 6402, 'maharajo': 6403, 'karte7lejao': 6404, 'mall': 6405, 'del': 6406, 'hike': 6407, 'daru': 6408, 'shortlist': 6409, 'nakara': 6410, 'worship': 6411, 'khelkar': 6412, 'anzham': 6413, 'glti': 6414, 'seeti': 6415, 'bajey': 6416, 'sajay': 6417, 'taali': 6418, 'jamey': 6419, 'khabhi': 6420, 'bhahut': 6421, 'aachi': 6422, 'mahzabi': 6423, 'pori': 6424, 'gaddar': 6425, 'parthar': 6426, 'ghutno': 6427, 'models': 6428, 'shehla': 6429, 'human': 6430, 'chachha': 6431, 'sabkuj': 6432, 'samajta': 6433, 'sunnewala': 6434, 'cartoon': 6435, 'servant': 6436, 'khelata': 6437, 'tumharahi': 6438, 'bhava': 6439, 'janme': 6440, 'janmi': 6441, 'hmare': 6442, 'phela': 6443, 'abadi': 6444, 'jarurt': 6445, 'aabadi': 6446, 'waapis': 6447, 'cheezo': 6448, 'banake': 6449, 'manmarji': 6450, 'dallo': 6451, 'ande': 6452, 'irfankhan': 6453, 'legendary': 6454, 'alvidaai': 6455, 'unho': 6456, 'keese': 6457, 'meene': 6458, '32': 6459, 'maarae': 6460, 'gayae': 6461, 'kijiyae': 6462, 'memo': 6463, 'ratragit': 6464, 'gaate': 6465, 'golf': 6466, 'badon': 6467, 'childrens': 6468, 'inhon': 6469, 'mashalllah': 6470, 'hopes': 6471, '1v': 6472, 'erest': 6473, 'pale': 6474, 'hatwaya': 6475, 'bezati': 6476, 'aisehi': 6477, 'pareshaan': 6478, 'kahein': 6479, 'parhai': 6480, 'reminds': 6481, 'nomis': 6482, 'navami': 6483, 'migrants': 6484, 'sarr': 6485, 'marvi': 6486, 'sirmed': 6487, 'mazaaq': 6488, 'poochtay': 6489, 'pareshaaniyan': 6490, 'azaab': 6491, 'achy': 6492, 'salook': 6493, 'moat': 6494, 'qaim': 6495, 'bhaagty': 6496, 'hovy': 6497, 'ghuss': 6498, 'vichardhara': 6499, 'aadhipatya': 6500, 'apuraniya': 6501, 'saral': 6502, 'that': 6503, 'iger': 6504, 'khisiyahi': 6505, 'kambha': 6506, 'nochee': 6507, 'lakar': 6508, 'bihaar': 6509, 'tar': 6510, 'kalsoom': 6511, 'honesty': 6512, 'jst': 6513, 'sunayi': 6514, 'waapas': 6515, 'hell': 6516, 'doors': 6517, 'heaven': 6518, 'ganwaro': 6519, 'pados': 6520, 'molunat': 6521, 'manaiviyin': 6522, 'suhayeenam': 6523, 'anikkana': 6524, 'mudal': 6525, 'poottihali': 6526, 'dahwan': 6527, 'vilayaada': 6528, 'maattar': 6529, 'dauray': 6530, 'khilarion': 6531, 'elaan': 6532, 'junaid': 6533, 'siayasat': 6534, 'bewakofon': 6535, 'shahbash': 6536, 'nibha': 6537, 'romeo': 6538, 'gaurakshako': 6539, 'bhudhijivi': 6540, 'secret': 6541, 'gud': 6542, 'rajnikanth': 6543, 'broker': 6544, 'atankvaad': 6545, 'roji': 6546, 'waho': 6547, 'nic': 6548, 'advance': 6549, 'alhamdulillah': 6550, 'manchester': 6551, 'bhos': 6552, 'ike': 6553, 'porkisstan': 6554, 'haradiya': 6555, 'laas': 6556, 'maveer': 6557, 'rohan': 6558, 'winner': 6559, 'manveer': 6560, 'kohre': 6561, 'goeventz': 6562, 'dabaaw': 6563, 'khwabon': 6564, 'titli': 6565, 'talk': 6566, 'sassy': 6567, 'waahhh': 6568, 'jegah': 6569, 'sirmujhe': 6570, 'nakalchi': 6571, 'bahenji': 6572, 'worker': 6573, 'bhumika': 6574, 'nibhaie': 6575, 'chetra': 6576, 'nibhaeyange': 6577, 'hashtags': 6578, 'chars': 6579, 'deportation': 6580, 'talaqnew': 6581, 'bhole': 6582, 'sadyantron': 6583, 'mayajaal': 6584, 'katl': 6585, 'anaya': 6586, 'musibat': 6587, 'lkn': 6588, 'yuhi': 6589, 'blue': 6590, 'whale': 6591, 'kisa': 6592, 'jwaab': 6593, 'kejri': 6594, 'jwab': 6595, 'hraami': 6596, 'pille': 6597, 'pyaare': 6598, 'bhadwa': 6599, 'bikaao': 6600, 'izzazat': 6601, 'daaro': 6602, 'minorities': 6603, 'opener': 6604, 'maratha': 6605, 'pds': 6606, 'surjan': 6607, 'begam': 6608, 'ulema': 6609, 'nibhai': 6610, 'fesla': 6611, 'pdta': 6612, 'smjhate': 6613, 'joray': 6614, 'mujhsay': 6615, 'soooo': 6616, 'shauqeeeeen': 6617, 'masha': 6618, 'cariar': 6619, 'jaaandar': 6620, 'tripathi': 6621, 'bareilly': 6622, 'fur0gh': 6623, 'kasayi': 6624, 'phew': 6625, 'bhj': 6626, 'bring': 6627, 'adding': 6628, 'meets': 6629, 'gujarati': 6630, 'rajah': 6631, 'spices': 6632, 'foodie': 6633, 'chodte': 6634, 'raheho': 6635, 'apto': 6636, 'tumhen': 6637, 'itminan': 6638, 'sahaara': 6639, 'chalaana': 6640, 'chalaaye': 6641, 'govind': 6642, 'awsmest': 6643, 'bhagvaan': 6644, 'ranj': 6645, 'uthaaney': 6646, 'derd': 6647, 'aashna': 6648, 'keejay': 6649, 'ghalib': 6650, 'rd': 6651, 'asloobi': 6652, 'maamilaat': 6653, 'revolute': 6654, 'hatho': 6655, 'fase': 6656, 'muqaam': 6657, 'duba': 6658, 'nazeer': 6659, 'waaaaaaaaaaaaaaaaaaaaaaaaaaah': 6660, 'haahaa': 6661, 'kedar': 6662, 'cahte': 6663, 'told': 6664, 'taraqqi': 6665, 'waara': 6666, 'tours': 6667, 'nachny': 6668, 'bhd': 6669, 'dekhy': 6670, 'sensitive': 6671, 'naspiton': 6672, 'iftar': 6673, 'lapeta': 6674, 'gatarchaap': 6675, 'cop': 6676, 'dabangg': 6677, 'rickshaw': 6678, 'bhaitards': 6679, 'kasii': 6680, 'taras': 6681, 'angelo': 6682, 'mathews': 6683, 'hamain': 6684, 'pakistanio': 6685, 'fact': 6686, 'tym': 6687, 'yrr': 6688, 'bajaya': 6689, 'naasor': 6690, 'cheejo': 6691, 'kameene': 6692, 'maukaparaston': 6693, 'ghonchu': 6694, 'bakega': 6695, 'persons': 6696, 'honee': 6697, 'chahiyein': 6698, 'bhulkar': 6699, 'yahee': 6700, 'kamee': 6701, 'hotee': 6702, 'bhagawan': 6703, 'toch': 6704, 'sankh': 6705, 'majira': 6706, 'bajao': 6707, 'notanki': 6708, 'oo': 6709, 'alava': 6710, 'shravan': 6711, 'sanu': 6712, 'koii': 6713, 'saktaa': 6714, 'galtii': 6715, 'agra': 6716, 'petha': 6717, 'aajyega': 6718, 'kaahe': 6719, 'khujli': 6720, 'rajouri': 6721, 'poonch': 6722, 'erada': 6723, 'ogon': 6724, 'lafzoon': 6725, 'bodyguard': 6726, 'postar': 6727, 'three': 6728, 'aachha': 6729, 'pickup': 6730, 'box': 6731, 'office': 6732, 'jealously': 6733, 'fil': 6734, 'kade': 6735, 'banaiye': 6736, 'address': 6737, 'badne': 6738, 'rw': 6739, 'parathna': 6740, 'church': 6741, 'kisliye': 6742, 'zayenge': 6743, 'adarshwan': 6744, 'parhota': 6745, 'chuse': 6746, 'ghumenge': 6747, 'bhavnaye': 6748, 'kiji': 6749, 'jhandon': 6750, 'stalls': 6751, 'karkay': 6752, 'bajatay': 6753, 'august14th': 6754, 'culturally': 6755, 'gavaaro': 6756, 'basti': 6757, 'su': 6758, 'mohalla': 6759, 'shuruat': 6760, 'chhati': 6761, 'sambhalege': 6762, 'otherwise': 6763, 'happend': 6764, 'khisak': 6765, 'alpsankhyak': 6766, 'lamborghini': 6767, 'sabh': 6768, 'humar': 6769, 'meh': 6770, 'hoors': 6771, 'istandwithabhijeet': 6772, 'bakwaass': 6773, 'chune': 6774, 'bithake': 6775, 'udate': 6776, 'hainsab': 6777, 'periods': 6778, '30din': 6779, '1bar': 6780, 'tnsn': 6781, 'watt': 6782, 'baas': 6783, 'sooch': 6784, 'humbistar': 6785, 'phillipines': 6786, 'rane': 6787, 'ghetay': 6788, 'rao': 6789, 'jast': 6790, 'zal': 6791, 'majhab': 6792, 'religious': 6793, 'laanet': 6794, 'abu': 6795, 'newaz': 6796, 'becha': 6797, 'garri': 6798, 'neechey': 6799, 'laanti': 6800, 'led': 6801, 'tubelight': 6802, 'rkhna': 6803, 'toom': 6804, 'sbk': 6805, 'sikhyegi': 6806, 'md': 6807, 'mamatabenerjee': 6808, 'atma': 6809, 'qaumi': 6810, 'zubaan': 6811, 'taleem': 6812, 'angrazi': 6813, 'pakistanithings': 6814, 'muslamaano': 6815, 'mhagai': 6816, 'kabu': 6817, 'vade': 6818, 'taktaki': 6819, 'treen': 6820, 'tarz': 6821, 'h0ngy': 6822, 'd0st': 6823, 'smjhe': 6824, 'deye': 6825, 'pakke': 6826, 'oyeee': 6827, 'batiyate': 6828, 'surk': 6829, 'sabab': 6830, 'puchhta': 6831, '2011walo': 6832, '6sal': 6833, 'keshav': 6834, 'suicide': 6835, 'jatiwadi': 6836, 'ghinona': 6837, 'gandis': 6838, 'sanp': 6839, 'tutega': 6840, 'italy': 6841, 'sandigdh': 6842, 'aatankwadi': 6843, 'salla': 6844, 'condom': 6845, 'anus': 6846, 'hk': 6847, 'counterpart': 6848, 'dummy': 6849, 'khayalat': 6850, 'coming': 6851, 'swarg': 6852, 'lite': 6853, 'kiun': 6854, 'nahy': 6855, 'rahee': 6856, 'lenay': 6857, 'peshawer': 6858, 'smhr': 6859, 'jgha': 6860, 'sites': 6861, 'khulenge': 6862, 'mosad': 6863, 'bdla': 6864, 'lakhlakh': 6865, 'israile': 6866, 'radd': 6867, 'beej': 6868, 'fasal': 6869, 'romanchak': 6870, 'worldcup': 6871, 'petro': 6872, 'duwa': 6873, 'pyaari': 6874, 'khayega': 6875, 'kohali': 6876, 'hariyana': 6877, 'gaar': 6878, 'parbkta': 6879, 'dekhata': 6880, 'ladakiyon': 6881, 'karara': 6882, 'bhik': 6883, 'mange': 6884, 'dl': 6885, 'waaahhh': 6886, 'petty': 6887, 'mudha': 6888, 'kutharaghat': 6889, 'padhane': 6890, 'batame': 6891, 'andheri': 6892, 'thaali': 6893, 'mammy': 6894, 'hog': 6895, 'bharshtiyachaar': 6896, 'dilasa': 6897, 'santwana': 6898, 'hie': 6899, 'nhin': 6900, 'baty': 6901, '2019tk': 6902, 'khely': 6903, 'bhahar': 6904, 'jaaahil': 6905, 'nazwaz': 6906, 'gey': 6907, 'kaisey': 6908, 'banyaa': 6909, 'judis': 6910, 'fort': 6911, 'bharshatachar': 6912, 'jeevan': 6913, 'aiyashi': 6914, 'ithna': 6915, 'aatha': 6916, 'dhe': 6917, 'logh': 6918, 'samarthak': 6919, 'kraa': 6920, 'kissa': 6921, 'uv': 6922, 'yz': 6923, '091517': 6924, 'shatrughan': 6925, 'sinha': 6926, 'dhikogi': 6927, 'jabun': 6928, 'rakhogi': 6929, 'waisi': 6930, 'auraten': 6931, 'baarey': 6932, 'kiss': 6933, 'betiya': 6934, 'tingu': 6935, 'bhosdika': 6936, 'kunki': 6937, 'rukega': 6938, 'chhorkar': 6939, 'patti': 6940, 'hatalo': 6941, 'laundiyabaaji': 6942, 'oscar': 6943, 'godhra': 6944, 'ander': 6945, 'pasnt': 6946, 'nachee': 6947, 'boysofgudgaawaan': 6948, 'gendh': 6949, 'engineers': 6950, 'gn': 6951, 'aazaad': 6952, 'bandhano': 6953, 'ghulam': 6954, 'jaaun': 6955, 'purnai': 6956, 'tasvire': 6957, 'dher': 6958, 'munfaqt': 6959, 'hussain': 6960, 'krein': 6961, 'relatives': 6962, 'suck': 6963, 'horahi': 6964, 'aant': 6965, 'nazdik': 6966, 'chasma': 6967, 'utarne': 6968, 'slave': 6969, 'terha': 6970, 'parhte': 6971, 'araam': 6972, 'sikhayo': 6973, 'gaaye': 6974, 'hattya': 6975, 'baaji': 6976, 'furshat': 6977, 'delo': 6978, 'fiqr': 6979, 'burqha': 6980, 'sur': 6981, 'upbringing': 6982, 'keede': 6983, 'mazab': 6984, 'chaaeye': 6985, 'engagement': 6986, 'batai': 6987, 'hosakti': 6988, 'khailtay': 6989, 'wafaa': 6990, 'merey': 6991, 'baaeis': 6992, 'bewafai': 6993, 'malaal': 6994, 'mid': 6995, 'latestt': 6996, 'bharkane': 6997, 'fasaad': 6998, 'tuti': 6999, 'patriots': 7000, '110': 7001, 'karthik': 7002, '13': 7003, 'nathan': 7004, 'wkt': 7005, 'mukund': 7006, 'sathish': 7007, 'karvat': 7008, 'shankarsinh': 7009, 'simat': 7010, 'indeed': 7011, 'hta': 7012, 'chotte': 7013, 'doosre': 7014, 'dinon': 7015, 'tob': 7016, 'rukha': 7017, 'ladhkiun': 7018, 'lobhi': 7019, 'allowed': 7020, 'aak': 7021, 'rooi': 7022, 'ronna': 7023, 'meko': 7024, 'kich': 7025, 'hinduism': 7026, 'pahena': 7027, 'khawaja': 7028, 'shb': 7029, 'krain': 7030, 'elaj': 7031, 'krata': 7032, 'nanhi': 7033, 'chitaaon': 7034, 'rotiyan': 7035, 'uthana': 7036, 'sucide': 7037, 'vej': 7038, 'baldev': 7039, 'bauji': 7040, 'derail': 7041, 'derailment': 7042, 'pitaji': 7043, '12lac': 7044, 'chukane': 7045, 'sushant': 7046, 'bareily': 7047, 'nyra': 7048, 'gidhdh': 7049, 'nochna': 7050, 'bnk': 7051, 'behad': 7052, 'baalak': 7053, 'vardaan': 7054, 'unsafe': 7055, 'swaksha': 7056, 'shanskriti': 7057, 'munaal': 7058, 'talaivar': 7059, 'brendan': 7060, 'taylor': 7061, 'meendum': 7062, 'aniyil': 7063, 'vilayaaduvathaha': 7064, 'arivithullar': 7065, 'tamilnews': 7066, 'osn': 7067, 'bundelkhand': 7068, 'tars': 7069, 'gorakshaks': 7070, 'jayga': 7071, 'terey': 7072, 'mushaira': 7073, 'sunate': 7074, 'woi': 7075, 'atankwaadi': 7076, 'sardana': 7077, 'fahrane': 7078, 'chair': 7079, 'gardi': 7080, 'kertay': 7081, 'dodh': 7082, 'peetay': 7083, 'excuses': 7084, 'saving': 7085, 'yunus': 7086, 'sikhya': 7087, 'punish': 7088, 'chammmach': 7089, 'attankee': 7090, 'faisley': 7091, 'hamney': 7092, 'shantee': 7093, 'peaceful': 7094, 'ramrajyah': 7095, 'naresh': 7096, 'elect': 7097, 'kohi': 7098, 'markay': 7099, 'gandha': 7100, 'baazaar': 7101, 'milad': 7102, 'paighaam': 7103, 'zehr': 7104, 'lagnay': 7105, 'sujh': 7106, 'jisay': 7107, 'ikaththa': 7108, 'vy': 7109, 'crop': 7110, 'talva': 7111, 'pradeep': 7112, '103': 7113, 'khudgazi': 7114, 'ghin': 7115, 'duhre': 7116, 'dwesh': 7117, 'phailati': 7118, 'dhundhh': 7119, 'thha': 7120, 'karwana': 7121, 'ehtijaj': 7122, 'magan': 7123, 'pose': 7124, 'swing': 7125, 'manubad': 7126, 'bramman': 7127, 'barna': 7128, 'secretly': 7129, 'nii': 7130, 'sko': 7131, 'rohitji': 7132, 'chhodde': 7133, 'partyhai': 7134, 'hinduonka': 7135, 'pakhsdharhai': 7136, 'bebakise': 7137, 'bjphi': 7138, 'kartahai': 7139, 'soojhta': 7140, 'ooper': 7141, 'marshal': 7142, 'beefban': 7143, 'dog': 7144, 'daant': 7145, 'tumala': 7146, 'baban': 7147, 'adhvan': 7148, 'jitki': 7149, 'utkrashta': 7150, 'tenchi': 7151, 'lekhane': 7152, 'tetkes': 7153, 'utkrashtra': 7154, 'tumche': 7155, 'saajis': 7156, 'sulgi': 7157, 'bujhi': 7158, 'ragad': 7159, 'tik': 7160, 'nihad': 7161, 'jehadiyon': 7162, 'financed': 7163, 'sarvadhik': 7164, 'pahuchai': 7165, 'farsi': 7166, 'vakalat': 7167, 'chalayenge': 7168, 'theatre': 7169, 'dons': 7170, 'jihadpremi': 7171, 'laluprasadrjd': 7172, 'mov': 7173, 'chalaiye': 7174, 'pista': 7175, 'am': 7176, 'kiran': 7177, '82': 7178, 'about': 7179, 'preet': 7180, 'glamour': 7181, 'jatiye': 7182, 'umda': 7183, 'palm': 7184, 'pushpanjali': 7185, 'parvah': 7186, 'doa': 7187, 'kamiyab': 7188, 'domestic': 7189, 'kahne': 7190, 'slt20': 7191, 'soothaattam': 7192, 'itku': 7193, 'vithikkappatta': 7194, 'maadha': 7195, 'thadai': 7196, 'niraivu': 7197, 'avar': 7198, 'thodaril': 7199, 'vilaiyaadalaam': 7200, 'present': 7201, 'badtameeze': 7202, 'maskara': 7203, 'harmony': 7204, 'bnaana': 7205, 'migrant': 7206, 'rubika': 7207, 'liyaquat': 7208, 'process': 7209, 'firoz': 7210, 'naahi': 7211, 'aaaaaar': 7212, 'ceeeeeee': 7213, 'beeeeeee': 7214, 'pis': 7215, 'chatni': 7216, 'kahto': 7217, 'payer': 7218, 'juti': 7219, 'berhodh': 7220, 'prchar': 7221, 'bachpana': 7222, 'ramrajya': 7223, 'sthapit': 7224, 'rajat': 7225, 'roy': 7226, 'karai': 7227, 'nirlajjta': 7228, 'parakashtha': 7229, 'netaao': 7230, 'dekher': 7231, 'jinn': 7232, 'adhikaron': 7233, 'chehre': 7234, 'rahulbhai': 7235, 'siz': 7236, 'pidito': 7237, 'smjhna': 7238, 'chaahate': 7239, 'big3': 7240, 'badhi': 7241, 'banungi': 7242, 'mihali': 7243, 'milungi': 7244, 'shook': 7245, 'advertisement': 7246, 'kariyo': 7247, 'lutt': 7248, 'pun': 7249, 'jiyada': 7250, 'annya': 7251, 'khelon': 7252, 'jaggah': 7253, 'aapnio': 7254, 'tahole': 7255, 'hoyto': 7256, 'kono': 7257, 'khelbo': 7258, 'barrir': 7259, 'obostha': 7260, 'bhalo': 7261, 'ministers': 7262, 'lateral': 7263, 'milni': 7264, 'kalakaar': 7265, 'poojte': 7266, 'madarchodon': 7267, 'shehar': 7268, 'sota': 7269, 'jyoti': 7270, 'prositute': 7271, 'sirajul': 7272, 'reject': 7273, 'kardea': 7274, 'mubarakbad': 7275, 'daina': 7276, 'chaiy': 7277, 'dignity': 7278, 'meim': 7279, 'katva': 7280, 'kohili': 7281, 'dusari': 7282, 'oarath': 7283, 'kutaai': 7284, 'kartahu': 7285, 'sahanbhuti': 7286, 'karengai': 7287, 'alaawa': 7288, 'kaamnhi': 7289, 'dango': 7290, 'ghair': 7291, 'aenge': 7292, 'aditya': 7293, 'aryan': 7294, 'appka': 7295, 'fain': 7296, 'sujhav': 7297, 'nmaste': 7298, 'pitch': 7299, 'maidhan': 7300, 'padtha': 7301, 'aiseech': 7302, 'bhatki': 7303, 'bajwa': 7304, 'zia': 7305, 'pervaizmushbush': 7306, 'sarhd': 7307, 'sep': 7308, 'ly': 7309, 'lokpaal': 7310, 'daagi': 7311, 'hatenge': 7312, 'rajib': 7313, 'nikalti': 7314, 'dimhaoge': 7315, 'jeetna': 7316, 'pithware': 7317, 'roosi': 7318, '9599786585': 7319, 'petsutra': 7320, 'sehansah': 7321, 'hamesh': 7322, 'priya': 7323, 'tushtikaran': 7324, 'rashtrapati': 7325, 'deenanath': 7326, 'sketch4': 7327, 'agneepath': 7328, 'artwork': 7329, 'creative': 7330, 'saaya': 7331, 'bengladesh': 7332, 'sumit': 7333, '3110': 7334, 'banday': 7335, 'iphone5s': 7336, 'ghumne': 7337, 'sashaktikaran': 7338, 'batungaa': 7339, 'kayi': 7340, 'daadhi': 7341, 'ashram': 7342, 'asarambapu': 7343, 'ranbhoomi': 7344, 'sam': 7345, 'barun': 7346, 'pandiya': 7347, 'bnaye': 7348, 'bevkoof': 7349, 'bhagva': 7350, 'fadte': 7351, 'krodh': 7352, 'shantchitta': 7353, 'phat': 7354, 'uchit': 7355, 'bhejega': 7356, 'devta': 7357, 'intezaar': 7358, 'beqaraa': 7359, '44': 7360, 'motions': 7361, 'prophet': 7362, 'pmo': 7363, 'janenge': 7364, 'janu': 7365, 'marva': 7366, 'judicial': 7367, 'authority': 7368, 'namakharam': 7369, 'aaz': 7370, 'kheench': 7371, 'alina': 7372, 'paniyon': 7373, 'courage': 7374, 'under': 7375, 'fire': 7376, 'neerja': 7377, 'apamanit': 7378, 'uthiye': 7379, 'phenk': 7380, 'congees': 7381, 'kechue': 7382, 'haavi': 7383, 'charaha': 7384, 'mudhe': 7385, 'currption': 7386, 'dalil': 7387, 'bolegi': 7388, 'scholar': 7389, 'rastravadi': 7390, 'tricolour': 7391, 'disrespect': 7392, 'deshdroh': 7393, 'talaqe': 7394, 'khujate': 7395, 'stunt': 7396, 'dikhawe': 7397, 'handi': 7398, 'tweetne': 7399, 'dheeth': 7400, 'noise': 7401, 'mauqa': 7402, 'mohalle': 7403, 'isy': 7404, 'bayemani': 7405, 'nawaza': 7406, 'wasta': 7407, 'bachaw': 7408, 'mukhiya': 7409, 'pakistanteam': 7410, 'taqreeb': 7411, 'barrhaenge': 7412, 'baatnahi': 7413, 'purchun': 7414, 'shop': 7415, 'hahahah': 7416, 'vines': 7417, 'jhagra': 7418, 'satyanash': 7419, 'sanyasi': 7420, 'laro': 7421, 'curroption': 7422, 'bribery': 7423, 'pakdi': 7424, 'susu': 7425, 'naturally': 7426, 'churane': 7427, 'derr': 7428, 'ghapala': 7429, 'sochiye': 7430, 'jamini': 7431, 'haqiqat': 7432, 'ukhaad': 7433, 'phlai': 7434, 'ksr': 7435, 'jariye': 7436, 'khafi': 7437, 'jesey': 7438, 'nah': 7439, 'khelkr': 7440, 'kabir': 7441, 'stbhakti': 7442, 'mokkchha': 7443, 'gla': 7444, 'aaroop': 7445, 'lagye': 7446, 'jiii': 7447, 'jababdehi': 7448, 'nata': 7449, '2009': 7450, 'paththa': 7451, 'bdiya': 7452, 'dhuma': 7453, 'bombay': 7454, 'tumka': 7455, 'lehte': 7456, 'dhundne': 7457, 'lafda': 7458, 'aasakte': 7459, 'selfi': 7460, 'raul': 7461, 'weh': 7462, 'aasmaan': 7463, 'banaane': 7464, 'qaabiliyat': 7465, 'mashaallah': 7466, 'peh': 7467, 'chorh': 7468, 'arahay': 7469, 'unfollow': 7470, 'benchod': 7471, 'angan': 7472, 'ped': 7473, 'ugta': 7474, 'marji': 7475, '2014': 7476, 'dalna': 7477, 'deewany': 7478, 'plantation': 7479, 'zimmedari': 7480, 'nibhane': 7481, 'chamchagiri': 7482, 'jhadne': 7483, 'jaiso': 7484, 'lifes': 7485, 'sarvesh': 7486, 'chaudhary': 7487, 'janegi': 7488, 'humen': 7489, 'samjhaey': 7490, 'uchal': 7491, '98': 7492, 'galiya': 7493, 'dengi': 7494, 'green': 7495, 'boyos': 7496, 'koto': 7497, 'beshi': 7498, 'mone': 7499, 'hocche': 7500, 'bujhe': 7501, 'loker': 7502, 'kache': 7503, 'thakar': 7504, 'jnno': 7505, 'gadhamir': 7506, 'ekses': 7507, 'ajeeeb': 7508, 'sultanat': 7509, 'yehan': 7510, 'savdhaan': 7511, 'sathiyo': 7512, 'naata': 7513, 'faslo': 7514, 'phaad': 7515, 'ladkiyian': 7516, 'hatrik': 7517, 'dhajjiyan': 7518, 'udayenge': 7519, 'wid': 7520, 'sugar': 7521, 'shakar': 7522, 'sakar': 7523, 'sakr': 7524, 'arabic': 7525, 'hobe': 7526, 'iskaa': 7527, 'payengay': 7528, 'ghairmulki': 7529, 'aayein': 7530, 'holiday': 7531, 'yekkum': 7532, 'mazdoor': 7533, 'mazdoori': 7534, 'labourday': 7535, 'usiko': 7536, 'roflol': 7537, 'bheeshan': 7538, 'chhodenge': 7539, 'pasine': 7540, 'chhudane': 7541, 'rowdyism': 7542, 'ajaadi': 7543, 'tal': 7544, 'aq': 7545, 'manti': 7546, 'sarkon': 7547, 'pat': 7548, 'aazkal': 7549, 'balako': 7550, 'batak': 7551, 'baazo': 7552, 'nad': 7553, 'roast': 7554, 'roasting': 7555, 'kim': 7556, 'rude': 7557, 'janje': 7558, 'shalakhe': 7559, 'saport': 7560, 'pahni': 7561, 'spn': 7562, 'milind': 7563, 'hosh': 7564, 'quki': 7565, 'bhaagt': 7566, 'charo': 7567, 'mataji': 7568, 'bolati': 7569, 'baani': 7570, 'chhape': 7571, 'darshe': 7572, 'chubhe': 7573, 'lanchaan': 7574, 'daarh': 7575, 'oar': 7576, 'doha': 7577, 'naroba': 7578, 'maharashtrachya': 7579, 'rahili': 7580, 'poochiye': 7581, 'khoti': 7582, 'rahengi': 7583, 'laashein': 7584, 'ginengey': 7585, 'speed': 7586, 'dhiyan': 7587, 'birudh': 7588, 'deshbhar': 7589, 'jagruti': 7590, 'failaneme': 7591, 'unpad': 7592, 'ray': 7593, 'anupam': 7594, 'kher': 7595, 'wic': 7596, 'sainik': 7597, 'khat': 7598, 'bhatiye': 7599, 'tatsam': 7600, 'khudh': 7601, 'stalk': 7602, 'aankhien': 7603, 'gotiyaan': 7604, 'khelnga': 7605, '2050': 7606, 'haijo': 7607, 'jharkhand': 7608, 'thok': 7609, 'chikni': 7610, 'chupdi': 7611, 'auro': 7612, 'vanta': 7613, '230': 7614, 'plus': 7615, 'saajana': 7616, 'happiest': 7617, 'classics': 7618, 'stoppolitics': 7619, 't10': 7620, 'league': 7621, 'hangin': 7622, 'posse': 7623, 'arko': 7624, 'pravo': 7625, 'sujit': 7626, 'standup': 7627, 'comedy': 7628, 'kelo': 7629, 'beemar': 7630, 'balli': 7631, 'mallom': 7632, 'auqaat': 7633, 'nehin': 7634, 'coz': 7635, 'khadenge': 7636, 'variety': 7637, 'prashant': 7638, 'jesy': 7639, 'gundo': 7640, 'badmashu': 7641, 'paregi': 7642, 'maahan': 7643, 'waisey': 7644, 'laluu': 7645, 'catta': 7646, 'aarahey': 7647, 'adher': 7648, 'opportunistic': 7649, 'cap': 7650, 'pehna': 7651, 'karwaaya': 7652, 'chamaroo': 7653, 'foji': 7654, 'neechi': 7655, 'ultey': 7656, 'lait': 7657, 'qabliyat': 7658, 'padharo': 7659, 'rushdie': 7660, 'forgetting': 7661, 'brohi': 7662, 'killer': 7663, 'silent': 7664, 'asks': 7665, 'shankar': 7666, 'selector': 7667, 'happens': 7668, 'parts': 7669, 'resist': 7670, 'banning': 7671, 'bulao': 7672, 'majeed': 7673, 'amjad': 7674, 'ea': 7675, 'yadein': 7676, 'khodayi': 7677, 'khosh': 7678, 'tohi': 7679, 'yuddhme': 7680, 'hmmm': 7681, 'ikhtilaf': 7682, 'khobsurati': 7683, 'likin': 7684, 'zatiyat': 7685, 'khangressio': 7686, 'jayen': 7687, 'makkar': 7688, 'angle': 7689, 'hadse': 7690, 'jeevandaan': 7691, 'bchane': 7692, 'prashasan': 7693, 'nr': 7694, 'bhle': 7695, 'safeda': 7696, 'abhibyak': 7697, 'henkarhi': 7698, 'punjan': 7699, 'dikhate': 7700, 'standards': 7701, 'anpe': 7702, 'beizzati': 7703, 'uthha': 7704, 'nakami': 7705, 'thopna': 7706, 'muhabbat': 7707, 'utni': 7708, 'loksankya': 7709, 'yek': 7710, 'nagrikne': 7711, 'kohliji': 7712, 'sanskrut': 7713, 'bhoomi': 7714, 'devsena': 7715, 'rashtrabhasha': 7716, 'rajyabhasha': 7717, 'behave': 7718, 'muqabile': 7719, 'aerial': 7720, 'dhulai': 7721, 'daali': 7722, 'whitewash': 7723, 'bhonsdi': 7724, 'mussala': 7725, 'patey': 7726, 'bataoo': 7727, 'bhalla': 7728, 'kele': 7729, 'varta': 7730, 'kood': 7731, 'akhileshpratap': 7732, 'sikander': 7733, 'badd': 7734, 'badtar': 7735, 'yaadein': 7736, 'mohtaaj': 7737, 'naisha': 7738, 'laluji': 7739, 'laag': 7740, 'lachhar': 7741, 'prithvi': 7742, 'shekawat': 7743, '106': 7744, '83': 7745, 'mindset': 7746, 'burkhe': 7747, 'terroristo': 7748, 'guroor': 7749, 'shabaab': 7750, 'lauta': 7751, 'actores': 7752, 'hok': 7753, 'shakte': 7754, 'dikahu': 7755, 'natiza': 7756, 'hearing': 7757, 'bopara': 7758, 'samit': 7759, 'radha': 7760, 'logonke': 7761, 'chashme': 7762, 'dekhun': 7763, 'hamaare': 7764, 'mayatattee': 7765, 'obama': 7766, 'raqam': 7767, 'wtf': 7768, 'tongue': 7769, 'acchedin': 7770, 'kaaladhan': 7771, 'vikaas': 7772, 'hindutvarashtra': 7773, 'mahaan': 7774, 'gayeee': 7775, 'baahar': 7776, 'omfg': 7777, '2e': 7778, 'yayayayayayayyaayayayayayayayayyayayay': 7779, 'khanaiya': 7780, 'rhen': 7781, 'kren': 7782, 'sache': 7783, 'aasli': 7784, 'hamai': 7785, 'maslay': 7786, 'rahan': 7787, 'swagat': 7788, 'insanyat': 7789, 'molana': 7790, 'logoki': 7791, 'pahchan': 7792, 'deshko': 7793, 'kuto': 7794, 'vajh': 7795, 'netwo': 7796, 'sikhai': 7797, 'awaj': 7798, 'going': 7799, 'chiraagh': 7800, 'ministry': 7801, 'jhaphy': 7802, 'ghoomti': 7803, 'googli': 7804, 'chhote': 7805, 'kheliye': 7806, 'bhaar': 7807, 'unpe': 7808, 'chodiye': 7809, 'anusaar': 7810, 'cuts': 7811, 'both': 7812, 'ways': 7813, 'betiyan': 7814, 'networks': 7815, 'banani': 7816, 'todna': 7817, 'kreej': 7818, 'pair': 7819, 'phaaltu': 7820, 'dekhen': 7821, 'janle': 7822, 'filmfare': 7823, 'tumhi': 7824, 'itti': 7825, 'tumpe': 7826, 'wao': 7827, 'notice': 7828, 'gvs': 7829, 'asap': 7830, 'fone': 7831, 'uthaate': 7832, 'horror': 7833, 'angreji': 7834, 'hockey': 7835, 'bakta': 7836, 'bananey': 7837, 'freindly': 7838, 'patheecher': 7839, 'zardar': 7840, 'choudhry': 7841, 'rampalji': 7842, 'kurityon': 7843, 'bhenchod': 7844, 'veg': 7845, 'duck': 7846, 'implement': 7847, 'badana': 7848, 'correct': 7849, 'suruwat': 7850, 'gulamo': 7851, 'wayse': 7852, 'karwya': 7853, 'kadwevachana': 7854, 'respected': 7855, 'gorkhapur': 7856, 'eak': 7857, 'aalag': 7858, 'kunhi': 7859, 'panchkula': 7860, '30log': 7861, 'swaal': 7862, 'puchu': 7863, 'khuss': 7864, 'boley': 7865, 'chhoda': 7866, 'eesi': 7867, 'msk': 7868, 'bhuat': 7869, 'jivit': 7870, 'sbhi': 7871, 'sammat': 7872, 'vidhwa': 7873, 'motivate': 7874, 'laug': 7875, 'onpar': 7876, 'mehla': 7877, 'dijaye': 7878, 'kas': 7879, 'gatna': 7880, 'bhagto': 7881, 'porane': 7882, 'dai': 7883, 'puttr': 7884, 'badalna': 7885, 'ammy': 7886, 'kol': 7887, 'thapthapai': 7888, 'grkhpr': 7889, 'mlkhatar': 7890, 'umra': 7891, 'verdic': 7892, 'aayenge': 7893, 'haqq': 7894, 'feku': 7895, 'aatanki': 7896, 'vanjhara': 7897, 'jinho': 7898, 'katal': 7899, 'janaza': 7900, 'mis': 7901, '10000000000000000000000000': 7902, 'daridrapugotu': 7903, 'thatha': 7904, 'chesarani': 7905, 'manavadu': 7906, 'cheyyalani': 7907, 'avarasaram': 7908, 'mushti': 7909, 'rajakeeyam': 7910, 'bhasa': 7911, 'patrakaro': 7912, 'vasundhara': 7913, 'royal': 7914, 'nass': 7915, 'thoke': 7916, 'yogdan': 7917, 'europe': 7918, 'preaching': 7919, 'tells': 7920, 'chandrechur': 7921, 'shehr': 7922, 'spelling': 7923, 'musically': 7924, 'streak': 7925, 'weekend': 7926, 'sang': 7927, 'roko': 7928, 'neelamkatara': 7929, 'honour': 7930, 'bharne': 7931, '00pm': 7932, 'agrawal': 7933, 'nist': 7934, 'naboot': 7935, 'dhundo': 7936, 'setu': 7937, 'maante': 7938, 'muzzafar': 7939, 'samajwadi': 7940, 'mahautsav': 7941, 'detey': 7942, 'criticism': 7943, 'jabab': 7944, 'madarse': 7945, 'khala': 7946, 'kanoonan': 7947, 'bhuke': 7948, 'arrangement': 7949, 'khoj': 7950, 'giraffe': 7951, 'phekta': 7952, 'dhok': 7953, 'lip': 7954, 'jhansi': 7955, 'virupa': 7956, 'nti': 7957, 'bridge': 7958, 'jaany': 7959, 'spirit': 7960, 'drr': 7961, 'neat': 7962, 'businessman': 7963, 'thakathit': 7964, 'guruon': 7965, 'khaana': 7966, 'cuisine': 7967, 'serve': 7968, 'muslm': 7969, 'dhogi': 7970, 'jnab': 7971, 'babe': 7972, 'intzaam': 7973, 'strongly': 7974, 'akhela': 7975, 'usmein': 7976, 'sonaam': 7977, 'abnay': 7978, 'nrechay': 7979, 'rakhnay': 7980, 'lashon': 7981, 'saudagar': 7982, 'gaindaswami': 7983, 'vulture': 7984, 'request': 7985, 'farma': 7986, 'pichwara': 7987, 'alfaz': 7988, 'hojayen': 7989, 'unpar': 7990, 'saray': 7991, 'participate': 7992, 'krainn': 7993, 'hahha': 7994, 'roe': 7995, 'matha': 7996, 'practical': 7997, 'denese': 7998, 'kamaoge': 7999, 'dubega': 8000, 'khandan': 8001, 'duhai': 8002, 'huzoor': 8003, 'alaam': 8004, 'irshad': 8005, 'farmayey': 8006, 'aapney': 8007, 'likhte': 8008, 'insomniac': 8009, 'kamina': 8010, 'megha': 8011, 'bekasoor': 8012, 'purohit': 8013, 'kharabi': 8014, 'dusman': 8015, 'azaan': 8016, 'sansa': 8017, 'arya': 8018, 'cersie': 8019, 'salaam': 8020, 'junta': 8021, 'sadgi': 8022, 'topibazi': 8023, 'vanaya': 8024, 'irani': 8025, 'technology': 8026, 'jhagre': 8027, 'jonedete': 8028, 'owisi': 8029, 'rak': 8030, 'inlogokko': 8031, 'sanskruti': 8032, 'walehe': 8033, 'daud': 8034, 'bankar': 8035, 'nachte': 8036, 'brotherhood': 8037, 'fatti': 8038, 'chej': 8039, 'tuchi': 8040, 'kthm': 8041, 'angreez': 8042, 'mujeeb': 8043, 'mager': 8044, 'jor': 8045, 'chla': 8046, 'canteen': 8047, 'chakr': 8048, 'mashaa': 8049, 'najeehum': 8050, 'rabi': 8051, 'rubber': 8052, 'stamp': 8053, 'jimmedar': 8054, 'conti': 8055, 'manakji': 8056, 'ittefaq': 8057, 'farigh': 8058, 'dika': 8059, 'shatranj': 8060, 'bhuvneswar': 8061, 'payment': 8062, 'niazi': 8063, 'sadar': 8064, 'yaqeen': 8065, 'dilaya': 8066, 'doura': 8067, 'etna': 8068, 'uchlo': 8069, 'jaaen': 8070, 'krwakr': 8071, 'khitab': 8072, 'jite': 8073, 'vibhajan': 8074, 'nikalna': 8075, 'rukvakar': 8076, 'sazlo': 8077, 'qadri': 8078, 'studs': 8079, 'munh': 8080, 'aajate': 8081, 'tyohar': 8082, 'chachchhi': 8083, 'dinbhar': 8084, 'lullua': 8085, 'bhawadhari': 8086, 'bastar': 8087, 'chandan': 8088, 'tilk': 8089, 'mahtu': 8090, 'samajhtey': 8091, 'lipt': 8092, 'chandrasekhar': 8093, 'janmdiwas': 8094, 'gujar': 8095, 'net': 8096, 'naali': 8097, 'satyameva': 8098, 'jayate': 8099, 'satyam': 8100, 'noticed': 8101, 'banjaao': 8102, 'hospitals': 8103, 'saluk': 8104, 'eg': 8105, 'celeb': 8106, 'particularly': 8107, 'prim': 8108, 'qile': 8109, 'federal': 8110, 'senseles': 8111, 'rehega': 8112, 'shaamli': 8113, 'edher': 8114, 'mithai': 8115, 'bantne': 8116, 'fasad': 8117, 'bhaisahab': 8118, 'sangeeta': 8119, 'nirash': 8120, 'hedaal': 8121, 'ladyz': 8122, 'hukuk': 8123, 'hatred': 8124, 'menu': 8125, '101': 8126, 'idar': 8127, 'houti': 8128, 'zealand': 8129, 'damakh': 8130, 'kharaab': 8131, 'honjata': 8132, 'yahya': 8133, 'husaini': 8134, 'lifafa': 8135, 'sahafiyo': 8136, 'demak': 8137, 'pitte': 8138, 'bhagti': 8139, 'shensha': 8140, 'wasap': 8141, 'nachu': 8142, 'pakre': 8143, 'taraveeh': 8144, 'phadi': 8145, 'nemaz': 8146, 'karengy': 8147, 'madeney': 8148, 'kareem': 8149, 'kelna': 8150, 'dafar': 8151, 'murderer': 8152, 'vishwa': 8153, 'lagoo': 8154, 'goelians': 8155, 'satate': 8156, 'thair': 8157, 'bjye': 8158, 'sbko': 8159, 'androni': 8160, 'behtr': 8161, 'lard': 8162, 'omg': 8163, 'aari': 8164, 'bhagwaano': 8165, 'udaake': 8166, 'kamana': 8167, 'sanskaar': 8168, 'qawwali': 8169, 'laundiyan': 8170, 'taste': 8171, 'sikhs': 8172, 'regiment': 8173, 'sudharain': 8174, 'kaabay': 8175, 'englistan': 8176, 'kudakudhinge': 8177, 'dhuvasthamee': 8178, 'maldives': 8179, 'yarjan': 8180, 'jamaldini': 8181, 'rahein': 8182, 'hutiyaa': 8183, 'rajnaitik': 8184, 'taakat': 8185, 'upaay': 8186, 'lutney': 8187, 'yatri': 8188, 'nda': 8189, 'suprime': 8190, 'wajibul': 8191, 'chper': 8192, 'adhi': 8193, 'pochte': 8194, 'kii': 8195, 'bne': 8196, 'vanshvaad': 8197, 'vansh': 8198, 'vatvrikhsh': 8199, 'cinepremiyon': 8200, 'kapurs': 8201, 'adhooraa': 8202, 'wickets': 8203, 'padhi': 8204, 'begunah': 8205, 'behek': 8206, 'dechuka': 8207, 'hamam': 8208, 'firbhi': 8209, 'jameer': 8210, 'geet': 8211, 'khilafat': 8212, 'krnewala': 8213, 'khreed': 8214, 'chutki': 8215, 'rutbe': 8216, 'ummed': 8217, 'stillalive': 8218, 'koshis': 8219, 'chopra': 8220, 'sadharu': 8221, 'bharatha': 8222, 'jattu': 8223, 'kreedabhimanulu': 8224, 'anjeer': 8225, 'deserve': 8226, 'aaaaaaaaaa': 8227, 'thuuuuuu': 8228, 'saurabh': 8229, 'kbow': 8230, 'zahid': 8231, 'generation': 8232, 'corrupted': 8233, 'tuchiye': 8234, 'res': 8235, 'mob': 8236, 'khatoli': 8237, 'pidhi': 8238, 'shaqal': 8239, 'mand': 8240, 'buddhi': 8241, 'tejaswi': 8242, 'jaatiwaad': 8243, 'manpic': 8244, 's873vniezs': 8245, 'how': 8246, 'chlaan': 8247, 'kaate': 8248, 'mamuli': 8249, 'doc': 8250, 'fobia': 8251, 'khatum': 8252, 'fear': 8253, 'loathing': 8254, 'patli': 8255, 'hareem': 8256, 'ac': 8257, 'pasina': 8258, 'dhup': 8259, 'aaukat': 8260, 'jayoge': 8261, 'najais': 8262, 'jahalat': 8263, 'vajeh': 8264, 'stay': 8265, 'alive': 8266, 'definitely': 8267, 'bajana': 8268, 'cant': 8269, 'pakis': 8270, 'adhar': 8271, 'finger': 8272, 'dilwane': 8273, 'wallon': 8274, 'saang': 8275, 'yarri': 8276, 'biwiyon': 8277, 'suhagan': 8278, 'faste': 8279, 'hellomedia': 8280, 'gadbad': 8281, 'smjhnhi': 8282, 'fit': 8283, 'raj03': 8284, 'soochna': 8285, 'anusar': 8286, 'banayiye': 8287, 'jaanay': 8288, 'stadiums': 8289, 'ladkiyan': 8290, 'kitchen': 8291, 'sudarsan': 8292, 'pattnaik': 8293, 'slapped': 8294, 'mitti': 8295, 'shaad': 8296, 'chatte': 8297, 'muqads': 8298, 'witnessing': 8299, 'ettihasik': 8300, 'aankde': 8301, 'jawalant': 8302, 'mangi': 8303, 'jealous': 8304, 'nahihota': 8305, 'dharamguruao': 8306, 'race': 8307, 'gaddiyo': 8308, 'jitate': 8309, 'giar': 8310, 'badlte': 8311, 'pichli': 8312, 'moeen': 8313, 'liaqaut': 8314, 'pichhli': 8315, 'matchwa': 8316, 'khichane': 8317, 'cheque': 8318, 'dhundega': 8319, 'missing': 8320, 'murali': 8321, 'suesh': 8322, 'asmani': 8323, 'hmlogo': 8324, 'sikhata': 8325, 'jes': 8326, 'sawa': 8327, 'carole': 8328, '1250000': 8329, 'jantaa': 8330, 'dais': 8331, 'sarkare': 8332, 'nice': 8333, 'hamy': 8334, 'zariye': 8335, 'camedy': 8336, 'shaandar': 8337, 'beya': 8338, 'rajdan': 8339, 'marraige': 8340, 'saki': 8341, 'scen': 8342, 'amish': 8343, 'hik': 8344, 'nudda': 8345, 'mask': 8346, 'khuli': 8347, 'tamacha': 8348, 'vidhayakon': 8349, 'feeta': 8350, 'innaguration': 8351, 'rakhey': 8352, 'bhartiye': 8353, 'sikhar': 8354, 'saandar': 8355, 'balebaji': 8356, 'parsansniye': 8357, 'bartman': 8358, 'okaa': 8359, 'ammaki': 8360, 'puttinattainaithe': 8361, 'tappaka': 8362, 'chiranjeevi': 8363, 'garini': 8364, 'vere': 8365, 'vishayam': 8366, 'vimarsinchagalava': 8367, 'atomic': 8368, 'dhamakon': 8369, 'laynay': 8370, 'daynay': 8371, 'qaasir': 8372, 'youm': 8373, 'etakbeer': 8374, 'tanik': 8375, 'inspire': 8376, 'lyrics': 8377, 'muzaffarnagar': 8378, 'mark': 8379, 'aesa': 8380, 'aega': 8381, 'emraan': 8382, 'baho': 8383, 'chaali': 8384, 'sholay': 8385, 'durghtana': 8386, 'kamata': 8387, 'unsaputo': 8388, 'naman': 8389, 'vajha': 8390, 'aram': 8391, 'daish': 8392, 'highest': 8393, 'grosser': 8394, 'rr': 8395, 'maviya': 8396, 'baadi': 8397, 'chhute': 8398, 'balocho': 8399, 'brahmand': 8400, 'natamastak': 8401, 'ganapti': 8402, 'bappa': 8403, 'morya': 8404, 'khanpur': 8405, 'aushdhi': 8406, 'paiye': 8407, 'cross': 8408, 'sanstha': 8409, 'badhta': 8410, 'batiya': 8411, 'rifat': 8412, 'jawed': 8413, 'maano': 8414, 'rakhlo': 8415, 'wasei': 8416, 'chodkar': 8417, 'bhyya': 8418, 'heroine': 8419, 'tisha': 8420, 'journalism': 8421, 'facts': 8422, 'fiction': 8423, 'gude': 8424, 'shava': 8425, 'katrinakaif': 8426, 'haasil': 8427, 'details': 8428, 'duri': 8429, 'banalo': 8430, 'tordo': 8431, 'liverpool': 8432, 'class': 8433, 'mates': 8434, 'bachaay': 8435, 'hogyee': 8436, 'yaahaan': 8437, 'ready': 8438, 'mingle': 8439, 'bahaar': 8440, 'ladayi': 8441, 'inkar': 8442, 'aansuon': 8443, 'jitaya': 8444, 'museebat': 8445, 'dikhatahe': 8446, 'tango': 8447, 'chupak': 8448, 'baithate': 8449, 'taango': 8450, 'maangney': 8451, 'gooh': 8452, 'chaatna': 8453, '58': 8454, 'baras': 8455, 'basi': 8456, 'arse': 8457, 'marz': 8458, 'mubtila': 8459, 'thin': 8460, 'ranatunga': 8461, 'hata': 8462, '7803934166sar': 8463, 'pilij': 8464, 'alokpat': 8465, 'nukkad': 8466, 'mee': 8467, 'pushing': 8468, 'nose': 8469, 'wadi': 8470, 'mathematics': 8471, 'manaya': 8472, 'mnaa': 8473, 'speedaain': 8474, 'fathers': 8475, 'khushiya': 8476, 'gende': 8477, 'bavana': 8478, 'pliss': 8479, 'dilwaa': 8480, 'pehchanne': 8481, 'inkaar': 8482, 'leching': 8483, 'groping': 8484, 'molesting': 8485, 'validated': 8486, 'bhulaye': 8487, 'chhede': 8488, 'daraye': 8489, 'matondkar': 8490, 'sukriya': 8491, 'inings': 8492, 'nabad': 8493, 'thookane': 8494, 'mind': 8495, 'nukhsaan': 8496, 'geradai': 8497, 'gufao': 8498, 'afwaahe': 8499, 'rokna': 8500, 'dams': 8501, 'kabse': 8502, 'rahila': 8503, 'rukte': 8504, 'thokar': 8505, 'jeewan': 8506, 'snwarte': 8507, 'hh': 8508, 'frk': 8509, 'fanwar': 8510, 'ladka': 8511, 'beethi': 8512, 'independent': 8513, 'agli': 8514, 'breakfast': 8515, 'budda': 8516, 'bhoolta': 8517, 'bhrosa': 8518, 'meen': 8519, 'visvas': 8520, 'bankr': 8521, 'dikhauga': 8522, 'bahina': 8523, 'vot': 8524, 'tableegi': 8525, 'tapak': 8526, 'parte': 8527, 'uthayiye': 8528, 'hukm': 8529, 'wajood': 8530, 'aut': 8531, 'mannane': 8532, 'jahiliyat': 8533, '2a': 8534, 'jaey': 8535, 'raza': 8536, 'murad': 8537, 'puskar': 8538, 'marwa': 8539, 'buddhape': 8540, 'kejru': 8541, 'dubayega': 8542, 'appiyon': 8543, 'istar': 8544, 'sim': 8545, 'drops': 8546, 'ramu': 8547, 'roll': 8548, 'ghata': 8549, 'ghate': 8550, 'bharpayi': 8551, 'uthhaya': 8552, 'kb10': 8553, 'photographer': 8554, 'bataiyeh': 8555, 'zarror': 8556, 'karlete': 8557, 'bheje': 8558, 'apaka': 8559, 'al': 8560, 'aza': 8561, 'mmafia': 8562, 'sardesai': 8563, 'magiye': 8564, 'leemo': 8565, 'phenke': 8566, 'limo': 8567, 'bologay': 8568, 'sikhaney': 8569, 'alliance': 8570, 'masoomana': 8571, 'mahal': 8572, 'thousands': 8573, 'kewl': 8574, 'nhiiiiiiiiiiii': 8575, 'mithaaiyaan': 8576, 'baato': 8577, 'followrs': 8578, 'sirname': 8579, 'antiromeo': 8580, 'dissent': 8581, 'voice': 8582, 'dabana': 8583, 'bij': 8584, '64': 8585, 'pranav': 8586, 'bhatia': 8587, 'appose': 8588, 'palne': 8589, 'college': 8590, 'shoshan': 8591, 'naate': 8592, 'senior': 8593, '73': 8594, 'stock': 8595, 'liberals': 8596, 'chahenge': 8597, 'hmesa': 8598, 'dedicate': 8599, 'kasayee': 8600, 'ipad': 8601, 'aara': 8602, 'karrhi': 8603, 'kirti': 8604, 'carodo': 8605, 'shikhake': 8606, 'nirogi': 8607, 'rakhata': 8608, 'jitati': 8609, 'bithatehai': 8610, 'paraye': 8611, 'harsha': 8612, 'bhogle': 8613, 'taak': 8614, 'inase': 8615, 'kheti': 8616, 'lootke': 8617, 'bharna': 8618, 'sarra': 8619, 'gharghar': 8620, 'shia': 8621, 'shriya': 8622, 'saranpic': 8623, 'bnrik2ogte': 8624, 'khtam': 8625, 'bnane': 8626, 'sultaan': 8627, 'visarjan': 8628, 'namwar': 8629, 'berojgar': 8630, 'najaney': 8631, 'kitney': 8632, 'tissue': 8633, 'farman': 8634, 'mehrbani': 8635, 'cunsept': 8636, 'sytem': 8637, 'kharide': 8638, 'huy': 8639, 'lga': 8640, 'bawa': 8641, 'strange': 8642, 'sujhao': 8643, 'aajao': 8644, 'katha': 8645, 'bhy': 8646, 'apas': 8647, 'plagiarism': 8648, 'peeda': 8649, 'teepu': 8650, 'duh': 8651, 'chahiya': 8652, 'achhey': 8653, 'jaageer': 8654, 'baahubali': 8655, 'judwaa': 8656, 'remake': 8657, 'paayega': 8658, 'janmastmi': 8659, 'imanatdar': 8660, 'mananay': 8661, 'seeparesan': 8662, 'kynoki': 8663, 'rajbhog': 8664, 'chahati': 8665, 'gata': 8666, 'adav': 8667, 'bikni': 8668, 'legen': 8669, 'dary': 8670, 'bhais': 8671, 'kalti': 8672, 'taaluq': 8673, 'crowds': 8674, 'lahoris': 8675, 'lovers': 8676, 'hamen': 8677, 'khreedna': 8678, 'bhulge': 8679, 'smile': 8680, 'aaraam': 8681, 'keejiye': 8682, 'thye': 8683, 'ussne': 8684, 'rkhi': 8685, 'yaayyy': 8686, 'jeej': 8687, 'parwah': 8688, 'kichar': 8689, 'uchaal': 8690, 'hawasi': 8691, 'sochu': 8692, 'chidti': 8693, 'saied': 8694, 'papaji': 8695, 'nanni': 8696, 'maloveka': 8697, 'tayar': 8698, 'ceptain': 8699, 'phuchna': 8700, 'students': 8701, 'samj': 8702, 'else': 8703, 'samantwadi': 8704, 'deshbacha': 8705, 'phse': 8706, 'dinna': 8707, 'screen': 8708, 'jhuthi': 8709, 'dumchalla': 8710, 'ees': 8711, 'mantrm': 8712, 'ushe': 8713, 'maidam': 8714, 'ramesh': 8715, 'dual': 8716, 'gav': 8717, 'itnai': 8718, 'madt': 8719, 'magrahu': 8720, 'sonurajpali': 8721, 'dalito': 8722, 'baniyo': 8723, 'inh': 8724, 'manuvaadio': 8725, 'iran': 8726, 'zidd': 8727, 'samazhna': 8728, '116': 8729, 'sahemat': 8730, 'viklp': 8731, 'paapi': 8732, 'rujhaan': 8733, 'jaida': 8734, 'knsa': 8735, 'karliya': 8736, 'paseeny': 8737, 'qamae': 8738, 'dosro': 8739, 'moulanas': 8740, 'gadhvi': 8741, 'maharashtra': 8742, 'aref': 8743, 'samjaye': 8744, 'limited': 8745, 'oly': 8746, 'childs': 8747, 'padosi': 8748, 'deseh': 8749, 'appeament': 8750, 'mnane': 8751, 'jayez': 8752, 'harqat': 8753, 'congresi': 8754, 'janeh': 8755, 'kitneh': 8756, 'muddoh': 8757, 'spokesperson': 8758, 'positive': 8759, 'jhukav': 8760, 'bataba': 8761, 'til': 8762, 'chootiya': 8763, 'ambati': 8764, 'rayudu': 8765, 'daudo': 8766, 'baghi': 8767, 'saba': 8768, 'strategic': 8769, 'mela': 8770, 'aqeel': 8771, 'majid': 8772, 'naseem': 8773, 'jhamat': 8774, 'mubarikbad': 8775, 'khawar': 8776, 'abbas': 8777, 'pareshani': 8778, 'julie': 8779, 'faltugiri': 8780, 'dilvana': 8781, 'laani': 8782, 'naee': 8783, 'karwani': 8784, 'khabees': 8785, 'shakhs': 8786, 'sonakshi': 8787, 'store': 8788, 'kaatte': 8789, 'ledis': 8790, 'zakhmon': 8791, 'chirakta': 8792, 'jaiyega': 8793, 'dharmacharyo': 8794, 'ghusane': 8795, 'vikrat': 8796, 'prasnal': 8797, 'bord': 8798, 'madhiya': 8799, 'pardesh': 8800, 'sangeet': 8801, 'chhoote': 8802, 'syllabus': 8803, 'paper': 8804, 'exams': 8805, 'mohbhang': 8806, 'kholke': 8807, 'bo': 8808, 'ensan': 8809, 'hoonn': 8810, 'insaniyut': 8811, 'khidmut': 8812, 'teesra': 8813, 'kushtiyann': 8814, 'market': 8815, 'kohinoor': 8816, 'kimti': 8817, 'insane': 8818, 'chordo': 8819, 'aajkl': 8820, 'ldai': 8821, 'modiunddin': 8822, 'sekh': 8823, 'arth': 8824, 'chamche': 8825, 'insaano': 8826, 'fayede': 8827, 'baqiyuon': 8828, 'bahute': 8829, 'saad': 8830, 'rafique': 8831, 'pacha': 8832, 'dhekhna': 8833, 't17': 8834, 'stump': 8835, 'mike': 8836, 'lawde': 8837, 'deemaag': 8838, 'khushk': 8839, 'liyeh': 8840, 'sangathan': 8841, 'dogalpanthi': 8842, 'seekhna': 8843, 'mamdir': 8844, 'jameen': 8845, 'samvaad': 8846, 'bhenduagiri': 8847, 'hijaragiri': 8848, 'dogalagiri': 8849, 'jhatu': 8850, 'jhat': 8851, 'bhao': 8852, 'chudwane': 8853, 'ate': 8854, 'outsider': 8855, 'deed': 8856, 'janki': 8857, 'khatana': 8858, 'planet': 8859, 'khojo': 8860, 'cheeee': 8861, 'vakili': 8862, 'aaaaaaaaa': 8863, 'thhhhttthhhoooooo': 8864, 'bhoat': 8865, 'hmmmmm': 8866, 'nacht': 8867, 'gaur': 8868, 'farmana': 8869, 'behosh': 8870, 'paa': 8871, 'pau': 8872, 'kilo': 8873, 'bakre': 8874, 'darra': 8875, 'bakreed': 8876, 'halaal': 8877, 'karra': 8878, 'haule': 8879, 'against': 8880, 'amr': 8881, 'hudang': 8882, 'mahattva': 8883, 'idarey': 8884, 'chen': 8885, 'ward': 8886, 'john': 8887, 'avataar': 8888, 'uthake': 8889, 'hamary': 8890, 'lolipophai': 8891, 'balatakari': 8892, 'rahata': 8893, 'type': 8894, 'inpe': 8895, 'visvash': 8896, 'chijh': 8897, 'ghussao': 8898, 'nayansukh': 8899, 'kiyahai': 8900, 'dhoyaa': 8901, 'white': 8902, 'khulwae': 8903, 'dhakke': 8904, 'acchha': 8905, 'raeesjada': 8906, 'nee': 8907, 'hajar': 8908, 'bajar': 8909, 'chauda': 8910, 'letters': 8911, 'bhejdo': 8912, 'keniya': 8913, 'hahahha': 8914, 'shruaat': 8915, 'roje': 8916, 'hasne': 8917, 'wla': 8918, 'rakhwale': 8919, 'qaom': 8920, 'murd': 8921, 'mujahid': 8922, 'kasr': 8923, 'jaayiye': 8924, 'communist': 8925, 'waqai': 8926, 'bhooka': 8927, 'tuja': 8928, 'var': 8929, 'jumme': 8930, 'byan': 8931, 'trends': 8932, 'cities': 8933, 'attock': 8934, 'sukkur': 8935, 'sawat': 8936, 'bhuttu': 8937, 'sargodha': 8938, 'sunidhi': 8939, 'khabre': 8940, 'sakriyata': 8941, 'soft': 8942, 'hehe': 8943, 'khaayega': 8944, 'charlie': 8945, 'haas': 8946, 'logonki': 8947, 'sunkar': 8948, 'sharmao': 8949, 'sayra': 8950, 'muhjay': 8951, 'dosay': 8952, 'paronthay': 8953, 'darshakon': 8954, 'bharosay': 8955, 'hakikat': 8956, 'agende': 8957, 'htakar': 8958, 'msd': 8959, 'awashya': 8960, 'mahendra': 8961, 'tizori': 8962, 'bhare': 8963, 'khandhan': 8964, 'bhachao': 8965, 'raily': 8966, 'tejarswi': 8967, 'nich': 8968, 'mughe': 8969, 'chahicye': 8970, 'sharabi': 8971, 'lecture': 8972, 'asma': 8973, 'load': 8974, 'shortage': 8975, 'crisis': 8976, 'jagjeet': 8977, 'bhaith': 8978, 'shaant': 8979, 'hojaiye': 8980, 'speaker': 8981, 'panjab': 8982, 'shushma': 8983, 'nari': 8984, 'osama': 8985, 'hafeed': 8986, 'yoon': 8987, 'garajti': 8988, 'fikvaegi': 8989, 'jabtak': 8990, 'paresan': 8991, 'inhen': 8992, 'tang': 8993, 'rhey': 8994, 'naraj': 8995, 'khalo': 8996, 'rekhe': 8997, 'vaicharik': 8998, 'matbhedo': 8999, 'vishudh': 9000, 'rup': 9001, 'vypar': 9002, 'tabdeel': 9003, 'patrakar': 9004, 'odhani': 9005, 'odha': 9006, 'aaona': 9007, 'auratjat': 9008, 'sosit': 9009, 'horahahai': 9010, 'surat': 9011, 'aurotonko': 9012, 'karneka': 9013, 'machine': 9014, 'banadiya': 9015, 'rakhti': 9016, 'textile': 9017, 'designs': 9018, 'bhaukta': 9019, 'tree': 9020, 'environment': 9021, 'taha': 9022, 'devdutt': 9023, 'padikkal': 9024, '26': 9025, '147': 9026, 'chhupi': 9027, 'avoid': 9028, 'batorne': 9029, 'ravjadeja': 9030, 'hatkar': 9031, 'bhaisab': 9032, 'phirta': 9033, 'pasay': 9034, 'tail': 9035, 'kunwain': 9036, 'baant': 9037, 'laitay': 9038, 'javedsheikh': 9039, 'namaloomafraad2': 9040, 'paalesi': 9041, 'tub': 9042, 'rukwaya': 9043, 'ghinoni': 9044, 'challenge': 9045, 'purusho': 9046, 'makeup': 9047, 'arha': 9048, 'takuddus': 9049, 'parliament': 9050, 'ehmiyat': 9051, 'kahase': 9052, 'kye': 9053, 'rahaye': 9054, 'mahamahhhem': 9055, 'udhhar': 9056, 'dhany': 9057, 'bhejne': 9058, 'dosre': 9059, 'jayein': 9060, 'dheko': 9061, 'jalan': 9062, 'abhineta': 9063, 'jersey': 9064, 'majduro': 9065, 'minded': 9066, 'vidhayak': 9067, 'paidal': 9068, 'developement': 9069, 'miljata': 9070, 'jinhein': 9071, 'abc': 9072, 'pranaam': 9073, 'spirituality': 9074, 'agali': 9075, 'crying': 9076, 'desperately': 9077, 'sunil': 9078, 'chums': 9079, 'kertey': 9080, 'chorro': 9081, 'yai': 9082, 'ladate': 9083, 'phas': 9084, 'laikin': 9085, 'phetecher': 9086, 'higi': 9087, 'kupratha': 9088, 'sabhya': 9089, 'samaaj': 9090, 'sthaan': 9091, 'honaa': 9092, 'bhade': 9093, 'phailate': 9094, 'waal': 9095, '1971': 9096, 'mach': 9097, 'jitwayega': 9098, 'himaat': 9099, 'flag': 9100, 'hosting': 9101, 'chachi': 9102, 'petitioner': 9103, 'uthaayo': 9104, 'prasoon': 9105, 'krr': 9106, 'shaayed': 9107, 'magr': 9108, 'bahoot': 9109, 'dukhd': 9110, 'bachani': 9111, '2bacche': 9112, 'bharosha': 9113, 'celebrates': 9114, 'sister': 9115, 'shyama': 9116, 'admission': 9117, 'misri': 9118, 'dictator': 9119, 'hakomat': 9120, 'lekn': 9121, 'jumhoriat': 9122, 'casties': 9123, 'vich': 9124, 'dohraya': 9125, 'yaadon': 9126, 'alvidaa': 9127, 'bhatka': 9128, 'upr': 9129, 'mrte': 9130, 'wal': 9131, 'parayonta': 9132, 'ilaga': 9133, 'eke': 9134, 'gal': 9135, 'gahanne': 9136, 'laksha': 9137, 'ganan': 9138, 'aran': 9139, 'gahamma': 9140, 'danne': 9141, 'naththam': 9142, 'gedarata': 9143, 'wela': 9144, 'garapan': 9145, 'wesige': 9146, 'puthala': 9147, 'agarbattiiya': 9148, 'jalawo': 9149, 'iiiii': 9150, 'nahao': 9151, 'virod': 9152, 'yakubmemon': 9153, 'cheap': 9154, 'sharamsaar': 9155, 'birodhi': 9156, 'logone': 9157, 'rahunga': 9158, 'bhagath': 9159, 'loser': 9160, 'jhol': 9161, 'superhit': 9162, 'batye': 9163, 'leyi': 9164, 'aawj': 9165, 'uthi': 9166, 'bekaaw': 9167, 'koote': 9168, 'ahmedabad': 9169, 'jhatka': 9170, 'umid': 9171, 'priceless': 9172, 'jhuki': 9173, 'jhiki': 9174, 'sapnon': 9175, 'oldies': 9176, 'muhtarma': 9177, 'mafad': 9178, 'hilal': 9179, 'half': 9180, 'azmata': 9181, 'abound': 9182, 'matbal': 9183, 'dilaata': 9184, 'kaleje': 9185, 'sard': 9186, 'december': 9187, 'pine': 9188, 'problms': 9189, 'landon': 9190, 'qatar': 9191, 'wagira': 9192, 'politic': 9193, 'wln': 9194, 'nishaani': 9195, 'gharaane': 9196, 'aadh': 9197, 'zarur': 9198, 'shield': 9199, 'ajma': 9200, 'burayi': 9201, 'samajhne': 9202, 'aasani': 9203, 'laachar': 9204, 'aoraton': 9205, 'kulbhusan': 9206, 'jadav': 9207, 'khureshi': 9208, 'sable': 9209, 'thande': 9210, 'baste': 9211, 'praise': 9212, 'midgets': 9213, 'favorite': 9214, 'shabbir': 9215, 'dair': 9216, 'tadad': 9217, 'mojood': 9218, 'siko': 9219, 'mehngaayi': 9220, 'pmln': 9221, 'khilardi': 9222, 'nahinn': 9223, 'phateecher': 9224, 'empire': 9225, 'hainn': 9226, 'sumjhay': 9227, 'huga': 9228, 'jye': 9229, 'aun': 9230, 'kao': 9231, 'politian': 9232, 'aka': 9233, 'larta': 9234, 'larenge': 9235, 'piracy': 9236, 'girta': 9237, 'aayojan': 9238, 'rush': 9239, 'badta': 9240, 'dhanka': 9241, 'tujhse': 9242, 'patakhe': 9243, 'futte': 9244, 'constitution': 9245, 'bji': 9246, 'paseene': 9247, 'lootne': 9248, 'naray': 9249, 'aazad': 9250, 'bathana': 9251, 'jukthe': 9252, 'rulers': 9253, 'aliens': 9254, 'aare': 9255, 'haaath': 9256, 'zaat': 9257, 'aadam': 9258, 'udna': 9259, 'suffer': 9260, 'chahiyen': 9261, 'mohabbten': 9262, 'maaon': 9263, 'assam': 9264, 'jalna': 9265, 'jaes': 9266, 'karvaya': 9267, 'thokna': 9268, 'thukai': 9269, 'niwasi': 9270, 'mahua': 9271, 'jeewi': 9272, 'ataari': 9273, 'pankh': 9274, 'katwaye': 9275, 'baithke': 9276, 'naach': 9277, 'soren': 9278, 'saturday': 9279, 'thoughts': 9280, 'marengi': 9281, 'dino': 9282, 'tathya': 9283, 'pesh': 9284, 'giddh': 9285, 'karj': 9286, 'chukaneki': 9287, 'glass': 9288, 'das': 9289, 'sonchunga': 9290, 'lgana': 9291, 'matti': 9292, 'dust': 9293, 'allergy': 9294, 'baary': 9295, 'meza': 9296, 'karyakartaon': 9297, 'bhejkar': 9298, 'manson': 9299, 'nadad': 9300, 'subjudice': 9301, 'haibut': 9302, 'billion': 9303, 'dreams': 9304, 'ghazi': 9305, 'attack': 9306, 'munasib': 9307, 'millennials': 9308, 'bigg': 9309, 'marketing': 9310, 'ie': 9311, 'fandom': 9312, 'apt': 9313, '2day': 9314, 'muskara': 9315, 'rab': 9316, 'thook': 9317, 'july': 9318, 'troops': 9319, 'partiality': 9320, 'critics': 9321, 'kiyun': 9322, 'ghinauna': 9323, 'belief': 9324, 'puchlo': 9325, 'kisise': 9326, 'isliyenahi': 9327, 'paayakyonki': 9328, 'chunrahe': 9329, 'unsemera': 9330, 'nahintha': 9331, 'akhter': 9332, 'imaandari': 9333, 'mayna': 9334, 'kamaayi': 9335, 'breaking': 9336, 'ruined': 9337, 'naada': 9338, 'kaso': 9339, 'baksho': 9340, 'ghadhy': 9341, 'gosht': 9342, 'likan': 9343, 'aurten': 9344, 'zada': 9345, 'aqa': 9346, 'padma': 9347, 'vt': 9348, 'karmo': 9349, 'yatriyo': 9350, 'faced': 9351, 'chaba': 9352, 'abhay': 9353, 'chef': 9354, 'hsi': 9355, 'ezzat': 9356, 'barhti': 9357, 'jodte': 9358, 'whaiyat': 9359, 'program': 9360, 'sanki': 9361, 'karwaye': 9362, 'maiden': 9363, 'haaramo': 9364, 'failake': 9365, 'maangte': 9366, 'p2012': 9367, 'ladkiyun': 9368, 'gindagi': 9369, 'upor': 9370, 'aagayi': 9371, 'shrilanka': 9372, 'puca': 9373, 'karwata': 9374, 'asaan': 9375, 'dio': 9376, 'bahnon': 9377, 'muharram': 9378, 'bang': 9379, 'alan': 9380, 'brathwaite': 9381, '4main': 9382, 'motorway': 9383, 'sarkey': 9384, 'bhuto': 9385, 'pml': 9386, 'ppp': 9387, 'qm': 9388, 'anjaana': 9389, 'anjaani': 9390, 'dilwale': 9391, 'dulhania': 9392, 'tregedy': 9393, 'inch': 9394, 'mothers': 9395, 'trait': 9396, 'phattu': 9397, 'beafban': 9398, 'lynch': 9399, 'encounter': 9400, 'zakir': 9401, 'naikban': 9402, 'favourite': 9403, 'kharche': 9404, 'saying': 9405, 'pehalwanon': 9406, 'khiladiyon': 9407, 'chaliye': 9408, 'badhaal': 9409, 'phoolonka': 9410, 'pehnneke': 9411, 'jutti': 9412, 'khanae': 9413, 'jigar': 9414, 'bauchho': 9415, 'gwah': 9416, '7ta': 9417, 'khhon': 9418, 'sge': 9419, 'ghulami': 9420, 'cheat': 9421, 'pakadna': 9422, 'namumkin': 9423, 'harrry': 9424, 'badhiya': 9425, 'agenda': 9426, 'kattar': 9427, 'panth': 9428, 'wakt': 9429, 'issi': 9430, 'chitiya': 9431, 'dhichak': 9432, 'drainage': 9433, 'niklegi': 9434, 'pathar': 9435, 'fekne': 9436, 'intolerant': 9437, 'aaraha': 9438, 'baaris': 9439, 'janak': 9440, 'bharatvarsh': 9441, 'greek': 9442, 'hisssa': 9443, 'contd': 9444, 'ajaye': 9445, 'paedo': 9446, 'funduos': 9447, 'nala': 9448, 'totay': 9449, 'phutay': 9450, 'laskati': 9451, 'hoien': 9452, 'otray': 9453, 'rujuh': 9454, 'sectarian': 9455, 'nasr': 9456, 'sociology': 9457, 'books': 9458, 'maupassant': 9459, 'parhain': 9460, 'muttah': 9461, 'journalists': 9462, '06': 9463, 'devillier': 9464, 'interst': 9465, 'ahmiyat': 9466, 'nazr': 9467, 'daty': 9468, 'etihasik': 9469, 'nayaypalika': 9470, 'fetish': 9471, 'naughty': 9472, 'dhiraj': 9473, 'rakhen': 9474, 'abki': 9475, 'securiy': 9476, 'sambhidhan': 9477, 'badnaseeb': 9478, 'bachega': 9479, 'gadhaa': 9480, 'showing': 9481, 'lipid': 9482, 'dawaiyan': 9483, 'biklul': 9484, 'kota': 9485, 'jayant': 9486, 'bajaur': 9487, 'koohi': 9488, 'turnament': 9489, 'woner': 9490, 'tem': 9491, 'rupi': 9492, 'ayaz': 9493, '03075664413': 9494, 'saqta': 9495, 'jindegi': 9496, 'suspension': 9497, 'yeise': 9498, 'vahaj': 9499, 'sudharege': 9500, 'sikhayenge': 9501, 'crimes': 9502, 'lafafa': 9503, 'hukmat': 9504, 'kushamad': 9505, 'qomi': 9506, 'krvayege': 9507, 'huai': 9508, 'jawabdehi': 9509, 'sukhe': 9510, 'maanavta': 9511, 'paison': 9512, '400': 9513, 'panne': 9514, 'saali': 9515, 'betio': 9516, 'bhando': 9517, 'bichari': 9518, 'khajjudeep': 9519, 'khti': 9520, 'countries': 9521, 'bala': 9522, 'bachata': 9523, 'deemak': 9524, 'keedey': 9525, 'kaghna': 9526, 'madhar': 9527, 'jaipur': 9528, 'chaa': 9529, 'tusi': 9530, 'alvi': 9531, 'sarad': 9532, 'pressan': 9533, 'khelane': 9534, 'btw': 9535, 'redmi': 9536, 'print': 9537, 'electronic': 9538, 'tobkya': 9539, 'khattae': 9540, 'bhosdiwalo': 9541, 'deshwasiyo': 9542, 'chucha': 9543, 'bhenkdolo': 9544, 'maddham': 9545, 'aasman': 9546, 'kyoon': 9547, 'pighalne': 9548, 'k3': 9549, 'shaadhiya': 9550, 'chodthe': 9551, 'reading': 9552, 'kartavya': 9553, 'vimukh': 9554, 'paana': 9555, 'asambhav': 9556, 'sooraj': 9557, 'vapasi': 9558, 'none': 9559, 'serious': 9560, 'pandy': 9561, 'fool': 9562, 'laden': 9563, 'animals': 9564, 'chize': 9565, 'nashta': 9566, 'duran': 9567, 'insaaaf': 9568, 'piye': 9569, 'chaati': 9570, 'peetrahe': 9571, 'working': 9572, 'jhaki': 9573, 'bankrupt': 9574, 'yahoo': 9575, 'kaliye': 9576, 'ggreeaat': 9577, 'jatiwad': 9578, 'chhoro': 9579, 'modo': 9580, 'lost': 9581, 'laayak': 9582, 'looti': 9583, 'riyasat': 9584, 'loote': 9585, 'chalenge': 9586, 'deny': 9587, 'solang': 9588, 'pahenke': 9589, 'suhaagraat': 9590, 'beautiful': 9591, 'beauty': 9592, 'banawaye': 9593, 'ashatha': 9594, 'bhagwano': 9595, 'bhaiii': 9596, 'chhodke': 9597, 'zahir': 9598, 'uchke': 9599, 'dakait': 9600, 'fresh': 9601, 'kehnay': 9602, 'fools': 9603, 'bhadas': 9604, 'hastiyon': 9605, 'esh': 9606, 'rakhail': 9607, 'jazbati': 9608, 'enery': 9609, 'mitroooonnnnnnnn': 9610, '1978': 9611, 'horah': 9612, 'pilitics': 9613, 'badme': 9614, 'kisine': 9615, 'aan': 9616, 'underground': 9617, 'pile': 9618, 'dabe': 9619, 'kanyadaan': 9620, 'consider': 9621, 'daughter': 9622, 'toy': 9623, 'jabkee': 9624, 'baraar': 9625, 'horsham': 9626, 'karlen': 9627, 'mention': 9628, 'dety': 9629, 'khakar': 9630, 'chillati': 9631, 'farjana': 9632, 'nikla': 9633, 'khanay': 9634, 'jish': 9635, 'leadership': 9636, 'samarth': 9637, 'bhavane': 9638, 'rbhatkal': 9639, 'mreddy': 9640, 'abhat': 9641, 'myadav': 9642, 'kader': 9643, 'myth': 9644, 'blunders': 9645, 'fault': 9646, 'ipa': 9647, 'myr': 9648, 'manana': 9649, 'lafj': 9650, 'upyukt': 9651, 'sambandhiyon': 9652, 'nominated': 9653, 'chaiyepic': 9654, 'dyddkxtydy': 9655, 'mbh': 9656, 'usan': 9657, 'garj': 9658, 'hindostan': 9659, 'khakh': 9660, 'samjegi': 9661, 'march': 9662, 'info': 9663, 'runs': 9664, 'salle': 9665, 'dekr': 9666, 'maul': 9667, 'a0ni': 9668, 'vyast': 9669, 'deoh': 9670, 'favour': 9671, '1983': 9672, '1993': 9673, '1999': 9674, '2004': 9675, 'shapath': 9676, 'ayenge': 9677, 'pri': 9678, 'creation': 9679, 'akhlesh': 9680, 'tejashvi': 9681, 'sindhiya': 9682, 'mh': 9683, 'tejshvi': 9684, 'aajoo': 9685, 'ghalthi': 9686, 'apnaey': 9687, 'soachee': 9688, 'hoaghe': 9689, 'daenee': 9690, 'baath': 9691, 'walaey': 9692, 'karengaey': 9693, 'mahadasha': 9694, 'prabal': 9695, 'bachccho': 9696, 'jeetegi': 9697, 'kokya': 9698, 'saadi': 9699, 'gudala': 9700, 'puraani': 9701, 'ghanchi': 9702, 'bhajji': 9703, 'strike': 9704, 'jwaan': 9705, 'ayeen': 9706, 'sochty': 9707, 'families': 9708, 'taluq': 9709, 'hamisha': 9710, 'naahal': 9711, 'barnaul': 9712, 'lagaoo': 9713, 'bukha': 9714, 'rather': 9715, 'entertaining': 9716, 'hya': 9717, 'yeha': 9718, 'behaya': 9719, 'vinash': 9720, 'karak': 9721, 'tahaiaiai': 9722, 'ends': 9723, 'sahayeta': 9724, 'saraa': 9725, 'tabar': 9726, 'spath': 9727, 'ghrahan': 9728, 'canadian': 9729, 'superstars': 9730, 'arahe': 9731, 'jazbat': 9732, 'nateeja': 9733, 'lakha': 9734, 'kamate': 9735, '500': 9736, 'bhasi': 9737, 'shenshah': 9738, 'amitab': 9739, 'inquiry': 9740, 'liberanduon': 9741, 'aaptardon': 9742, 'congiyon': 9743, 'mazaak': 9744, 'sabuut': 9745, 'chutya': 9746, 'hakle': 9747, 'senseless': 9748, 'hamaari': 9749, '4000': 9750, 'gin': 9751, 'harega': 9752, 'wil': 9753, 'alwas': 9754, 'fooka': 9755, 'statements': 9756, 'piuchhe': 9757, 'pakdo': 9758, 'bhavishrya': 9759, 'humein': 9760, 'vishwaas': 9761, 'aachchi': 9762, 'daliton': 9763, 'haalat': 9764, 'staunch': 9765, 'guj': 9766, 'aitihasiq': 9767, 'virtue': 9768, 'signalling': 9769, 'badhate': 9770, 'betichod': 9771, 'punjatain': 9772, 'katil': 9773, 'beda': 9774, 'areey': 9775, 'khitaab': 9776, 'horahim': 9777, 'psycho': 9778, 'imagination': 9779, 'anne': 9780, 'loves': 9781, 'remembers': 9782, 'bayano': 9783, 'mahtv': 9784, 'bacchho': 9785, 'bitiya': 9786, 'famous': 9787, 'jinaah': 9788, 'rakhay': 9789, 'choray': 9790, 'fultoo': 9791, 'cost': 9792, 'polics': 9793, 'sangeeno': 9794, 'saaye': 9795, 'chadhane': 9796, 'doot': 9797, 'samadhi': 9798, 'serajul': 9799, 'rad': 9800, 'panga': 9801, 'raashi': 9802, 'khanna': 9803, 'imagestown': 9804, 'ce': 9805, 'leb': 9806, 'cel': 9807, 'ebs': 9808, 'as': 9809, 'sissi': 9810, 'larkiya': 9811, 'dashkriya': 9812, 'sherniya': 9813, 'gaud': 9814, 'ink': 9815, 'puraan': 9816, 'gyata': 9817, 'aayate': 9818, 'puchhte': 9819, '18wi': 9820, 'kolkta': 9821, 'sonagachi': 9822, 'suvaro': 9823, 'bachee': 9824, 'sudharengey': 9825, 'duniyaa': 9826, 'sabase': 9827, 'days': 9828, 'aor': 9829, 'naki': 9830, 'ghasita': 9831, 'bachate': 9832, 'nabj': 9833, 'commentator': 9834, 'khaas': 9835, 'programme': 9836, 'videos': 9837, 'pahley': 9838, 'dhikhlawa': 9839, 'matlabi': 9840, 'ais': 9841, 'martaba': 9842, 'clean': 9843, 'bowled': 9844, 'hastag': 9845, 'utho': 9846, 'hahah': 9847, 'legacy': 9848, 'muttahida': 9849, 'ihtijaj': 9850, 'hartaal': 9851, 'bahenchod': 9852, 'chahle': 9853, 'togaya': 9854, 'rand': 9855, 'wdr': 9856, 'aggdda': 9857, 'picchda': 9858, 'vaali': 9859, 'ct2017': 9860, 'bezzati': 9861, 'khittay': 9862, 'samajhtay': 9863, 'samajhta': 9864, 'jaaiz': 9865, 'mohajir': 9866, 'qoom': 9867, 'baqaa': 9868, 'mamlaa': 9869, 'kisiki': 9870, 'taker': 9871, 'qusoor': 9872, 'coke': 9873, 'thordaa': 9874, 'sahhi': 9875, 'ghulti': 9876, 'isliya': 9877, 'mudakhlat': 9878, 'thordi': 9879, 'krrhe': 9880, 'tajurba': 9881, 'poochay': 9882, 'bilawal': 9883, 'tajarba': 9884, 'pooch': 9885, 'banita': 9886, 'sandhu': 9887, 'shoojit': 9888, 'sircar': 9889, 'october': 9890, 'boll': 9891, 'dawwod': 9892, 'babut': 9893, 'chuna': 9894, '1cr': 9895, 'smja': 9896, 'baroabr': 9897, 'maanti': 9898, 'haathi': 9899, 'dhhobi': 9900, 'uatr': 9901, 'hamere': 9902, 'dhej': 9903, 'poda': 9904, 'lusu': 9905, 'payalae': 9906, 'ramar': 9907, 'vithyasam': 9908, 'illa': 9909, 'kuritiyan': 9910, 'judi': 9911, 'kuriti': 9912, 'maze': 9913, 'utah': 9914, 'etni': 9915, 'uttejnaa': 9916, 'mahsus': 9917, 'finel': 9918, 'shandar': 9919, 'pumps': 9920, 'nadaan': 9921, 'parindey': 9922, 'epic': 9923, 'osians': 9924, 'cinefan': 9925, 'kehrahe': 9926, 'yayayayayaayayayaay': 9927, 'abusing': 9928, 'suspend': 9929, 'twitt': 9930, 'jhon': 9931, 'wick': 9932, 'agai': 9933, 'badlapur': 9934, 'ghandi': 9935, 'dokandari': 9936, 'matain': 9937, 'behnay': 9938, 'soyain': 9939, 'kaisay': 9940, 'khusphus': 9941, 'farmaya': 9942, 'kats': 9943, 'krle': 9944, 'hamza': 9945, 'tulsi': 9946, 'ltay': 9947, 'dokha': 9948, 'sarahahapp': 9949, 'trolls': 9950, 'motay': 9951, 'maamlay': 9952, 'suljhaingay': 9953, 'uthale': 9954, 'utkala': 9955, 'janani': 9956, 'bhan': 9957, 'khelogi': 9958, 'hater': 9959, 'holds': 9960, 'sauch': 9961, 'patri': 9962, 'soya': 9963, 'aasheerbad': 9964, '09456965792': 9965, 'zikr': 9966, 'mindless': 9967, 'beokoof': 9968, 'batwara': 9969, 'berojgari': 9970, 'maasoomo': 9971, 'sarah': 9972, 'srinagar': 9973, 'bolnay': 9974, 'liyee': 9975, 'janoon': 9976, 'chahiyee': 9977, 'better': 9978, 'adakaar': 9979, 'madah': 9980, 'smjho': 9981, 'salry': 9982, 'padmshree': 9983, 'aadiki': 9984, 'choopinchandi': 9985, 'deeni': 9986, 'avadaina': 9987, 'nen': 9988, 'eppatinunchoo': 9989, 'chepthuna': 9990, 'vadiki': 9991, 'mukka': 9992, 'theliyadhu': 9993, 'ilm': 9994, 'jantay': 9995, 'saktay': 9996, 'frm': 9997, 'lyric': 9998, 'amn': 9999, 'topless': 10000, 'huyee': 10001, 'mandana': 10002, 'karimi': 10003, 'leone': 10004, 'bhagane': 10005, 'brain': 10006, 'motherhood': 10007, 'dhundwao': 10008, 'grade': 10009, 'haaro': 10010, 'bhago': 10011, 'bhaisaab': 10012, 'uthaoo': 10013, 'foto': 10014, 'khichaane': 10015, 'outlook': 10016, 'chalney': 10017, 'pagara': 10018, 'huya': 10019, 'hubby': 10020, 'khushya': 10021, 'manai': 10022, 'katve': 10023, 'biigade': 10024, 'kathin': 10025, 'guzer': 10026, 'paryas': 10027, 'mummy': 10028, 'gumnaam': 10029, 'watan': 10030, 'mitne': 10031, 'lagakar': 10032, 'mashoor': 10033, 'leete': 10034, 'sambhali': 10035, 'karwanay': 10036, 'chakaron': 10037, 'chaaho': 10038, 'kayanat': 10039, 'milane': 10040, 'khayalo': 10041, 'luv': 10042, 'rahahe': 10043, 'hojatahe': 10044, 'lokesh': 10045, 'ateho': 10046, 'phek': 10047, 'khasee': 10048, 'insann': 10049, 'agaee': 10050, 'mm': 10051, 'jutee': 10052, 'khanee': 10053, 'dekhh': 10054, 'sonu': 10055, 'nigam': 10056, 'abhijeet': 10057, 'sabakk': 10058, 'lelooo': 10059, 'jhaa': 10060, 'wahii': 10061, 'rhoo': 10062, 'puteechar': 10063, 'siitti': 10064, 'pitty': 10065, 'renders': 10066, 'wag': 10067, 'chleate': 10068, 'jabardasti': 10069, 'nonveg': 10070, 'becho': 10071, 'regionalism': 10072, 'bengali': 10073, 'poorvanchali': 10074, 'uthayi': 10075, 'sudhaar': 10076, 'johny': 10077, 'lever': 10078, 'ugte': 10079, '25yr': 10080, 'jahar': 10081, 'khelke': 10082, 'started': 10083, 'trolling': 10084, 'chakki': 10085, '200cr': 10086, 'atbb': 10087, 'chandini': 10088, 'himmatt': 10089, 'reveal': 10090, 'kahenge': 10091, 'katori': 10092, 'paneer': 10093, 'sbji': 10094, 'naan': 10095, 'badhiyan': 10096, 'kyoun': 10097, 'acdemy': 10098, 'rahiyega': 10099, 'comparableto': 10100, 'tritalaq': 10101, 'comparable': 10102, 'abolished': 10103, 'ore': 10104, 'insani': 10105, 'jaanoo': 10106, 'chaeay': 10107, 'jeete': 10108, 'inam': 10109, 'crodo': 10110, 'rahibbaat': 10111, 'peechle': 10112, 'yogendra': 10113, 'mahasay': 10114, 'mw': 10115, 'inhobe': 10116, 'gujjus': 10117, 'kathiyawaadi': 10118, 'serialwaale': 10119, 'beebarg': 10120, 'selfish': 10121, 'bsat': 10122, 'suvar': 10123, 'machaye': 10124, 'bail': 10125, 'ashlilta': 10126, 'hadhe': 10127, 'pasr': 10128, 'chaddiya': 10129, 'talaash': 10130, 'vaiya': 10131, 'dikhenge': 10132, 'kachrelal': 10133, 'shivraj': 10134, 'anurodh': 10135, 'chitracot': 10136, 'vidhan': 10137, 'pannalal': 10138, 'bahle': 10139, 'deshderohi': 10140, 'bharstachari': 10141, 'namkaran': 10142, 'chankya': 10143, 'santan': 10144, 'tumsab': 10145, 'chmka': 10146, 'buddha': 10147, 'maharajin': 10148, 'rahana': 10149, 'mashin': 10150, 'narak': 10151, 'dhakela': 10152, 'batayga': 10153, 'bebasi': 10154, 'khandani': 10155, 'bajani': 10156, 'jum': 10157, 'gayii': 10158, 'bapoti': 10159, 'akmeemana': 10160, 'pradesiya': 10161, 'sabawa': 10162, 'pra': 10163, 'karyalaya': 10164, 'athara': 10165, 'tharagaya': 10166, 'heta': 10167, 'sawasa': 10168, '30ta': 10169, 'janadhipathi': 10170, 'viduhal': 10171, 'kreedanganayedi': 10172, 'pawathwe': 10173, 'mutassir': 10174, 'karobaar': 10175, 'liyay': 10176, 'nizam': 10177, 'darham': 10178, 'barham': 10179, 'parhe': 10180, 'anya': 10181, 'sheeshe': 10182, 'gharon': 10183, 'pyaas': 10184, 'utaro': 10185, 'bakwaas': 10186, 'reheta': 10187, 'shakeel': 10188, 'atankvadiyo': 10189, 'netaon': 10190, 'atankwad': 10191, 'dosron': 10192, 'bahaen': 10193, 'humans': 10194, 'sharoon': 10195, 'maseeh': 10196, 'aorton': 10197, 'thanku': 10198, 'unchii': 10199, 'krnaa': 10200, 'surakshit': 10201, 'haathon': 10202, 'chhoriyo': 10203, 'hazri': 10204, 'karvaoge': 10205, 'dos': 10206, 'enough': 10207, 'girogi': 10208, 'trigger': 10209, 'disco': 10210, 'piggu': 10211, 'bachadiya': 10212, 'inteha': 10213, 'bua': 10214, 'thug': 10215, 'phoolpur': 10216, 'baraye': 10217, 'laiey': 10218, 'innko': 10219, 'pasaiy': 10220, 'baanay': 10221, 'innohnay': 10222, 'solah': 10223, 'gadhi': 10224, 'aath': 10225, 'indiashining': 10226, 'sambhli': 10227, 'ziyaada': 10228, 'mujay': 10229, 'fatima': 10230, 'wakeel': 10231, 'excuse': 10232, 'za': 10233, 'maadre': 10234, 'cwg': 10235, 'stomach': 10236, 'dediya': 10237, 'agendadekhiye': 10238, 'sardi': 10239, 'bhedi': 10240, 'larne': 10241, 'shikast': 10242, 'sadiyon': 10243, 'karwate': 10244, 'khudgarz': 10245, 'ship': 10246, 'agey': 10247, 'canada': 10248, 'rakhiji': 10249, 'partiko': 10250, 'achchhe': 10251, 'bhoola': 10252, 'ehad': 10253, 'doosray': 10254, 'purushon': 10255, 'hawas': 10256, 'intizam': 10257, 'hukomat': 10258, 'damaky': 10259, 'neshny': 10260, 'hmri': 10261, 'kaafiron': 10262, 'perhtay': 10263, 'huaay': 10264, 'distract': 10265, 'usk': 10266, 'dbaara': 10267, 'nikkah': 10268, 'samjhega': 10269, 'janmbhoomi': 10270, 'ghosh': 10271, 'punjabishaadi': 10272, 'bhaiyon': 10273, 'jaoonn': 10274, 'hashr': 10275, 'kroonn': 10276, 'mnatay': 10277, 'hoyay': 10278, 'zindah': 10279, 'apkebina': 10280, 'bilkubhi': 10281, 'bhaya': 10282, 'rht': 10283, 'distribute': 10284, 'tammam': 10285, 'shaeqen': 10286, 'shfaf': 10287, 'nkhr': 10288, 'samny': 10289, 'sinhala': 10290, 'adhyana': 10291, 'anshaya': 10292, 'wisin': 10293, 'sanwidhanaya': 10294, 'karanu': 10295, 'labana': 10296, 'taragayata': 10297, 'krida': 10298, 'kirimata': 10299, 'kemati': 10300, 'apa': 10301, 'adhayana': 10302, 'anshaye': 10303, 'siyalu': 10304, 'sisun': 10305, 'console': 10306, 'dholi': 10307, 'taro': 10308, 'garba': 10309, 'navratri2017': 10310, 'marnay': 10311, 'blood': 10312, 'donate': 10313, 'rahuga': 10314, 'ghade': 10315, 'nadi': 10316, 'charhi': 10317, 'kashtiyon': 10318, 'kinara': 10319, '197': 10320, 'ank': 10321, 'penty': 10322, 'lagani': 10323, 'dekny': 10324, 'pleyar': 10325, 'gift': 10326, 'aja': 10327, 'biggest': 10328, 'blunder': 10329, 'atal': 10330, 'hasya': 10331, 'lekhak': 10332, 'indi': 10333, 'tuition': 10334, 'wahhhh': 10335, 'ghotale': 10336, 'wahhh': 10337, 'godi': 10338, 'pradhan': 10339, 'sewak': 10340, 'burfi': 10341, 'gets': 10342, 'bebarg': 10343, 'blch': 10344, 'cut': 10345, 'insey': 10346, 'barema': 10347, 'hajurko': 10348, 'bichar': 10349, 'sadness': 10350, 'muzhe': 10351, 'batna': 10352, 'arnab': 10353, 'gayenge': 10354, 'chut': 10355, 'lode': 10356, 'lodo': 10357, 'sriman': 10358, 'shaukh': 10359, 'teammein': 10360, 'thekedari': 10361, 'mohtarma': 10362, 'bhajan': 10363, 'dana': 10364, 'roh': 10365, 'devdasi': 10366, 'chahoye': 10367, 'ufaan': 10368, 'gosh': 10369, 'maas': 10370, 'paun': 10371, 'kaabil': 10372, 'kazi': 10373, 'ilaj': 10374, 'dhun': 10375, 'director': 10376, 'palash': 10377, 'sen': 10378, 'mev': 10379, 'ayte': 10380, 'sambandhit': 10381, 'begairat': 10382, 'besharm': 10383, 'kindness': 10384, 'friday': 10385, 'pitwa': 10386, 'durso': 10387, 'barma': 10388, 'phalasteen': 10389, 'sophisticated': 10390, 'khilli': 10391, 'udayi': 10392, 'urdufilm': 10393, 'nt': 10394, 'farewell': 10395, 'barasti': 10396, 'kheltey': 10397, 'futne': 10398, 'quaid': 10399, 'aisy': 10400, 'resignation': 10401, 'vimal': 10402, 'tauseef': 10403, 'unhy': 10404, 'baarh': 10405, 'khore': 10406, 'leay': 10407, 'desai': 10408, '1977': 10409, 'hathras': 10410, 'jajhaskta': 10411, 'murders': 10412, 'jaesay': 10413, 'karhain': 10414, 'lohg': 10415, 'tajziyae': 10416, 'boltay': 10417, 'maaloom': 10418, 'manzil': 10419, 'bitch': 10420, 'ou': 10421, 'directors': 10422, 'paltu': 10423, 'patient': 10424, 'nanhe': 10425, 'chita': 10426, 'rotiyaan': 10427, 'puppy': 10428, 'paalne': 10429, 'kabahaat': 10430, 'tips': 10431, 'nikaale': 10432, 'poochte': 10433, 'kion': 10434, 'nikaala': 10435, 'dhro': 10436, 'failed': 10437, 'aaloo': 10438, 'kassh': 10439, 'ajae': 10440, 'boht': 10441, 'hooti': 10442, 'fati': 10443, 'yadasht': 10444, 'taza': 10445, 'jyegi': 10446, 'zanab': 10447, 'aks': 10448, 'link': 10449, 'wiki': 10450, 'kaaj': 10451, 'najare': 10452, 'majaa': 10453, 'neenda': 10454, 'bday': 10455, 'wajh': 10456, 'badhe': 10457, 'dhua': 10458, 'cigarette': 10459, 'grehen': 10460, 'lagg': 10461, 'tabse': 10462, 'taaliya': 10463, 'solar': 10464, 'eclipse': 10465, 'samjhti': 10466, 'hogga': 10467, 'gard': 10468, 'tanzeem': 10469, 'karengay': 10470, 'dengay': 10471, 'kno': 10472, 'saed': 10473, 'promo': 10474, 'shandaar': 10475, 'appreciated': 10476, 'kuy': 10477, 'bheeg': 10478, 'raincoat': 10479, 'ghumaya': 10480, 'kandivali': 10481, 'siysat': 10482, 'gatiye': 10483, 'lafz': 10484, 'istmal': 10485, 'isny': 10486, 'muavja': 10487, 'aasa': 10488, 'samjhege': 10489, 'aby': 10490, 'nikhatoo': 10491, 'nkal': 10492, 'wadete': 10493, 'paindu': 10494, 'boy': 10495, 'weak': 10496, 'ginayi': 10497, 'kahoge': 10498, 'ghantaa': 10499, 'pc': 10500, 'va': 10501, 'laptop': 10502, 'qmobile': 10503, 'meer': 10504, 'laffazi': 10505, 'kurban': 10506, 'nushkha': 10507, 'budhijivi': 10508, 'porkis': 10509, 'bawal': 10510, 'machahaya': 10511, 'diggajon': 10512, 'manniy': 10513, 'chahata': 10514, 'krpaya': 10515, 'mim': 10516, 'phati': 10517, 'tabha': 10518, 'koye': 10519, 'dhondhnay': 10520, 'kunats': 10521, 'tra': 10522, 'bikaau': 10523, 'sekti': 10524, 'sarju': 10525, 'rotiyaa': 10526, 'lashoo': 10527, 'ense': 10528, 'kgtaab': 10529, 'chapter': 10530, 'jruri': 10531, 'suraksha': 10532, 'samip': 10533, '7pm': 10534, 'suitable': 10535, 'lottery': 10536, 'aataa': 10537, 'satakali': 10538, 'mumbaikars': 10539, 'dress': 10540, 'dikhi': 10541, 'biradari': 10542, 'diki': 10543, 'vyavastha': 10544, 'avyavstha': 10545, 'sudharni': 10546, 'talaqt': 10547, 'chashmaa': 10548, 'magazine': 10549, 'maanna': 10550, 'gates': 10551, 'kamane': 10552, 'ct': 10553, 'parti': 10554, 'samiksha': 10555, 'c12460': 10556, 'jnaw': 10557, 'ilava': 10558, 'sons': 10559, 'murderers': 10560, 'babas': 10561, 'rts': 10562, 'karodo': 10563, 'blind': 10564, 'flower': 10565, 'sarkaro': 10566, 'juka': 10567, 'budhiman': 10568, 'sabto': 10569, 'phute': 10570, 'sudharo': 10571, 'wasol': 10572, 'mugaliya': 10573, 'daalo': 10574, 'dhu': 10575, 'festival': 10576, 'kuyn': 10577, 'co': 10578, 'sedhe': 10579, 'hooren': 10580, 'milnege': 10581, 'budhapa': 10582, 'haraami': 10583, 'chaahta': 10584, 'lul': 10585, 'chhik': 10586, 'manaate': 10587, 'raibareli': 10588, 'unchahaar': 10589, 'implies': 10590, 'becharey': 10591, 'satark': 10592, 'raam': 10593, 'firnddo': 10594, 'malinga': 10595, 'janwri': 10596, '217': 10597, 'abid': 10598, 'waalon': 10599, 'recent': 10600, 'assembly': 10601, 'results': 10602, 'lootenge': 10603, 'chodna': 10604, 'andh': 10605, 'banaao': 10606, 'badhaao': 10607, 'paresh': 10608, 'rawal': 10609, 'accnt': 10610, 'dongi': 10611, 'hilaa': 10612, 'diyaa': 10613, 'pravachan': 10614, 'denaa': 10615, 'marcos': 10616, 'trescothick': 10617, 'summer': 10618, 'muhaida': 10619, 'bhook': 10620, 'aaghaz': 10621, 'bsp': 10622, 'onko': 10623, 'secured': 10624, 'saanth': 10625, 'aapiya': 10626, 'ganga': 10627, 'charhca': 10628, 'virodhiyo': 10629, 'khelny': 10630, 'khawab': 10631, 'adaa': 10632, 'haramzada': 10633, 'behenji': 10634, 'uthati': 10635, 'waqae': 10636, 'wapisi': 10637, 'manjan': 10638, 'baich': 10639, 'sachchayi': 10640, 'bnaiye': 10641, 'aankhein': 10642, 'kholiye': 10643, 'bolege': 10644, 'jesay': 10645, 'asy': 10646, 'awami': 10647, 'masail': 10648, 'kilao': 10649, 'chaho': 10650, 'citizens': 10651, 'urop': 10652, 'chip': 10653, 'nisana': 10654, 'jagati': 10655, 'ladi': 10656, 'uthakar': 10657, 'rishabh': 10658, 'ishan': 10659, 'tollywood': 10660, '1400': 10661, 'notbandi': 10662, 'rahagehri': 10663, 'dhoondhne': 10664, 'chuttiya': 10665, 'manaega': 10666, '170': 10667, 'priyanjan': 10668, 'munaweera': 10669, '53': 10670, 'udana': 10671, 'dickwela': 10672, 'garden': 10673, 'signal': 10674, 'ff': 10675, 'mazed': 10676, 'zain': 10677, 'ullah': 10678, 'dosto': 10679, 'devgn': 10680, 'alykum': 10681, 'laa': 10682, 'tn': 10683, 'ahejata': 10684, 'rajni': 10685, 'shivaay': 10686, 'silencer': 10687, 'bike': 10688, 'pyari': 10689, 'poltical': 10690, '20000': 10691, 'sall': 10692, 'proudy': 10693, 'dhalana': 10694, 'jihadiyo': 10695, 'sulga': 10696, 'thekedar': 10697, 'vaasna': 10698, 'isbar': 10699, 'jitega': 10700, '25saal': 10701, 'koon': 10702, 'gia': 10703, 'howi': 10704, 'dukaan': 10705, 'notebandi': 10706, 'chaligai': 10707, 'gundey': 10708, 'bakshe': 10709, 'rihaai': 10710, 'naachu': 10711, '1958': 10712, 'bipin': 10713, 'baby': 10714, 'naaz': 10715, 'romi': 10716, 'savera': 10717, 'vaale': 10718, 'jahilpane': 10719, 'haste': 10720, 'tucche': 10721, 'hina': 10722, 'ginouna': 10723, 'rakhke': 10724, 'marein': 10725, 'bati': 10726, 'gul': 10727, 'honsla': 10728, 'uber': 10729, 'awesome': 10730, 'deep': 10731, 'sakaratmak': 10732, 'raah': 10733, 'yug': 10734, 'purush': 10735, 'janamdin': 10736, 'badhaiyan': 10737, 'shrm': 10738, 'hmdrdi': 10739, 'wjh': 10740, 'loota': 10741, 'guhar': 10742, 'khwari': 10743, 'mukhyalya': 10744, 'sambe': 10745, 'nalla': 10746, 'sak': 10747, 'bewkofo': 10748, 'filmon': 10749, 'beghirat': 10750, 'dekhbkar': 10751, 'vewastha': 10752, 'kalpna': 10753, 'bandi': 10754, 'rom': 10755, 'yor': 10756, 'finish': 10757, 'haaaa': 10758, 'seeta': 10759, 'tyaag': 10760, '25crore': 10761, '530': 10762, 'sms': 10763, 'allawkum': 10764, 'faydo': 10765, 'hajaro': 10766, 'samwedana': 10767, 'jatadiguye': 10768, 'seedhay': 10769, 'operation': 10770, 'darmyan': 10771, 'nro': 10772, 'bhadka': 10773, 'bahiskr': 10774, 'nonstop': 10775, 'showers': 10776, 'anumalik': 10777, 'pyaali': 10778, 'pilaane': 10779, 'chaahe': 10780, 'gori': 10781, 'kaaliho': 10782, 'sapoj': 10783, 'humre': 10784, 'pahoch': 10785, 'paes': 10786, 'medium': 10787, 'pace': 10788, 'dhurandhar': 10789, 'australianopen': 10790, 'audience': 10791, 'loved': 10792, 'bewajah': 10793, 'solrathu': 10794, 'yaarunu': 10795, 'paatha': 10796, 'vachu': 10797, 'pana': 10798, 'mundam': 10799, 'langar': 10800, 'snap': 10801, 'harmesh': 10802, 'zyadha': 10803, 'pabandi': 10804, 'dekhu': 10805, 'tht': 10806, 'lalla': 10807, 'make': 10808, 'begani': 10809, 'dudh': 10810, 'talwe': 10811, 'chatti': 10812, 'paidayish': 10813, 'kate': 10814, 'battar': 10815, 'mott': 10816, 'aagaya': 10817, 'chiraaghon': 10818, 'laaau': 10819, 'jaarahi': 10820, 'theen': 10821, 'donon': 10822, 'pachardo': 10823, 'bado': 10824, 'jahaan': 10825, 'aawaj': 10826, 'gawar': 10827, 'vayera': 10828, 'kehi': 10829, 'hudaina': 10830, 'jasto': 10831, 'vako': 10832, 'vaye': 10833, 'kaalo': 10834, 'chhuttai': 10835, 'chahiyo': 10836, 'vanera': 10837, 'hunthyo': 10838, 'aal': 10839, 'khn': 10840, 'copies': 10841, 'iskeliye': 10842, 'khareedne': 10843, 'sanghan': 10844, 'santraji': 10845, 'nagpur': 10846, 'shakha': 10847, 'firana': 10848, 'somalia': 10849, 'pohunch': 10850, 'bhagwat': 10851, 'shauk': 10852, 'bhajpai': 10853, '150': 10854, 'kairiyar': 10855, 'cricketar': 10856, 'rajnitik': 10857, 'boycott': 10858, 'hasi': 10859, 'veisi': 10860, 'kiyou': 10861, 'mahnat': 10862, 'khailni': 10863, 'parrti': 10864, 'ub': 10865, 'nahi1': 10866, 'deshbhaki': 10867, 'rkkha': 10868, 'dabaoge': 10869, 'rishwat': 10870, 'beqasoor': 10871, 'anishchittao': 10872, 'unhoni': 10873, 'paale': 10874, 'halanki': 10875, 'qabil': 10876, 'ayen': 10877, 'rashtrapita': 10878, 'janmadivas': 10879, 'iam': 10880, 'unfollowing': 10881, 'myself': 10882, 'bhagavad': 10883, 'gita': 10884, 'recited': 10885, 'millions': 10886, 'mansi': 10887, 'adhura': 10888, 'resort': 10889, 'pavillion': 10890, 'juta': 10891, 'bolbajan': 10892, 'surang': 10893, 'dhamake': 10894, 'gnonj': 10895, 'umrani': 10896, 'dekhbal': 10897, 'badmashion': 10898, 'khulasa': 10899, 'ty': 10900, 'failayi': 10901, 'khak': 10902, 'tumahra': 10903, 'nishant': 10904, 'smita': 10905, 'patil': 10906, 'girish': 10907, 'karnad': 10908, 'calcutta': 10909, 'mail': 10910, 'rules': 10911, 'sunio': 10912, 'mediakarmi': 10913, 'uri': 10914, 'pathankot': 10915, 'kupwara': 10916, 'sukma': 10917, 'fayaz': 10918, 'nehien': 10919, 'kinyo': 10920, 'bansakta': 10921, 'aftab': 10922, 'shivdasani': 10923, 'weds': 10924, 'nin': 10925, 'dusanj': 10926, 'tham': 10927, 'kadithankalai': 10928, 'vilaiyaattu': 10929, 'thurai': 10930, 'amaichcharidam': 10931, 'samarppippu': 10932, 'japti': 10933, 'suruat': 10934, 'kshre': 10935, 'urh': 10936, 'haroon': 10937, 'jataya': 10938, 'afwah': 10939, 'dramatic': 10940, 'simon': 10941, 'el': 10942, 'tags': 10943, 'nalayeq': 10944, 'ghodi': 10945, 'langdi': 10946, 'shaktimaan': 10947, 'stud': 10948, 'jue': 10949, 'prvachan': 10950, 'gorakh': 10951, 'chamcha': 10952, 'jasi': 10953, 'jhado': 10954, 'avajko': 10955, 'pohachay': 10956, 'gawha': 10957, 'silsila': 10958, 'mohabathen': 10959, 'deewar': 10960, 'jiji': 10961, 'pracharak': 10962, 'chaddiwali': 10963, 'jissey': 10964, 'vyapar': 10965, 'tog': 10966, 'indvpak': 10967, 'koohsat': 10968, 'meynmar': 10969, 'ratt': 10970, 'lagaey': 10971, 'nobel': 10972, 'prize': 10973, 'bailgaadi': 10974, 'pahuchati': 10975, 'volvo': 10976, 'pahuchaane': 10977, 'hrs': 10978, 'banergi': 10979, 'chhat': 10980, 'thapi': 10981, 'akhbaar': 10982, 'dhaga': 10983, 'several': 10984, 'fought': 10985, 'streegal': 10986, 'upyil': 10987, 'okke': 10988, 'karanam': 10989, 'karayunna': 10990, 'drishyam': 10991, 'kandila': 10992, 'ennu': 10993, 'nadikalle': 10994, 'pinne': 10995, 'kalyanam': 10996, 'parayandallo': 10997, 'idunno': 10998, 'sha': 10999, 'samaapt': 11000, 'aatiyachar': 11001, 'kahegi': 11002, 'mawali': 11003, 'imanwalon': 11004, 'akhlaq': 11005, 'len': 11006, 'prashansa': 11007, 'daini': 11008, 'fer': 11009, 'dukaanein': 11010, 'ghisipiti': 11011, 'ghisepite': 11012, 'aarop': 11013, 'jbab': 11014, 'fira': 11015, '8wan': 11016, 'ajooba': 11017, 'fuckistani': 11018, 'bom': 11019, 'bhadkao': 11020, 'dhanyawaad': 11021, 'mullavadi': 11022, 'parivarvadi': 11023, 'gart': 11024, 'parchi': 11025, 'geo': 11026, 'ptv': 11027, 'audition': 11028, 'zalim': 11029, 'contrary': 11030, 'valid': 11031, 'unlegel': 11032, 'fayad': 11033, 'rashtriya': 11034, 'shaayad': 11035, 'nikaalaa': 11036, 'aftr': 11037, 'shari': 11038, 'isai': 11039, 'muhim': 11040, 'juth': 11041, 'sochati': 11042, 'bardast': 11043, 'sahti': 11044, 'islliye': 11045, 'sharmshar': 11046, 'gaurakcha': 11047, 'duronto': 11048, 'bulkeh': 11049, 'slaughter': 11050, 'atki': 11051, 'baithakar': 11052, 'jhatakana': 11053, 'ajata': 11054, 'jodhpur': 11055, 'art': 11056, 'hana': 11057, 'jhalakta': 11058, 'hatek': 11059, 'kahevat': 11060, 'eek': 11061, 'phokat': 11062, 'turisam': 11063, 'anjana': 11064, 'jooo': 11065, 'deshawn': 11066, 'wasi': 11067, 'maaulvi': 11068, 'ramrahimsingh': 11069, 'cmo': 11070, '1post': 11071, 'jeso': 11072, 'jhelna': 11073, 'pahane': 11074, 'bandishe': 11075, 'mirchi': 11076, 'tmharay': 11077, 'ghaddar': 11078, 'hojaengay': 11079, 'ajayegi': 11080, 'bachanay': 11081, 'dhamakaaaaaaaaa': 11082, 'okhaad': 11083, 'tumara': 11084, 'sadasya': 11085, 'ulloo': 11086, 'jidhar': 11087, 'handa': 11088, 'paraat': 11089, 'sohar': 11090, 'gaave': 11091, 'ravan': 11092, 'mujahidon': 11093, 'makhan': 11094, 'sense': 11095, 'bhaagega': 11096, 'halt': 11097, 'choriyee': 11098, 'kigiyee': 11099, 'bayann': 11100, 'bagi': 11101, 'arakchan': 11102, 'badhata': 11103, 'compulsory': 11104, 'aqywuuzjsv': 11105, 'mauke': 11106, 'kts': 11107, 'leepa': 11108, 'fas': 11109, 'kri': 11110, 'mahino': 11111, 'brd': 11112, 'hosptal': 11113, 'latest': 11114, 'puthiya': 11115, 'neethi': 11116, 'amaichcharaha': 11117, 'thalatha': 11118, 'athukorala': 11119, 'vin': 11120, 'peyar': 11121, 'parinthurai': 11122, 'avaraiye': 11123, 'niyamikkappadum': 11124, 'saaththiyam': 11125, 'yup': 11126, 'nazir': 11127, 'waisay': 11128, 'tabiyat': 11129, 'bahaane': 11130, 'cancil': 11131, 'kabaadi': 11132, 'batayege': 11133, 'kishi': 11134, 'charecter': 11135, 'burbak': 11136, 'parho': 11137, 'following': 11138, 'sincere': 11139, 'retired': 11140, 'coolie': 11141, 'khabi': 11142, 'chorunga': 11143, 'lutoo': 11144, 'dikaton': 11145, 'bhagte': 11146, 'aaoga': 11147, 'lejaoga': 11148, 'pink': 11149, 'lace': 11150, 'waykti': 11151, 'struggle': 11152, 'phlay': 11153, 'interested': 11154, 'emotion': 11155, 'bjay': 11156, 'nyi': 11157, 'sadayas': 11158, 'dooba': 11159, 'mukhyamatri': 11160, 'bnta': 11161, 'ghusani': 11162, 'kehe': 11163, 'pareeniti': 11164, 'riti': 11165, 'riwaz': 11166, 'samjhate': 11167, 'jagana': 11168, 'dehen': 11169, 'victory': 11170, 'charm': 11171, 'akshey': 11172, 'pechey': 11173, 'chur': 11174, 'chera': 11175, 'damktey': 11176, 'bahgwan': 11177, 'akshy': 11178, 'ihsan': 11179, 'jam': 11180, 'rokega': 11181, 'banwana': 11182, 'lens': 11183, 'cheezen': 11184, 'nazron': 11185, 'kaazi': 11186, 'shd': 11187, 'learn': 11188, 'remembering': 11189, 'taaqat': 11190, 'neeyat': 11191, 'hiro': 11192, 'banae': 11193, 'lac': 11194, 'madarjaat': 11195, 'bos': 11196, 'rkhte': 11197, 'bhuko': 11198, 'lov': 11199, 'svikary': 11200, 'osho': 11201, 'smrthn': 11202, 'drsata': 11203, 'kahnai': 11204, 'pahchana': 11205, 'milana': 11206, 'sathan': 11207, 'asstha': 11208, 'lganai': 11209, 'sky': 11210, 'cline': 11211, 'parnami': 11212, 'sdm': 11213, 'thanagazi': 11214, 'vill': 11215, 'rajpura': 11216, 'sikkhan': 11217, 'sarvjanik': 11218, 'rukvane': 11219, 'puchhna': 11220, 'chalga': 11221, 'mahadev': 11222, 'failane': 11223, 'samjhee': 11224, 'janeman': 11225, 'janejigar': 11226, 'janetamnah': 11227, 'suraat': 11228, 'oldis': 11229, 'abse': 11230, '92': 11231, 'divy': 11232, 'karoonga': 11233, 'lopa': 11234, 'bhejoonga': 11235, 'jaroorihoga': 11236, 'hogo': 11237, 'peraadharithai': 11238, 'becharii': 11239, 'daey': 11240, 'becharee': 11241, 'transmission': 11242, 'natein': 11243, 'mailey': 11244, 'bezzti': 11245, 'khosla': 11246, 'twts': 11247, 'tumhra': 11248, 'gusey': 11249, 'jaege': 11250, 'hinkhoj': 11251, 'guffaw': 11252, 'translation': 11253, 'dahi': 11254, 'haandi': 11255, 'jalikattu': 11256, 'bnega': 11257, 'meat': 11258, 'jabke': 11259, 'bhonko': 11260, 'karogi': 11261, 'unoda': 11262, 'jiziya': 11263, 'ela': 11264, 'irukae': 11265, 'unga': 11266, 'unglukulae': 11267, 'adichitu': 11268, 'savuringalae': 11269, 'andhaa': 11270, 'nayan': 11271, 'daikhni': 11272, 'miss': 11273, 'chood': 11274, 'jinkey': 11275, 'bachey': 11276, 'margaye': 11277, 'aadhikari': 11278, 'scleter': 11279, 'hatawo': 11280, 'sure': 11281, 'shakat': 11282, 'kaanun': 11283, 'barosha': 11284, 'era': 11285, '2010': 11286, 'paap': 11287, 'ghada': 11288, 'haquiqat': 11289, 'ohh': 11290, 'did': 11291, 'likhtay': 11292, 'hahhaahha': 11293, 'bhulae': 11294, 'karya': 11295, 'vyaktitv': 11296, 'ger': 11297, 'sakhti': 11298, 'sushilji': 11299, 'sobhagya': 11300, 'nitishji': 11301, 'opportunities': 11302, 'bayaanbaaji': 11303, 'baaad': 11304, 'brilliant': 11305, 'baache': 11306, 'samshan': 11307, 'pagala': 11308, 'vaani': 11309, 'jumlae': 11310, 'kartoots': 11311, 'baune': 11312, 'jumlebaazi': 11313, 'noteban': 11314, 'inchseena': 11315, 'pakistanipic': 11316, 'k8c2t1kynd': 11317, 'world11': 11318, 'sunvayi': 11319, 'writers': 11320, 'savinay': 11321, 'nivedan': 11322, 'kasht': 11323, 'samjhata': 11324, 'tweetane': 11325, 'sukr': 11326, 'funny': 11327, 'khiladi8': 11328, 'phone8': 11329, 'khujliwal': 11330, 'arkshan': 11331, 'sujhta': 11332, 'dhikkar': 11333, 'firte': 11334, 'chye': 11335, 'manzoore': 11336, 'lalchi': 11337, 'potray': 11338, 'sachha': 11339, 'pritikriya': 11340, 'ghoshit': 11341, 'makkah': 11342, '01': 11343, '2006': 11344, 'vidya': 11345, 'balan': 11346, 'qadam': 11347, 'kahien': 11348, 'barh': 11349, 'sib': 11350, 'brothers': 11351, 'moodi': 11352, 'qasai': 11353, 'lakkh': 11354, 'twade': 11355, 'haramo': 11356, 'ulaad': 11357, 'sawaad': 11358, 'kyn': 11359, 'kahu': 11360, 'mahol': 11361, 'dwaj': 11362, 'adhikari': 11363, 'nilambit': 11364, 'b8': 11365, 'colors': 11366, 'farah': 11367, '69': 11368, 'sabi': 11369, 'madira': 11370, 'kano': 11371, 'peelayi': 11372, 'deepak': 11373, 'sanskaari': 11374, 'head': 11375, 'phones': 11376, 'apple': 11377, 'bhabhiji': 11378, 'gharperhai': 11379, 'dhal': 11380, 'ladwaoo': 11381, 'jeeye': 11382, 'jowo': 11383, 'silence': 11384, 'tradition': 11385, 'jews': 11386, 'congrss': 11387, 'aaplogo': 11388, 'awkaad': 11389, 'ptta': 11390, 'chlti': 11391, 'hmse': 11392, 'dikshit': 11393, 'khilaff': 11394, 'privartan': 11395, 'karwao': 11396, 'ranjita': 11397, 'ranjan': 11398, 'harley': 11399, 'davidson': 11400, 'wedding': 11401, 'lakhs': 11402, 'proud': 11403, 'bachoooo': 11404, 'thieves': 11405, 'peeke': 11406, 'shift': 11407, 'kamaate': 11408, 'twt': 11409, 'abaaaay': 11410, 'fareb': 11411, 'vastaa': 11412, 'khaalis': 11413, 'content': 11414, 'barsaat': 11415, 'shaka': 11416, 'dhokhabaj': 11417, 'chotiya': 11418, 'chakwal': 11419, 'kalarkahar': 11420, 'ujaar': 11421, 'nojawano': 11422, 'firing': 11423, 'ghaat': 11424, 'muqadma': 11425, 'daraj': 11426, 'gd': 11427, 'marnege': 11428, 'kahete': 11429, 'milenga': 11430, 'pagla': 11431, 'khayi': 11432, 'saint': 11433, 'fasay': 11434, 'khte': 11435, 'gk': 11436, 'jodna': 11437, 'ans': 11438, 'achaar': 11439, 'potrait': 11440, 'kariya': 11441, 'laayiye': 11442, 'divine': 11443, 'intervention': 11444, 'season': 11445, 'sunta': 11446, 'interesting': 11447, 'farishton': 11448, 'kimmat': 11449, 'pasd': 11450, 'sulphate': 11451, 'waaliyon': 11452, 'librandus': 11453, 'bahne': 11454, 'tyacha': 11455, 'madhun': 11456, 'sampvun': 11457, 'taka': 11458, 'theu': 11459, 'deu': 11460, 'naka': 11461, 'tyachya': 11462, 'bapani': 11463, 'shikvale': 11464, 'vachalvir': 11465, 'doran': 11466, 'hmari': 11467, 'grant': 11468, 'elliott': 11469, 'hawaly': 11470, 'khushe': 11471, 'sannatta': 11472, 'laakho': 11473, 'deposit': 11474, 'pen': 11475, 'thread': 11476, 'baandh': 11477, 'sardarji': 11478, 'bera': 11479, 'haato': 11480, 'cancel': 11481, 'nako': 11482, 'rohitbhai': 11483, 'bottom': 11484, 'haiii': 11485, 'wahape': 11486, 'sabhao': 11487, 'ochi': 11488, 'some': 11489, 'gurudwara': 11490, 'prakash': 11491, 'purab': 11492, 'vadhaiyan': 11493, 'khaaye': 11494, 'azaad': 11495, 'contempt': 11496, 'bhali': 11497, 'beijjati': 11498, 'sujhi': 11499, 'jabse': 11500, 'niyan': 11501, 'nindy': 11502, 'manj': 11503, 'musik': 11504, 'sajiya': 11505, 'chokers': 11506, 'zaleeel': 11507, 'tarik': 11508, 'materials': 11509, 'uda': 11510, 'payar': 11511, 'chhakar': 11512, 'itney': 11513, 'khokhle': 11514, 'topc': 11515, 'himmt': 11516, 'khilariyoun': 11517, 'intehaaee': 11518, 'jazbe': 11519, 'benalaqwaami': 11520, 'azhar': 11521, 'uddin': 11522, 'chpu': 11523, 'savitri': 11524, 'fule': 11525, 'shudro': 11526, 'kichad': 11527, 'kamzoor': 11528, 'iman': 11529, 'bhagaye': 11530, 'jha2': 11531, 'unlike': 11532, 'vichaar': 11533, 'doggy': 11534, 'rh': 11535, 'nakalega': 11536, 'nikalega': 11537, 'hayeeeee': 11538, 'delivered': 11539, 'kararwayee': 11540, 'teji': 11541, '2insaano': 11542, '1qaum': 11543, 'larhti': 11544, 'talaqhearing': 11545, 'poochh': 11546, 'dede': 11547, 'billa': 11548, 'fizz': 11549, 'hmary': 11550, 'peeechy': 11551, 'hrana': 11552, 'chejon': 11553, 'boko': 11554, 'budha': 11555, 'zayda': 11556, 'sachaa': 11557, 'congratulation': 11558, 'vijender': 11559, 'khelnge': 11560, 'paayenge': 11561, 'ashwin': 11562, 'wagehra': 11563, 'pakde': 11564, 'carores': 11565, 'bhrasht': 11566, 'samaa': 11567, 'track': 11568, 'preity': 11569, 'alhamdolilah': 11570, 'aabhi': 11571, 'congressie': 11572, 'vrat': 11573, 'vaghera': 11574, 'tushar': 11575, 'khuse': 11576, 'liked': 11577, 'ayese': 11578, 'a6i': 11579, 'mahtav': 11580, 'chalake': 11581, '2sron': 11582, 'dancers': 11583, 'taale': 11584, 'race3': 11585, 'crores': 11586, 'anthak': 11587, 'cheenen': 11588, 'nirman': 11589, 'thathakathit': 11590, 'budhhijiwi': 11591, 'varg': 11592, 'jaantey': 11593, 'saval': 11594, 'beghuna': 11595, 'muzloom': 11596, 'muqqadar': 11597, 'mehta': 11598, 'arakeen': 11599, 'chaheay': 11600, 'rakhana': 11601, 'shuddh': 11602, 'launde': 11603, 'vajpai': 11604, 'khusa': 11605, 'parhay': 11606, 'likhay': 11607, 'guzri': 11608, 'kerna': 11609, 'meedha': 11610, 'oka': 11611, 'paata': 11612, 'rayandi': 11613, 'shukria': 11614, 'grumpy': 11615, 'kuj': 11616, 'badlne': 11617, 'bhout': 11618, 'kutti': 11619, 'cahye': 11620, 'bhr': 11621, 'btaon': 11622, 'bolay': 11623, 'kudos': 11624, 'hators': 11625, 'chlega': 11626, 'kerala': 11627, 'communiston': 11628, 'divisive': 11629, 'boly': 11630, 'kisnat': 11631, 'izatdar': 11632, 'aaap': 11633, 'jet': 11634, 'manikaran': 11635, 'rkha': 11636, 's17': 11637, 'middle': 11638, 'hahahahaha': 11639, 'khacchar': 11640, 'ghoda': 11641, 'tatoo': 11642, 'badhna': 11643, 'icu': 11644, 'surgery': 11645, 'twiter': 11646, 'pao': 11647, 'wowwww': 11648, 'amazing': 11649, 'deshprem': 11650, 'bhawna': 11651, 'hojaaye': 11652, 'reporters': 11653, 'lagtay': 11654, 'kamanay': 11655, 'hosla': 11656, 'hakla': 11657, 'janseva': 11658, 'milk': 11659, 'dhule': 11660, 'budhau': 11661, 'karavke': 11662, 'mamu': 11663, 'charagh': 11664, 'tale': 11665, 'nibah': 11666, 'oron': 11667, 'mashwre': 11668, 'nirupam': 11669, 'gyaani': 11670, 'maf': 11671, 'engineering': 11672, 'engineer': 11673, 'forty': 11674, 'backlogs': 11675, 'kt': 11676, 'svs': 11677, 'frustration': 11678, 'bangla': 11679, 'tigers': 11680, '280bn': 11681, 'laar': 11682, 'elevn': 11683, 'dolfin': 11684, 'squads': 11685, 'manzoor': 11686, 'taddad': 11687, 'apnk': 11688, 'khudse': 11689, 'suggestion': 11690, 'akalmand': 11691, 'haarna': 11692, 'peshawar': 11693, 'chaloge': 11694, 'mazey': 11695, 'follower': 11696, 'gandhian': 11697, 'ratta': 11698, 'saktha': 11699, 'patriot': 11700, 'ijust': 11701, 'seats': 11702, 'majakiya': 11703, 'insults': 11704, 'hear': 11705, 'iesliye': 11706, 'badwe': 11707, 'student': 11708, 'haramiyo': 11709, 'dastaan': 11710, 'moh': 11711, 'hq': 11712, 'technical': 11713, 'urge': 11714, 'thek': 11715, 'monsoon': 11716, 'khilaadi': 11717, 'baraabari': 11718, 'dilaayiye': 11719, 'mgr': 11720, 'farishta': 11721, 'manoge': 11722, 'beghar': 11723, 'mughal': 11724, 'okaat': 11725, 'tarpane': 11726, '40404': 11727, 'ronewala': 11728, 'sunna': 11729, 'rehana': 11730, 'nasihat': 11731, 'doobara': 11732, 'vahiyaat': 11733, 'kisam': 11734, 'motakshi': 11735, 'hass': 11736, 'patwarion': 11737, 'shayed': 11738, 'seema': 11739, 'imandar': 11740, 'phupho': 11741, 'mauqay': 11742, 'fame': 11743, 'intazaamaat': 11744, 'humain': 11745, 'phirse': 11746, 'khusiyan': 11747, 'tow': 11748, 'jalaye': 11749, 'duniyo': 11750, 'dhanywaad': 11751, 'khajuaate': 11752, 'bahubalse': 11753, 'bettingka': 11754, 'balse': 11755, 'kabhibhi': 11756, 'tanhaaiyon': 11757, 'khushiyon': 11758, 'tanha': 11759, 'voto': 11760, 'oxegen': 11761, 'samachar': 11762, 'daikhi': 11763, 'daikhiye': 11764, 'hochuki': 11765, 'mega': 11766, 'hojae': 11767, 'guzarnay': 11768, 'jisaka': 11769, 'phadne': 11770, 'dekhai': 11771, 'atiyachar': 11772, 'jodidaar': 11773, 'dominate': 11774, 'sakey': 11775, 'tarak': 11776, 'jordo': 11777, 'mehngai': 11778, 'dn': 11779, 'badhte': 11780, 'essa': 11781, 'golgappe': 11782, 'shaadiyo': 11783, 'kirpya': 11784, 'pradhna': 11785, 'marium': 11786, 'phus': 11787, 'kartoos': 11788, 'samajne': 11789, 'dartay': 11790, 'janna': 11791, 'poonawale': 11792, 'khatara': 11793, 'fut': 11794, 'mitta': 11795, 'julam': 11796, 'bardas': 11797, 'yaya': 11798, 'jeetane': 11799, 'playing11rohit': 11800, 'umesh': 11801, 'dream': 11802, 'maartha': 11803, 'idol': 11804, 'ghoomneke': 11805, 'dikhayinadiya': 11806, 'anu': 11807, 'bhaukna': 11808, 'sataye': 11809, 'thot': 11810, 'bhulade': 11811, 'jaara': 11812, 'ley': 11813, 'patay': 11814, 'hamne': 11815, 'petions': 11816, 'neeti': 11817, 'ayaa': 11818, 'quest': 11819, 'woregin': 11820, 'moj': 11821, 'katata': 11822, 'castism': 11823, 'laathi': 11824, 'dheke': 11825, 'patha': 11826, 'huma': 11827, 'vipakch': 11828, 'virudh': 11829, 'rae': 11830, 'mslim': 11831, 'newyork': 11832, 'ganpati': 11833, 'iphone5': 11834, 'bud': 11835, 'parmatma': 11836, 'darta': 11837, 'bahaduri': 11838, 'mubtlaa': 11839, 'prblm': 11840, 'batau': 11841, 'natak': 11842, 'relations': 11843, 'sarwar': 11844, 'chahoge': 11845, 'rkho': 11846, 'hmesha': 11847, 'chopara': 11848, 'kripiya': 11849, 'webster': 11850, 'kudh': 11851, 'dhena': 11852, 'biwiyo': 11853, 'maintain': 11854, 'lund': 11855, 'dor': 11856, 'pertay': 11857, 'ghoray': 11858, 'kusti': 11859, 'bangal': 11860, 'sambhab': 11861, 'bangaal': 11862, 'kinta': 11863, 'banayega': 11864, 'bachne': 11865, 'jackets': 11866, 'chidh': 11867, 'pijye': 11868, 'professionals': 11869, 'dramo': 11870, 'banchod': 11871, 'ikhta': 11872, 'randibazi': 11873, 'romaanchak': 11874, 'sitaaron': 11875, 'sheron': 11876, 'kudiyon': 11877, 'judwaa2': 11878, 'tomorrow': 11879, 'suj': 11880, 'suja': 11881, 'nazayes': 11882, 'alaah': 11883, 'aatank': 11884, 'rkhe': 11885, 'aradhya': 11886, 'jinnion': 11887, 'idantha': 11888, 'kaadu': 11889, 'katthi': 11890, 'lauda': 11891, 'matladuthu': 11892, 'madhyalo': 11893, 'pawan': 11894, 'kante': 11895, 'antadu': 11896, 'endi': 11897, '51': 11898, 'reservations': 11899, 'monetary': 11900, 'chamod': 11901, 'moksha': 11902, 'papu': 11903, 'gaythey': 11904, 'wey': 11905, 'battey': 11906, 'sehyog': 11907, 'babber': 11908, 'without': 11909, 'photos': 11910, '1988': 11911, 'govinda': 11912, 'saadhi': 11913, 'aaie': 11914, 'phanvadis': 11915, 'madom': 11916, 'jasae': 11917, 'hujoom': 11918, 'aany': 11919, 'tanhai': 11920, 'dikhadiya': 11921, 'kardiyaaa': 11922, 'barbadi': 11923, 'mujrimo': 11924, 'bajaay': 11925, 'pankaj': 11926, 'taur': 11927, 'dynasty': 11928, 'sajan': 11929, 'shots': 11930, 'kehana': 11931, 'janamadhikar': 11932, 'penal': 11933, 'ngo': 11934, 'bahir': 11935, 'wahein': 11936, 'settle': 11937, 'untold': 11938, 'truths': 11939, 'hasben': 11940, 'dollar': 11941, 'mehenge': 11942, 'tamatar': 11943, 'prupee': 11944, 'kato': 11945, 'tili': 11946, 'bieber': 11947, 'bachna': 11948, 'mahtta': 11949, 'poorvajo': 11950, 'pahale': 11951, 'sadiyo': 11952, 'gaumenia': 11953, 'dikhava': 11954, 'april': 11955, 'believe': 11956, 'prarthna': 11957, 'izato': 11958, 'uchala': 11959, 'gunnah': 11960, 'kehtay': 11961, 'straight': 11962, 'natikta': 11963, 'ajai': 11964, 'khinn': 11965, 'tukka': 11966, 'jrur': 11967, 'begins': 11968, 'prep': 11969, 'bindra': 11970, 'istemaaal': 11971, 'walida': 11972, 'janoni': 11973, 'ai': 11974, 'seti': 11975, 'caror': 11976, 'balke': 11977, 'arbo': 11978, 'hijabi': 11979, 'puccho': 11980, 'bhavnao': 11981, 'taab': 11982, 'anokhi': 11983, 'manoranjan': 11984, '19th': 11985, 'shaam': 11986, 'apney': 11987, 'pehchana': 11988, 'her': 11989, 'wall': 11990, 'dubana': 11991, 'naheeeen': 11992, 'kkhh': 11993, 'buraai': 11994, 'suljha': 11995, 'dharmon': 11996, 'pocket': 11997, 'janamastmi': 11998, 'aarmy': 11999, 'karnese': 12000, 'plagiarized': 12001, 'karaaen': 12002, 'jyda': 12003, 'adarniya': 12004, 'adawani': 12005, 'sufya': 12006, 'bhadkane': 12007, 'kou': 12008, 'yaaayyy': 12009, 'baandd': 12010, 'tiimmee': 12011, 'vots': 12012, 'liy': 12013, 'nukshan': 12014, 'geya': 12015, 'charha': 12016, 'hudustaan': 12017, 'supar': 12018, 'takar': 12019, 'rakhsha': 12020, 'jaiya': 12021, 'vacancy': 12022, 'johar': 12023, 'labon': 12024, 'gile': 12025, 'deadbodies': 12026, 'kaunsi': 12027, 'dastyaab': 12028, 'mutbadil': 12029, 'moncho': 12030, 'segi': 12031, 'bhetiyon': 12032, 'ziyadati': 12033, 'gerftar': 12034, 'farhadi': 12035, 'naii': 12036, 'where': 12037, 'kohram': 12038, 'rohinga': 12039, 'qasoor': 12040, 'khilana': 12041, 'rcb': 12042, 'kantay': 12043, 'hyn': 12044, 'humay': 12045, 'shoq': 12046, 'kulhari': 12047, 'paaoon': 12048, 'bhagodeon': 12049, 'akash': 12050, 'anagram': 12051, 'majje': 12052, 'rajput': 12053, 'pedd': 12054, 'lagaio': 12055, 'panni': 12056, 'automatically': 12057, 'gattiga': 12058, 'pawala': 12059, 'cheyyalsindhi': 12060, 'adhey': 12061, 'andhari': 12062, 'madda': 12063, 'pattukovadam': 12064, 'discussion': 12065, 'chirag': 12066, 'goel': 12067, '1959': 12068, 'budhe': 12069, 'najayj': 12070, 'drive': 12071, 'sadkon': 12072, 'saam': 12073, 'dhand': 12074, 'arain': 12075, 'qadeer': 12076, 'bakhshe': 12077, 'gen': 12078, 'jinhon': 12079, 'atmi': 12080, 'sil': 12081, 'gujaris': 12082, 'lagokar': 12083, 'ghatia': 12084, 'azeez': 12085, 'tataq': 12086, 'giroge': 12087, 'jamir': 12088, 'hazareji': 12089, 'similar': 12090, 'pain': 12091, 'shishya': 12092, 'mayne': 12093, 'rammandir': 12094, 'aashiyaane': 12095, 'gazals': 12096, 'aissaa': 12097, 'bangladeshi': 12098, 'hamala': 12099, 'ilangai': 12100, 'musalat': 12101, 'haqooq': 12102, 'ghasab': 12103, 'waloun': 12104, 'ehtisab': 12105, 'naen': 12106, 'chhorega': 12107, 'charge': 12108, 'pollution': 12109, 'phelane': 12110, 'bhadai': 12111, 'ahmaq': 12112, 'jile': 12113, 'jindhagi': 12114, 'ujala': 12115, 'aaeye': 12116, 'ronaqen': 12117, 'saksham': 12118, 'daingy': 12119, 'karain': 12120, 'sakain': 12121, 'farogh': 12122, 'mazid': 12123, 'parlimani': 12124, 'khalid': 12125, 'nudity': 12126, 'porn': 12127, 'insta': 12128, 'gram': 12129, 'whatever': 12130, 'buse': 12131, 'voters': 12132, 'kaluye': 12133, 'neither': 12134, 'pallu': 12135, 'neche': 12136, 'kaiko': 12137, 'bitaane': 12138, 'khwaab': 12139, 'khwaabo': 12140, 'sehem': 12141, 'jaatey': 12142, 'mehnati': 12143, 'metric': 12144, 'karorpati': 12145, 'thuk': 12146, 'dish': 12147, 'kids': 12148, 'yarn': 12149, 'jativad': 12150, 'nokri': 12151, 'sarkari': 12152, 'nokari': 12153, 'kahn': 12154, 'orto': 12155, 'intaha': 12156, 'driver': 12157, 'jandhan': 12158, 'prices': 12159, 'sararat': 12160, 'potty': 12161, 'issmai': 12162, 'catch': 12163, 'prob': 12164, 'mote': 12165, 'policeman': 12166, 'karle': 12167, 'jallikuttu': 12168, 'criticise': 12169, 'matke': 12170, 'nojawan': 12171, 'naazmoda': 12172, 'purvajon': 12173, 'tkt': 12174, 'magstrat': 12175, 'chking': 12176, 'pakadwa': 12177, 'tihar': 12178, 'zeher': 12179, 'jorne': 12180, 'budh': 12181, 'mutlab': 12182, 'ml': 12183, 'jacky': 12184, 'bhagnani': 12185, 'swaad': 12186, 'patients': 12187, 'chulbul': 12188, 'madan': 12189, 'aagye': 12190, 'hatoda': 12191, 'digiye': 12192, 'kadoo': 12193, 'benoga': 12194, 'geesh': 12195, 'aggar': 12196, 'jete': 12197, 'hare': 12198, 'seref': 12199, 'hosi': 12200, 'vapse': 12201, 'vasta': 12202, 'majority': 12203, 'leag': 12204, 'dilwa': 12205, 'nasaf': 12206, 'mudat': 12207, 'dawran': 12208, 'raweya': 12209, 'musbat': 12210, 'saky': 12211, '2022': 12212, 'ucke': 12213, 'lugoko': 12214, 'dusi': 12215, 'everywhere': 12216, 'shaskti': 12217, 'gangotri': 12218, 'kafil': 12219, 'manmarzi': 12220, 'bisay': 12221, 'chahayeah': 12222, 'poory': 12223, 'mulak': 12224, 'akhri': 12225, 'tuchche': 12226, 'aatta': 12227, 'land': 12228, 'rings': 12229, 'bayta': 12230, 'kumbh': 12231, 'mele': 12232, 'zoo': 12233, 'mtv': 12234, 'weldon': 12235, 'kahate': 12236, 'dogalepan': 12237, 'mohatarma': 12238, 'whole': 12239, 'liyr': 12240, 'motherfucker': 12241, 'diys': 12242, 'plchhe': 12243, 'lagaker': 12244, 'aadarsh': 12245, 'chalein': 12246, 'month': 12247, 'agaye': 12248, 'bary': 12249, 'braman': 12250, 'vacation': 12251, 'shekhai': 12252, 'khaskar': 12253, 'agnst': 12254, 'wse': 12255, '377': 12256, 'ipc': 12257, 'samuday': 12258, 'umiden': 12259, 'samy': 12260, 'chudata': 12261, 'hau': 12262, '1981': 12263, 'yatra': 12264, '1984': 12265, '1990': 12266, 'dhamaal': 12267, 'asmaan': 12268, 'apmaan': 12269, 'shisha': 12270, 'bikhar': 12271, 'isame': 12272, 'usame': 12273, 'flash': 12274, 'iraajinaamaa': 12275, 'bharatdesh': 12276, 'superhits': 12277, 'altho': 12278, 'kke': 12279, 'bacvash': 12280, 'het': 12281, 'aabe': 12282, 'suwwar': 12283, 'dab': 12284, 'halla': 12285, 'thoka': 12286, 'taaliyan': 12287, 'bajaaenge': 12288, 'batchit': 12289, 'dikhavo': 12290, 'usually': 12291, 'chaar': 12292, 'beewiyan': 12293, 'hoorein': 12294, 'jahaalat': 12295, 'aazaadi': 12296, 'suvidhaayen': 12297, 'chamchi': 12298, 'baukhala': 12299, 'daleel': 12300, 'writer': 12301, 'creator': 12302, 'chhorna': 12303, 'flage': 12304, 'uthaye': 12305, 'chato': 12306, 'saahi': 12307, 'murga': 12308, 'chachu': 12309, 'above': 12310, 'jumla': 12311, 'chutkara': 12312, 'befuk': 12313, 'aurtho': 12314, 'chintha': 12315, 'tapes': 12316, 'viklang': 12317, 'thoalviyinaal': 12318, 'therivuk': 12319, 'kuluth': 12320, 'lailaaj': 12321, 'unmaad': 12322, 'hahahahhaa': 12323, 'rajeev': 12324, 'bajhe': 12325, 'hony': 12326, 'manaon': 12327, 'hesyat': 12328, 'zero': 12329, 'sachaee': 12330, 'ismat': 12331, 'rachak': 12332, 'belagam': 12333, 'bolu': 12334, 'acchse': 12335, 'tip': 12336, '3saal': 12337, '2saal': 12338, 'jungle': 12339, 'alone': 12340, 'akalmandi': 12341, 'niklenge': 12342, 'manine': 12343, 'jankaari': 12344, 'arjest': 12345, 'abhishek': 12346, 'abraham': 12347, 'bhau': 12348, 'mazaa': 12349, 'agaaya': 12350, 'finally': 12351, 'likhna': 12352, 'laaloo': 12353, 'jannani': 12354, 'isamik': 12355, 'kanuni': 12356, 'swear': 12357, 'times': 12358, 'gave': 12359, 'wahabi': 12360, 'tanaan': 12361, 'fatafat': 12362, 'million': 12363, 'sacha': 12364, 'sauda': 12365, 'agaaz': 12366, 'kishmat': 12367, 'anzaam': 12368, 'janejana': 12369, 'katwa': 12370, 'edit': 12371, 'rasm': 12372, 'najayaj': 12373, 'bored': 12374, 'dakhl': 12375, 'offer': 12376, 'bhejti': 12377, 'nirmaan': 12378, 'mainayyyy': 12379, 'tarf': 12380, 'raajniti': 12381, 'bhagna': 12382, 'daawat': 12383, 'fizah': 12384, 'fida': 12385, 'mohbbat': 12386, 'sales': 12387, 'puchho': 12388, 'tash': 12389, 'heer': 12390, 'tor': 12391, 'deonagri': 12392, 'parhiye': 12393, 'lalach': 12394, 'gadhon': 12395, 'garibon': 12396, 'parwa': 12397, 'seke': 12398, 'mushkill': 12399, 'mutaa': 12400, '84': 12401, 'jaanwaron': 12402, 'bvkuf': 12403, 'lkr': 12404, 'jayag': 12405, 'mrne': 12406, 'phod': 12407, 'darsh': 12408, 'jalenge': 12409, 'indvspak': 12410, 'aalam': 12411, 'talag': 12412, 'shrek': 12413, 'phanstey': 12414, 'gorey': 12415, '120': 12416, 'dood': 12417, 'nehrain': 12418, 'qrahe': 12419, 'humary': 12420, 'kenay': 12421, 'agi': 12422, 'amirbhai': 12423, 'santi': 12424, 'pela': 12425, 'thandak': 12426, 'badhoge': 12427, 'juice': 12428, 'marajaata': 12429, 'ashok': 12430, 'dry': 12431, 'ushko': 12432, 'meganda': 12433, 'ranjit': 12434, 'pardi': 12435, 'aashiq': 12436, 'tazaad': 12437, 'chutito': 12438, 'chada': 12439, 'taklu': 12440, 'sabal': 12441, 'bahat': 12442, 'lohiya': 12443, 'tareekh': 12444, 'rikshy': 12445, 'dakka': 12446, 'sammy': 12447, 'bhartsana': 12448, 'dashrath': 12449, 'gayjo': 12450, 'maarthe': 12451, 'hooo': 12452, 'muskil': 12453, 'santapt': 12454, 'muawaja': 12455, 'sattarudh': 12456, 'vipakshh': 12457, 'lash': 12458, 'jhoota': 12459, 'weight': 12460, 'lot': 12461, 'netawon': 12462, 'joota': 12463, 'saahas': 12464, 'abah': 12465, 'budho': 12466, 'bulwate': 12467, 'stopwatching': 12468, 'sahyog': 12469, 'chhodna': 12470, 'dhwajarohan': 12471, 'adhik': 12472, 'rehamdil': 12473, 'continuous': 12474, 'ghamand': 12475, 'classical': 12476, 'seng': 12477, 'jayaj': 12478, 'jadejaaaaaa': 12479, 'surprise': 12480, 'padengi': 12481, 'cricter': 12482, 'humlogo': 12483, 'raining': 12484, 'dhond': 12485, 'chill': 12486, 'notification': 12487, 'mute': 12488, 'iconic': 12489, 'baukhlahat': 12490, 'sudhrega': 12491, 'khna': 12492, 'karn': 12493, 'rajinti': 12494, 'muaf': 12495, 'tumlogo': 12496, 'vus': 12497, 'shohar': 12498, 'anishchittaon': 12499, 'bantay': 12500, 'showbaz': 12501, 'sulukh': 12502, 'insecurity': 12503, 'baadsha': 12504, 'udhaar': 12505, 'banaai': 12506, 'sunte': 12507, 'unone': 12508, 'shaartathaarth': 12509, 'shayara': 12510, 'atiya': 12511, 'sabri': 12512, 'gulshan': 12513, 'aafreen': 12514, 'strong': 12515, 'possible': 12516, 'fundamental': 12517, 'vandeymatram': 12518, 'optimism': 12519, 'dhone': 12520, 'mukaam': 12521, 'dhoni38': 12522, 'bhuvneshwar': 12523, 'ric': 12524, 'pick': 12525, 'definition': 12526, 'sinh': 12527, 'hamane': 12528, 'hira': 12529, 'hire': 12530, 'chamkaya': 12531, 'chamkate': 12532, '300th': 12533, 'saddam': 12534, 'batake': 12535, 'superhero': 12536, 'portrait': 12537, 'raila': 12538, 'chodho': 12539, 'laila': 12540, 'dhundho': 12541, 'vyarth': 12542, 'achey': 12543, 'kutil': 12544, 'santaan': 12545, 'amar': 12546, 'progressive': 12547, 'yoga': 12548, 'backward': 12549, '3000': 12550, 'sutri': 12551, 'gaadi': 12552, 'mutna': 12553, 'wampanthiyon': 12554, 'dukhti': 12555, 'vaala': 12556, 'madarasa': 12557, 'harkate': 12558, 'jatai': 12559, 'sahanubhuti': 12560, 'jatane': 12561, 'zoor': 12562, 'jung': 12563, 'ladoge': 12564, 'og': 12565, 'daaru': 12566, 'wajase': 12567, 'buraiya': 12568, 'aada': 12569, 'rut': 12570, 'shaks': 12571, 'veeran': 12572, 'majhabi': 12573, 'nirpeksh': 12574, 'chahat': 12575, 'nena': 12576, 'hail': 12577, 'rakhis': 12578, 'shruti': 12579, 'criminal': 12580, 'modicabinet': 12581, 'criminalo': 12582, 'break': 12583, 'platform': 12584, 'milraha': 12585, 'pleas': 12586, 'century': 12587, 'double': 12588, 'jaayegi': 12589, 'lahar': 12590, 'dawat': 12591, 'kateinge': 12592, 'aayaa': 12593, 'kursey': 12594, 'sambhaley': 12595, 'bantaa': 12596, 'yaarr': 12597, 'aurr': 12598, 'milegaa': 12599, 'paege': 12600, 'aad': 12601, 'apmanit': 12602, 'bdhai': 12603, 'fi': 12604, 'posts': 12605, 'chupake': 12606, 'jaayiz': 12607, 'burk': 12608, 'available': 12609, 'hounga': 12610, 'gyin': 12611, 'solved': 12612, 'cases': 12613, 'jann': 12614, '2rs': 12615, 'kardi': 12616, '2lac': 12617, '11hazar': 12618, '630': 12619, 'census2011': 12620, 'wazah': 12621, 'represent': 12622, 'aashirbaad': 12623, 'bappi': 12624, 'lahiri': 12625, 'sings': 12626, 'chandi': 12627, 'aasaan': 12628, 'behne': 12629, 'blasphemy': 12630, 'facebook': 12631, 'kardega': 12632, 'islia': 12633, 'talve': 12634, 'chatne': 12635, 'visay': 12636, 'belong': 12637, 'btayi': 12638, 'maray': 12639, 'pottat': 12640, 'nawasay': 12641, 'raye': 12642, 'chiniot': 12643, 'ssongs': 12644, 'ghumke': 12645, 'aarachan': 12646, 'ussase': 12647, 'nichi': 12648, 'koti': 12649, 'mayavati': 12650, 'sweekar': 12651, 'suaro': 12652, 'deol': 12653, 'merit': 12654, 'jaayaz': 12655, 'fight': 12656, 'bhuchal': 12657, 'khurshid': 12658, 'favor': 12659, 'humaari': 12660, 'mansion': 12661, 'diamond': 12662, 'rounder': 12663, 'prabhakar': 12664, 'experts': 12665, 'majabur': 12666, 'jalawa': 12667, 'bikher': 12668, 'supply': 12669, 'rashmidi': 12670, 'mamtaji': 12671, 'royengi': 12672, 'aven': 12673, 'rejta': 12674, 'vinti': 12675, 'ajmer': 12676, 'chalwa': 12677, 'sitaron': 12678, 'dargah': 12679, 'pushkar': 12680, 'oahle': 12681, 'vaada': 12682, 'tet2011': 12683, 'bhadda': 12684, 'ghotaale': 12685, 'choriye': 12686, 'worlad': 12687, 'elavan': 12688, 'phunch': 12689, 'septambar': 12690, 'will': 12691, 'tired': 12692, 'mohit': 12693, 'kaah': 12694, 'adarsh': 12695, 'baatine': 12696, 'chewingum': 12697, 'suruaat': 12698, 'meethe': 12699, 'ayie': 12700, 'chandigarh': 12701, 'dehshatt': 12702, 'formats': 12703, 'auster': 12704, 'cleansweeps': 12705, 'dekhlete': 12706, 'purawj': 12707, 'kap': 12708, 'bde': 12709, 'hti': 12710, 'raa': 12711, 'yuvametha': 12712, 'sanyasam': 12713, 'teesukuntaada': 12714, 'tweeter': 12715, 'shayane': 12716, 'hazare': 12717, 'saga': 12718, 'shama': 12719, 'parwana': 12720, 'zaalima': 12721, 'zalima': 12722, 'mahira': 12723, 'burhan': 12724, 'sharmindagi': 12725, 'gunaahon': 12726, 'indpndnc': 12727, 'malafide': 12728, 'speeches': 12729, 'uanke': 12730, 'accedent': 12731, 'maqaam': 12732, 'mareez': 12733, 'dikhaein': 12734, 'chetan': 12735, 'bhagat': 12736, 'makes': 12737, 'laugh': 12738, 'takat': 12739, 'siddhraj': 12740, 'solanki': 12741, 'pathetic': 12742, 'hage': 12743, 'hukum': 12744, 'jikar': 12745, 'search': 12746, 'ayenga': 12747, 'ladte': 12748, 'thand': 12749, 'kanche': 12750, 'madrase': 12751, 'adhe': 12752, 'success': 12753, 'jaayege': 12754, 'banakar': 12755, 'sekhte': 12756, 'behnun': 12757, 'moli': 12758, 'junooni': 12759, 'yaal': 12760, 'pannai': 12761, 'kadatparappil': 12762, 'padahonru': 12763, 'kavilnthathil': 12764, 'oruvar': 12765, 'pali': 12766, 'hospitalil': 12767, '236': 12768, 'malayinaal': 12769, 'thaamatham': 12770, 'chordey': 12771, 'dilato': 12772, 'hann': 12773, 'at70': 12774, 'ganghor': 12775, 'customer': 12776, 'planning': 12777, 'okay': 12778, 'isaki': 12779, 'manchitr': 12780, 'samajna': 12781, 'kaptaan': 12782, 'lainay': 12783, 'grand': 12784, 'aadhe': 12785, 'sidharth': 12786, 'wannabe': 12787, 'furasat': 12788, 'aajayegi': 12789, '2005': 12790, 'knwldge': 12791, 'sarigai': 12792, 'selai': 12793, 'vekkam': 12794, 'vandhal': 12795, 'hogae': 12796, 'namoone': 12797, 'brbaad': 12798, 'chorega': 12799, 'laxman': 12800, 'sita': 12801, 'mahir': 12802, 'frienship': 12803, 'darrindagi': 12804, 'chaty': 12805, 'rapistkophansi': 12806, 'aapkae': 12807, 'poonawalla': 12808, 'kismet': 12809, 'gahahaha': 12810, 'responsible': 12811, 'bhagny': 12812, 'bacahye': 12813, 'choir': 12814, 'hataya': 12815, 'upalaabdi': 12816, 'dekhera': 12817, 'sarai': 12818, 'aananda': 12819, 'bhanaya': 12820, 'niyog': 12821, 'neutral': 12822, 'banerji': 12823, 'surf': 12824, 'raasta': 12825, 'alakse': 12826, 'layeto': 12827, 'hogha': 12828, 'shaktibhi': 12829, 'bharehha': 12830, 'preetyagarwal': 12831, 'bachene': 12832, 'tenu': 12833, 'tereko': 12834, 'tasbeeh': 12835, 'aglay': 12836, 'dhuan': 12837, 'odh': 12838, 'sharaab': 12839, 'naha': 12840, 'pahile': 12841, 'kiskiko': 12842, 'tumhar': 12843, 'bulshit': 12844, 'cricketers': 12845, 'asim': 12846, 'jawad': 12847, 'mucchi': 12848, 'islamists': 12849, 'mahilayon': 12850, 'manjur': 12851, 'katwane': 12852, 'qandeel': 12853, 'qb': 12854, 'sitting': 12855, 'hates': 12856, 'tari': 12857, 'dilchaspi': 12858, 'chhipakar': 12859, 'dadi': 12860, 'pota': 12861, 'only': 12862, 'summound': 12863, 'girafatar': 12864, 'yeahi': 12865, 'sina': 12866, 'lollipop': 12867, 'waapsi': 12868, 'achhai': 12869, 'quiz': 12870, 'inquizitive': 12871, 'minds': 12872, 'tiki': 12873, 'gatbandhan': 12874, 'swast': 12875, 'bhog': 12876, 'bhrast': 12877, 'aoni': 12878, 'dedw': 12879, 'puncture': 12880, 'banade': 12881, 'vakaalat': 12882, 'bhavuk': 12883, 'gue': 12884, 'bechaare': 12885, 'sachhai': 12886, 'mazdooron': 12887, 'ameeron': 12888, 'labors': 12889, 'amaan': 12890, 'sandesh': 12891, 'jangla': 12892, 'buss': 12893, 'hojatay': 12894, 'daaku': 12895, 'kareyn': 12896, 'choomtay': 12897, 'stands': 12898, 'sing': 12899, 'jaaa': 12900, 'jaaaa': 12901, 'nigrani': 12902, 'hathyar': 12903, 'aashramo': 12904, 'niklte': 12905, 'filmey': 12906, 'dekhtey': 12907, 'jorey': 12908, 'grund': 12909, 'ltr': 12910, 'agarbatti': 12911, 'syapa': 12912, 'nafez': 12913, 'edaro': 12914, 'qurbaneyo': 12915, 'howe': 12916, 'akhbar': 12917, 'gaddaro': 12918, 'daw': 12919, 'rashtr': 12920, 'announce': 12921, 'articleship': 12922, 'maatam': 12923, 'tiyon': 12924, 'cayutee': 12925, 'chuda': 12926, 'saabit': 12927, 'paanv': 12928, 'fuul': 12929, 'mausere': 12930, 'manusmriti': 12931, 'durbhagya': 12932, 'dramebazi': 12933, 'dhoond': 12934, 'by': 12935, 'beshumar': 12936, 'gadiya': 12937, 'jalayi': 12938, 'cheeku': 12939, 'tactics': 12940, 'looto': 12941, 'kamine': 12942, 'vaqt': 12943, 'achchhi': 12944, 'vaade': 12945, 'vyapario': 12946, 'khwab': 12947, '3talak': 12948, 'ekta': 12949, 'bhadkau': 12950, 'burke': 12951, 'lapetne': 12952, 'sudhanarne': 12953, 'message': 12954, 'bigotry': 12955, 'chodry': 12956, 'ajkal': 12957, 'hs': 12958, 'dhamka': 12959, 'machayadi': 12960, 'jarahi': 12961, 'gaurakshakon': 12962, 'lagaaye': 12963, 'lugaai': 12964, 'ralaaq': 12965, 'inorder': 12966, 'jigra': 12967, 'shuda': 12968, 'jhel': 12969, 'khasa': 12970, 'page': 12971, 'humour': 12972, 'pele': 12973, 'besharmo': 12974, 'tunhare': 12975, 'maulawi': 12976, 'yana': 12977, 'yakeen': 12978, 'khar': 12979, 'praapti': 12980, 'gumgan': 12981, 'dhram': 12982, 'fazol': 12983, 'baata': 12984, 'pealse': 12985, 'tattey': 12986, 'jaisee': 12987, 'marijuana': 12988, 'tlaw': 12989, 'asaram': 12990, 'bapu': 12991, 'tehat': 12992, 'fasaya': 12993, '4saal': 12994, 'arop': 12995, 'dhekhiye': 12996, 'seedhi': 12997, 'ghusega': 12998, 'achai': 12999, 'aapi': 13000, 'chammach': 13001, 'controversy': 13002, 'aatm': 13003, 'manthan': 13004, 'rone': 13005, 'iraniji': 13006, 'tuchh': 13007, 'dedication': 13008, 'oneday': 13009, 'hoye': 13010, 'freedomofpress': 13011, 'instead': 13012, 'matters': 13013, 'jasodaben': 13014, 'deaths': 13015, 'mardiye': 13016, 'jaraha': 13017, 'ussey': 13018, 'chord': 13019, 'maarta': 13020, 'snapped': 13021, 'ayushmann': 13022, 'khurrana': 13023, 'sheher': 13024, 'diwarein': 13025, 'rangi': 13026, 'more': 13027, 'thop': 13028, 'kahten': 13029, 'yakin': 13030, 'dusky': 13031, 'looks': 13032, 'ankhen': 13033, 'gaal': 13034, 'bazigar': 13035, 'tariqe': 13036, 'yanha': 13037, 'ts': 13038, 'rehihe': 13039, 'beimano': 13040, 'amory': 13041, '119': 13042, 'barson': 13043, 'loin': 13044, 'ajit': 13045, 'nahati': 13046, 'flooded': 13047, 'shower': 13048, 'karvao': 13049, 'aney': 13050, 'bees': 13051, 'voom': 13052, 'yasmin': 13053, 'kulsoom': 13054, 'ghutham': 13055, 'ghutha': 13056, 'balla': 13057, 'rokdena': 13058, 'berojgaar': 13059, 'bichare': 13060, 'darenge': 13061, 'mentally': 13062, 'nikhar': 13063, 'jaagir': 13064, 'bechain': 13065, 'samjhuta': 13066, 'karaye': 13067, 'pag': 13068, 'lha': 13069, 'mumbaikar': 13070, 'food': 13071, 'spoke': 13072, 'laina': 13073, 'menka': 13074, 'urvashi': 13075, 'monu': 13076, 'noonekilledjessica': 13077, 'shakeup': 13078, 'carrier': 13079, 'hahahaa': 13080, 'mehboob': 13081, 'survey': 13082, 'bhuk': 13083, 'pyas': 13084, 'jyega': 13085, 'duga': 13086, 'ruled': 13087, 'vese': 13088, 'plti': 13089, 'realheros': 13090, 'laai': 13091, 'sagarmatha': 13092, 'bhanda': 13093, 'aajha': 13094, 'uchaima': 13095, 'puraos': 13096, 'beer': 13097, 'chadh': 13098, 'treatment': 13099, 'aaege': 13100, 'maangege': 13101, 'dikhayege': 13102, 'pawar': 13103, 'mentors': 13104, 'sambhaloge': 13105, 'cameraman': 13106, 'meghotala': 13107, 'karodesh': 13108, 'liyen': 13109, 'jalaya': 13110, 'jta': 13111, 'concept': 13112, 'ekdum': 13113, 'rayta': 13114, 'phaila': 13115, 'laparvahi': 13116, 'respnsble': 13117, 'parnts': 13118, '137': 13119, '81': 13120, '87': 13121, 'inching': 13122, 'hundred': 13123, 'nakki': 13124, 'havas': 13125, 'pakane': 13126, 'paka': 13127, 'officer': 13128, 'negligence': 13129, 'ashman': 13130, 'mahanayak': 13131, 'karoto': 13132, 'relief': 13133, 'laghegha': 13134, 'humanoty': 13135, 'jayalalitha': 13136, 'joining': 13137, 'lagayegi': 13138, 'rakhoge': 13139, 'lafdey': 13140, 'muslimon': 13141, 'atanki': 13142, 'kacche': 13143, 'tharak': 13144, 'swayam': 13145, 'kind': 13146, 'pichwde': 13147, 'rajkiy': 13148, 'zaher': 13149, 'ugle': 13150, 'conference': 13151, 'vafadar': 13152, 'siraj': 13153, 'shaheehdon': 13154, 'maghfirat': 13155, 'namaziyon': 13156, 'haina': 13157, 'behtrain': 13158, 'daur': 13159, 'sookun': 13160, 'daudte': 13161, 'crtsy': 13162, 'smartcric': 13163, 'barmuda': 13164, 'naveen': 13165, 'mg': 13166, 'anurag': 13167, 'bajpai': 13168, '37': 13169, 'gunda': 13170, 'shadio': 13171, 'paass': 13172, 'hoony': 13173, 'waasi': 13174, 'karengey': 13175, 'mathlab': 13176, 'intrviw': 13177, 'englsh': 13178, 'indutry': 13179, 'kachh': 13180, 'guda': 13181, 'rkhta': 13182, 'jaddu': 13183, 'bhadwaaa': 13184, 'japan': 13185, '7g': 13186, 'testing': 13187, 'fastest': 13188, 'om': 13189, 'namah': 13190, 'shivaaye': 13191, 'pareshni': 13192, 'puray': 13193, 'mojoda': 13194, 'sorat': 13195, 'huq': 13196, 'talfiya': 13197, 'bunyad': 13198, 'savi': 13199, 'zehan': 13200, 'nikalata': 13201, 'eadichoti': 13202, 'whattey': 13203, 'qabristaan': 13204, 'garibi': 13205, 'berozgari': 13206, 'basa': 13207, 'kuttay': 13208, 'kameeny': 13209, 'bhair': 13210, 'phanko': 13211, 'salay': 13212, 'ashutosh': 13213, 'gowarikar': 13214, 'synergy': 13215, 'hema': 13216, 'malini': 13217, 'gardens': 13218, 'anginat': 13219, 'awadi': 13220, 'barhawe': 13221, 'ismein': 13222, 'shaitan': 13223, 'keya': 13224, 'namokin': 13225, 'aneyaye': 13226, 'infinite': 13227, 'tumsa': 13228, 'maasoom': 13229, 'tumhain': 13230, 'kurshi': 13231, 'pahchante': 13232, 'pray': 13233, 'bapujee': 13234, 'addiction': 13235, 'addict': 13236, 'lokpal': 13237, 'marwane': 13238, 'justify': 13239, 'satak': 13240, 'jalikatu': 13241, 'guthka': 13242, 'overdose': 13243, 'starting': 13244, 'bn': 13245, 'babajee': 13246, 'hojayaga': 13247, 'jayaga': 13248, 'abolishing': 13249, 'master': 13250, 'stroke': 13251, 'kayar': 13252, 'sudh': 13253, 'tussi': 13254, 'phatte': 13255, 'island': 13256, 'girti': 13257, 'wickete': 13258, 'chhakke': 13259, 'concert': 13260, 'pideeton': 13261, 'pideet': 13262, 'kaljug': 13263, 'lathi': 13264, 'sawant': 13265, 'trending': 13266, 'together': 13267, 'sathi': 13268, 'challl': 13269, 'bandhwayega': 13270, 'chadhi': 13271, 'gang': 13272, 'ansoo': 13273, 'hogia': 13274, 'beshak': 13275, 'lamha': 13276, 'chizo': 13277, 'achharo': 13278, 'answer': 13279, 'jagya': 13280, 'raman': 13281, 'sevak': 13282, 'adani': 13283, 'yaaar': 13284, 'majboor': 13285, 'raid': 13286, 'khandit': 13287, 'banayegi': 13288, 'pyaado': 13289, 'different': 13290, 'najaayaz': 13291, 'harkaton': 13292, 'insaanon': 13293, 'aachar': 13294, 'milati': 13295, 'helmet': 13296, 'gubbare': 13297, 'dande': 13298, 'daraya': 13299, 'raftaar': 13300, 'badegi': 13301, 'atrocity': 13302, 'utpeedan': 13303, 'badhawa': 13304, '72hoors': 13305, 'parega': 13306, 'chayawadi': 13307, 'condem': 13308, 'kegeye': 13309, 'administrator': 13310, 'rhna': 13311, 'madahon': 13312, 'jhukne': 13313, 'doonga': 13314, 'shami': 13315, 'khilarahen': 13316, 'polititon': 13317, 'aida': 13318, 'wari': 13319, 'jadon': 13320, 'howey': 13321, 'woti': 13322, 'wakhana': 13323, 'naal': 13324, 'samvidhaan': 13325, 'biased': 13326, 'subhan': 13327, 'issay': 13328, 'waisebhi': 13329, 'herone': 13330, 'konse': 13331, 'jhande': 13332, 'gade': 13333, 'aadhise': 13334, 'ptah': 13335, 'bhaithay': 13336, 'aoo': 13337, 'lagwaun': 13338, 'ilaaqoon': 13339, 'badamiiii': 13340, 'sahabbbb': 13341, 'haaan': 13342, 'hastay': 13343, 'cng': 13344, 'kharay': 13345, 'haalme': 13346, 'maulanaonka': 13347, '5ungli': 13348, 'gheeme': 13349, 'kadhaime': 13350, 'sexke': 13351, 'paisavi': 13352, 'miley': 13353, 'zariya': 13354, 'uneducated': 13355, 'bhedbhav': 13356, 'batayega': 13357, 'hypocricy': 13358, 'incredible': 13359, 'bolly': 13360, 'wood': 13361, 'ghabra': 13362, 'dramebaz': 13363, 'kregi': 13364, 'circus': 13365, 'sanvedna': 13366, 'prakat': 13367, 'samvedanshil': 13368, 'dekhkr': 13369, 'izzet': 13370, 'bachali': 13371, 'qatare': 13372, 'shabaash': 13373, 'sapane': 13374, 'fayade': 13375, 'pahachanane': 13376, 'br': 13377, 'deheet': 13378, 'zeyada': 13379, 'corupt': 13380, 'israt': 13381, 'sariyat': 13382, 'unity': 13383, 'seekhni': 13384, 'seekho': 13385, 'girane': 13386, 'feelings': 13387, 'kita': 13388, 'darbar': 13389, 'lake': 13390, 'pavitar': 13391, 'asthan': 13392, 'shetty': 13393, 'akele': 13394, 'bhajiya': 13395, 'lungi': 13396, 'pinky': 13397, 'zaror': 13398, 'dosri': 13399, 'dafa': 13400, 'nikala': 13401, 'tanna': 13402, 'taara': 13403, 'baara': 13404, 'referendum': 13405, 'aira': 13406, 'gaira': 13407, 'resolution': 13408, 'evs': 13409, 'fever': 13410, 'chchodo': 13411, 'chaato': 13412, 'choot': 13413, 'kanhi': 13414, 'bofors': 13415, 'drohio': 13416, 'lega': 13417, 'aapme': 13418, 'muut': 13419, 'kigiye': 13420, 'lijey': 13421, 'mujhpar': 13422, 'khleni': 13423, 'toone': 13424, 'sabhyata': 13425, 'ary': 13426, 'khara': 13427, 'leikin': 13428, 'gilaa': 13429, 'character': 13430}\n"
          ],
          "name": "stdout"
        }
      ]
    },
    {
      "cell_type": "code",
      "metadata": {
        "id": "x0SrrRDZhZSs",
        "colab_type": "code",
        "colab": {}
      },
      "source": [
        "# adding 1 because of reserved 0 index for padding\n",
        "vocab_size = len(word_index) + 1\n",
        "\n",
        "maxlen = 120\n",
        "\n",
        "X_train = pad_sequences(X_train, padding='post', maxlen=maxlen)\n",
        "X_test = pad_sequences(X_test, padding='post', maxlen=maxlen)"
      ],
      "execution_count": null,
      "outputs": []
    },
    {
      "cell_type": "code",
      "metadata": {
        "id": "wMME-ehThbu_",
        "colab_type": "code",
        "colab": {}
      },
      "source": [
        "# use GloVe embeddings to create the feature matrix\n",
        "# load the GloVe word embeddings and create a dictionary that will contain words as keys and their corresponding embedding list as values\n",
        "embeddings_dictionary = dict()\n",
        "glove_file = open('/content/drive/My Drive/Data Files/depression analysis data/glove.6B.300d.txt', encoding=\"utf8\")\n",
        "\n",
        "for line in glove_file:\n",
        "    records = line.split()\n",
        "    word = records[0]\n",
        "    vector_dimensions = asarray(records[1:], dtype='float32')\n",
        "    embeddings_dictionary[word] = vector_dimensions\n",
        "glove_file.close()"
      ],
      "execution_count": null,
      "outputs": []
    },
    {
      "cell_type": "code",
      "metadata": {
        "id": "49I6moQThee3",
        "colab_type": "code",
        "colab": {}
      },
      "source": [
        "# create an embedding matrix where each row number will correspond to the index of the word in the corpus \n",
        "# the matrix will have 300 columns where each column will contain the GloVe word embeddings for the words in our corpus\n",
        "EMBEDDING_DIM = 300\n",
        "embedding_matrix = [[0]*EMBEDDING_DIM]*vocab_size\n",
        "for word, index in tokenizer.word_index.items():\n",
        "    embedding_vector = embeddings_dictionary.get(word)\n",
        "    if embedding_vector is not None:\n",
        "        embedding_matrix[index] = embedding_vector"
      ],
      "execution_count": null,
      "outputs": []
    },
    {
      "cell_type": "code",
      "metadata": {
        "id": "xSJB1ZLasLNv",
        "colab_type": "code",
        "colab": {}
      },
      "source": [
        "# attention Layer\n",
        "def dot_product(x, kernel):\n",
        "    \"\"\"\n",
        "    Wrapper for dot product operation, in order to be compatible with both\n",
        "    Theano and Tensorflow\n",
        "    Args:\n",
        "        x (): input\n",
        "        kernel (): weights\n",
        "    Returns:\n",
        "    \"\"\"\n",
        "    if K.backend() == 'tensorflow':\n",
        "        return K.squeeze(K.dot(x, K.expand_dims(kernel)), axis=-1)\n",
        "    else:\n",
        "        return K.dot(x, kernel)\n",
        "    \n",
        "class AttentionWithContext(Layer):\n",
        "    \"\"\"\n",
        "    Attention operation, with a context/query vector, for temporal data.\n",
        "    Supports Masking.\n",
        "    Follows the work of Yang et al. [https://www.cs.cmu.edu/~diyiy/docs/naacl16.pdf]\n",
        "    \"Hierarchical Attention Networks for Document Classification\"\n",
        "    by using a context vector to assist the attention\n",
        "    # Input shape\n",
        "        3D tensor with shape: `(samples, steps, features)`.\n",
        "    # Output shape\n",
        "        2D tensor with shape: `(samples, features)`.\n",
        "    How to use:\n",
        "    Just put it on top of an RNN Layer (GRU/LSTM/SimpleRNN) with return_sequences=True.\n",
        "    The dimensions are inferred based on the output shape of the RNN.\n",
        "    Note: The layer has been tested with Keras 2.0.6\n",
        "    Example:\n",
        "        model.add(LSTM(64, return_sequences=True))\n",
        "        model.add(AttentionWithContext())\n",
        "        # next add a Dense layer (for classification/regression) or whatever...\n",
        "    \"\"\"\n",
        "\n",
        "    def __init__(self,\n",
        "                 W_regularizer=None, u_regularizer=None, b_regularizer=None,\n",
        "                 W_constraint=None, u_constraint=None, b_constraint=None,\n",
        "                 bias=True, **kwargs):\n",
        "\n",
        "        self.supports_masking = True\n",
        "        self.init = initializers.get('glorot_uniform')\n",
        "\n",
        "        self.W_regularizer = regularizers.get(W_regularizer)\n",
        "        self.u_regularizer = regularizers.get(u_regularizer)\n",
        "        self.b_regularizer = regularizers.get(b_regularizer)\n",
        "\n",
        "        self.W_constraint = constraints.get(W_constraint)\n",
        "        self.u_constraint = constraints.get(u_constraint)\n",
        "        self.b_constraint = constraints.get(b_constraint)\n",
        "\n",
        "        self.bias = bias\n",
        "        super(AttentionWithContext, self).__init__(**kwargs)\n",
        "\n",
        "    def build(self, input_shape):\n",
        "        assert len(input_shape) == 3\n",
        "\n",
        "        self.W = self.add_weight(shape=(input_shape[-1], input_shape[-1],),\n",
        "                                 initializer=self.init,\n",
        "                                 name='{}_W'.format(self.name),\n",
        "                                 regularizer=self.W_regularizer,\n",
        "                                 constraint=self.W_constraint)\n",
        "        if self.bias:\n",
        "            self.b = self.add_weight(shape=(input_shape[-1],),\n",
        "                                     initializer='zero',\n",
        "                                     name='{}_b'.format(self.name),\n",
        "                                     regularizer=self.b_regularizer,\n",
        "                                     constraint=self.b_constraint)\n",
        "\n",
        "        self.u = self.add_weight(shape=(input_shape[-1],),\n",
        "                                 initializer=self.init,\n",
        "                                 name='{}_u'.format(self.name),\n",
        "                                 regularizer=self.u_regularizer,\n",
        "                                 constraint=self.u_constraint)\n",
        "\n",
        "        super(AttentionWithContext, self).build(input_shape)\n",
        "\n",
        "    def compute_mask(self, input, input_mask=None):\n",
        "        # do not pass the mask to the next layers\n",
        "        return None\n",
        "\n",
        "    def call(self, x, mask=None):\n",
        "        uit = dot_product(x, self.W)\n",
        "\n",
        "        if self.bias:\n",
        "            uit += self.b\n",
        "\n",
        "        uit = K.tanh(uit)\n",
        "        ait = dot_product(uit, self.u)\n",
        "\n",
        "        a = K.exp(ait)\n",
        "\n",
        "        # apply mask after the exp. will be re-normalized next\n",
        "        if mask is not None:\n",
        "            # Cast the mask to floatX to avoid float64 upcasting in theano\n",
        "            a *= K.cast(mask, K.floatx())\n",
        "\n",
        "        # in some cases especially in the early stages of training the sum may be almost zero\n",
        "        # and this results in NaN's. A workaround is to add a very small positive number ε to the sum.\n",
        "        # a /= K.cast(K.sum(a, axis=1, keepdims=True), K.floatx())\n",
        "        a /= K.cast(K.sum(a, axis=1, keepdims=True) + K.epsilon(), K.floatx())\n",
        "\n",
        "        a = K.expand_dims(a)\n",
        "        weighted_input = x * a\n",
        "        return K.sum(weighted_input, axis=1)\n",
        "\n",
        "    def compute_output_shape(self, input_shape):\n",
        "        return input_shape[0], input_shape[-1]"
      ],
      "execution_count": null,
      "outputs": []
    },
    {
      "cell_type": "code",
      "metadata": {
        "id": "Ko603BQVhgkz",
        "colab_type": "code",
        "colab": {
          "base_uri": "https://localhost:8080/",
          "height": 838
        },
        "outputId": "b5e256e6-5134-41ba-f457-6cd82d4fb314"
      },
      "source": [
        "# bidirectional lstm with attention layer model\n",
        "def model_lstm(embedding_matrix):\n",
        "    inp = Input(shape=(maxlen,))\n",
        "    x = Embedding(vocab_size, EMBEDDING_DIM, weights=[embedding_matrix], trainable=True)(inp)\n",
        "    x = Bidirectional(LSTM(256, dropout=0.2, recurrent_dropout=0.2, return_sequences=True))(x)\n",
        "    # x = AttentionWithContext()(x)\n",
        "    x = Dense(128, activation=\"relu\")(x)\n",
        "    x = Dropout(0.30)(x)\n",
        "    x = Dense(128, activation=\"relu\")(x)\n",
        "    x = Dropout(0.30)(x)\n",
        "    x = Dense(1, activation=\"sigmoid\")(x)\n",
        "    model = Model(inputs=inp, outputs=x)\n",
        "    model.compile(loss='binary_crossentropy', optimizer='adam', metrics=['accuracy'])\n",
        "    model.summary()\n",
        "    return model\n",
        "\n",
        "model_lstm = model_lstm(np.array(embedding_matrix))\n",
        "model_lstm.summary()"
      ],
      "execution_count": null,
      "outputs": [
        {
          "output_type": "stream",
          "text": [
            "Model: \"model_1\"\n",
            "_________________________________________________________________\n",
            "Layer (type)                 Output Shape              Param #   \n",
            "=================================================================\n",
            "input_3 (InputLayer)         [(None, 120)]             0         \n",
            "_________________________________________________________________\n",
            "embedding_2 (Embedding)      (None, 120, 300)          4029300   \n",
            "_________________________________________________________________\n",
            "bidirectional_1 (Bidirection (None, 120, 512)          1140736   \n",
            "_________________________________________________________________\n",
            "dense_3 (Dense)              (None, 120, 128)          65664     \n",
            "_________________________________________________________________\n",
            "dropout_2 (Dropout)          (None, 120, 128)          0         \n",
            "_________________________________________________________________\n",
            "dense_4 (Dense)              (None, 120, 128)          16512     \n",
            "_________________________________________________________________\n",
            "dropout_3 (Dropout)          (None, 120, 128)          0         \n",
            "_________________________________________________________________\n",
            "dense_5 (Dense)              (None, 120, 1)            129       \n",
            "=================================================================\n",
            "Total params: 5,252,341\n",
            "Trainable params: 5,252,341\n",
            "Non-trainable params: 0\n",
            "_________________________________________________________________\n",
            "Model: \"model_1\"\n",
            "_________________________________________________________________\n",
            "Layer (type)                 Output Shape              Param #   \n",
            "=================================================================\n",
            "input_3 (InputLayer)         [(None, 120)]             0         \n",
            "_________________________________________________________________\n",
            "embedding_2 (Embedding)      (None, 120, 300)          4029300   \n",
            "_________________________________________________________________\n",
            "bidirectional_1 (Bidirection (None, 120, 512)          1140736   \n",
            "_________________________________________________________________\n",
            "dense_3 (Dense)              (None, 120, 128)          65664     \n",
            "_________________________________________________________________\n",
            "dropout_2 (Dropout)          (None, 120, 128)          0         \n",
            "_________________________________________________________________\n",
            "dense_4 (Dense)              (None, 120, 128)          16512     \n",
            "_________________________________________________________________\n",
            "dropout_3 (Dropout)          (None, 120, 128)          0         \n",
            "_________________________________________________________________\n",
            "dense_5 (Dense)              (None, 120, 1)            129       \n",
            "=================================================================\n",
            "Total params: 5,252,341\n",
            "Trainable params: 5,252,341\n",
            "Non-trainable params: 0\n",
            "_________________________________________________________________\n"
          ],
          "name": "stdout"
        }
      ]
    },
    {
      "cell_type": "code",
      "metadata": {
        "id": "IazVgBtMjlhq",
        "colab_type": "code",
        "colab": {
          "base_uri": "https://localhost:8080/",
          "height": 105
        },
        "outputId": "a65e6d1e-ea65-4c8b-b4c7-66948ecd0459"
      },
      "source": [
        "# save the best model and early stopping\n",
        "# saveBestModel = keras.callbacks.ModelCheckpoint(path+'/model/best_model.hdf5', monitor='val_acc', verbose=0, save_best_only=True, save_weights_only=False, mode='auto', period=1)\n",
        "earlyStopping = EarlyStopping(monitor='val_loss', min_delta=0, patience=3, verbose=0, mode='auto')\n",
        "\n",
        "# Fit the model\n",
        "history = model_lstm.fit(X_train, y_train, batch_size=1000, epochs=2, validation_split=0.15, callbacks=[earlyStopping])"
      ],
      "execution_count": null,
      "outputs": [
        {
          "output_type": "stream",
          "text": [
            "Epoch 1/2\n",
            "4/4 [==============================] - 73s 18s/step - loss: 0.6234 - accuracy: 0.8761 - val_loss: 0.4469 - val_accuracy: 0.9030\n",
            "Epoch 2/2\n",
            "4/4 [==============================] - 72s 18s/step - loss: 0.3998 - accuracy: 0.9014 - val_loss: 0.3612 - val_accuracy: 0.9030\n"
          ],
          "name": "stdout"
        }
      ]
    },
    {
      "cell_type": "code",
      "metadata": {
        "id": "9Dd7DMATjpgX",
        "colab_type": "code",
        "colab": {
          "base_uri": "https://localhost:8080/",
          "height": 68
        },
        "outputId": "60da601c-3c64-4a9f-8283-800aadd014a5"
      },
      "source": [
        "# Final evaluation of the model\n",
        "metrics = model_lstm.evaluate(X_test, y_test)\n",
        "print(\"Loss\", metrics[0])\n",
        "print(\"Accuracy:\", metrics[1])"
      ],
      "execution_count": null,
      "outputs": [
        {
          "output_type": "stream",
          "text": [
            "25/25 [==============================] - 8s 309ms/step - loss: 0.3319 - accuracy: 0.9175\n",
            "Loss 0.331880122423172\n",
            "Accuracy: 0.9175127148628235\n"
          ],
          "name": "stdout"
        }
      ]
    },
    {
      "cell_type": "code",
      "metadata": {
        "id": "Tdi9dFTi5-PW",
        "colab_type": "code",
        "colab": {}
      },
      "source": [
        "y_pred_test = model.predict(X_test, batch_size=128)\n",
        "y_pred_bool_test = y_pred_test > 0.5\n",
        "\n",
        "print(classification_report(y_test, y_pred_bool_test))"
      ],
      "execution_count": null,
      "outputs": []
    },
    {
      "cell_type": "code",
      "metadata": {
        "id": "JNEOFND8sk1m",
        "colab_type": "code",
        "colab": {}
      },
      "source": [
        "# cnn model\n",
        "def model_cnn(embedding_matrix):\n",
        "    inp = Input(shape=(maxlen,))\n",
        "    x = Embedding(vocab_size, EMBEDDING_DIM, weights=[embedding_matrix], trainable=True)(inp)\n",
        "    x = SpatialDropout(0.3)(x)\n",
        "    x = Convolution1D(100, 3, activation=\"relu\")(x)\n",
        "    x = GlobalMaxPool1D()(x)\n",
        "    # x = AttentionWithContext()(x)\n",
        "    x = Dense(128, activation=\"relu\")(x)\n",
        "    x = Dropout(0.30)(x)\n",
        "    x = Dense(128, activation=\"relu\")(x)\n",
        "    x = Dropout(0.30)(x)\n",
        "    x = Dense(1, activation=\"sigmoid\")(x)\n",
        "    model = Model(inputs=inp, outputs=x)\n",
        "    model.compile(loss='binary_crossentropy', optimizer='adam', metrics=['accuracy'])\n",
        "    model.summary()\n",
        "    return model\n",
        "\n",
        "model_cnn = model_cnn(np.array(embedding_matrix))\n",
        "model_cnn.summary()"
      ],
      "execution_count": null,
      "outputs": []
    },
    {
      "cell_type": "code",
      "metadata": {
        "id": "KmWUwjjoPNc-",
        "colab_type": "code",
        "colab": {}
      },
      "source": [
        "# save the best model and early stopping\n",
        "# saveBestModel = keras.callbacks.ModelCheckpoint(path+'/model/best_model.hdf5', monitor='val_acc', verbose=0, save_best_only=True, save_weights_only=False, mode='auto', period=1)\n",
        "earlyStopping = EarlyStopping(monitor='val_loss', min_delta=0, patience=3, verbose=0, mode='auto')\n",
        "\n",
        "# Fit the model\n",
        "history = model_cnn.fit(X_train, y_train, batch_size=1000, epochs=2, validation_split=0.15, callbacks=[earlyStopping])"
      ],
      "execution_count": null,
      "outputs": []
    },
    {
      "cell_type": "code",
      "metadata": {
        "id": "R26C9tIsPPrW",
        "colab_type": "code",
        "colab": {}
      },
      "source": [
        "# Final evaluation of the model\n",
        "metrics = model_cnn.evaluate(X_test, y_test)\n",
        "print(\"Loss\", metrics[0])\n",
        "print(\"Accuracy:\", metrics[1])"
      ],
      "execution_count": null,
      "outputs": []
    },
    {
      "cell_type": "code",
      "metadata": {
        "id": "JKdrIgD3PRdO",
        "colab_type": "code",
        "colab": {}
      },
      "source": [
        "y_pred_test = model.predict(X_test, batch_size=128)\n",
        "y_pred_bool_test = y_pred_test > 0.5\n",
        "\n",
        "print(classification_report(y_test, y_pred_bool_test))"
      ],
      "execution_count": null,
      "outputs": []
    },
    {
      "cell_type": "markdown",
      "metadata": {
        "id": "EyirzO2rclH0",
        "colab_type": "text"
      },
      "source": [
        "Character Embeddings"
      ]
    },
    {
      "cell_type": "code",
      "metadata": {
        "id": "waWC_MuFvq8C",
        "colab_type": "code",
        "colab": {}
      },
      "source": [
        "# character level tokenizer\n",
        "tokenizer = Tokenizer(num_words=None, char_level=True, oov_token='UNK')\n",
        "tokenizer.fit_on_texts(X_train)\n",
        "\n",
        "# if you already have a character list, then replace the tokenizer.word_index\n",
        "# construct a new vocabulary \n",
        "alphabet=\"abcdefghijklmnopqrstuvwxyz0123456789 ,;.!?:'\\\"/\\\\|_@#$%^&*~`+-=<>()[]{}\"\n",
        "char_dict = {}\n",
        "for i, char in enumerate(alphabet):\n",
        "    char_dict[char] = i + 1\n",
        "    \n",
        "# use char_dict to replace the tokenizer.word_index\n",
        "tokenizer.word_index = char_dict.copy() \n",
        "# add 'UNK' to the vocabulary \n",
        "tokenizer.word_index[tokenizer.oov_token] = max(char_dict.values()) + 1\n",
        "\n",
        "# convert string to index \n",
        "X_train = tokenizer.texts_to_sequences(X_train)\n",
        "X_test = tokenizer.texts_to_sequences(X_test)\n",
        "\n",
        "# padding\n",
        "X_train = pad_sequences(X_train, maxlen=1014, padding='post')\n",
        "X_test = pad_sequences(X_test, maxlen=1014, padding='post')\n",
        "\n",
        "# convert to numpy array\n",
        "X_train = np.array(X_train, dtype='float32')\n",
        "X_test = np.array(X_test, dtype='float32')\n",
        "\n",
        "print(tokenizer.word_index)\n",
        "\n",
        "vocab_size = len(tokenizer.word_index) + 1 \n",
        "print(vocab_size)"
      ],
      "execution_count": null,
      "outputs": []
    },
    {
      "cell_type": "code",
      "metadata": {
        "id": "qJO0E6hu3NQq",
        "colab_type": "code",
        "colab": {}
      },
      "source": [
        "embedding_weights = [] #(71, 70)\n",
        "embedding_weights.append(np.zeros(vocab_size)) # first row is pad\n",
        "\n",
        "for char, i in tokenizer.word_index.items(): # from index 1 to 70\n",
        "    onehot = np.zeros(vocab_size)\n",
        "    onehot[i-1] = 1\n",
        "    embedding_weights.append(onehot)\n",
        "embedding_weights = np.array(embedding_weights)\n",
        "\n",
        "print(embedding_weights.shape) # first row all 0 for PAD, 69 char, last row for UNK\n",
        "print(embedding_weights)"
      ],
      "execution_count": null,
      "outputs": []
    },
    {
      "cell_type": "code",
      "metadata": {
        "id": "9B5aqJfV3Ri2",
        "colab_type": "code",
        "colab": {}
      },
      "source": [
        "# char embeddings with cnn\n",
        "input_size = 1014\n",
        "embedding_size = 69\n",
        "conv_layers = [[256, 7, 3], \n",
        "               [256, 7, 3], \n",
        "               [256, 3, -1], \n",
        "               [256, 3, -1], \n",
        "               [256, 3, -1], \n",
        "               [256, 3, 3]]\n",
        "fully_connected_layers = [1024, 1024]\n",
        "\n",
        "def model_char_embeddings_cnn():\n",
        "    inputs = Input(shape=(input_size,), name='input', dtype='int64')  # shape=(?, 1014)\n",
        "    x = Embedding(vocab_size, embedding_size, input_length=input_size, weights=[embedding_weights])(inputs)\n",
        "    for filter_num, filter_size, pooling_size in conv_layers:\n",
        "        x = Conv1D(filter_num, filter_size)(x) \n",
        "        x = Activation('relu')(x)\n",
        "        if pooling_size != -1:\n",
        "            x = MaxPooling1D(pool_size=pooling_size)(x) # final shape=(none, 34, 256)\n",
        "    x = Flatten()(x) # (none, 8704)\n",
        "    for dense_size in fully_connected_layers:\n",
        "        x = Dense(dense_size, activation='relu')(x) # dense_size == 1024\n",
        "        x = Dropout(0.5)(x)\n",
        "    predictions = Dense(1, activation='sigmoid')(x)\n",
        "\n",
        "    # build model\n",
        "    model = Model(inputs=inputs, outputs=predictions)\n",
        "    model = model.compile(optimizer='adam', loss='binary_crossentropy', metrics=['accuracy']) # adam, categorical_crossentropy\n",
        "    return model\n",
        "\n",
        "model_char_embeddings_cnn = model_char_embeddings_cnn()\n",
        "model_char_embeddings_cnn.summary()"
      ],
      "execution_count": null,
      "outputs": []
    },
    {
      "cell_type": "code",
      "metadata": {
        "id": "DPrAI5yQ7yTD",
        "colab_type": "code",
        "colab": {}
      },
      "source": [
        "# save the best model and early stopping\n",
        "# saveBestModel = keras.callbacks.ModelCheckpoint(path+'/model/best_model.hdf5', monitor='val_acc', verbose=0, save_best_only=True, save_weights_only=False, mode='auto', period=1)\n",
        "earlyStopping = EarlyStopping(monitor='val_loss', min_delta=0, patience=3, verbose=0, mode='auto')\n",
        "\n",
        "# Fit the model\n",
        "history = model_char_embeddings_cnn.fit(X_train, y_train, batch_size=1000, epochs=2, validation_split=0.15, callbacks=[earlyStopping])"
      ],
      "execution_count": null,
      "outputs": []
    },
    {
      "cell_type": "code",
      "metadata": {
        "id": "FOhf6z7q8eGI",
        "colab_type": "code",
        "colab": {}
      },
      "source": [
        "# final evaluation of the model\n",
        "metrics = model_cnn.evaluate(X_test, y_test)\n",
        "print(\"Loss\", metrics[0])\n",
        "print(\"Accuracy:\", metrics[1])"
      ],
      "execution_count": null,
      "outputs": []
    },
    {
      "cell_type": "code",
      "metadata": {
        "id": "YW7KTGtwDJm7",
        "colab_type": "code",
        "colab": {}
      },
      "source": [
        "# CMSA architecture\n",
        "# 1. sub-word level representations with CNN\n",
        "# 2. parallel encoder network consisting of two BiLSTMs with attention mechanism\n",
        "# 3. feature network"
      ],
      "execution_count": null,
      "outputs": []
    },
    {
      "cell_type": "markdown",
      "metadata": {
        "id": "Rybkxw2KdOS2",
        "colab_type": "text"
      },
      "source": [
        "Sub-word Embeddings"
      ]
    },
    {
      "cell_type": "code",
      "metadata": {
        "id": "uuGcrfbbMSD-",
        "colab_type": "code",
        "colab": {}
      },
      "source": [
        "# sub-word level representation\n",
        "# convert string to subword, this process may take several minutes\n",
        "bpe = BPE(\"/content/drive/My Drive/Data Files/code-mixed analysis data/en.wiki.bpe.op25000.vocab.txt\")\n",
        "X_train = [bpe.encode(sentence) for sentence in X_train]\n",
        "X_test = [bpe.encode(sentence) for sentence in X_test]\n",
        "\n",
        "# build vocab, {token: index}\n",
        "vocab = {}\n",
        "for i, token in enumerate(bpe.words):\n",
        "    vocab[token] = i + 1\n",
        "\n",
        "# convert subword to index, function version \n",
        "def subword2index(texts, vocab):\n",
        "    sentences = []\n",
        "    for s in texts:\n",
        "        s = s.split()\n",
        "        one_line = []\n",
        "        for word in s:\n",
        "            if word not in vocab.keys():\n",
        "                one_line.append(vocab['unk'])\n",
        "            else:\n",
        "                one_line.append(vocab[word])\n",
        "        sentences.append(one_line)\n",
        "    return sentences\n",
        "\n",
        "# sonvert train and test \n",
        "X_train = subword2index(X_train, vocab)\n",
        "X_test = subword2index(X_test, vocab)\n",
        "\n",
        "# padding\n",
        "X_train = pad_sequences(X_train, maxlen=1014, padding='post')\n",
        "X_test = pad_sequences(X_test, maxlen=1014, padding='post')\n",
        "\n",
        "# convert to numpy array\n",
        "X_train = np.array(X_train)\n",
        "X_test = np.array(X_test)"
      ],
      "execution_count": null,
      "outputs": []
    },
    {
      "cell_type": "code",
      "metadata": {
        "id": "HxFjjTYyXX3C",
        "colab_type": "code",
        "colab": {}
      },
      "source": [
        "from gensim.models import KeyedVectors\n",
        "\n",
        "model = KeyedVectors.load_word2vec_format(\"/content/drive/My Drive/Data Files/code-mixed analysis data/en.wiki.bpe.op25000.d50.w2v.bin\", \n",
        "                                          binary=True)"
      ],
      "execution_count": null,
      "outputs": []
    },
    {
      "cell_type": "code",
      "metadata": {
        "id": "D030mQ6RYjfW",
        "colab_type": "code",
        "colab": {}
      },
      "source": [
        "embedding_dim = 50\n",
        "embedding_weights = np.zeros((len(vocab) + 1, embedding_dim)) # (25001, 50)\n",
        "\n",
        "for subword, i in vocab.items():\n",
        "    if subword in model.vocab:\n",
        "        embedding_vector = model[subword]\n",
        "        if embedding_vector is not None:\n",
        "            embedding_weights[i] = embedding_vector\n",
        "    else:\n",
        "        # print(subword) # print the subword in vocab but not in model\n",
        "        continue"
      ],
      "execution_count": null,
      "outputs": []
    },
    {
      "cell_type": "code",
      "metadata": {
        "id": "gmk2z1f1YKbp",
        "colab_type": "code",
        "colab": {}
      },
      "source": [
        "# sub-word embeddings with cnn\n",
        "input_size = 1014\n",
        "embedding_size = 50\n",
        "vocab_size = len(vocab)+1\n",
        "conv_layers = [[256, 7, 3],\n",
        "               [256, 7, 3],\n",
        "               [256, 3, -1],\n",
        "               [256, 3, -1],\n",
        "               [256, 3, -1],\n",
        "               [256, 3, 3]]\n",
        "fully_connected_layers = [1024, 1024]\n",
        "\n",
        "def model_subword_embeddings_cnn():\n",
        "    inputs = Input(shape=(input_size,), name='input', dtype='int64')  # shape=(?, 1014)\n",
        "    x = Embedding(vocab_size, embedding_size, input_length=input_size, weights=[embedding_weights])(inputs)\n",
        "    for filter_num, filter_size, pooling_size in conv_layers:\n",
        "        x = Conv1D(filter_num, filter_size)(x) \n",
        "        x = Activation('relu')(x)\n",
        "        if pooling_size != -1:\n",
        "            x = MaxPooling1D(pool_size=pooling_size)(x) # final shape=(none, 34, 256)\n",
        "    x = Flatten()(x) # (none, 8704)\n",
        "    for dense_size in fully_connected_layers:\n",
        "        x = Dense(dense_size, activation='relu')(x) # dense_size == 1024\n",
        "        x = Dropout(0.5)(x)\n",
        "    predictions = Dense(1, activation='sigmoid')(x)\n",
        "\n",
        "    # build model\n",
        "    model = Model(inputs=inputs, outputs=predictions)\n",
        "    model = model.compile(optimizer='adam', loss='binary_crossentropy', metrics=['accuracy']) # adam, categorical_crossentropy\n",
        "    return model\n",
        "\n",
        "model_subword_embeddings_cnn = model_subword_embeddings_cnn()\n",
        "model_subword_embeddings_cnn.summary()"
      ],
      "execution_count": null,
      "outputs": []
    }
  ]
}